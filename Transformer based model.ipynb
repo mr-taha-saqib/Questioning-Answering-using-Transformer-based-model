{
  "cells": [
    {
      "cell_type": "code",
      "source": [
        "pip install wandb"
      ],
      "metadata": {
        "colab": {
          "base_uri": "https://localhost:8080/"
        },
        "id": "WLkk5copyZGl",
        "outputId": "e14726a7-d797-43cb-e69b-bfd9ed9c03de"
      },
      "id": "WLkk5copyZGl",
      "execution_count": null,
      "outputs": [
        {
          "output_type": "stream",
          "name": "stdout",
          "text": [
            "Collecting wandb\n",
            "  Downloading wandb-0.17.0-py3-none-manylinux_2_5_x86_64.manylinux1_x86_64.manylinux_2_17_x86_64.manylinux2014_x86_64.whl (6.7 MB)\n",
            "\u001b[2K     \u001b[90m━━━━━━━━━━━━━━━━━━━━━━━━━━━━━━━━━━━━━━━━\u001b[0m \u001b[32m6.7/6.7 MB\u001b[0m \u001b[31m16.2 MB/s\u001b[0m eta \u001b[36m0:00:00\u001b[0m\n",
            "\u001b[?25hRequirement already satisfied: click!=8.0.0,>=7.1 in /usr/local/lib/python3.10/dist-packages (from wandb) (8.1.7)\n",
            "Collecting docker-pycreds>=0.4.0 (from wandb)\n",
            "  Downloading docker_pycreds-0.4.0-py2.py3-none-any.whl (9.0 kB)\n",
            "Collecting gitpython!=3.1.29,>=1.0.0 (from wandb)\n",
            "  Downloading GitPython-3.1.43-py3-none-any.whl (207 kB)\n",
            "\u001b[2K     \u001b[90m━━━━━━━━━━━━━━━━━━━━━━━━━━━━━━━━━━━━━━━━\u001b[0m \u001b[32m207.3/207.3 kB\u001b[0m \u001b[31m19.9 MB/s\u001b[0m eta \u001b[36m0:00:00\u001b[0m\n",
            "\u001b[?25hRequirement already satisfied: platformdirs in /usr/local/lib/python3.10/dist-packages (from wandb) (4.2.1)\n",
            "Requirement already satisfied: protobuf!=4.21.0,<5,>=3.19.0 in /usr/local/lib/python3.10/dist-packages (from wandb) (3.20.3)\n",
            "Requirement already satisfied: psutil>=5.0.0 in /usr/local/lib/python3.10/dist-packages (from wandb) (5.9.5)\n",
            "Requirement already satisfied: pyyaml in /usr/local/lib/python3.10/dist-packages (from wandb) (6.0.1)\n",
            "Requirement already satisfied: requests<3,>=2.0.0 in /usr/local/lib/python3.10/dist-packages (from wandb) (2.31.0)\n",
            "Collecting sentry-sdk>=1.0.0 (from wandb)\n",
            "  Downloading sentry_sdk-2.2.0-py2.py3-none-any.whl (281 kB)\n",
            "\u001b[2K     \u001b[90m━━━━━━━━━━━━━━━━━━━━━━━━━━━━━━━━━━━━━━━━\u001b[0m \u001b[32m281.1/281.1 kB\u001b[0m \u001b[31m17.6 MB/s\u001b[0m eta \u001b[36m0:00:00\u001b[0m\n",
            "\u001b[?25hCollecting setproctitle (from wandb)\n",
            "  Downloading setproctitle-1.3.3-cp310-cp310-manylinux_2_5_x86_64.manylinux1_x86_64.manylinux_2_17_x86_64.manylinux2014_x86_64.whl (30 kB)\n",
            "Requirement already satisfied: setuptools in /usr/local/lib/python3.10/dist-packages (from wandb) (67.7.2)\n",
            "Requirement already satisfied: six>=1.4.0 in /usr/local/lib/python3.10/dist-packages (from docker-pycreds>=0.4.0->wandb) (1.16.0)\n",
            "Collecting gitdb<5,>=4.0.1 (from gitpython!=3.1.29,>=1.0.0->wandb)\n",
            "  Downloading gitdb-4.0.11-py3-none-any.whl (62 kB)\n",
            "\u001b[2K     \u001b[90m━━━━━━━━━━━━━━━━━━━━━━━━━━━━━━━━━━━━━━━━\u001b[0m \u001b[32m62.7/62.7 kB\u001b[0m \u001b[31m6.3 MB/s\u001b[0m eta \u001b[36m0:00:00\u001b[0m\n",
            "\u001b[?25hRequirement already satisfied: charset-normalizer<4,>=2 in /usr/local/lib/python3.10/dist-packages (from requests<3,>=2.0.0->wandb) (3.3.2)\n",
            "Requirement already satisfied: idna<4,>=2.5 in /usr/local/lib/python3.10/dist-packages (from requests<3,>=2.0.0->wandb) (3.7)\n",
            "Requirement already satisfied: urllib3<3,>=1.21.1 in /usr/local/lib/python3.10/dist-packages (from requests<3,>=2.0.0->wandb) (2.0.7)\n",
            "Requirement already satisfied: certifi>=2017.4.17 in /usr/local/lib/python3.10/dist-packages (from requests<3,>=2.0.0->wandb) (2024.2.2)\n",
            "Collecting smmap<6,>=3.0.1 (from gitdb<5,>=4.0.1->gitpython!=3.1.29,>=1.0.0->wandb)\n",
            "  Downloading smmap-5.0.1-py3-none-any.whl (24 kB)\n",
            "Installing collected packages: smmap, setproctitle, sentry-sdk, docker-pycreds, gitdb, gitpython, wandb\n",
            "Successfully installed docker-pycreds-0.4.0 gitdb-4.0.11 gitpython-3.1.43 sentry-sdk-2.2.0 setproctitle-1.3.3 smmap-5.0.1 wandb-0.17.0\n"
          ]
        }
      ]
    },
    {
      "cell_type": "code",
      "source": [
        "pip install torch"
      ],
      "metadata": {
        "colab": {
          "base_uri": "https://localhost:8080/"
        },
        "id": "7ghtGHdBya-y",
        "outputId": "2a418233-9d99-4ea2-a05e-618a145cebcf"
      },
      "id": "7ghtGHdBya-y",
      "execution_count": null,
      "outputs": [
        {
          "output_type": "stream",
          "name": "stdout",
          "text": [
            "Requirement already satisfied: torch in /usr/local/lib/python3.10/dist-packages (2.2.1+cu121)\n",
            "Requirement already satisfied: filelock in /usr/local/lib/python3.10/dist-packages (from torch) (3.14.0)\n",
            "Requirement already satisfied: typing-extensions>=4.8.0 in /usr/local/lib/python3.10/dist-packages (from torch) (4.11.0)\n",
            "Requirement already satisfied: sympy in /usr/local/lib/python3.10/dist-packages (from torch) (1.12)\n",
            "Requirement already satisfied: networkx in /usr/local/lib/python3.10/dist-packages (from torch) (3.3)\n",
            "Requirement already satisfied: jinja2 in /usr/local/lib/python3.10/dist-packages (from torch) (3.1.4)\n",
            "Requirement already satisfied: fsspec in /usr/local/lib/python3.10/dist-packages (from torch) (2023.6.0)\n",
            "Collecting nvidia-cuda-nvrtc-cu12==12.1.105 (from torch)\n",
            "  Using cached nvidia_cuda_nvrtc_cu12-12.1.105-py3-none-manylinux1_x86_64.whl (23.7 MB)\n",
            "Collecting nvidia-cuda-runtime-cu12==12.1.105 (from torch)\n",
            "  Using cached nvidia_cuda_runtime_cu12-12.1.105-py3-none-manylinux1_x86_64.whl (823 kB)\n",
            "Collecting nvidia-cuda-cupti-cu12==12.1.105 (from torch)\n",
            "  Using cached nvidia_cuda_cupti_cu12-12.1.105-py3-none-manylinux1_x86_64.whl (14.1 MB)\n",
            "Collecting nvidia-cudnn-cu12==8.9.2.26 (from torch)\n",
            "  Using cached nvidia_cudnn_cu12-8.9.2.26-py3-none-manylinux1_x86_64.whl (731.7 MB)\n",
            "Collecting nvidia-cublas-cu12==12.1.3.1 (from torch)\n",
            "  Using cached nvidia_cublas_cu12-12.1.3.1-py3-none-manylinux1_x86_64.whl (410.6 MB)\n",
            "Collecting nvidia-cufft-cu12==11.0.2.54 (from torch)\n",
            "  Using cached nvidia_cufft_cu12-11.0.2.54-py3-none-manylinux1_x86_64.whl (121.6 MB)\n",
            "Collecting nvidia-curand-cu12==10.3.2.106 (from torch)\n",
            "  Using cached nvidia_curand_cu12-10.3.2.106-py3-none-manylinux1_x86_64.whl (56.5 MB)\n",
            "Collecting nvidia-cusolver-cu12==11.4.5.107 (from torch)\n",
            "  Using cached nvidia_cusolver_cu12-11.4.5.107-py3-none-manylinux1_x86_64.whl (124.2 MB)\n",
            "Collecting nvidia-cusparse-cu12==12.1.0.106 (from torch)\n",
            "  Using cached nvidia_cusparse_cu12-12.1.0.106-py3-none-manylinux1_x86_64.whl (196.0 MB)\n",
            "Collecting nvidia-nccl-cu12==2.19.3 (from torch)\n",
            "  Using cached nvidia_nccl_cu12-2.19.3-py3-none-manylinux1_x86_64.whl (166.0 MB)\n",
            "Collecting nvidia-nvtx-cu12==12.1.105 (from torch)\n",
            "  Using cached nvidia_nvtx_cu12-12.1.105-py3-none-manylinux1_x86_64.whl (99 kB)\n",
            "Requirement already satisfied: triton==2.2.0 in /usr/local/lib/python3.10/dist-packages (from torch) (2.2.0)\n",
            "Collecting nvidia-nvjitlink-cu12 (from nvidia-cusolver-cu12==11.4.5.107->torch)\n",
            "  Using cached nvidia_nvjitlink_cu12-12.4.127-py3-none-manylinux2014_x86_64.whl (21.1 MB)\n",
            "Requirement already satisfied: MarkupSafe>=2.0 in /usr/local/lib/python3.10/dist-packages (from jinja2->torch) (2.1.5)\n",
            "Requirement already satisfied: mpmath>=0.19 in /usr/local/lib/python3.10/dist-packages (from sympy->torch) (1.3.0)\n",
            "Installing collected packages: nvidia-nvtx-cu12, nvidia-nvjitlink-cu12, nvidia-nccl-cu12, nvidia-curand-cu12, nvidia-cufft-cu12, nvidia-cuda-runtime-cu12, nvidia-cuda-nvrtc-cu12, nvidia-cuda-cupti-cu12, nvidia-cublas-cu12, nvidia-cusparse-cu12, nvidia-cudnn-cu12, nvidia-cusolver-cu12\n",
            "Successfully installed nvidia-cublas-cu12-12.1.3.1 nvidia-cuda-cupti-cu12-12.1.105 nvidia-cuda-nvrtc-cu12-12.1.105 nvidia-cuda-runtime-cu12-12.1.105 nvidia-cudnn-cu12-8.9.2.26 nvidia-cufft-cu12-11.0.2.54 nvidia-curand-cu12-10.3.2.106 nvidia-cusolver-cu12-11.4.5.107 nvidia-cusparse-cu12-12.1.0.106 nvidia-nccl-cu12-2.19.3 nvidia-nvjitlink-cu12-12.4.127 nvidia-nvtx-cu12-12.1.105\n"
          ]
        }
      ]
    },
    {
      "cell_type": "code",
      "source": [
        "pip install simpletransformers"
      ],
      "metadata": {
        "colab": {
          "base_uri": "https://localhost:8080/"
        },
        "id": "33c6WJqYyfCh",
        "outputId": "bffb22ee-0c50-40e7-997e-bb0969018521"
      },
      "id": "33c6WJqYyfCh",
      "execution_count": null,
      "outputs": [
        {
          "output_type": "stream",
          "name": "stdout",
          "text": [
            "Collecting simpletransformers\n",
            "  Downloading simpletransformers-0.70.0-py3-none-any.whl (315 kB)\n",
            "\u001b[2K     \u001b[90m━━━━━━━━━━━━━━━━━━━━━━━━━━━━━━━━━━━━━━━━\u001b[0m \u001b[32m315.5/315.5 kB\u001b[0m \u001b[31m2.1 MB/s\u001b[0m eta \u001b[36m0:00:00\u001b[0m\n",
            "\u001b[?25hRequirement already satisfied: numpy in /usr/local/lib/python3.10/dist-packages (from simpletransformers) (1.25.2)\n",
            "Requirement already satisfied: requests in /usr/local/lib/python3.10/dist-packages (from simpletransformers) (2.31.0)\n",
            "Requirement already satisfied: tqdm>=4.47.0 in /usr/local/lib/python3.10/dist-packages (from simpletransformers) (4.66.4)\n",
            "Requirement already satisfied: regex in /usr/local/lib/python3.10/dist-packages (from simpletransformers) (2023.12.25)\n",
            "Requirement already satisfied: transformers>=4.31.0 in /usr/local/lib/python3.10/dist-packages (from simpletransformers) (4.40.2)\n",
            "Collecting datasets (from simpletransformers)\n",
            "  Downloading datasets-2.19.1-py3-none-any.whl (542 kB)\n",
            "\u001b[2K     \u001b[90m━━━━━━━━━━━━━━━━━━━━━━━━━━━━━━━━━━━━━━━━\u001b[0m \u001b[32m542.0/542.0 kB\u001b[0m \u001b[31m9.6 MB/s\u001b[0m eta \u001b[36m0:00:00\u001b[0m\n",
            "\u001b[?25hRequirement already satisfied: scipy in /usr/local/lib/python3.10/dist-packages (from simpletransformers) (1.11.4)\n",
            "Requirement already satisfied: scikit-learn in /usr/local/lib/python3.10/dist-packages (from simpletransformers) (1.2.2)\n",
            "Collecting seqeval (from simpletransformers)\n",
            "  Downloading seqeval-1.2.2.tar.gz (43 kB)\n",
            "\u001b[2K     \u001b[90m━━━━━━━━━━━━━━━━━━━━━━━━━━━━━━━━━━━━━━━━\u001b[0m \u001b[32m43.6/43.6 kB\u001b[0m \u001b[31m4.9 MB/s\u001b[0m eta \u001b[36m0:00:00\u001b[0m\n",
            "\u001b[?25h  Preparing metadata (setup.py) ... \u001b[?25l\u001b[?25hdone\n",
            "Requirement already satisfied: tensorboard in /usr/local/lib/python3.10/dist-packages (from simpletransformers) (2.15.2)\n",
            "Collecting tensorboardx (from simpletransformers)\n",
            "  Downloading tensorboardX-2.6.2.2-py2.py3-none-any.whl (101 kB)\n",
            "\u001b[2K     \u001b[90m━━━━━━━━━━━━━━━━━━━━━━━━━━━━━━━━━━━━━━━━\u001b[0m \u001b[32m101.7/101.7 kB\u001b[0m \u001b[31m5.4 MB/s\u001b[0m eta \u001b[36m0:00:00\u001b[0m\n",
            "\u001b[?25hRequirement already satisfied: pandas in /usr/local/lib/python3.10/dist-packages (from simpletransformers) (2.0.3)\n",
            "Requirement already satisfied: tokenizers in /usr/local/lib/python3.10/dist-packages (from simpletransformers) (0.19.1)\n",
            "Requirement already satisfied: wandb>=0.10.32 in /usr/local/lib/python3.10/dist-packages (from simpletransformers) (0.17.0)\n",
            "Collecting streamlit (from simpletransformers)\n",
            "  Downloading streamlit-1.34.0-py2.py3-none-any.whl (8.5 MB)\n",
            "\u001b[2K     \u001b[90m━━━━━━━━━━━━━━━━━━━━━━━━━━━━━━━━━━━━━━━━\u001b[0m \u001b[32m8.5/8.5 MB\u001b[0m \u001b[31m32.9 MB/s\u001b[0m eta \u001b[36m0:00:00\u001b[0m\n",
            "\u001b[?25hRequirement already satisfied: sentencepiece in /usr/local/lib/python3.10/dist-packages (from simpletransformers) (0.1.99)\n",
            "Requirement already satisfied: filelock in /usr/local/lib/python3.10/dist-packages (from transformers>=4.31.0->simpletransformers) (3.14.0)\n",
            "Requirement already satisfied: huggingface-hub<1.0,>=0.19.3 in /usr/local/lib/python3.10/dist-packages (from transformers>=4.31.0->simpletransformers) (0.20.3)\n",
            "Requirement already satisfied: packaging>=20.0 in /usr/local/lib/python3.10/dist-packages (from transformers>=4.31.0->simpletransformers) (24.0)\n",
            "Requirement already satisfied: pyyaml>=5.1 in /usr/local/lib/python3.10/dist-packages (from transformers>=4.31.0->simpletransformers) (6.0.1)\n",
            "Requirement already satisfied: safetensors>=0.4.1 in /usr/local/lib/python3.10/dist-packages (from transformers>=4.31.0->simpletransformers) (0.4.3)\n",
            "Requirement already satisfied: click!=8.0.0,>=7.1 in /usr/local/lib/python3.10/dist-packages (from wandb>=0.10.32->simpletransformers) (8.1.7)\n",
            "Requirement already satisfied: docker-pycreds>=0.4.0 in /usr/local/lib/python3.10/dist-packages (from wandb>=0.10.32->simpletransformers) (0.4.0)\n",
            "Requirement already satisfied: gitpython!=3.1.29,>=1.0.0 in /usr/local/lib/python3.10/dist-packages (from wandb>=0.10.32->simpletransformers) (3.1.43)\n",
            "Requirement already satisfied: platformdirs in /usr/local/lib/python3.10/dist-packages (from wandb>=0.10.32->simpletransformers) (4.2.1)\n",
            "Requirement already satisfied: protobuf!=4.21.0,<5,>=3.19.0 in /usr/local/lib/python3.10/dist-packages (from wandb>=0.10.32->simpletransformers) (3.20.3)\n",
            "Requirement already satisfied: psutil>=5.0.0 in /usr/local/lib/python3.10/dist-packages (from wandb>=0.10.32->simpletransformers) (5.9.5)\n",
            "Requirement already satisfied: sentry-sdk>=1.0.0 in /usr/local/lib/python3.10/dist-packages (from wandb>=0.10.32->simpletransformers) (2.2.0)\n",
            "Requirement already satisfied: setproctitle in /usr/local/lib/python3.10/dist-packages (from wandb>=0.10.32->simpletransformers) (1.3.3)\n",
            "Requirement already satisfied: setuptools in /usr/local/lib/python3.10/dist-packages (from wandb>=0.10.32->simpletransformers) (67.7.2)\n",
            "Requirement already satisfied: charset-normalizer<4,>=2 in /usr/local/lib/python3.10/dist-packages (from requests->simpletransformers) (3.3.2)\n",
            "Requirement already satisfied: idna<4,>=2.5 in /usr/local/lib/python3.10/dist-packages (from requests->simpletransformers) (3.7)\n",
            "Requirement already satisfied: urllib3<3,>=1.21.1 in /usr/local/lib/python3.10/dist-packages (from requests->simpletransformers) (2.0.7)\n",
            "Requirement already satisfied: certifi>=2017.4.17 in /usr/local/lib/python3.10/dist-packages (from requests->simpletransformers) (2024.2.2)\n",
            "Requirement already satisfied: pyarrow>=12.0.0 in /usr/local/lib/python3.10/dist-packages (from datasets->simpletransformers) (14.0.2)\n",
            "Requirement already satisfied: pyarrow-hotfix in /usr/local/lib/python3.10/dist-packages (from datasets->simpletransformers) (0.6)\n",
            "Collecting dill<0.3.9,>=0.3.0 (from datasets->simpletransformers)\n",
            "  Downloading dill-0.3.8-py3-none-any.whl (116 kB)\n",
            "\u001b[2K     \u001b[90m━━━━━━━━━━━━━━━━━━━━━━━━━━━━━━━━━━━━━━━━\u001b[0m \u001b[32m116.3/116.3 kB\u001b[0m \u001b[31m11.5 MB/s\u001b[0m eta \u001b[36m0:00:00\u001b[0m\n",
            "\u001b[?25hCollecting xxhash (from datasets->simpletransformers)\n",
            "  Downloading xxhash-3.4.1-cp310-cp310-manylinux_2_17_x86_64.manylinux2014_x86_64.whl (194 kB)\n",
            "\u001b[2K     \u001b[90m━━━━━━━━━━━━━━━━━━━━━━━━━━━━━━━━━━━━━━━━\u001b[0m \u001b[32m194.1/194.1 kB\u001b[0m \u001b[31m9.5 MB/s\u001b[0m eta \u001b[36m0:00:00\u001b[0m\n",
            "\u001b[?25hCollecting multiprocess (from datasets->simpletransformers)\n",
            "  Downloading multiprocess-0.70.16-py310-none-any.whl (134 kB)\n",
            "\u001b[2K     \u001b[90m━━━━━━━━━━━━━━━━━━━━━━━━━━━━━━━━━━━━━━━━\u001b[0m \u001b[32m134.8/134.8 kB\u001b[0m \u001b[31m13.3 MB/s\u001b[0m eta \u001b[36m0:00:00\u001b[0m\n",
            "\u001b[?25hRequirement already satisfied: fsspec[http]<=2024.3.1,>=2023.1.0 in /usr/local/lib/python3.10/dist-packages (from datasets->simpletransformers) (2023.6.0)\n",
            "Requirement already satisfied: aiohttp in /usr/local/lib/python3.10/dist-packages (from datasets->simpletransformers) (3.9.5)\n",
            "Collecting huggingface-hub<1.0,>=0.19.3 (from transformers>=4.31.0->simpletransformers)\n",
            "  Downloading huggingface_hub-0.23.0-py3-none-any.whl (401 kB)\n",
            "\u001b[2K     \u001b[90m━━━━━━━━━━━━━━━━━━━━━━━━━━━━━━━━━━━━━━━━\u001b[0m \u001b[32m401.2/401.2 kB\u001b[0m \u001b[31m26.2 MB/s\u001b[0m eta \u001b[36m0:00:00\u001b[0m\n",
            "\u001b[?25hRequirement already satisfied: python-dateutil>=2.8.2 in /usr/local/lib/python3.10/dist-packages (from pandas->simpletransformers) (2.8.2)\n",
            "Requirement already satisfied: pytz>=2020.1 in /usr/local/lib/python3.10/dist-packages (from pandas->simpletransformers) (2023.4)\n",
            "Requirement already satisfied: tzdata>=2022.1 in /usr/local/lib/python3.10/dist-packages (from pandas->simpletransformers) (2024.1)\n",
            "Requirement already satisfied: joblib>=1.1.1 in /usr/local/lib/python3.10/dist-packages (from scikit-learn->simpletransformers) (1.4.2)\n",
            "Requirement already satisfied: threadpoolctl>=2.0.0 in /usr/local/lib/python3.10/dist-packages (from scikit-learn->simpletransformers) (3.5.0)\n",
            "Requirement already satisfied: altair<6,>=4.0 in /usr/local/lib/python3.10/dist-packages (from streamlit->simpletransformers) (4.2.2)\n",
            "Requirement already satisfied: blinker<2,>=1.0.0 in /usr/lib/python3/dist-packages (from streamlit->simpletransformers) (1.4)\n",
            "Requirement already satisfied: cachetools<6,>=4.0 in /usr/local/lib/python3.10/dist-packages (from streamlit->simpletransformers) (5.3.3)\n",
            "Requirement already satisfied: pillow<11,>=7.1.0 in /usr/local/lib/python3.10/dist-packages (from streamlit->simpletransformers) (9.4.0)\n",
            "Requirement already satisfied: rich<14,>=10.14.0 in /usr/local/lib/python3.10/dist-packages (from streamlit->simpletransformers) (13.7.1)\n",
            "Requirement already satisfied: tenacity<9,>=8.1.0 in /usr/local/lib/python3.10/dist-packages (from streamlit->simpletransformers) (8.3.0)\n",
            "Requirement already satisfied: toml<2,>=0.10.1 in /usr/local/lib/python3.10/dist-packages (from streamlit->simpletransformers) (0.10.2)\n",
            "Requirement already satisfied: typing-extensions<5,>=4.3.0 in /usr/local/lib/python3.10/dist-packages (from streamlit->simpletransformers) (4.11.0)\n",
            "Collecting pydeck<1,>=0.8.0b4 (from streamlit->simpletransformers)\n",
            "  Downloading pydeck-0.9.1-py2.py3-none-any.whl (6.9 MB)\n",
            "\u001b[2K     \u001b[90m━━━━━━━━━━━━━━━━━━━━━━━━━━━━━━━━━━━━━━━━\u001b[0m \u001b[32m6.9/6.9 MB\u001b[0m \u001b[31m32.7 MB/s\u001b[0m eta \u001b[36m0:00:00\u001b[0m\n",
            "\u001b[?25hRequirement already satisfied: tornado<7,>=6.0.3 in /usr/local/lib/python3.10/dist-packages (from streamlit->simpletransformers) (6.3.3)\n",
            "Collecting watchdog>=2.1.5 (from streamlit->simpletransformers)\n",
            "  Downloading watchdog-4.0.0-py3-none-manylinux2014_x86_64.whl (82 kB)\n",
            "\u001b[2K     \u001b[90m━━━━━━━━━━━━━━━━━━━━━━━━━━━━━━━━━━━━━━━━\u001b[0m \u001b[32m83.0/83.0 kB\u001b[0m \u001b[31m8.5 MB/s\u001b[0m eta \u001b[36m0:00:00\u001b[0m\n",
            "\u001b[?25hRequirement already satisfied: absl-py>=0.4 in /usr/local/lib/python3.10/dist-packages (from tensorboard->simpletransformers) (1.4.0)\n",
            "Requirement already satisfied: grpcio>=1.48.2 in /usr/local/lib/python3.10/dist-packages (from tensorboard->simpletransformers) (1.63.0)\n",
            "Requirement already satisfied: google-auth<3,>=1.6.3 in /usr/local/lib/python3.10/dist-packages (from tensorboard->simpletransformers) (2.27.0)\n",
            "Requirement already satisfied: google-auth-oauthlib<2,>=0.5 in /usr/local/lib/python3.10/dist-packages (from tensorboard->simpletransformers) (1.2.0)\n",
            "Requirement already satisfied: markdown>=2.6.8 in /usr/local/lib/python3.10/dist-packages (from tensorboard->simpletransformers) (3.6)\n",
            "Requirement already satisfied: six>1.9 in /usr/local/lib/python3.10/dist-packages (from tensorboard->simpletransformers) (1.16.0)\n",
            "Requirement already satisfied: tensorboard-data-server<0.8.0,>=0.7.0 in /usr/local/lib/python3.10/dist-packages (from tensorboard->simpletransformers) (0.7.2)\n",
            "Requirement already satisfied: werkzeug>=1.0.1 in /usr/local/lib/python3.10/dist-packages (from tensorboard->simpletransformers) (3.0.3)\n",
            "Requirement already satisfied: entrypoints in /usr/local/lib/python3.10/dist-packages (from altair<6,>=4.0->streamlit->simpletransformers) (0.4)\n",
            "Requirement already satisfied: jinja2 in /usr/local/lib/python3.10/dist-packages (from altair<6,>=4.0->streamlit->simpletransformers) (3.1.4)\n",
            "Requirement already satisfied: jsonschema>=3.0 in /usr/local/lib/python3.10/dist-packages (from altair<6,>=4.0->streamlit->simpletransformers) (4.19.2)\n",
            "Requirement already satisfied: toolz in /usr/local/lib/python3.10/dist-packages (from altair<6,>=4.0->streamlit->simpletransformers) (0.12.1)\n",
            "Requirement already satisfied: aiosignal>=1.1.2 in /usr/local/lib/python3.10/dist-packages (from aiohttp->datasets->simpletransformers) (1.3.1)\n",
            "Requirement already satisfied: attrs>=17.3.0 in /usr/local/lib/python3.10/dist-packages (from aiohttp->datasets->simpletransformers) (23.2.0)\n",
            "Requirement already satisfied: frozenlist>=1.1.1 in /usr/local/lib/python3.10/dist-packages (from aiohttp->datasets->simpletransformers) (1.4.1)\n",
            "Requirement already satisfied: multidict<7.0,>=4.5 in /usr/local/lib/python3.10/dist-packages (from aiohttp->datasets->simpletransformers) (6.0.5)\n",
            "Requirement already satisfied: yarl<2.0,>=1.0 in /usr/local/lib/python3.10/dist-packages (from aiohttp->datasets->simpletransformers) (1.9.4)\n",
            "Requirement already satisfied: async-timeout<5.0,>=4.0 in /usr/local/lib/python3.10/dist-packages (from aiohttp->datasets->simpletransformers) (4.0.3)\n",
            "Requirement already satisfied: gitdb<5,>=4.0.1 in /usr/local/lib/python3.10/dist-packages (from gitpython!=3.1.29,>=1.0.0->wandb>=0.10.32->simpletransformers) (4.0.11)\n",
            "Requirement already satisfied: pyasn1-modules>=0.2.1 in /usr/local/lib/python3.10/dist-packages (from google-auth<3,>=1.6.3->tensorboard->simpletransformers) (0.4.0)\n",
            "Requirement already satisfied: rsa<5,>=3.1.4 in /usr/local/lib/python3.10/dist-packages (from google-auth<3,>=1.6.3->tensorboard->simpletransformers) (4.9)\n",
            "Requirement already satisfied: requests-oauthlib>=0.7.0 in /usr/local/lib/python3.10/dist-packages (from google-auth-oauthlib<2,>=0.5->tensorboard->simpletransformers) (1.3.1)\n",
            "Requirement already satisfied: markdown-it-py>=2.2.0 in /usr/local/lib/python3.10/dist-packages (from rich<14,>=10.14.0->streamlit->simpletransformers) (3.0.0)\n",
            "Requirement already satisfied: pygments<3.0.0,>=2.13.0 in /usr/local/lib/python3.10/dist-packages (from rich<14,>=10.14.0->streamlit->simpletransformers) (2.16.1)\n",
            "Requirement already satisfied: MarkupSafe>=2.1.1 in /usr/local/lib/python3.10/dist-packages (from werkzeug>=1.0.1->tensorboard->simpletransformers) (2.1.5)\n",
            "Requirement already satisfied: smmap<6,>=3.0.1 in /usr/local/lib/python3.10/dist-packages (from gitdb<5,>=4.0.1->gitpython!=3.1.29,>=1.0.0->wandb>=0.10.32->simpletransformers) (5.0.1)\n",
            "Requirement already satisfied: jsonschema-specifications>=2023.03.6 in /usr/local/lib/python3.10/dist-packages (from jsonschema>=3.0->altair<6,>=4.0->streamlit->simpletransformers) (2023.12.1)\n",
            "Requirement already satisfied: referencing>=0.28.4 in /usr/local/lib/python3.10/dist-packages (from jsonschema>=3.0->altair<6,>=4.0->streamlit->simpletransformers) (0.35.1)\n",
            "Requirement already satisfied: rpds-py>=0.7.1 in /usr/local/lib/python3.10/dist-packages (from jsonschema>=3.0->altair<6,>=4.0->streamlit->simpletransformers) (0.18.1)\n",
            "Requirement already satisfied: mdurl~=0.1 in /usr/local/lib/python3.10/dist-packages (from markdown-it-py>=2.2.0->rich<14,>=10.14.0->streamlit->simpletransformers) (0.1.2)\n",
            "Requirement already satisfied: pyasn1<0.7.0,>=0.4.6 in /usr/local/lib/python3.10/dist-packages (from pyasn1-modules>=0.2.1->google-auth<3,>=1.6.3->tensorboard->simpletransformers) (0.6.0)\n",
            "Requirement already satisfied: oauthlib>=3.0.0 in /usr/local/lib/python3.10/dist-packages (from requests-oauthlib>=0.7.0->google-auth-oauthlib<2,>=0.5->tensorboard->simpletransformers) (3.2.2)\n",
            "Building wheels for collected packages: seqeval\n",
            "  Building wheel for seqeval (setup.py) ... \u001b[?25l\u001b[?25hdone\n",
            "  Created wheel for seqeval: filename=seqeval-1.2.2-py3-none-any.whl size=16161 sha256=ada2ee22bdcff42e4c6b546879acb6e2b1101827cc3f8afbf59bc475b50b1436\n",
            "  Stored in directory: /root/.cache/pip/wheels/1a/67/4a/ad4082dd7dfc30f2abfe4d80a2ed5926a506eb8a972b4767fa\n",
            "Successfully built seqeval\n",
            "Installing collected packages: xxhash, watchdog, tensorboardx, dill, pydeck, multiprocess, huggingface-hub, seqeval, datasets, streamlit, simpletransformers\n",
            "  Attempting uninstall: huggingface-hub\n",
            "    Found existing installation: huggingface-hub 0.20.3\n",
            "    Uninstalling huggingface-hub-0.20.3:\n",
            "      Successfully uninstalled huggingface-hub-0.20.3\n",
            "Successfully installed datasets-2.19.1 dill-0.3.8 huggingface-hub-0.23.0 multiprocess-0.70.16 pydeck-0.9.1 seqeval-1.2.2 simpletransformers-0.70.0 streamlit-1.34.0 tensorboardx-2.6.2.2 watchdog-4.0.0 xxhash-3.4.1\n"
          ]
        }
      ]
    },
    {
      "cell_type": "code",
      "source": [
        "pip install rouge"
      ],
      "metadata": {
        "colab": {
          "base_uri": "https://localhost:8080/"
        },
        "id": "Ly2YNBhsyk5r",
        "outputId": "012f68ed-db73-4f58-acb8-f9dccc4aa88e"
      },
      "id": "Ly2YNBhsyk5r",
      "execution_count": null,
      "outputs": [
        {
          "output_type": "stream",
          "name": "stdout",
          "text": [
            "Collecting rouge\n",
            "  Downloading rouge-1.0.1-py3-none-any.whl (13 kB)\n",
            "Requirement already satisfied: six in /usr/local/lib/python3.10/dist-packages (from rouge) (1.16.0)\n",
            "Installing collected packages: rouge\n",
            "Successfully installed rouge-1.0.1\n"
          ]
        }
      ]
    },
    {
      "cell_type": "code",
      "execution_count": null,
      "id": "bff721bd-eebc-4138-94b1-c813fe3bbe9b",
      "metadata": {
        "colab": {
          "base_uri": "https://localhost:8080/",
          "height": 611
        },
        "id": "bff721bd-eebc-4138-94b1-c813fe3bbe9b",
        "outputId": "edf75f69-7714-4890-e1ce-11458813aef7"
      },
      "outputs": [
        {
          "output_type": "display_data",
          "data": {
            "text/plain": [
              "<IPython.core.display.Javascript object>"
            ],
            "application/javascript": [
              "\n",
              "        window._wandbApiKey = new Promise((resolve, reject) => {\n",
              "            function loadScript(url) {\n",
              "            return new Promise(function(resolve, reject) {\n",
              "                let newScript = document.createElement(\"script\");\n",
              "                newScript.onerror = reject;\n",
              "                newScript.onload = resolve;\n",
              "                document.body.appendChild(newScript);\n",
              "                newScript.src = url;\n",
              "            });\n",
              "            }\n",
              "            loadScript(\"https://cdn.jsdelivr.net/npm/postmate/build/postmate.min.js\").then(() => {\n",
              "            const iframe = document.createElement('iframe')\n",
              "            iframe.style.cssText = \"width:0;height:0;border:none\"\n",
              "            document.body.appendChild(iframe)\n",
              "            const handshake = new Postmate({\n",
              "                container: iframe,\n",
              "                url: 'https://wandb.ai/authorize'\n",
              "            });\n",
              "            const timeout = setTimeout(() => reject(\"Couldn't auto authenticate\"), 5000)\n",
              "            handshake.then(function(child) {\n",
              "                child.on('authorize', data => {\n",
              "                    clearTimeout(timeout)\n",
              "                    resolve(data)\n",
              "                });\n",
              "            });\n",
              "            })\n",
              "        });\n",
              "    "
            ]
          },
          "metadata": {}
        },
        {
          "output_type": "stream",
          "name": "stderr",
          "text": [
            "\u001b[34m\u001b[1mwandb\u001b[0m: Logging into wandb.ai. (Learn how to deploy a W&B server locally: https://wandb.me/wandb-server)\n",
            "\u001b[34m\u001b[1mwandb\u001b[0m: You can find your API key in your browser here: https://wandb.ai/authorize\n",
            "wandb: Paste an API key from your profile and hit enter, or press ctrl+c to quit:"
          ]
        },
        {
          "name": "stdout",
          "output_type": "stream",
          "text": [
            " ··········\n"
          ]
        },
        {
          "output_type": "stream",
          "name": "stderr",
          "text": [
            "\u001b[34m\u001b[1mwandb\u001b[0m: Appending key for api.wandb.ai to your netrc file: /root/.netrc\n"
          ]
        },
        {
          "output_type": "display_data",
          "data": {
            "text/plain": [
              "<IPython.core.display.HTML object>"
            ],
            "text/html": [
              "Tracking run with wandb version 0.17.0"
            ]
          },
          "metadata": {}
        },
        {
          "output_type": "display_data",
          "data": {
            "text/plain": [
              "<IPython.core.display.HTML object>"
            ],
            "text/html": [
              "Run data is saved locally in <code>/content/wandb/run-20240517_182532-oq3fixcb</code>"
            ]
          },
          "metadata": {}
        },
        {
          "output_type": "display_data",
          "data": {
            "text/plain": [
              "<IPython.core.display.HTML object>"
            ],
            "text/html": [
              "Syncing run <strong><a href='https://wandb.ai/tekjabs/transformer_finetuning/runs/oq3fixcb' target=\"_blank\">graceful-bush-2</a></strong> to <a href='https://wandb.ai/tekjabs/transformer_finetuning' target=\"_blank\">Weights & Biases</a> (<a href='https://wandb.me/run' target=\"_blank\">docs</a>)<br/>"
            ]
          },
          "metadata": {}
        },
        {
          "output_type": "display_data",
          "data": {
            "text/plain": [
              "<IPython.core.display.HTML object>"
            ],
            "text/html": [
              " View project at <a href='https://wandb.ai/tekjabs/transformer_finetuning' target=\"_blank\">https://wandb.ai/tekjabs/transformer_finetuning</a>"
            ]
          },
          "metadata": {}
        },
        {
          "output_type": "display_data",
          "data": {
            "text/plain": [
              "<IPython.core.display.HTML object>"
            ],
            "text/html": [
              " View run at <a href='https://wandb.ai/tekjabs/transformer_finetuning/runs/oq3fixcb' target=\"_blank\">https://wandb.ai/tekjabs/transformer_finetuning/runs/oq3fixcb</a>"
            ]
          },
          "metadata": {}
        },
        {
          "output_type": "execute_result",
          "data": {
            "text/html": [
              "<button onClick=\"this.nextSibling.style.display='block';this.style.display='none';\">Display W&B run</button><iframe src='https://wandb.ai/tekjabs/transformer_finetuning/runs/oq3fixcb?jupyter=true' style='border:none;width:100%;height:420px;display:none;'></iframe>"
            ],
            "text/plain": [
              "<wandb.sdk.wandb_run.Run at 0x7c354a92f1f0>"
            ]
          },
          "metadata": {},
          "execution_count": 5
        }
      ],
      "source": [
        "import wandb\n",
        "import pandas as pd\n",
        "from simpletransformers.question_answering import QuestionAnsweringModel\n",
        "\n",
        "# wandb\n",
        "wandb.init(project=\"transformer_finetuning\")"
      ]
    },
    {
      "cell_type": "code",
      "execution_count": null,
      "id": "db12d9e7-9f22-49a0-bf85-10a10b872fb7",
      "metadata": {
        "id": "db12d9e7-9f22-49a0-bf85-10a10b872fb7"
      },
      "outputs": [],
      "source": [
        "import pandas as pd\n",
        "from transformers import BertConfig, BertTokenizer, BertForQuestionAnswering, MobileBertConfig, MobileBertTokenizer, MobileBertForQuestionAnswering, RobertaConfig, RobertaTokenizer, RobertaForQuestionAnswering\n",
        "import wandb\n",
        "from rouge import Rouge\n",
        "from nltk.translate.bleu_score import sentence_bleu, SmoothingFunction\n",
        "import json\n",
        "import zipfile\n",
        "import logging\n",
        "import torch\n",
        "from sklearn.model_selection import train_test_split\n",
        "from simpletransformers.question_answering import QuestionAnsweringModel, QuestionAnsweringArgs\n"
      ]
    },
    {
      "cell_type": "code",
      "execution_count": null,
      "id": "e1bcc9ac-968a-43c5-a1d5-55a88766d6a3",
      "metadata": {
        "id": "e1bcc9ac-968a-43c5-a1d5-55a88766d6a3"
      },
      "outputs": [],
      "source": [
        "df = pd.read_csv('train.csv')\n"
      ]
    },
    {
      "cell_type": "code",
      "execution_count": null,
      "id": "7891f518-0f54-488d-8469-9ba6640d5baf",
      "metadata": {
        "id": "7891f518-0f54-488d-8469-9ba6640d5baf"
      },
      "outputs": [],
      "source": [
        "formatted_data = []\n",
        "for index, row in df.iterrows():\n",
        "    answer = row['Answer']\n",
        "    context = row['Answer']\n",
        "    answer_start = context.find(answer)\n",
        "    formatted_data.append({\n",
        "        'context': context,\n",
        "        'qas': [{\n",
        "            'question': row['Question'],\n",
        "            'id': str(index),\n",
        "            'answers': [{\n",
        "                'text': answer,\n",
        "                'answer_start': answer_start\n",
        "            }]\n",
        "        }]\n",
        "    })"
      ]
    },
    {
      "cell_type": "code",
      "execution_count": null,
      "id": "a8c35e20-68e6-4ef1-a2c6-f5a9d5937862",
      "metadata": {
        "id": "a8c35e20-68e6-4ef1-a2c6-f5a9d5937862"
      },
      "outputs": [],
      "source": [
        "df = formatted_data"
      ]
    },
    {
      "cell_type": "code",
      "execution_count": null,
      "id": "877204fa-fec1-4acc-9019-b66313dacd85",
      "metadata": {
        "id": "877204fa-fec1-4acc-9019-b66313dacd85"
      },
      "outputs": [],
      "source": [
        "train_data, test_data = train_test_split(df, test_size=0.25, random_state=40)"
      ]
    },
    {
      "cell_type": "code",
      "execution_count": null,
      "id": "59e9064f-347c-4afa-9f7e-99c79bf114b7",
      "metadata": {
        "id": "59e9064f-347c-4afa-9f7e-99c79bf114b7",
        "outputId": "42d0460a-9e27-40ee-f145-5f14ad855550"
      },
      "outputs": [
        {
          "name": "stderr",
          "output_type": "stream",
          "text": [
            "/home/dayyanahmad/miniconda3/envs/ds/lib/python3.11/site-packages/huggingface_hub/file_download.py:1132: FutureWarning: `resume_download` is deprecated and will be removed in version 1.0.0. Downloads always resume when possible. If you want to force a new download, use `force_download=True`.\n",
            "  warnings.warn(\n",
            "Some weights of BertForQuestionAnswering were not initialized from the model checkpoint at bert-base-cased and are newly initialized: ['qa_outputs.bias', 'qa_outputs.weight']\n",
            "You should probably TRAIN this model on a down-stream task to be able to use it for predictions and inference.\n"
          ]
        },
        {
          "name": "stdout",
          "output_type": "stream",
          "text": [
            "Training BERT model...\n"
          ]
        },
        {
          "name": "stderr",
          "output_type": "stream",
          "text": [
            "100%|█████████████████████████████████████████| 12305/12305 [01:42<00:00, 119.78it/s]\n",
            "add example index and unique id: 100%|████| 12305/12305 [00:00<00:00, 1877716.32it/s]\n",
            "Epoch:   0%|                                                   | 0/1 [00:00<?, ?it/s]"
          ]
        },
        {
          "data": {
            "text/html": [
              "Finishing last run (ID:q6e1q0tq) before initializing another..."
            ],
            "text/plain": [
              "<IPython.core.display.HTML object>"
            ]
          },
          "metadata": {},
          "output_type": "display_data"
        },
        {
          "data": {
            "text/html": [
              " View run <strong style=\"color:#cdcd00\">volcanic-feather-2</strong> at: <a href='https://wandb.ai/dayyannlp/transformer_finetuning/runs/q6e1q0tq/workspace' target=\"_blank\">https://wandb.ai/dayyannlp/transformer_finetuning/runs/q6e1q0tq/workspace</a><br/>Synced 6 W&B file(s), 0 media file(s), 0 artifact file(s) and 0 other file(s)"
            ],
            "text/plain": [
              "<IPython.core.display.HTML object>"
            ]
          },
          "metadata": {},
          "output_type": "display_data"
        },
        {
          "data": {
            "text/html": [
              "Find logs at: <code>./wandb/run-20240511_171446-q6e1q0tq/logs</code>"
            ],
            "text/plain": [
              "<IPython.core.display.HTML object>"
            ]
          },
          "metadata": {},
          "output_type": "display_data"
        },
        {
          "data": {
            "text/html": [
              "Successfully finished last run (ID:q6e1q0tq). Initializing new run:<br/>"
            ],
            "text/plain": [
              "<IPython.core.display.HTML object>"
            ]
          },
          "metadata": {},
          "output_type": "display_data"
        },
        {
          "data": {
            "text/html": [
              "wandb version 0.17.0 is available!  To upgrade, please run:\n",
              " $ pip install wandb --upgrade"
            ],
            "text/plain": [
              "<IPython.core.display.HTML object>"
            ]
          },
          "metadata": {},
          "output_type": "display_data"
        },
        {
          "data": {
            "text/html": [
              "Tracking run with wandb version 0.16.5"
            ],
            "text/plain": [
              "<IPython.core.display.HTML object>"
            ]
          },
          "metadata": {},
          "output_type": "display_data"
        },
        {
          "data": {
            "text/html": [
              "Run data is saved locally in <code>/home/dayyanahmad/data/work/Academics/semester 6/NLP/4th Assignment /wandb/run-20240511_211235-9kcsu6nm</code>"
            ],
            "text/plain": [
              "<IPython.core.display.HTML object>"
            ]
          },
          "metadata": {},
          "output_type": "display_data"
        },
        {
          "data": {
            "text/html": [
              "Syncing run <strong><a href='https://wandb.ai/dayyannlp/MedQuad-QA/runs/9kcsu6nm/workspace' target=\"_blank\">faithful-water-1</a></strong> to <a href='https://wandb.ai/dayyannlp/MedQuad-QA' target=\"_blank\">Weights & Biases</a> (<a href='https://wandb.me/run' target=\"_blank\">docs</a>)<br/>"
            ],
            "text/plain": [
              "<IPython.core.display.HTML object>"
            ]
          },
          "metadata": {},
          "output_type": "display_data"
        },
        {
          "data": {
            "text/html": [
              " View project at <a href='https://wandb.ai/dayyannlp/MedQuad-QA' target=\"_blank\">https://wandb.ai/dayyannlp/MedQuad-QA</a>"
            ],
            "text/plain": [
              "<IPython.core.display.HTML object>"
            ]
          },
          "metadata": {},
          "output_type": "display_data"
        },
        {
          "data": {
            "text/html": [
              " View run at <a href='https://wandb.ai/dayyannlp/MedQuad-QA/runs/9kcsu6nm/workspace' target=\"_blank\">https://wandb.ai/dayyannlp/MedQuad-QA/runs/9kcsu6nm/workspace</a>"
            ],
            "text/plain": [
              "<IPython.core.display.HTML object>"
            ]
          },
          "metadata": {},
          "output_type": "display_data"
        },
        {
          "name": "stderr",
          "output_type": "stream",
          "text": [
            "Epoch 1 of 1:   0%|                                            | 0/1 [00:19<?, ?it/s]/home/dayyanahmad/miniconda3/envs/ds/lib/python3.11/site-packages/wandb/sdk/wandb_run.py:2253: UserWarning: Run (q6e1q0tq) is finished. The call to `_console_raw_callback` will be ignored. Please make sure that you are using an active run.\n",
            "  lambda data: self._console_raw_callback(\"stderr\", data),\n",
            "\n",
            "Running Epoch 1 of 1:   0%|                                 | 0/1032 [00:00<?, ?it/s]\u001b[A\n",
            "Epochs 1/1. Running Loss:    4.8577:   0%|                  | 0/1032 [00:02<?, ?it/s]\u001b[A\n",
            "Epochs 1/1. Running Loss:    4.8577:   0%|        | 1/1032 [00:06<1:56:21,  6.77s/it]\u001b[A\n",
            "Epochs 1/1. Running Loss:    4.8459:   0%|        | 1/1032 [00:09<1:56:21,  6.77s/it]\u001b[A\n",
            "Epochs 1/1. Running Loss:    4.8459:   0%|        | 2/1032 [00:15<2:16:56,  7.98s/it]\u001b[A\n",
            "Epochs 1/1. Running Loss:    4.9017:   0%|        | 2/1032 [00:18<2:16:56,  7.98s/it]\u001b[A\n",
            "Epochs 1/1. Running Loss:    4.9017:   0%|        | 3/1032 [00:23<2:19:39,  8.14s/it]\u001b[A\n",
            "Epochs 1/1. Running Loss:    4.8250:   0%|        | 3/1032 [00:26<2:19:39,  8.14s/it]\u001b[A\n",
            "Epochs 1/1. Running Loss:    4.8250:   0%|        | 4/1032 [00:30<2:11:41,  7.69s/it]\u001b[A\n",
            "Epochs 1/1. Running Loss:    4.8513:   0%|        | 4/1032 [00:33<2:11:41,  7.69s/it]\u001b[A\n",
            "Epochs 1/1. Running Loss:    4.8513:   0%|        | 5/1032 [00:39<2:16:19,  7.96s/it]\u001b[A\n",
            "Epochs 1/1. Running Loss:    4.9296:   0%|        | 5/1032 [00:41<2:16:19,  7.96s/it]\u001b[A\n",
            "Epochs 1/1. Running Loss:    4.9296:   1%|        | 6/1032 [00:48<2:20:28,  8.21s/it]\u001b[A\n",
            "Epochs 1/1. Running Loss:    4.8313:   1%|        | 6/1032 [00:51<2:20:28,  8.21s/it]\u001b[A\n",
            "Epochs 1/1. Running Loss:    4.8313:   1%|        | 7/1032 [00:56<2:19:29,  8.17s/it]\u001b[A\n",
            "Epochs 1/1. Running Loss:    4.7881:   1%|        | 7/1032 [00:58<2:19:29,  8.17s/it]\u001b[A\n",
            "Epochs 1/1. Running Loss:    4.7881:   1%|        | 8/1032 [01:03<2:16:16,  7.98s/it]\u001b[A\n",
            "Epochs 1/1. Running Loss:    4.7522:   1%|        | 8/1032 [01:06<2:16:16,  7.98s/it]\u001b[A\n",
            "Epochs 1/1. Running Loss:    4.7522:   1%|        | 9/1032 [01:11<2:15:59,  7.98s/it]\u001b[A\n",
            "Epochs 1/1. Running Loss:    4.7441:   1%|        | 9/1032 [01:14<2:15:59,  7.98s/it]\u001b[A\n",
            "Epochs 1/1. Running Loss:    4.7441:   1%|       | 10/1032 [01:20<2:19:07,  8.17s/it]\u001b[A\n",
            "Epochs 1/1. Running Loss:    4.6540:   1%|       | 10/1032 [01:22<2:19:07,  8.17s/it]\u001b[A\n",
            "Epochs 1/1. Running Loss:    4.6540:   1%|       | 11/1032 [01:28<2:17:27,  8.08s/it]\u001b[A\n",
            "Epochs 1/1. Running Loss:    4.7162:   1%|       | 11/1032 [01:30<2:17:27,  8.08s/it]\u001b[A\n",
            "Epochs 1/1. Running Loss:    4.7162:   1%|       | 12/1032 [01:37<2:21:15,  8.31s/it]\u001b[A\n",
            "Epochs 1/1. Running Loss:    4.6357:   1%|       | 12/1032 [01:39<2:21:15,  8.31s/it]\u001b[A\n",
            "Epochs 1/1. Running Loss:    4.6357:   1%|       | 13/1032 [01:46<2:26:17,  8.61s/it]\u001b[A\n",
            "Epochs 1/1. Running Loss:    4.5413:   1%|       | 13/1032 [01:48<2:26:17,  8.61s/it]\u001b[A\n",
            "Epochs 1/1. Running Loss:    4.5413:   1%|       | 14/1032 [01:54<2:24:11,  8.50s/it]\u001b[A\n",
            "Epochs 1/1. Running Loss:    4.5856:   1%|       | 14/1032 [01:57<2:24:11,  8.50s/it]\u001b[A\n",
            "Epochs 1/1. Running Loss:    4.5856:   1%|       | 15/1032 [02:02<2:22:59,  8.44s/it]\u001b[A\n",
            "Epochs 1/1. Running Loss:    4.4868:   1%|       | 15/1032 [02:05<2:22:59,  8.44s/it]\u001b[A\n",
            "Epochs 1/1. Running Loss:    4.4868:   2%|       | 16/1032 [02:11<2:25:23,  8.59s/it]\u001b[A\n",
            "Epochs 1/1. Running Loss:    4.4779:   2%|       | 16/1032 [02:15<2:25:23,  8.59s/it]\u001b[A\n",
            "Epochs 1/1. Running Loss:    4.4779:   2%|       | 17/1032 [02:19<2:23:07,  8.46s/it]\u001b[A\n",
            "Epochs 1/1. Running Loss:    4.3624:   2%|       | 17/1032 [02:24<2:23:07,  8.46s/it]\u001b[A\n",
            "Epochs 1/1. Running Loss:    4.3624:   2%|       | 18/1032 [02:31<2:39:28,  9.44s/it]\u001b[A\n",
            "Epochs 1/1. Running Loss:    4.3981:   2%|       | 18/1032 [02:35<2:39:28,  9.44s/it]\u001b[A\n",
            "Epochs 1/1. Running Loss:    4.3981:   2%|▏      | 19/1032 [02:41<2:42:12,  9.61s/it]\u001b[A\n",
            "Epochs 1/1. Running Loss:    4.3052:   2%|▏      | 19/1032 [02:45<2:42:12,  9.61s/it]\u001b[A\n",
            "Epochs 1/1. Running Loss:    4.3052:   2%|▏      | 20/1032 [02:52<2:47:16,  9.92s/it]\u001b[A\n",
            "Epochs 1/1. Running Loss:    4.2349:   2%|▏      | 20/1032 [02:54<2:47:16,  9.92s/it]\u001b[A\n",
            "Epochs 1/1. Running Loss:    4.2349:   2%|▏      | 21/1032 [03:00<2:38:57,  9.43s/it]\u001b[A\n",
            "Epochs 1/1. Running Loss:    4.1958:   2%|▏      | 21/1032 [03:03<2:38:57,  9.43s/it]\u001b[A\n",
            "Epochs 1/1. Running Loss:    4.1958:   2%|▏      | 22/1032 [03:08<2:32:40,  9.07s/it]\u001b[A\n",
            "Epochs 1/1. Running Loss:    3.9686:   2%|▏      | 22/1032 [03:11<2:32:40,  9.07s/it]\u001b[A\n",
            "Epochs 1/1. Running Loss:    3.9686:   2%|▏      | 23/1032 [03:17<2:31:11,  8.99s/it]\u001b[A\n",
            "Epochs 1/1. Running Loss:    4.0214:   2%|▏      | 23/1032 [03:22<2:31:11,  8.99s/it]\u001b[A\n",
            "Epochs 1/1. Running Loss:    4.0214:   2%|▏      | 24/1032 [03:29<2:44:41,  9.80s/it]\u001b[A\n",
            "Epochs 1/1. Running Loss:    3.8864:   2%|▏      | 24/1032 [03:32<2:44:41,  9.80s/it]\u001b[A\n",
            "Epochs 1/1. Running Loss:    3.8864:   2%|▏      | 25/1032 [03:39<2:44:01,  9.77s/it]\u001b[A\n",
            "Epochs 1/1. Running Loss:    3.8212:   2%|▏      | 25/1032 [03:42<2:44:01,  9.77s/it]\u001b[A\n",
            "Epochs 1/1. Running Loss:    3.8212:   3%|▏      | 26/1032 [03:49<2:45:53,  9.89s/it]\u001b[A\n",
            "Epochs 1/1. Running Loss:    3.5692:   3%|▏      | 26/1032 [03:51<2:45:53,  9.89s/it]\u001b[A\n",
            "Epochs 1/1. Running Loss:    3.5692:   3%|▏      | 27/1032 [03:57<2:39:44,  9.54s/it]\u001b[A\n",
            "Epochs 1/1. Running Loss:    3.5408:   3%|▏      | 27/1032 [04:01<2:39:44,  9.54s/it]\u001b[A\n",
            "Epochs 1/1. Running Loss:    3.5408:   3%|▏      | 28/1032 [04:05<2:31:56,  9.08s/it]\u001b[A\n",
            "Epochs 1/1. Running Loss:    3.2096:   3%|▏      | 28/1032 [04:09<2:31:56,  9.08s/it]\u001b[A\n",
            "Epochs 1/1. Running Loss:    3.2096:   3%|▏      | 29/1032 [04:17<2:45:26,  9.90s/it]\u001b[A\n",
            "Epochs 1/1. Running Loss:    3.1942:   3%|▏      | 29/1032 [04:20<2:45:26,  9.90s/it]\u001b[A\n",
            "Epochs 1/1. Running Loss:    3.1942:   3%|▏      | 30/1032 [04:27<2:43:15,  9.78s/it]\u001b[A\n",
            "Epochs 1/1. Running Loss:    2.8407:   3%|▏      | 30/1032 [04:30<2:43:15,  9.78s/it]\u001b[A\n",
            "Epochs 1/1. Running Loss:    2.8407:   3%|▏      | 31/1032 [04:35<2:35:51,  9.34s/it]\u001b[A\n",
            "Epochs 1/1. Running Loss:    2.8230:   3%|▏      | 31/1032 [04:38<2:35:51,  9.34s/it]\u001b[A\n",
            "Epochs 1/1. Running Loss:    2.8230:   3%|▏      | 32/1032 [04:45<2:39:39,  9.58s/it]\u001b[A\n",
            "Epochs 1/1. Running Loss:    2.5467:   3%|▏      | 32/1032 [04:48<2:39:39,  9.58s/it]\u001b[A\n",
            "Epochs 1/1. Running Loss:    2.5467:   3%|▏      | 33/1032 [04:54<2:36:00,  9.37s/it]\u001b[A\n",
            "Epochs 1/1. Running Loss:    2.0845:   3%|▏      | 33/1032 [04:57<2:36:00,  9.37s/it]\u001b[A\n",
            "Epochs 1/1. Running Loss:    2.0845:   3%|▏      | 34/1032 [05:03<2:33:29,  9.23s/it]\u001b[A\n",
            "Epochs 1/1. Running Loss:    2.0616:   3%|▏      | 34/1032 [05:06<2:33:29,  9.23s/it]\u001b[A\n",
            "Epochs 1/1. Running Loss:    2.0616:   3%|▏      | 35/1032 [05:11<2:27:16,  8.86s/it]\u001b[A\n",
            "Epochs 1/1. Running Loss:    1.6371:   3%|▏      | 35/1032 [05:13<2:27:16,  8.86s/it]\u001b[A\n",
            "Epochs 1/1. Running Loss:    1.6371:   3%|▏      | 36/1032 [05:19<2:23:32,  8.65s/it]\u001b[A\n",
            "Epochs 1/1. Running Loss:    1.5647:   3%|▏      | 36/1032 [05:22<2:23:32,  8.65s/it]\u001b[A\n",
            "Epochs 1/1. Running Loss:    1.5647:   4%|▎      | 37/1032 [05:27<2:19:58,  8.44s/it]\u001b[A\n",
            "Epochs 1/1. Running Loss:    1.5532:   4%|▎      | 37/1032 [05:30<2:19:58,  8.44s/it]\u001b[A\n",
            "Epochs 1/1. Running Loss:    1.5532:   4%|▎      | 38/1032 [05:37<2:27:07,  8.88s/it]\u001b[A\n",
            "Epochs 1/1. Running Loss:    1.1242:   4%|▎      | 38/1032 [05:40<2:27:07,  8.88s/it]\u001b[A\n",
            "Epochs 1/1. Running Loss:    1.1242:   4%|▎      | 39/1032 [05:46<2:28:03,  8.95s/it]\u001b[A\n",
            "Epochs 1/1. Running Loss:    1.5487:   4%|▎      | 39/1032 [05:49<2:28:03,  8.95s/it]\u001b[A\n",
            "Epochs 1/1. Running Loss:    1.5487:   4%|▎      | 40/1032 [05:55<2:29:14,  9.03s/it]\u001b[A\n",
            "Epochs 1/1. Running Loss:    1.2724:   4%|▎      | 40/1032 [05:58<2:29:14,  9.03s/it]\u001b[A\n",
            "Epochs 1/1. Running Loss:    1.2724:   4%|▎      | 41/1032 [06:04<2:26:24,  8.86s/it]\u001b[A\n",
            "Epochs 1/1. Running Loss:    1.1921:   4%|▎      | 41/1032 [06:07<2:26:24,  8.86s/it]\u001b[A\n",
            "Epochs 1/1. Running Loss:    1.1921:   4%|▎      | 42/1032 [06:12<2:23:12,  8.68s/it]\u001b[A\n",
            "Epochs 1/1. Running Loss:    1.4526:   4%|▎      | 42/1032 [06:15<2:23:12,  8.68s/it]\u001b[A\n",
            "Epochs 1/1. Running Loss:    1.4526:   4%|▎      | 43/1032 [06:22<2:28:50,  9.03s/it]\u001b[A\n",
            "Epochs 1/1. Running Loss:    1.6900:   4%|▎      | 43/1032 [06:25<2:28:50,  9.03s/it]\u001b[A\n",
            "Epochs 1/1. Running Loss:    1.6900:   4%|▎      | 44/1032 [06:30<2:22:52,  8.68s/it]\u001b[A\n",
            "Epochs 1/1. Running Loss:    0.4532:   4%|▎      | 44/1032 [06:33<2:22:52,  8.68s/it]\u001b[A\n",
            "Epochs 1/1. Running Loss:    0.4532:   4%|▎      | 45/1032 [06:39<2:25:25,  8.84s/it]\u001b[A\n",
            "Epochs 1/1. Running Loss:    0.4651:   4%|▎      | 45/1032 [06:42<2:25:25,  8.84s/it]\u001b[A\n",
            "Epochs 1/1. Running Loss:    0.4651:   4%|▎      | 46/1032 [06:48<2:23:55,  8.76s/it]\u001b[A\n",
            "Epochs 1/1. Running Loss:    1.6152:   4%|▎      | 46/1032 [06:50<2:23:55,  8.76s/it]\u001b[A\n",
            "Epochs 1/1. Running Loss:    1.6152:   5%|▎      | 47/1032 [06:56<2:21:21,  8.61s/it]\u001b[A\n",
            "Epochs 1/1. Running Loss:    1.0475:   5%|▎      | 47/1032 [06:59<2:21:21,  8.61s/it]\u001b[A\n",
            "Epochs 1/1. Running Loss:    1.0475:   5%|▎      | 48/1032 [07:06<2:26:55,  8.96s/it]\u001b[A\n",
            "Epochs 1/1. Running Loss:    1.3493:   5%|▎      | 48/1032 [07:09<2:26:55,  8.96s/it]\u001b[A\n",
            "Epochs 1/1. Running Loss:    1.3493:   5%|▎      | 49/1032 [07:13<2:20:54,  8.60s/it]\u001b[A\n",
            "Epochs 1/1. Running Loss:    1.2406:   5%|▎      | 49/1032 [07:16<2:20:54,  8.60s/it]\u001b[A\n",
            "Epochs 1/1. Running Loss:    1.2406:   5%|▎      | 50/1032 [07:21<2:16:45,  8.36s/it]\u001b[A\n",
            "Epochs 1/1. Running Loss:    0.9385:   5%|▎      | 50/1032 [07:24<2:16:45,  8.36s/it]\u001b[A\n",
            "Epochs 1/1. Running Loss:    0.9385:   5%|▎      | 51/1032 [07:31<2:22:34,  8.72s/it]\u001b[A\n",
            "Epochs 1/1. Running Loss:    0.5238:   5%|▎      | 51/1032 [07:34<2:22:34,  8.72s/it]\u001b[A\n",
            "Epochs 1/1. Running Loss:    0.5238:   5%|▎      | 52/1032 [07:39<2:20:48,  8.62s/it]\u001b[A\n",
            "Epochs 1/1. Running Loss:    0.7001:   5%|▎      | 52/1032 [07:42<2:20:48,  8.62s/it]\u001b[A\n",
            "Epochs 1/1. Running Loss:    0.7001:   5%|▎      | 53/1032 [07:47<2:16:56,  8.39s/it]\u001b[A\n",
            "Epochs 1/1. Running Loss:    0.7161:   5%|▎      | 53/1032 [07:49<2:16:56,  8.39s/it]\u001b[A\n",
            "Epochs 1/1. Running Loss:    0.7161:   5%|▎      | 54/1032 [07:55<2:13:36,  8.20s/it]\u001b[A\n",
            "Epochs 1/1. Running Loss:    0.4513:   5%|▎      | 54/1032 [07:58<2:13:36,  8.20s/it]\u001b[A\n",
            "Epochs 1/1. Running Loss:    0.4513:   5%|▎      | 55/1032 [08:04<2:20:58,  8.66s/it]\u001b[A\n",
            "Epochs 1/1. Running Loss:    0.2668:   5%|▎      | 55/1032 [08:08<2:20:58,  8.66s/it]\u001b[A\n",
            "Epochs 1/1. Running Loss:    0.2668:   5%|▍      | 56/1032 [08:13<2:19:17,  8.56s/it]\u001b[A\n",
            "Epochs 1/1. Running Loss:    0.7026:   5%|▍      | 56/1032 [08:16<2:19:17,  8.56s/it]\u001b[A\n",
            "Epochs 1/1. Running Loss:    0.7026:   6%|▍      | 57/1032 [08:22<2:22:19,  8.76s/it]\u001b[A\n",
            "Epochs 1/1. Running Loss:    0.2330:   6%|▍      | 57/1032 [08:25<2:22:19,  8.76s/it]\u001b[A\n",
            "Epochs 1/1. Running Loss:    0.2330:   6%|▍      | 58/1032 [08:30<2:17:53,  8.49s/it]\u001b[A\n",
            "Epochs 1/1. Running Loss:    0.5100:   6%|▍      | 58/1032 [08:32<2:17:53,  8.49s/it]\u001b[A\n",
            "Epochs 1/1. Running Loss:    0.5100:   6%|▍      | 59/1032 [08:39<2:21:13,  8.71s/it]\u001b[A\n",
            "Epochs 1/1. Running Loss:    0.7956:   6%|▍      | 59/1032 [08:42<2:21:13,  8.71s/it]\u001b[A\n",
            "Epochs 1/1. Running Loss:    0.7956:   6%|▍      | 60/1032 [08:48<2:21:42,  8.75s/it]\u001b[A\n",
            "Epochs 1/1. Running Loss:    1.0688:   6%|▍      | 60/1032 [08:51<2:21:42,  8.75s/it]\u001b[A\n",
            "Epochs 1/1. Running Loss:    1.0688:   6%|▍      | 61/1032 [08:57<2:22:06,  8.78s/it]\u001b[A\n",
            "Epochs 1/1. Running Loss:    0.2460:   6%|▍      | 61/1032 [09:00<2:22:06,  8.78s/it]\u001b[A\n",
            "Epochs 1/1. Running Loss:    0.2460:   6%|▍      | 62/1032 [09:06<2:22:02,  8.79s/it]\u001b[A\n",
            "Epochs 1/1. Running Loss:    0.7634:   6%|▍      | 62/1032 [09:09<2:22:02,  8.79s/it]\u001b[A\n",
            "Epochs 1/1. Running Loss:    0.7634:   6%|▍      | 63/1032 [09:14<2:20:02,  8.67s/it]\u001b[A\n",
            "Epochs 1/1. Running Loss:    1.2155:   6%|▍      | 63/1032 [09:17<2:20:02,  8.67s/it]\u001b[A\n",
            "Epochs 1/1. Running Loss:    1.2155:   6%|▍      | 64/1032 [09:24<2:24:17,  8.94s/it]\u001b[A\n",
            "Epochs 1/1. Running Loss:    0.3108:   6%|▍      | 64/1032 [09:26<2:24:17,  8.94s/it]\u001b[A\n",
            "Epochs 1/1. Running Loss:    0.3108:   6%|▍      | 65/1032 [09:32<2:20:07,  8.69s/it]\u001b[A\n",
            "Epochs 1/1. Running Loss:    0.4552:   6%|▍      | 65/1032 [09:34<2:20:07,  8.69s/it]\u001b[A\n",
            "Epochs 1/1. Running Loss:    0.4552:   6%|▍      | 66/1032 [09:40<2:20:17,  8.71s/it]\u001b[A\n",
            "Epochs 1/1. Running Loss:    0.3734:   6%|▍      | 66/1032 [09:44<2:20:17,  8.71s/it]\u001b[A\n",
            "Epochs 1/1. Running Loss:    0.3734:   6%|▍      | 67/1032 [09:50<2:26:01,  9.08s/it]\u001b[A\n",
            "Epochs 1/1. Running Loss:    0.5558:   6%|▍      | 67/1032 [09:53<2:26:01,  9.08s/it]\u001b[A\n",
            "Epochs 1/1. Running Loss:    0.5558:   7%|▍      | 68/1032 [09:59<2:23:14,  8.92s/it]\u001b[A\n",
            "Epochs 1/1. Running Loss:    0.2461:   7%|▍      | 68/1032 [10:01<2:23:14,  8.92s/it]\u001b[A\n",
            "Epochs 1/1. Running Loss:    0.2461:   7%|▍      | 69/1032 [10:06<2:16:51,  8.53s/it]\u001b[A\n",
            "Epochs 1/1. Running Loss:    0.4751:   7%|▍      | 69/1032 [10:09<2:16:51,  8.53s/it]\u001b[A\n",
            "Epochs 1/1. Running Loss:    0.4751:   7%|▍      | 70/1032 [10:15<2:18:10,  8.62s/it]\u001b[A\n",
            "Epochs 1/1. Running Loss:    0.3351:   7%|▍      | 70/1032 [10:19<2:18:10,  8.62s/it]\u001b[A\n",
            "Epochs 1/1. Running Loss:    0.3351:   7%|▍      | 71/1032 [10:25<2:23:57,  8.99s/it]\u001b[A\n",
            "Epochs 1/1. Running Loss:    0.3160:   7%|▍      | 71/1032 [10:28<2:23:57,  8.99s/it]\u001b[A\n",
            "Epochs 1/1. Running Loss:    0.3160:   7%|▍      | 72/1032 [10:33<2:18:46,  8.67s/it]\u001b[A\n",
            "Epochs 1/1. Running Loss:    0.1258:   7%|▍      | 72/1032 [10:36<2:18:46,  8.67s/it]\u001b[A\n",
            "Epochs 1/1. Running Loss:    0.1258:   7%|▍      | 73/1032 [10:42<2:21:16,  8.84s/it]\u001b[A\n",
            "Epochs 1/1. Running Loss:    0.4850:   7%|▍      | 73/1032 [10:46<2:21:16,  8.84s/it]\u001b[A\n",
            "Epochs 1/1. Running Loss:    0.4850:   7%|▌      | 74/1032 [10:51<2:21:18,  8.85s/it]\u001b[A\n",
            "Epochs 1/1. Running Loss:    0.3503:   7%|▌      | 74/1032 [10:55<2:21:18,  8.85s/it]\u001b[A\n",
            "Epochs 1/1. Running Loss:    0.3503:   7%|▌      | 75/1032 [11:01<2:25:23,  9.12s/it]\u001b[A\n",
            "Epochs 1/1. Running Loss:    0.4835:   7%|▌      | 75/1032 [11:04<2:25:23,  9.12s/it]\u001b[A\n",
            "Epochs 1/1. Running Loss:    0.4835:   7%|▌      | 76/1032 [11:10<2:25:17,  9.12s/it]\u001b[A\n",
            "Epochs 1/1. Running Loss:    0.4864:   7%|▌      | 76/1032 [11:13<2:25:17,  9.12s/it]\u001b[A\n",
            "Epochs 1/1. Running Loss:    0.4864:   7%|▌      | 77/1032 [11:18<2:21:29,  8.89s/it]\u001b[A\n",
            "Epochs 1/1. Running Loss:    0.2578:   7%|▌      | 77/1032 [11:21<2:21:29,  8.89s/it]\u001b[A\n",
            "Epochs 1/1. Running Loss:    0.2578:   8%|▌      | 78/1032 [11:28<2:23:20,  9.02s/it]\u001b[A\n",
            "Epochs 1/1. Running Loss:    0.4334:   8%|▌      | 78/1032 [11:31<2:23:20,  9.02s/it]\u001b[A\n",
            "Epochs 1/1. Running Loss:    0.4334:   8%|▌      | 79/1032 [11:36<2:20:12,  8.83s/it]\u001b[A\n",
            "Epochs 1/1. Running Loss:    0.3118:   8%|▌      | 79/1032 [11:39<2:20:12,  8.83s/it]\u001b[A\n",
            "Epochs 1/1. Running Loss:    0.3118:   8%|▌      | 80/1032 [11:46<2:24:44,  9.12s/it]\u001b[A\n",
            "Epochs 1/1. Running Loss:    0.4575:   8%|▌      | 80/1032 [11:48<2:24:44,  9.12s/it]\u001b[A\n",
            "Epochs 1/1. Running Loss:    0.4575:   8%|▌      | 81/1032 [11:54<2:20:57,  8.89s/it]\u001b[A\n",
            "Epochs 1/1. Running Loss:    0.2628:   8%|▌      | 81/1032 [11:58<2:20:57,  8.89s/it]\u001b[A\n",
            "Epochs 1/1. Running Loss:    0.2628:   8%|▌      | 82/1032 [12:04<2:26:46,  9.27s/it]\u001b[A\n",
            "Epochs 1/1. Running Loss:    0.2925:   8%|▌      | 82/1032 [12:08<2:26:46,  9.27s/it]\u001b[A\n",
            "Epochs 1/1. Running Loss:    0.2925:   8%|▌      | 83/1032 [12:13<2:24:41,  9.15s/it]\u001b[A\n",
            "Epochs 1/1. Running Loss:    0.1636:   8%|▌      | 83/1032 [12:17<2:24:41,  9.15s/it]\u001b[A\n",
            "Epochs 1/1. Running Loss:    0.1636:   8%|▌      | 84/1032 [12:22<2:23:07,  9.06s/it]\u001b[A\n",
            "Epochs 1/1. Running Loss:    0.5645:   8%|▌      | 84/1032 [12:26<2:23:07,  9.06s/it]\u001b[A\n",
            "Epochs 1/1. Running Loss:    0.5645:   8%|▌      | 85/1032 [12:31<2:21:27,  8.96s/it]\u001b[A\n",
            "Epochs 1/1. Running Loss:    0.5666:   8%|▌      | 85/1032 [12:34<2:21:27,  8.96s/it]\u001b[A\n",
            "Epochs 1/1. Running Loss:    0.5666:   8%|▌      | 86/1032 [12:41<2:25:32,  9.23s/it]\u001b[A\n",
            "Epochs 1/1. Running Loss:    0.3416:   8%|▌      | 86/1032 [12:44<2:25:32,  9.23s/it]\u001b[A\n",
            "Epochs 1/1. Running Loss:    0.3416:   8%|▌      | 87/1032 [12:49<2:20:25,  8.92s/it]\u001b[A\n",
            "Epochs 1/1. Running Loss:    0.3516:   8%|▌      | 87/1032 [12:51<2:20:25,  8.92s/it]\u001b[A\n",
            "Epochs 1/1. Running Loss:    0.3516:   9%|▌      | 88/1032 [12:57<2:16:58,  8.71s/it]\u001b[A\n",
            "Epochs 1/1. Running Loss:    0.4251:   9%|▌      | 88/1032 [13:00<2:16:58,  8.71s/it]\u001b[A\n",
            "Epochs 1/1. Running Loss:    0.4251:   9%|▌      | 89/1032 [13:05<2:14:46,  8.58s/it]\u001b[A\n",
            "Epochs 1/1. Running Loss:    0.4916:   9%|▌      | 89/1032 [13:09<2:14:46,  8.58s/it]\u001b[A\n",
            "Epochs 1/1. Running Loss:    0.4916:   9%|▌      | 90/1032 [13:15<2:21:11,  8.99s/it]\u001b[A\n",
            "Epochs 1/1. Running Loss:    0.5472:   9%|▌      | 90/1032 [13:19<2:21:11,  8.99s/it]\u001b[A\n",
            "Epochs 1/1. Running Loss:    0.5472:   9%|▌      | 91/1032 [13:25<2:26:09,  9.32s/it]\u001b[A\n",
            "Epochs 1/1. Running Loss:    0.4094:   9%|▌      | 91/1032 [13:29<2:26:09,  9.32s/it]\u001b[A\n",
            "Epochs 1/1. Running Loss:    0.4094:   9%|▌      | 92/1032 [13:35<2:26:32,  9.35s/it]\u001b[A\n",
            "Epochs 1/1. Running Loss:    0.2668:   9%|▌      | 92/1032 [13:37<2:26:32,  9.35s/it]\u001b[A\n",
            "Epochs 1/1. Running Loss:    0.2668:   9%|▋      | 93/1032 [13:43<2:22:18,  9.09s/it]\u001b[A\n",
            "Epochs 1/1. Running Loss:    0.2163:   9%|▋      | 93/1032 [13:47<2:22:18,  9.09s/it]\u001b[A\n",
            "Epochs 1/1. Running Loss:    0.2163:   9%|▋      | 94/1032 [13:53<2:25:45,  9.32s/it]\u001b[A\n",
            "Epochs 1/1. Running Loss:    0.3009:   9%|▋      | 94/1032 [13:57<2:25:45,  9.32s/it]\u001b[A\n",
            "Epochs 1/1. Running Loss:    0.3009:   9%|▋      | 95/1032 [14:02<2:23:35,  9.20s/it]\u001b[A\n",
            "Epochs 1/1. Running Loss:    0.2504:   9%|▋      | 95/1032 [14:05<2:23:35,  9.20s/it]\u001b[A\n",
            "Epochs 1/1. Running Loss:    0.2504:   9%|▋      | 96/1032 [14:10<2:18:36,  8.89s/it]\u001b[A\n",
            "Epochs 1/1. Running Loss:    0.3026:   9%|▋      | 96/1032 [14:13<2:18:36,  8.89s/it]\u001b[A\n",
            "Epochs 1/1. Running Loss:    0.3026:   9%|▋      | 97/1032 [14:19<2:17:54,  8.85s/it]\u001b[A\n",
            "Epochs 1/1. Running Loss:    0.3878:   9%|▋      | 97/1032 [14:22<2:17:54,  8.85s/it]\u001b[A\n",
            "Epochs 1/1. Running Loss:    0.3878:   9%|▋      | 98/1032 [14:29<2:22:41,  9.17s/it]\u001b[A\n",
            "Epochs 1/1. Running Loss:    0.3068:   9%|▋      | 98/1032 [14:32<2:22:41,  9.17s/it]\u001b[A\n",
            "Epochs 1/1. Running Loss:    0.3068:  10%|▋      | 99/1032 [14:38<2:23:55,  9.26s/it]\u001b[A\n",
            "Epochs 1/1. Running Loss:    0.3301:  10%|▋      | 99/1032 [14:41<2:23:55,  9.26s/it]\u001b[A\n",
            "Epochs 1/1. Running Loss:    0.3301:  10%|▌     | 100/1032 [14:46<2:17:52,  8.88s/it]\u001b[A\n",
            "Epochs 1/1. Running Loss:    0.5669:  10%|▌     | 100/1032 [14:49<2:17:52,  8.88s/it]\u001b[A\n",
            "Epochs 1/1. Running Loss:    0.5669:  10%|▌     | 101/1032 [14:55<2:17:47,  8.88s/it]\u001b[A\n",
            "Epochs 1/1. Running Loss:    0.1236:  10%|▌     | 101/1032 [14:59<2:17:47,  8.88s/it]\u001b[A\n",
            "Epochs 1/1. Running Loss:    0.1236:  10%|▌     | 102/1032 [15:05<2:21:49,  9.15s/it]\u001b[A\n",
            "Epochs 1/1. Running Loss:    0.0807:  10%|▌     | 102/1032 [15:08<2:21:49,  9.15s/it]\u001b[A\n",
            "Epochs 1/1. Running Loss:    0.0807:  10%|▌     | 103/1032 [15:15<2:23:19,  9.26s/it]\u001b[A\n",
            "Epochs 1/1. Running Loss:    0.5613:  10%|▌     | 103/1032 [15:18<2:23:19,  9.26s/it]\u001b[A\n",
            "Epochs 1/1. Running Loss:    0.5613:  10%|▌     | 104/1032 [15:23<2:19:45,  9.04s/it]\u001b[A\n",
            "Epochs 1/1. Running Loss:    0.2285:  10%|▌     | 104/1032 [15:26<2:19:45,  9.04s/it]\u001b[A\n",
            "Epochs 1/1. Running Loss:    0.2285:  10%|▌     | 105/1032 [15:33<2:21:14,  9.14s/it]\u001b[A\n",
            "Epochs 1/1. Running Loss:    0.3547:  10%|▌     | 105/1032 [15:36<2:21:14,  9.14s/it]\u001b[A\n",
            "Epochs 1/1. Running Loss:    0.3547:  10%|▌     | 106/1032 [15:42<2:21:17,  9.15s/it]\u001b[A\n",
            "Epochs 1/1. Running Loss:    0.3523:  10%|▌     | 106/1032 [15:45<2:21:17,  9.15s/it]\u001b[A\n",
            "Epochs 1/1. Running Loss:    0.3523:  10%|▌     | 107/1032 [15:51<2:22:28,  9.24s/it]\u001b[A\n",
            "Epochs 1/1. Running Loss:    0.3586:  10%|▌     | 107/1032 [15:54<2:22:28,  9.24s/it]\u001b[A\n",
            "Epochs 1/1. Running Loss:    0.3586:  10%|▋     | 108/1032 [16:00<2:21:23,  9.18s/it]\u001b[A\n",
            "Epochs 1/1. Running Loss:    0.1206:  10%|▋     | 108/1032 [16:03<2:21:23,  9.18s/it]\u001b[A\n",
            "Epochs 1/1. Running Loss:    0.1206:  11%|▋     | 109/1032 [16:08<2:16:24,  8.87s/it]\u001b[A\n",
            "Epochs 1/1. Running Loss:    0.3529:  11%|▋     | 109/1032 [16:11<2:16:24,  8.87s/it]\u001b[A\n",
            "Epochs 1/1. Running Loss:    0.3529:  11%|▋     | 110/1032 [16:18<2:20:00,  9.11s/it]\u001b[A\n",
            "Epochs 1/1. Running Loss:    0.1631:  11%|▋     | 110/1032 [16:21<2:20:00,  9.11s/it]\u001b[A\n",
            "Epochs 1/1. Running Loss:    0.1631:  11%|▋     | 111/1032 [16:28<2:23:39,  9.36s/it]\u001b[A\n",
            "Epochs 1/1. Running Loss:    0.4004:  11%|▋     | 111/1032 [16:31<2:23:39,  9.36s/it]\u001b[A\n",
            "Epochs 1/1. Running Loss:    0.4004:  11%|▋     | 112/1032 [16:37<2:20:54,  9.19s/it]\u001b[A\n",
            "Epochs 1/1. Running Loss:    0.2430:  11%|▋     | 112/1032 [16:40<2:20:54,  9.19s/it]\u001b[A\n",
            "Epochs 1/1. Running Loss:    0.2430:  11%|▋     | 113/1032 [16:47<2:24:07,  9.41s/it]\u001b[A\n",
            "Epochs 1/1. Running Loss:    0.2939:  11%|▋     | 113/1032 [16:49<2:24:07,  9.41s/it]\u001b[A\n",
            "Epochs 1/1. Running Loss:    0.2939:  11%|▋     | 114/1032 [16:55<2:17:51,  9.01s/it]\u001b[A\n",
            "Epochs 1/1. Running Loss:    0.5370:  11%|▋     | 114/1032 [16:58<2:17:51,  9.01s/it]\u001b[A\n",
            "Epochs 1/1. Running Loss:    0.5370:  11%|▋     | 115/1032 [17:05<2:22:09,  9.30s/it]\u001b[A\n",
            "Epochs 1/1. Running Loss:    0.1693:  11%|▋     | 115/1032 [17:08<2:22:09,  9.30s/it]\u001b[A\n",
            "Epochs 1/1. Running Loss:    0.1693:  11%|▋     | 116/1032 [17:14<2:21:16,  9.25s/it]\u001b[A\n",
            "Epochs 1/1. Running Loss:    0.0701:  11%|▋     | 116/1032 [17:17<2:21:16,  9.25s/it]\u001b[A\n",
            "Epochs 1/1. Running Loss:    0.0701:  11%|▋     | 117/1032 [17:23<2:22:12,  9.32s/it]\u001b[A\n",
            "Epochs 1/1. Running Loss:    0.5213:  11%|▋     | 117/1032 [17:26<2:22:12,  9.32s/it]\u001b[A\n",
            "Epochs 1/1. Running Loss:    0.5213:  11%|▋     | 118/1032 [17:33<2:21:36,  9.30s/it]\u001b[A\n",
            "Epochs 1/1. Running Loss:    0.4497:  11%|▋     | 118/1032 [17:36<2:21:36,  9.30s/it]\u001b[A\n",
            "Epochs 1/1. Running Loss:    0.4497:  12%|▋     | 119/1032 [17:41<2:18:25,  9.10s/it]\u001b[A\n",
            "Epochs 1/1. Running Loss:    1.0282:  12%|▋     | 119/1032 [17:44<2:18:25,  9.10s/it]\u001b[A\n",
            "Epochs 1/1. Running Loss:    1.0282:  12%|▋     | 120/1032 [17:49<2:13:29,  8.78s/it]\u001b[A\n",
            "Epochs 1/1. Running Loss:    0.6522:  12%|▋     | 120/1032 [17:52<2:13:29,  8.78s/it]\u001b[A\n",
            "Epochs 1/1. Running Loss:    0.6522:  12%|▋     | 121/1032 [17:58<2:11:36,  8.67s/it]\u001b[A\n",
            "Epochs 1/1. Running Loss:    0.2189:  12%|▋     | 121/1032 [18:01<2:11:36,  8.67s/it]\u001b[A\n",
            "Epochs 1/1. Running Loss:    0.2189:  12%|▋     | 122/1032 [18:08<2:17:09,  9.04s/it]\u001b[A\n",
            "Epochs 1/1. Running Loss:    0.7733:  12%|▋     | 122/1032 [18:10<2:17:09,  9.04s/it]\u001b[A\n",
            "Epochs 1/1. Running Loss:    0.7733:  12%|▋     | 123/1032 [18:17<2:17:24,  9.07s/it]\u001b[A\n",
            "Epochs 1/1. Running Loss:    0.3651:  12%|▋     | 123/1032 [18:20<2:17:24,  9.07s/it]\u001b[A\n",
            "Epochs 1/1. Running Loss:    0.3651:  12%|▋     | 124/1032 [18:27<2:22:21,  9.41s/it]\u001b[A\n",
            "Epochs 1/1. Running Loss:    0.5124:  12%|▋     | 124/1032 [18:30<2:22:21,  9.41s/it]\u001b[A\n",
            "Epochs 1/1. Running Loss:    0.5124:  12%|▋     | 125/1032 [18:36<2:21:12,  9.34s/it]\u001b[A\n",
            "Epochs 1/1. Running Loss:    0.2271:  12%|▋     | 125/1032 [18:39<2:21:12,  9.34s/it]\u001b[A\n",
            "Epochs 1/1. Running Loss:    0.2271:  12%|▋     | 126/1032 [18:46<2:23:56,  9.53s/it]\u001b[A\n",
            "Epochs 1/1. Running Loss:    0.1883:  12%|▋     | 126/1032 [18:49<2:23:56,  9.53s/it]\u001b[A\n",
            "Epochs 1/1. Running Loss:    0.1883:  12%|▋     | 127/1032 [18:54<2:16:45,  9.07s/it]\u001b[A\n",
            "Epochs 1/1. Running Loss:    0.0816:  12%|▋     | 127/1032 [18:57<2:16:45,  9.07s/it]\u001b[A\n",
            "Epochs 1/1. Running Loss:    0.0816:  12%|▋     | 128/1032 [19:03<2:16:10,  9.04s/it]\u001b[A\n",
            "Epochs 1/1. Running Loss:    0.1611:  12%|▋     | 128/1032 [19:06<2:16:10,  9.04s/it]\u001b[A\n",
            "Epochs 1/1. Running Loss:    0.1611:  12%|▊     | 129/1032 [19:13<2:19:56,  9.30s/it]\u001b[A\n",
            "Epochs 1/1. Running Loss:    0.0885:  12%|▊     | 129/1032 [19:16<2:19:56,  9.30s/it]\u001b[A\n",
            "Epochs 1/1. Running Loss:    0.0885:  13%|▊     | 130/1032 [19:23<2:22:56,  9.51s/it]\u001b[A\n",
            "Epochs 1/1. Running Loss:    0.3740:  13%|▊     | 130/1032 [19:26<2:22:56,  9.51s/it]\u001b[A\n",
            "Epochs 1/1. Running Loss:    0.3740:  13%|▊     | 131/1032 [19:32<2:19:42,  9.30s/it]\u001b[A\n",
            "Epochs 1/1. Running Loss:    0.0985:  13%|▊     | 131/1032 [19:35<2:19:42,  9.30s/it]\u001b[A\n",
            "Epochs 1/1. Running Loss:    0.0985:  13%|▊     | 132/1032 [19:42<2:22:39,  9.51s/it]\u001b[A\n",
            "Epochs 1/1. Running Loss:    0.2972:  13%|▊     | 132/1032 [19:45<2:22:39,  9.51s/it]\u001b[A\n",
            "Epochs 1/1. Running Loss:    0.2972:  13%|▊     | 133/1032 [19:51<2:22:39,  9.52s/it]\u001b[A\n",
            "Epochs 1/1. Running Loss:    0.0952:  13%|▊     | 133/1032 [19:54<2:22:39,  9.52s/it]\u001b[A\n",
            "Epochs 1/1. Running Loss:    0.0952:  13%|▊     | 134/1032 [19:59<2:15:09,  9.03s/it]\u001b[A\n",
            "Epochs 1/1. Running Loss:    0.1811:  13%|▊     | 134/1032 [20:02<2:15:09,  9.03s/it]\u001b[A\n",
            "Epochs 1/1. Running Loss:    0.1811:  13%|▊     | 135/1032 [20:07<2:10:13,  8.71s/it]\u001b[A\n",
            "Epochs 1/1. Running Loss:    0.1144:  13%|▊     | 135/1032 [20:10<2:10:13,  8.71s/it]\u001b[A\n",
            "Epochs 1/1. Running Loss:    0.1144:  13%|▊     | 136/1032 [20:16<2:13:00,  8.91s/it]\u001b[A\n",
            "Epochs 1/1. Running Loss:    0.1235:  13%|▊     | 136/1032 [20:20<2:13:00,  8.91s/it]\u001b[A\n",
            "Epochs 1/1. Running Loss:    0.1235:  13%|▊     | 137/1032 [20:27<2:17:53,  9.24s/it]\u001b[A\n",
            "Epochs 1/1. Running Loss:    0.1054:  13%|▊     | 137/1032 [20:30<2:17:53,  9.24s/it]\u001b[A\n",
            "Epochs 1/1. Running Loss:    0.1054:  13%|▊     | 138/1032 [20:37<2:21:06,  9.47s/it]\u001b[A\n",
            "Epochs 1/1. Running Loss:    0.6394:  13%|▊     | 138/1032 [20:40<2:21:06,  9.47s/it]\u001b[A\n",
            "Epochs 1/1. Running Loss:    0.6394:  13%|▊     | 139/1032 [20:47<2:23:22,  9.63s/it]\u001b[A\n",
            "Epochs 1/1. Running Loss:    0.5501:  13%|▊     | 139/1032 [20:50<2:23:22,  9.63s/it]\u001b[A\n",
            "Epochs 1/1. Running Loss:    0.5501:  14%|▊     | 140/1032 [20:56<2:20:34,  9.46s/it]\u001b[A\n",
            "Epochs 1/1. Running Loss:    0.7264:  14%|▊     | 140/1032 [20:58<2:20:34,  9.46s/it]\u001b[A\n",
            "Epochs 1/1. Running Loss:    0.7264:  14%|▊     | 141/1032 [21:05<2:19:55,  9.42s/it]\u001b[A\n",
            "Epochs 1/1. Running Loss:    0.3253:  14%|▊     | 141/1032 [21:08<2:19:55,  9.42s/it]\u001b[A\n",
            "Epochs 1/1. Running Loss:    0.3253:  14%|▊     | 142/1032 [21:15<2:22:33,  9.61s/it]\u001b[A\n",
            "Epochs 1/1. Running Loss:    0.4637:  14%|▊     | 142/1032 [21:18<2:22:33,  9.61s/it]\u001b[A\n",
            "Epochs 1/1. Running Loss:    0.4637:  14%|▊     | 143/1032 [21:25<2:23:56,  9.71s/it]\u001b[A\n",
            "Epochs 1/1. Running Loss:    0.3809:  14%|▊     | 143/1032 [21:28<2:23:56,  9.71s/it]\u001b[A\n",
            "Epochs 1/1. Running Loss:    0.3809:  14%|▊     | 144/1032 [21:34<2:22:34,  9.63s/it]\u001b[A\n",
            "Epochs 1/1. Running Loss:    0.1681:  14%|▊     | 144/1032 [21:38<2:22:34,  9.63s/it]\u001b[A\n",
            "Epochs 1/1. Running Loss:    0.1681:  14%|▊     | 145/1032 [21:43<2:18:47,  9.39s/it]\u001b[A\n",
            "Epochs 1/1. Running Loss:    0.0454:  14%|▊     | 145/1032 [21:46<2:18:47,  9.39s/it]\u001b[A\n",
            "Epochs 1/1. Running Loss:    0.0454:  14%|▊     | 146/1032 [21:51<2:12:15,  8.96s/it]\u001b[A\n",
            "Epochs 1/1. Running Loss:    0.0536:  14%|▊     | 146/1032 [21:54<2:12:15,  8.96s/it]\u001b[A\n",
            "Epochs 1/1. Running Loss:    0.0536:  14%|▊     | 147/1032 [22:00<2:10:05,  8.82s/it]\u001b[A\n",
            "Epochs 1/1. Running Loss:    0.1348:  14%|▊     | 147/1032 [22:03<2:10:05,  8.82s/it]\u001b[A\n",
            "Epochs 1/1. Running Loss:    0.1348:  14%|▊     | 148/1032 [22:10<2:16:18,  9.25s/it]\u001b[A\n",
            "Epochs 1/1. Running Loss:    0.2312:  14%|▊     | 148/1032 [22:13<2:16:18,  9.25s/it]\u001b[A\n",
            "Epochs 1/1. Running Loss:    0.2312:  14%|▊     | 149/1032 [22:20<2:19:34,  9.48s/it]\u001b[A\n",
            "Epochs 1/1. Running Loss:    0.2231:  14%|▊     | 149/1032 [22:23<2:19:34,  9.48s/it]\u001b[A\n",
            "Epochs 1/1. Running Loss:    0.2231:  15%|▊     | 150/1032 [22:30<2:21:21,  9.62s/it]\u001b[A\n",
            "Epochs 1/1. Running Loss:    0.5826:  15%|▊     | 150/1032 [22:33<2:21:21,  9.62s/it]\u001b[A\n",
            "Epochs 1/1. Running Loss:    0.5826:  15%|▉     | 151/1032 [22:40<2:23:03,  9.74s/it]\u001b[A\n",
            "Epochs 1/1. Running Loss:    0.1066:  15%|▉     | 151/1032 [22:43<2:23:03,  9.74s/it]\u001b[A\n",
            "Epochs 1/1. Running Loss:    0.1066:  15%|▉     | 152/1032 [22:50<2:22:34,  9.72s/it]\u001b[A\n",
            "Epochs 1/1. Running Loss:    0.5111:  15%|▉     | 152/1032 [22:53<2:22:34,  9.72s/it]\u001b[A\n",
            "Epochs 1/1. Running Loss:    0.5111:  15%|▉     | 153/1032 [23:00<2:23:52,  9.82s/it]\u001b[A\n",
            "Epochs 1/1. Running Loss:    0.2510:  15%|▉     | 153/1032 [23:03<2:23:52,  9.82s/it]\u001b[A\n",
            "Epochs 1/1. Running Loss:    0.2510:  15%|▉     | 154/1032 [23:09<2:20:24,  9.59s/it]\u001b[A\n",
            "Epochs 1/1. Running Loss:    0.3277:  15%|▉     | 154/1032 [23:11<2:20:24,  9.59s/it]\u001b[A\n",
            "Epochs 1/1. Running Loss:    0.3277:  15%|▉     | 155/1032 [23:17<2:12:39,  9.08s/it]\u001b[A\n",
            "Epochs 1/1. Running Loss:    0.1856:  15%|▉     | 155/1032 [23:19<2:12:39,  9.08s/it]\u001b[A\n",
            "Epochs 1/1. Running Loss:    0.1856:  15%|▉     | 156/1032 [23:26<2:13:53,  9.17s/it]\u001b[A\n",
            "Epochs 1/1. Running Loss:    0.1374:  15%|▉     | 156/1032 [23:29<2:13:53,  9.17s/it]\u001b[A\n",
            "Epochs 1/1. Running Loss:    0.1374:  15%|▉     | 157/1032 [23:36<2:18:14,  9.48s/it]\u001b[A\n",
            "Epochs 1/1. Running Loss:    0.2394:  15%|▉     | 157/1032 [23:40<2:18:14,  9.48s/it]\u001b[A\n",
            "Epochs 1/1. Running Loss:    0.2394:  15%|▉     | 158/1032 [23:46<2:20:13,  9.63s/it]\u001b[A\n",
            "Epochs 1/1. Running Loss:    0.1736:  15%|▉     | 158/1032 [23:49<2:20:13,  9.63s/it]\u001b[A\n",
            "Epochs 1/1. Running Loss:    0.1736:  15%|▉     | 159/1032 [23:56<2:21:28,  9.72s/it]\u001b[A\n",
            "Epochs 1/1. Running Loss:    0.3609:  15%|▉     | 159/1032 [23:59<2:21:28,  9.72s/it]\u001b[A\n",
            "Epochs 1/1. Running Loss:    0.3609:  16%|▉     | 160/1032 [24:06<2:23:59,  9.91s/it]\u001b[A\n",
            "Epochs 1/1. Running Loss:    0.0689:  16%|▉     | 160/1032 [24:10<2:23:59,  9.91s/it]\u001b[A\n",
            "Epochs 1/1. Running Loss:    0.0689:  16%|▉     | 161/1032 [24:16<2:23:43,  9.90s/it]\u001b[A\n",
            "Epochs 1/1. Running Loss:    0.5662:  16%|▉     | 161/1032 [24:19<2:23:43,  9.90s/it]\u001b[A\n",
            "Epochs 1/1. Running Loss:    0.5662:  16%|▉     | 162/1032 [24:25<2:19:33,  9.62s/it]\u001b[A\n",
            "Epochs 1/1. Running Loss:    0.1115:  16%|▉     | 162/1032 [24:29<2:19:33,  9.62s/it]\u001b[A\n",
            "Epochs 1/1. Running Loss:    0.1115:  16%|▉     | 163/1032 [24:35<2:21:12,  9.75s/it]\u001b[A\n",
            "Epochs 1/1. Running Loss:    0.0886:  16%|▉     | 163/1032 [24:39<2:21:12,  9.75s/it]\u001b[A\n",
            "Epochs 1/1. Running Loss:    0.0886:  16%|▉     | 164/1032 [24:45<2:21:58,  9.81s/it]\u001b[A\n",
            "Epochs 1/1. Running Loss:    0.0786:  16%|▉     | 164/1032 [24:48<2:21:58,  9.81s/it]\u001b[A\n",
            "Epochs 1/1. Running Loss:    0.0786:  16%|▉     | 165/1032 [24:53<2:14:19,  9.30s/it]\u001b[A\n",
            "Epochs 1/1. Running Loss:    0.1363:  16%|▉     | 165/1032 [24:57<2:14:19,  9.30s/it]\u001b[A\n",
            "Epochs 1/1. Running Loss:    0.1363:  16%|▉     | 166/1032 [25:03<2:17:17,  9.51s/it]\u001b[A\n",
            "Epochs 1/1. Running Loss:    0.1345:  16%|▉     | 166/1032 [25:07<2:17:17,  9.51s/it]\u001b[A\n",
            "Epochs 1/1. Running Loss:    0.1345:  16%|▉     | 167/1032 [25:13<2:19:22,  9.67s/it]\u001b[A\n",
            "Epochs 1/1. Running Loss:    0.0529:  16%|▉     | 167/1032 [25:17<2:19:22,  9.67s/it]\u001b[A\n",
            "Epochs 1/1. Running Loss:    0.0529:  16%|▉     | 168/1032 [25:23<2:20:39,  9.77s/it]\u001b[A\n",
            "Epochs 1/1. Running Loss:    0.0445:  16%|▉     | 168/1032 [25:26<2:20:39,  9.77s/it]\u001b[A\n",
            "Epochs 1/1. Running Loss:    0.0445:  16%|▉     | 169/1032 [25:32<2:15:49,  9.44s/it]\u001b[A\n",
            "Epochs 1/1. Running Loss:    0.1137:  16%|▉     | 169/1032 [25:35<2:15:49,  9.44s/it]\u001b[A\n",
            "Epochs 1/1. Running Loss:    0.1137:  16%|▉     | 170/1032 [25:42<2:18:11,  9.62s/it]\u001b[A\n",
            "Epochs 1/1. Running Loss:    0.0464:  16%|▉     | 170/1032 [25:46<2:18:11,  9.62s/it]\u001b[A\n",
            "Epochs 1/1. Running Loss:    0.0464:  17%|▉     | 171/1032 [25:52<2:19:47,  9.74s/it]\u001b[A\n",
            "Epochs 1/1. Running Loss:    0.0369:  17%|▉     | 171/1032 [25:55<2:19:47,  9.74s/it]\u001b[A\n",
            "Epochs 1/1. Running Loss:    0.0369:  17%|█     | 172/1032 [26:01<2:16:38,  9.53s/it]\u001b[A\n",
            "Epochs 1/1. Running Loss:    0.4268:  17%|█     | 172/1032 [26:05<2:16:38,  9.53s/it]\u001b[A\n",
            "Epochs 1/1. Running Loss:    0.4268:  17%|█     | 173/1032 [26:11<2:18:33,  9.68s/it]\u001b[A\n",
            "Epochs 1/1. Running Loss:    0.0393:  17%|█     | 173/1032 [26:15<2:18:33,  9.68s/it]\u001b[A\n",
            "Epochs 1/1. Running Loss:    0.0393:  17%|█     | 174/1032 [26:21<2:19:39,  9.77s/it]\u001b[A\n",
            "Epochs 1/1. Running Loss:    0.0428:  17%|█     | 174/1032 [26:25<2:19:39,  9.77s/it]\u001b[A\n",
            "Epochs 1/1. Running Loss:    0.0428:  17%|█     | 175/1032 [26:31<2:21:08,  9.88s/it]\u001b[A\n",
            "Epochs 1/1. Running Loss:    0.1809:  17%|█     | 175/1032 [26:35<2:21:08,  9.88s/it]\u001b[A\n",
            "Epochs 1/1. Running Loss:    0.1809:  17%|█     | 176/1032 [26:41<2:18:39,  9.72s/it]\u001b[A\n",
            "Epochs 1/1. Running Loss:    0.0325:  17%|█     | 176/1032 [26:44<2:18:39,  9.72s/it]\u001b[A\n",
            "Epochs 1/1. Running Loss:    0.0325:  17%|█     | 177/1032 [26:51<2:20:28,  9.86s/it]\u001b[A\n",
            "Epochs 1/1. Running Loss:    0.1086:  17%|█     | 177/1032 [26:54<2:20:28,  9.86s/it]\u001b[A\n",
            "Epochs 1/1. Running Loss:    0.1086:  17%|█     | 178/1032 [27:01<2:22:10,  9.99s/it]\u001b[A\n",
            "Epochs 1/1. Running Loss:    0.0433:  17%|█     | 178/1032 [27:05<2:22:10,  9.99s/it]\u001b[A\n",
            "Epochs 1/1. Running Loss:    0.0433:  17%|█     | 179/1032 [27:11<2:21:00,  9.92s/it]\u001b[A\n",
            "Epochs 1/1. Running Loss:    0.0240:  17%|█     | 179/1032 [27:14<2:21:00,  9.92s/it]\u001b[A\n",
            "Epochs 1/1. Running Loss:    0.0240:  17%|█     | 180/1032 [27:20<2:15:38,  9.55s/it]\u001b[A\n",
            "Epochs 1/1. Running Loss:    0.0253:  17%|█     | 180/1032 [27:23<2:15:38,  9.55s/it]\u001b[A\n",
            "Epochs 1/1. Running Loss:    0.0253:  18%|█     | 181/1032 [27:30<2:18:12,  9.74s/it]\u001b[A\n",
            "Epochs 1/1. Running Loss:    0.0166:  18%|█     | 181/1032 [27:33<2:18:12,  9.74s/it]\u001b[A\n",
            "Epochs 1/1. Running Loss:    0.0166:  18%|█     | 182/1032 [27:40<2:20:05,  9.89s/it]\u001b[A\n",
            "Epochs 1/1. Running Loss:    0.0103:  18%|█     | 182/1032 [27:44<2:20:05,  9.89s/it]\u001b[A\n",
            "Epochs 1/1. Running Loss:    0.0103:  18%|█     | 183/1032 [27:50<2:21:37, 10.01s/it]\u001b[A\n",
            "Epochs 1/1. Running Loss:    0.0210:  18%|█     | 183/1032 [27:54<2:21:37, 10.01s/it]\u001b[A\n",
            "Epochs 1/1. Running Loss:    0.0210:  18%|█     | 184/1032 [28:00<2:20:54,  9.97s/it]\u001b[A\n",
            "Epochs 1/1. Running Loss:    0.0147:  18%|█     | 184/1032 [28:03<2:20:54,  9.97s/it]\u001b[A\n",
            "Epochs 1/1. Running Loss:    0.0147:  18%|█     | 185/1032 [28:09<2:14:27,  9.52s/it]\u001b[A\n",
            "Epochs 1/1. Running Loss:    0.0081:  18%|█     | 185/1032 [28:12<2:14:27,  9.52s/it]\u001b[A\n",
            "Epochs 1/1. Running Loss:    0.0081:  18%|█     | 186/1032 [28:19<2:16:11,  9.66s/it]\u001b[A\n",
            "Epochs 1/1. Running Loss:    0.0057:  18%|█     | 186/1032 [28:22<2:16:11,  9.66s/it]\u001b[A\n",
            "Epochs 1/1. Running Loss:    0.0057:  18%|█     | 187/1032 [28:29<2:18:55,  9.86s/it]\u001b[A\n",
            "Epochs 1/1. Running Loss:    0.2682:  18%|█     | 187/1032 [28:32<2:18:55,  9.86s/it]\u001b[A\n",
            "Epochs 1/1. Running Loss:    0.2682:  18%|█     | 188/1032 [28:39<2:20:26,  9.98s/it]\u001b[A\n",
            "Epochs 1/1. Running Loss:    0.7091:  18%|█     | 188/1032 [28:42<2:20:26,  9.98s/it]\u001b[A\n",
            "Epochs 1/1. Running Loss:    0.7091:  18%|█     | 189/1032 [28:49<2:19:52,  9.96s/it]\u001b[A\n",
            "Epochs 1/1. Running Loss:    0.0081:  18%|█     | 189/1032 [28:53<2:19:52,  9.96s/it]\u001b[A\n",
            "Epochs 1/1. Running Loss:    0.0081:  18%|█     | 190/1032 [28:59<2:20:33, 10.02s/it]\u001b[A\n",
            "Epochs 1/1. Running Loss:    0.0041:  18%|█     | 190/1032 [29:02<2:20:33, 10.02s/it]\u001b[A\n",
            "Epochs 1/1. Running Loss:    0.0041:  19%|█     | 191/1032 [29:08<2:14:08,  9.57s/it]\u001b[A\n",
            "Epochs 1/1. Running Loss:    0.0157:  19%|█     | 191/1032 [29:11<2:14:08,  9.57s/it]\u001b[A\n",
            "Epochs 1/1. Running Loss:    0.0157:  19%|█     | 192/1032 [29:18<2:16:53,  9.78s/it]\u001b[A\n",
            "Epochs 1/1. Running Loss:    0.0242:  19%|█     | 192/1032 [29:22<2:16:53,  9.78s/it]\u001b[A\n",
            "Epochs 1/1. Running Loss:    0.0242:  19%|█     | 193/1032 [29:28<2:19:21,  9.97s/it]\u001b[A\n",
            "Epochs 1/1. Running Loss:    0.0091:  19%|█     | 193/1032 [29:32<2:19:21,  9.97s/it]\u001b[A\n",
            "Epochs 1/1. Running Loss:    0.0091:  19%|█▏    | 194/1032 [29:39<2:21:30, 10.13s/it]\u001b[A\n",
            "Epochs 1/1. Running Loss:    0.0264:  19%|█▏    | 194/1032 [29:42<2:21:30, 10.13s/it]\u001b[A\n",
            "Epochs 1/1. Running Loss:    0.0264:  19%|█▏    | 195/1032 [29:48<2:18:10,  9.90s/it]\u001b[A\n",
            "Epochs 1/1. Running Loss:    0.0056:  19%|█▏    | 195/1032 [29:52<2:18:10,  9.90s/it]\u001b[A\n",
            "Epochs 1/1. Running Loss:    0.0056:  19%|█▏    | 196/1032 [29:59<2:19:12,  9.99s/it]\u001b[A\n",
            "Epochs 1/1. Running Loss:    0.0064:  19%|█▏    | 196/1032 [30:02<2:19:12,  9.99s/it]\u001b[A\n",
            "Epochs 1/1. Running Loss:    0.0064:  19%|█▏    | 197/1032 [30:09<2:20:08, 10.07s/it]\u001b[A\n",
            "Epochs 1/1. Running Loss:    0.0035:  19%|█▏    | 197/1032 [30:12<2:20:08, 10.07s/it]\u001b[A\n",
            "Epochs 1/1. Running Loss:    0.0035:  19%|█▏    | 198/1032 [30:19<2:20:46, 10.13s/it]\u001b[A\n",
            "Epochs 1/1. Running Loss:    0.0939:  19%|█▏    | 198/1032 [30:23<2:20:46, 10.13s/it]\u001b[A\n",
            "Epochs 1/1. Running Loss:    0.0939:  19%|█▏    | 199/1032 [30:30<2:21:55, 10.22s/it]\u001b[A\n",
            "Epochs 1/1. Running Loss:    0.3803:  19%|█▏    | 199/1032 [30:33<2:21:55, 10.22s/it]\u001b[A\n",
            "Epochs 1/1. Running Loss:    0.3803:  19%|█▏    | 200/1032 [30:39<2:18:17,  9.97s/it]\u001b[A\n",
            "Epochs 1/1. Running Loss:    0.0053:  19%|█▏    | 200/1032 [30:42<2:18:17,  9.97s/it]\u001b[A\n",
            "Epochs 1/1. Running Loss:    0.0053:  19%|█▏    | 201/1032 [30:49<2:18:27, 10.00s/it]\u001b[A\n",
            "Epochs 1/1. Running Loss:    0.2547:  19%|█▏    | 201/1032 [30:53<2:18:27, 10.00s/it]\u001b[A\n",
            "Epochs 1/1. Running Loss:    0.2547:  20%|█▏    | 202/1032 [30:59<2:19:23, 10.08s/it]\u001b[A\n",
            "Epochs 1/1. Running Loss:    0.0508:  20%|█▏    | 202/1032 [31:03<2:19:23, 10.08s/it]\u001b[A\n",
            "Epochs 1/1. Running Loss:    0.0508:  20%|█▏    | 203/1032 [31:10<2:20:29, 10.17s/it]\u001b[A\n",
            "Epochs 1/1. Running Loss:    0.0390:  20%|█▏    | 203/1032 [31:13<2:20:29, 10.17s/it]\u001b[A\n",
            "Epochs 1/1. Running Loss:    0.0390:  20%|█▏    | 204/1032 [31:20<2:21:11, 10.23s/it]\u001b[A\n",
            "Epochs 1/1. Running Loss:    0.0161:  20%|█▏    | 204/1032 [31:24<2:21:11, 10.23s/it]\u001b[A\n",
            "Epochs 1/1. Running Loss:    0.0161:  20%|█▏    | 205/1032 [31:29<2:17:15,  9.96s/it]\u001b[A\n",
            "Epochs 1/1. Running Loss:    0.0066:  20%|█▏    | 205/1032 [31:33<2:17:15,  9.96s/it]\u001b[A\n",
            "Epochs 1/1. Running Loss:    0.0066:  20%|█▏    | 206/1032 [31:38<2:10:58,  9.51s/it]\u001b[A\n",
            "Epochs 1/1. Running Loss:    0.0071:  20%|█▏    | 206/1032 [31:41<2:10:58,  9.51s/it]\u001b[A\n",
            "Epochs 1/1. Running Loss:    0.0071:  20%|█▏    | 207/1032 [31:48<2:13:40,  9.72s/it]\u001b[A\n",
            "Epochs 1/1. Running Loss:    0.0035:  20%|█▏    | 207/1032 [31:52<2:13:40,  9.72s/it]\u001b[A\n",
            "Epochs 1/1. Running Loss:    0.0035:  20%|█▏    | 208/1032 [31:58<2:12:46,  9.67s/it]\u001b[A\n",
            "Epochs 1/1. Running Loss:    0.0522:  20%|█▏    | 208/1032 [32:01<2:12:46,  9.67s/it]\u001b[A\n",
            "Epochs 1/1. Running Loss:    0.0522:  20%|█▏    | 209/1032 [32:08<2:14:50,  9.83s/it]\u001b[A\n",
            "Epochs 1/1. Running Loss:    0.0028:  20%|█▏    | 209/1032 [32:11<2:14:50,  9.83s/it]\u001b[A\n",
            "Epochs 1/1. Running Loss:    0.0028:  20%|█▏    | 210/1032 [32:18<2:16:39,  9.98s/it]\u001b[A\n",
            "Epochs 1/1. Running Loss:    0.4797:  20%|█▏    | 210/1032 [32:22<2:16:39,  9.98s/it]\u001b[A\n",
            "Epochs 1/1. Running Loss:    0.4797:  20%|█▏    | 211/1032 [32:28<2:17:26, 10.04s/it]\u001b[A\n",
            "Epochs 1/1. Running Loss:    0.3093:  20%|█▏    | 211/1032 [32:32<2:17:26, 10.04s/it]\u001b[A\n",
            "Epochs 1/1. Running Loss:    0.3093:  21%|█▏    | 212/1032 [32:39<2:19:57, 10.24s/it]\u001b[A\n",
            "Epochs 1/1. Running Loss:    0.0051:  21%|█▏    | 212/1032 [32:42<2:19:57, 10.24s/it]\u001b[A\n",
            "Epochs 1/1. Running Loss:    0.0051:  21%|█▏    | 213/1032 [32:49<2:19:48, 10.24s/it]\u001b[A\n",
            "Epochs 1/1. Running Loss:    0.0747:  21%|█▏    | 213/1032 [32:53<2:19:48, 10.24s/it]\u001b[A\n",
            "Epochs 1/1. Running Loss:    0.0747:  21%|█▏    | 214/1032 [33:00<2:21:42, 10.39s/it]\u001b[A\n",
            "Epochs 1/1. Running Loss:    0.0642:  21%|█▏    | 214/1032 [33:03<2:21:42, 10.39s/it]\u001b[A\n",
            "Epochs 1/1. Running Loss:    0.0642:  21%|█▎    | 215/1032 [33:10<2:20:26, 10.31s/it]\u001b[A\n",
            "Epochs 1/1. Running Loss:    0.0035:  21%|█▎    | 215/1032 [33:14<2:20:26, 10.31s/it]\u001b[A\n",
            "Epochs 1/1. Running Loss:    0.0035:  21%|█▎    | 216/1032 [33:20<2:19:26, 10.25s/it]\u001b[A\n",
            "Epochs 1/1. Running Loss:    0.0044:  21%|█▎    | 216/1032 [33:24<2:19:26, 10.25s/it]\u001b[A\n",
            "Epochs 1/1. Running Loss:    0.0044:  21%|█▎    | 217/1032 [33:29<2:14:44,  9.92s/it]\u001b[A\n",
            "Epochs 1/1. Running Loss:    0.0923:  21%|█▎    | 217/1032 [33:33<2:14:44,  9.92s/it]\u001b[A\n",
            "Epochs 1/1. Running Loss:    0.0923:  21%|█▎    | 218/1032 [33:40<2:15:37, 10.00s/it]\u001b[A\n",
            "Epochs 1/1. Running Loss:    0.3193:  21%|█▎    | 218/1032 [33:43<2:15:37, 10.00s/it]\u001b[A\n",
            "Epochs 1/1. Running Loss:    0.3193:  21%|█▎    | 219/1032 [33:48<2:09:51,  9.58s/it]\u001b[A\n",
            "Epochs 1/1. Running Loss:    0.0020:  21%|█▎    | 219/1032 [33:51<2:09:51,  9.58s/it]\u001b[A\n",
            "Epochs 1/1. Running Loss:    0.0020:  21%|█▎    | 220/1032 [33:56<2:03:07,  9.10s/it]\u001b[A\n",
            "Epochs 1/1. Running Loss:    0.0057:  21%|█▎    | 220/1032 [33:59<2:03:07,  9.10s/it]\u001b[A\n",
            "Epochs 1/1. Running Loss:    0.0057:  21%|█▎    | 221/1032 [34:05<2:01:50,  9.01s/it]\u001b[A\n",
            "Epochs 1/1. Running Loss:    0.0039:  21%|█▎    | 221/1032 [34:08<2:01:50,  9.01s/it]\u001b[A\n",
            "Epochs 1/1. Running Loss:    0.0039:  22%|█▎    | 222/1032 [34:17<2:12:27,  9.81s/it]\u001b[A\n",
            "Epochs 1/1. Running Loss:    0.0433:  22%|█▎    | 222/1032 [34:21<2:12:27,  9.81s/it]\u001b[A\n",
            "Epochs 1/1. Running Loss:    0.0433:  22%|█▎    | 223/1032 [34:27<2:15:42, 10.06s/it]\u001b[A\n",
            "Epochs 1/1. Running Loss:    0.0576:  22%|█▎    | 223/1032 [34:31<2:15:42, 10.06s/it]\u001b[A\n",
            "Epochs 1/1. Running Loss:    0.0576:  22%|█▎    | 224/1032 [34:36<2:11:18,  9.75s/it]\u001b[A\n",
            "Epochs 1/1. Running Loss:    0.0088:  22%|█▎    | 224/1032 [34:40<2:11:18,  9.75s/it]\u001b[A\n",
            "Epochs 1/1. Running Loss:    0.0088:  22%|█▎    | 225/1032 [34:46<2:12:32,  9.85s/it]\u001b[A\n",
            "Epochs 1/1. Running Loss:    0.3158:  22%|█▎    | 225/1032 [34:50<2:12:32,  9.85s/it]\u001b[A\n",
            "Epochs 1/1. Running Loss:    0.3158:  22%|█▎    | 226/1032 [34:55<2:09:09,  9.61s/it]\u001b[A\n",
            "Epochs 1/1. Running Loss:    0.5588:  22%|█▎    | 226/1032 [34:59<2:09:09,  9.61s/it]\u001b[A\n",
            "Epochs 1/1. Running Loss:    0.5588:  22%|█▎    | 227/1032 [35:06<2:12:51,  9.90s/it]\u001b[A\n",
            "Epochs 1/1. Running Loss:    0.0658:  22%|█▎    | 227/1032 [35:09<2:12:51,  9.90s/it]\u001b[A\n",
            "Epochs 1/1. Running Loss:    0.0658:  22%|█▎    | 228/1032 [35:15<2:10:54,  9.77s/it]\u001b[A\n",
            "Epochs 1/1. Running Loss:    0.0017:  22%|█▎    | 228/1032 [35:19<2:10:54,  9.77s/it]\u001b[A\n",
            "Epochs 1/1. Running Loss:    0.0017:  22%|█▎    | 229/1032 [35:26<2:12:10,  9.88s/it]\u001b[A\n",
            "Epochs 1/1. Running Loss:    0.0098:  22%|█▎    | 229/1032 [35:28<2:12:10,  9.88s/it]\u001b[A\n",
            "Epochs 1/1. Running Loss:    0.0098:  22%|█▎    | 230/1032 [35:34<2:05:42,  9.40s/it]\u001b[A\n",
            "Epochs 1/1. Running Loss:    0.0680:  22%|█▎    | 230/1032 [35:37<2:05:42,  9.40s/it]\u001b[A\n",
            "Epochs 1/1. Running Loss:    0.0680:  22%|█▎    | 231/1032 [35:43<2:04:57,  9.36s/it]\u001b[A\n",
            "Epochs 1/1. Running Loss:    0.0280:  22%|█▎    | 231/1032 [35:47<2:04:57,  9.36s/it]\u001b[A\n",
            "Epochs 1/1. Running Loss:    0.0280:  22%|█▎    | 232/1032 [35:53<2:08:13,  9.62s/it]\u001b[A\n",
            "Epochs 1/1. Running Loss:    0.0041:  22%|█▎    | 232/1032 [35:57<2:08:13,  9.62s/it]\u001b[A\n",
            "Epochs 1/1. Running Loss:    0.0041:  23%|█▎    | 233/1032 [36:03<2:10:06,  9.77s/it]\u001b[A\n",
            "Epochs 1/1. Running Loss:    0.0050:  23%|█▎    | 233/1032 [36:07<2:10:06,  9.77s/it]\u001b[A\n",
            "Epochs 1/1. Running Loss:    0.0050:  23%|█▎    | 234/1032 [36:13<2:10:11,  9.79s/it]\u001b[A\n",
            "Epochs 1/1. Running Loss:    0.8017:  23%|█▎    | 234/1032 [36:16<2:10:11,  9.79s/it]\u001b[A\n",
            "Epochs 1/1. Running Loss:    0.8017:  23%|█▎    | 235/1032 [36:23<2:08:19,  9.66s/it]\u001b[A\n",
            "Epochs 1/1. Running Loss:    0.0097:  23%|█▎    | 235/1032 [36:26<2:08:19,  9.66s/it]\u001b[A\n",
            "Epochs 1/1. Running Loss:    0.0097:  23%|█▎    | 236/1032 [36:33<2:09:57,  9.80s/it]\u001b[A\n",
            "Epochs 1/1. Running Loss:    0.0068:  23%|█▎    | 236/1032 [36:36<2:09:57,  9.80s/it]\u001b[A\n",
            "Epochs 1/1. Running Loss:    0.0068:  23%|█▍    | 237/1032 [36:43<2:10:55,  9.88s/it]\u001b[A\n",
            "Epochs 1/1. Running Loss:    0.0021:  23%|█▍    | 237/1032 [36:46<2:10:55,  9.88s/it]\u001b[A\n",
            "Epochs 1/1. Running Loss:    0.0021:  23%|█▍    | 238/1032 [36:52<2:07:38,  9.65s/it]\u001b[A\n",
            "Epochs 1/1. Running Loss:    0.0911:  23%|█▍    | 238/1032 [36:55<2:07:38,  9.65s/it]\u001b[A\n",
            "Epochs 1/1. Running Loss:    0.0911:  23%|█▍    | 239/1032 [37:00<2:02:18,  9.25s/it]\u001b[A\n",
            "Epochs 1/1. Running Loss:    0.0016:  23%|█▍    | 239/1032 [37:03<2:02:18,  9.25s/it]\u001b[A\n",
            "Epochs 1/1. Running Loss:    0.0016:  23%|█▍    | 240/1032 [37:09<1:58:55,  9.01s/it]\u001b[A\n",
            "Epochs 1/1. Running Loss:    0.0172:  23%|█▍    | 240/1032 [37:12<1:58:55,  9.01s/it]\u001b[A\n",
            "Epochs 1/1. Running Loss:    0.0172:  23%|█▍    | 241/1032 [37:19<2:03:54,  9.40s/it]\u001b[A\n",
            "Epochs 1/1. Running Loss:    0.1185:  23%|█▍    | 241/1032 [37:22<2:03:54,  9.40s/it]\u001b[A\n",
            "Epochs 1/1. Running Loss:    0.1185:  23%|█▍    | 242/1032 [37:29<2:06:09,  9.58s/it]\u001b[A\n",
            "Epochs 1/1. Running Loss:    0.0065:  23%|█▍    | 242/1032 [37:33<2:06:09,  9.58s/it]\u001b[A\n",
            "Epochs 1/1. Running Loss:    0.0065:  24%|█▍    | 243/1032 [37:39<2:08:50,  9.80s/it]\u001b[A\n",
            "Epochs 1/1. Running Loss:    0.0044:  24%|█▍    | 243/1032 [37:43<2:08:50,  9.80s/it]\u001b[A\n",
            "Epochs 1/1. Running Loss:    0.0044:  24%|█▍    | 244/1032 [37:50<2:10:06,  9.91s/it]\u001b[A\n",
            "Epochs 1/1. Running Loss:    0.0033:  24%|█▍    | 244/1032 [37:53<2:10:06,  9.91s/it]\u001b[A\n",
            "Epochs 1/1. Running Loss:    0.0033:  24%|█▍    | 245/1032 [37:59<2:07:23,  9.71s/it]\u001b[A\n",
            "Epochs 1/1. Running Loss:    0.0024:  24%|█▍    | 245/1032 [38:02<2:07:23,  9.71s/it]\u001b[A\n",
            "Epochs 1/1. Running Loss:    0.0024:  24%|█▍    | 246/1032 [38:07<2:03:01,  9.39s/it]\u001b[A\n",
            "Epochs 1/1. Running Loss:    0.1564:  24%|█▍    | 246/1032 [38:10<2:03:01,  9.39s/it]\u001b[A\n",
            "Epochs 1/1. Running Loss:    0.1564:  24%|█▍    | 247/1032 [38:17<2:02:49,  9.39s/it]\u001b[A\n",
            "Epochs 1/1. Running Loss:    0.0806:  24%|█▍    | 247/1032 [38:21<2:02:49,  9.39s/it]\u001b[A\n",
            "Epochs 1/1. Running Loss:    0.0806:  24%|█▍    | 248/1032 [38:28<2:10:35,  9.99s/it]\u001b[A\n",
            "Epochs 1/1. Running Loss:    0.1599:  24%|█▍    | 248/1032 [38:32<2:10:35,  9.99s/it]\u001b[A\n",
            "Epochs 1/1. Running Loss:    0.1599:  24%|█▍    | 249/1032 [38:39<2:11:40, 10.09s/it]\u001b[A\n",
            "Epochs 1/1. Running Loss:    0.0013:  24%|█▍    | 249/1032 [38:42<2:11:40, 10.09s/it]\u001b[A\n",
            "Epochs 1/1. Running Loss:    0.0013:  24%|█▍    | 250/1032 [38:49<2:12:40, 10.18s/it]\u001b[A\n",
            "Epochs 1/1. Running Loss:    0.0105:  24%|█▍    | 250/1032 [38:53<2:12:40, 10.18s/it]\u001b[A\n",
            "Epochs 1/1. Running Loss:    0.0105:  24%|█▍    | 251/1032 [38:59<2:12:04, 10.15s/it]\u001b[A\n",
            "Epochs 1/1. Running Loss:    0.4952:  24%|█▍    | 251/1032 [39:02<2:12:04, 10.15s/it]\u001b[A\n",
            "Epochs 1/1. Running Loss:    0.4952:  24%|█▍    | 252/1032 [39:08<2:09:21,  9.95s/it]\u001b[A\n",
            "Epochs 1/1. Running Loss:    0.0075:  24%|█▍    | 252/1032 [39:12<2:09:21,  9.95s/it]\u001b[A\n",
            "Epochs 1/1. Running Loss:    0.0075:  25%|█▍    | 253/1032 [39:19<2:12:21, 10.19s/it]\u001b[A\n",
            "Epochs 1/1. Running Loss:    0.0029:  25%|█▍    | 253/1032 [39:22<2:12:21, 10.19s/it]\u001b[A\n",
            "Epochs 1/1. Running Loss:    0.0029:  25%|█▍    | 254/1032 [39:27<2:04:07,  9.57s/it]\u001b[A\n",
            "Epochs 1/1. Running Loss:    0.0465:  25%|█▍    | 254/1032 [39:30<2:04:07,  9.57s/it]\u001b[A\n",
            "Epochs 1/1. Running Loss:    0.0465:  25%|█▍    | 255/1032 [39:36<1:59:10,  9.20s/it]\u001b[A\n",
            "Epochs 1/1. Running Loss:    0.0016:  25%|█▍    | 255/1032 [39:38<1:59:10,  9.20s/it]\u001b[A\n",
            "Epochs 1/1. Running Loss:    0.0016:  25%|█▍    | 256/1032 [39:43<1:52:41,  8.71s/it]\u001b[A\n",
            "Epochs 1/1. Running Loss:    0.3735:  25%|█▍    | 256/1032 [39:47<1:52:41,  8.71s/it]\u001b[A\n",
            "Epochs 1/1. Running Loss:    0.3735:  25%|█▍    | 257/1032 [39:54<1:58:37,  9.18s/it]\u001b[A\n",
            "Epochs 1/1. Running Loss:    0.0404:  25%|█▍    | 257/1032 [39:57<1:58:37,  9.18s/it]\u001b[A\n",
            "Epochs 1/1. Running Loss:    0.0404:  25%|█▌    | 258/1032 [40:04<2:03:06,  9.54s/it]\u001b[A\n",
            "Epochs 1/1. Running Loss:    0.0063:  25%|█▌    | 258/1032 [40:07<2:03:06,  9.54s/it]\u001b[A\n",
            "Epochs 1/1. Running Loss:    0.0063:  25%|█▌    | 259/1032 [40:13<2:02:12,  9.49s/it]\u001b[A\n",
            "Epochs 1/1. Running Loss:    0.0066:  25%|█▌    | 259/1032 [40:17<2:02:12,  9.49s/it]\u001b[A\n",
            "Epochs 1/1. Running Loss:    0.0066:  25%|█▌    | 260/1032 [40:23<2:03:23,  9.59s/it]\u001b[A\n",
            "Epochs 1/1. Running Loss:    0.0126:  25%|█▌    | 260/1032 [40:25<2:03:23,  9.59s/it]\u001b[A\n",
            "Epochs 1/1. Running Loss:    0.0126:  25%|█▌    | 261/1032 [40:32<1:59:25,  9.29s/it]\u001b[A\n",
            "Epochs 1/1. Running Loss:    0.0010:  25%|█▌    | 261/1032 [40:35<1:59:25,  9.29s/it]\u001b[A\n",
            "Epochs 1/1. Running Loss:    0.0010:  25%|█▌    | 262/1032 [40:41<2:00:24,  9.38s/it]\u001b[A\n",
            "Epochs 1/1. Running Loss:    0.1809:  25%|█▌    | 262/1032 [40:44<2:00:24,  9.38s/it]\u001b[A\n",
            "Epochs 1/1. Running Loss:    0.1809:  25%|█▌    | 263/1032 [40:50<1:55:52,  9.04s/it]\u001b[A\n",
            "Epochs 1/1. Running Loss:    0.2443:  25%|█▌    | 263/1032 [40:52<1:55:52,  9.04s/it]\u001b[A\n",
            "Epochs 1/1. Running Loss:    0.2443:  26%|█▌    | 264/1032 [40:57<1:51:17,  8.69s/it]\u001b[A\n",
            "Epochs 1/1. Running Loss:    0.0020:  26%|█▌    | 264/1032 [41:01<1:51:17,  8.69s/it]\u001b[A\n",
            "Epochs 1/1. Running Loss:    0.0020:  26%|█▌    | 265/1032 [41:08<1:58:21,  9.26s/it]\u001b[A\n",
            "Epochs 1/1. Running Loss:    0.0052:  26%|█▌    | 265/1032 [41:12<1:58:21,  9.26s/it]\u001b[A\n",
            "Epochs 1/1. Running Loss:    0.0052:  26%|█▌    | 266/1032 [41:18<1:59:29,  9.36s/it]\u001b[A\n",
            "Epochs 1/1. Running Loss:    0.0125:  26%|█▌    | 266/1032 [41:21<1:59:29,  9.36s/it]\u001b[A\n",
            "Epochs 1/1. Running Loss:    0.0125:  26%|█▌    | 267/1032 [41:28<2:02:03,  9.57s/it]\u001b[A\n",
            "Epochs 1/1. Running Loss:    0.3488:  26%|█▌    | 267/1032 [41:31<2:02:03,  9.57s/it]\u001b[A\n",
            "Epochs 1/1. Running Loss:    0.3488:  26%|█▌    | 268/1032 [41:36<1:57:46,  9.25s/it]\u001b[A\n",
            "Epochs 1/1. Running Loss:    0.0023:  26%|█▌    | 268/1032 [41:39<1:57:46,  9.25s/it]\u001b[A\n",
            "Epochs 1/1. Running Loss:    0.0023:  26%|█▌    | 269/1032 [41:45<1:56:04,  9.13s/it]\u001b[A\n",
            "Epochs 1/1. Running Loss:    0.0062:  26%|█▌    | 269/1032 [41:49<1:56:04,  9.13s/it]\u001b[A\n",
            "Epochs 1/1. Running Loss:    0.0062:  26%|█▌    | 270/1032 [41:55<2:00:01,  9.45s/it]\u001b[A\n",
            "Epochs 1/1. Running Loss:    0.0033:  26%|█▌    | 270/1032 [41:58<2:00:01,  9.45s/it]\u001b[A\n",
            "Epochs 1/1. Running Loss:    0.0033:  26%|█▌    | 271/1032 [42:05<2:02:11,  9.63s/it]\u001b[A\n",
            "Epochs 1/1. Running Loss:    0.0029:  26%|█▌    | 271/1032 [42:08<2:02:11,  9.63s/it]\u001b[A\n",
            "Epochs 1/1. Running Loss:    0.0029:  26%|█▌    | 272/1032 [42:13<1:55:18,  9.10s/it]\u001b[A\n",
            "Epochs 1/1. Running Loss:    0.0022:  26%|█▌    | 272/1032 [42:16<1:55:18,  9.10s/it]\u001b[A\n",
            "Epochs 1/1. Running Loss:    0.0022:  26%|█▌    | 273/1032 [42:23<1:58:18,  9.35s/it]\u001b[A\n",
            "Epochs 1/1. Running Loss:    0.0052:  26%|█▌    | 273/1032 [42:26<1:58:18,  9.35s/it]\u001b[A\n",
            "Epochs 1/1. Running Loss:    0.0052:  27%|█▌    | 274/1032 [42:31<1:54:25,  9.06s/it]\u001b[A\n",
            "Epochs 1/1. Running Loss:    0.0490:  27%|█▌    | 274/1032 [42:34<1:54:25,  9.06s/it]\u001b[A\n",
            "Epochs 1/1. Running Loss:    0.0490:  27%|█▌    | 275/1032 [42:41<1:56:40,  9.25s/it]\u001b[A\n",
            "Epochs 1/1. Running Loss:    0.0032:  27%|█▌    | 275/1032 [42:45<1:56:40,  9.25s/it]\u001b[A\n",
            "Epochs 1/1. Running Loss:    0.0032:  27%|█▌    | 276/1032 [42:51<1:58:49,  9.43s/it]\u001b[A\n",
            "Epochs 1/1. Running Loss:    0.0014:  27%|█▌    | 276/1032 [42:53<1:58:49,  9.43s/it]\u001b[A\n",
            "Epochs 1/1. Running Loss:    0.0014:  27%|█▌    | 277/1032 [42:59<1:53:09,  8.99s/it]\u001b[A\n",
            "Epochs 1/1. Running Loss:    0.0586:  27%|█▌    | 277/1032 [43:02<1:53:09,  8.99s/it]\u001b[A\n",
            "Epochs 1/1. Running Loss:    0.0586:  27%|█▌    | 278/1032 [43:07<1:50:35,  8.80s/it]\u001b[A\n",
            "Epochs 1/1. Running Loss:    0.1283:  27%|█▌    | 278/1032 [43:10<1:50:35,  8.80s/it]\u001b[A\n",
            "Epochs 1/1. Running Loss:    0.1283:  27%|█▌    | 279/1032 [43:17<1:53:14,  9.02s/it]\u001b[A\n",
            "Epochs 1/1. Running Loss:    0.0044:  27%|█▌    | 279/1032 [43:21<1:53:14,  9.02s/it]\u001b[A\n",
            "Epochs 1/1. Running Loss:    0.0044:  27%|█▋    | 280/1032 [43:27<1:58:45,  9.48s/it]\u001b[A\n",
            "Epochs 1/1. Running Loss:    0.4308:  27%|█▋    | 280/1032 [43:31<1:58:45,  9.48s/it]\u001b[A\n",
            "Epochs 1/1. Running Loss:    0.4308:  27%|█▋    | 281/1032 [43:37<2:00:05,  9.59s/it]\u001b[A\n",
            "Epochs 1/1. Running Loss:    0.0145:  27%|█▋    | 281/1032 [43:40<2:00:05,  9.59s/it]\u001b[A\n",
            "Epochs 1/1. Running Loss:    0.0145:  27%|█▋    | 282/1032 [43:46<1:55:51,  9.27s/it]\u001b[A\n",
            "Epochs 1/1. Running Loss:    0.0042:  27%|█▋    | 282/1032 [43:48<1:55:51,  9.27s/it]\u001b[A\n",
            "Epochs 1/1. Running Loss:    0.0042:  27%|█▋    | 283/1032 [43:54<1:50:35,  8.86s/it]\u001b[A\n",
            "Epochs 1/1. Running Loss:    0.0605:  27%|█▋    | 283/1032 [43:57<1:50:35,  8.86s/it]\u001b[A\n",
            "Epochs 1/1. Running Loss:    0.0605:  28%|█▋    | 284/1032 [44:04<1:55:32,  9.27s/it]\u001b[A\n",
            "Epochs 1/1. Running Loss:    0.2082:  28%|█▋    | 284/1032 [44:07<1:55:32,  9.27s/it]\u001b[A\n",
            "Epochs 1/1. Running Loss:    0.2082:  28%|█▋    | 285/1032 [44:14<1:59:41,  9.61s/it]\u001b[A\n",
            "Epochs 1/1. Running Loss:    0.0033:  28%|█▋    | 285/1032 [44:18<1:59:41,  9.61s/it]\u001b[A\n",
            "Epochs 1/1. Running Loss:    0.0033:  28%|█▋    | 286/1032 [44:23<1:57:03,  9.41s/it]\u001b[A\n",
            "Epochs 1/1. Running Loss:    0.0013:  28%|█▋    | 286/1032 [44:26<1:57:03,  9.41s/it]\u001b[A\n",
            "Epochs 1/1. Running Loss:    0.0013:  28%|█▋    | 287/1032 [44:32<1:53:21,  9.13s/it]\u001b[A\n",
            "Epochs 1/1. Running Loss:    0.0035:  28%|█▋    | 287/1032 [44:35<1:53:21,  9.13s/it]\u001b[A\n",
            "Epochs 1/1. Running Loss:    0.0035:  28%|█▋    | 288/1032 [44:42<1:56:24,  9.39s/it]\u001b[A\n",
            "Epochs 1/1. Running Loss:    0.5491:  28%|█▋    | 288/1032 [44:45<1:56:24,  9.39s/it]\u001b[A\n",
            "Epochs 1/1. Running Loss:    0.5491:  28%|█▋    | 289/1032 [44:52<2:00:13,  9.71s/it]\u001b[A\n",
            "Epochs 1/1. Running Loss:    0.0316:  28%|█▋    | 289/1032 [44:55<2:00:13,  9.71s/it]\u001b[A\n",
            "Epochs 1/1. Running Loss:    0.0316:  28%|█▋    | 290/1032 [45:02<1:59:28,  9.66s/it]\u001b[A\n",
            "Epochs 1/1. Running Loss:    0.0018:  28%|█▋    | 290/1032 [45:05<1:59:28,  9.66s/it]\u001b[A\n",
            "Epochs 1/1. Running Loss:    0.0018:  28%|█▋    | 291/1032 [45:11<1:57:14,  9.49s/it]\u001b[A\n",
            "Epochs 1/1. Running Loss:    0.8622:  28%|█▋    | 291/1032 [45:14<1:57:14,  9.49s/it]\u001b[A\n",
            "Epochs 1/1. Running Loss:    0.8622:  28%|█▋    | 292/1032 [45:19<1:51:40,  9.06s/it]\u001b[A\n",
            "Epochs 1/1. Running Loss:    0.1550:  28%|█▋    | 292/1032 [45:23<1:51:40,  9.06s/it]\u001b[A\n",
            "Epochs 1/1. Running Loss:    0.1550:  28%|█▋    | 293/1032 [45:29<1:55:39,  9.39s/it]\u001b[A\n",
            "Epochs 1/1. Running Loss:    0.3935:  28%|█▋    | 293/1032 [45:33<1:55:39,  9.39s/it]\u001b[A\n",
            "Epochs 1/1. Running Loss:    0.3935:  28%|█▋    | 294/1032 [45:40<1:59:42,  9.73s/it]\u001b[A\n",
            "Epochs 1/1. Running Loss:    0.0006:  28%|█▋    | 294/1032 [45:43<1:59:42,  9.73s/it]\u001b[A\n",
            "Epochs 1/1. Running Loss:    0.0006:  29%|█▋    | 295/1032 [45:49<1:57:40,  9.58s/it]\u001b[A\n",
            "Epochs 1/1. Running Loss:    0.0018:  29%|█▋    | 295/1032 [45:52<1:57:40,  9.58s/it]\u001b[A\n",
            "Epochs 1/1. Running Loss:    0.0018:  29%|█▋    | 296/1032 [45:58<1:56:52,  9.53s/it]\u001b[A\n",
            "Epochs 1/1. Running Loss:    0.1835:  29%|█▋    | 296/1032 [46:02<1:56:52,  9.53s/it]\u001b[A\n",
            "Epochs 1/1. Running Loss:    0.1835:  29%|█▋    | 297/1032 [46:08<1:57:19,  9.58s/it]\u001b[A\n",
            "Epochs 1/1. Running Loss:    0.7592:  29%|█▋    | 297/1032 [46:10<1:57:19,  9.58s/it]\u001b[A\n",
            "Epochs 1/1. Running Loss:    0.7592:  29%|█▋    | 298/1032 [46:17<1:55:55,  9.48s/it]\u001b[A\n",
            "Epochs 1/1. Running Loss:    0.0038:  29%|█▋    | 298/1032 [46:21<1:55:55,  9.48s/it]\u001b[A\n",
            "Epochs 1/1. Running Loss:    0.0038:  29%|█▋    | 299/1032 [46:27<1:57:42,  9.64s/it]\u001b[A\n",
            "Epochs 1/1. Running Loss:    0.0010:  29%|█▋    | 299/1032 [46:30<1:57:42,  9.64s/it]\u001b[A\n",
            "Epochs 1/1. Running Loss:    0.0010:  29%|█▋    | 300/1032 [46:37<1:58:01,  9.67s/it]\u001b[A\n",
            "Epochs 1/1. Running Loss:    0.0093:  29%|█▋    | 300/1032 [46:40<1:58:01,  9.67s/it]\u001b[A\n",
            "Epochs 1/1. Running Loss:    0.0093:  29%|█▊    | 301/1032 [46:47<1:59:21,  9.80s/it]\u001b[A\n",
            "Epochs 1/1. Running Loss:    0.0035:  29%|█▊    | 301/1032 [46:50<1:59:21,  9.80s/it]\u001b[A\n",
            "Epochs 1/1. Running Loss:    0.0035:  29%|█▊    | 302/1032 [46:55<1:53:34,  9.33s/it]\u001b[A\n",
            "Epochs 1/1. Running Loss:    0.0099:  29%|█▊    | 302/1032 [46:58<1:53:34,  9.33s/it]\u001b[A\n",
            "Epochs 1/1. Running Loss:    0.0099:  29%|█▊    | 303/1032 [47:04<1:52:47,  9.28s/it]\u001b[A\n",
            "Epochs 1/1. Running Loss:    0.0033:  29%|█▊    | 303/1032 [47:08<1:52:47,  9.28s/it]\u001b[A\n",
            "Epochs 1/1. Running Loss:    0.0033:  29%|█▊    | 304/1032 [47:15<1:56:48,  9.63s/it]\u001b[A\n",
            "Epochs 1/1. Running Loss:    0.0027:  29%|█▊    | 304/1032 [47:19<1:56:48,  9.63s/it]\u001b[A\n",
            "Epochs 1/1. Running Loss:    0.0027:  30%|█▊    | 305/1032 [47:24<1:56:25,  9.61s/it]\u001b[A\n",
            "Epochs 1/1. Running Loss:    0.3261:  30%|█▊    | 305/1032 [47:28<1:56:25,  9.61s/it]\u001b[A\n",
            "Epochs 1/1. Running Loss:    0.3261:  30%|█▊    | 306/1032 [47:34<1:55:28,  9.54s/it]\u001b[A\n",
            "Epochs 1/1. Running Loss:    0.0193:  30%|█▊    | 306/1032 [47:37<1:55:28,  9.54s/it]\u001b[A\n",
            "Epochs 1/1. Running Loss:    0.0193:  30%|█▊    | 307/1032 [47:44<1:57:18,  9.71s/it]\u001b[A\n",
            "Epochs 1/1. Running Loss:    0.4343:  30%|█▊    | 307/1032 [47:47<1:57:18,  9.71s/it]\u001b[A\n",
            "Epochs 1/1. Running Loss:    0.4343:  30%|█▊    | 308/1032 [47:53<1:56:13,  9.63s/it]\u001b[A\n",
            "Epochs 1/1. Running Loss:    0.0015:  30%|█▊    | 308/1032 [47:56<1:56:13,  9.63s/it]\u001b[A\n",
            "Epochs 1/1. Running Loss:    0.0015:  30%|█▊    | 309/1032 [48:03<1:56:53,  9.70s/it]\u001b[A\n",
            "Epochs 1/1. Running Loss:    0.0112:  30%|█▊    | 309/1032 [48:07<1:56:53,  9.70s/it]\u001b[A\n",
            "Epochs 1/1. Running Loss:    0.0112:  30%|█▊    | 310/1032 [48:12<1:53:37,  9.44s/it]\u001b[A\n",
            "Epochs 1/1. Running Loss:    0.0021:  30%|█▊    | 310/1032 [48:15<1:53:37,  9.44s/it]\u001b[A\n",
            "Epochs 1/1. Running Loss:    0.0021:  30%|█▊    | 311/1032 [48:20<1:49:39,  9.13s/it]\u001b[A\n",
            "Epochs 1/1. Running Loss:    0.0017:  30%|█▊    | 311/1032 [48:23<1:49:39,  9.13s/it]\u001b[A\n",
            "Epochs 1/1. Running Loss:    0.0017:  30%|█▊    | 312/1032 [48:29<1:46:14,  8.85s/it]\u001b[A\n",
            "Epochs 1/1. Running Loss:    0.0083:  30%|█▊    | 312/1032 [48:32<1:46:14,  8.85s/it]\u001b[A\n",
            "Epochs 1/1. Running Loss:    0.0083:  30%|█▊    | 313/1032 [48:39<1:51:52,  9.34s/it]\u001b[A\n",
            "Epochs 1/1. Running Loss:    0.0030:  30%|█▊    | 313/1032 [48:43<1:51:52,  9.34s/it]\u001b[A\n",
            "Epochs 1/1. Running Loss:    0.0030:  30%|█▊    | 314/1032 [48:51<1:59:14,  9.96s/it]\u001b[A\n",
            "Epochs 1/1. Running Loss:    0.0323:  30%|█▊    | 314/1032 [48:54<1:59:14,  9.96s/it]\u001b[A\n",
            "Epochs 1/1. Running Loss:    0.0323:  31%|█▊    | 315/1032 [49:01<2:00:22, 10.07s/it]\u001b[A\n",
            "Epochs 1/1. Running Loss:    0.0016:  31%|█▊    | 315/1032 [49:04<2:00:22, 10.07s/it]\u001b[A\n",
            "Epochs 1/1. Running Loss:    0.0016:  31%|█▊    | 316/1032 [49:10<1:57:18,  9.83s/it]\u001b[A\n",
            "Epochs 1/1. Running Loss:    0.0010:  31%|█▊    | 316/1032 [49:13<1:57:18,  9.83s/it]\u001b[A\n",
            "Epochs 1/1. Running Loss:    0.0010:  31%|█▊    | 317/1032 [49:19<1:52:37,  9.45s/it]\u001b[A\n",
            "Epochs 1/1. Running Loss:    0.0437:  31%|█▊    | 317/1032 [49:21<1:52:37,  9.45s/it]\u001b[A\n",
            "Epochs 1/1. Running Loss:    0.0437:  31%|█▊    | 318/1032 [49:27<1:49:35,  9.21s/it]\u001b[A\n",
            "Epochs 1/1. Running Loss:    0.0013:  31%|█▊    | 318/1032 [49:32<1:49:35,  9.21s/it]\u001b[A\n",
            "Epochs 1/1. Running Loss:    0.0013:  31%|█▊    | 319/1032 [49:40<2:03:10, 10.37s/it]\u001b[A\n",
            "Epochs 1/1. Running Loss:    0.0018:  31%|█▊    | 319/1032 [49:45<2:03:10, 10.37s/it]\u001b[A\n",
            "Epochs 1/1. Running Loss:    0.0018:  31%|█▊    | 320/1032 [49:52<2:06:33, 10.66s/it]\u001b[A\n",
            "Epochs 1/1. Running Loss:    0.0016:  31%|█▊    | 320/1032 [49:55<2:06:33, 10.66s/it]\u001b[A\n",
            "Epochs 1/1. Running Loss:    0.0016:  31%|█▊    | 321/1032 [50:01<2:02:56, 10.38s/it]\u001b[A\n",
            "Epochs 1/1. Running Loss:    0.0017:  31%|█▊    | 321/1032 [50:05<2:02:56, 10.38s/it]\u001b[A\n",
            "Epochs 1/1. Running Loss:    0.0017:  31%|█▊    | 322/1032 [50:12<2:01:38, 10.28s/it]\u001b[A\n",
            "Epochs 1/1. Running Loss:    0.0026:  31%|█▊    | 322/1032 [50:14<2:01:38, 10.28s/it]\u001b[A\n",
            "Epochs 1/1. Running Loss:    0.0026:  31%|█▉    | 323/1032 [50:21<1:58:17, 10.01s/it]\u001b[A\n",
            "Epochs 1/1. Running Loss:    0.0129:  31%|█▉    | 323/1032 [50:25<1:58:17, 10.01s/it]\u001b[A\n",
            "Epochs 1/1. Running Loss:    0.0129:  31%|█▉    | 324/1032 [50:31<2:00:02, 10.17s/it]\u001b[A\n",
            "Epochs 1/1. Running Loss:    0.0208:  31%|█▉    | 324/1032 [50:34<2:00:02, 10.17s/it]\u001b[A\n",
            "Epochs 1/1. Running Loss:    0.0208:  31%|█▉    | 325/1032 [50:41<1:56:56,  9.92s/it]\u001b[A\n",
            "Epochs 1/1. Running Loss:    0.0179:  31%|█▉    | 325/1032 [50:45<1:56:56,  9.92s/it]\u001b[A\n",
            "Epochs 1/1. Running Loss:    0.0179:  32%|█▉    | 326/1032 [50:51<1:57:40, 10.00s/it]\u001b[A\n",
            "Epochs 1/1. Running Loss:    0.5886:  32%|█▉    | 326/1032 [50:55<1:57:40, 10.00s/it]\u001b[A\n",
            "Epochs 1/1. Running Loss:    0.5886:  32%|█▉    | 327/1032 [51:01<1:57:20,  9.99s/it]\u001b[A\n",
            "Epochs 1/1. Running Loss:    0.0009:  32%|█▉    | 327/1032 [51:05<1:57:20,  9.99s/it]\u001b[A\n",
            "Epochs 1/1. Running Loss:    0.0009:  32%|█▉    | 328/1032 [51:11<1:56:17,  9.91s/it]\u001b[A\n",
            "Epochs 1/1. Running Loss:    0.0007:  32%|█▉    | 328/1032 [51:14<1:56:17,  9.91s/it]\u001b[A\n",
            "Epochs 1/1. Running Loss:    0.0007:  32%|█▉    | 329/1032 [51:20<1:52:16,  9.58s/it]\u001b[A\n",
            "Epochs 1/1. Running Loss:    0.0009:  32%|█▉    | 329/1032 [51:23<1:52:16,  9.58s/it]\u001b[A\n",
            "Epochs 1/1. Running Loss:    0.0009:  32%|█▉    | 330/1032 [51:30<1:54:45,  9.81s/it]\u001b[A\n",
            "Epochs 1/1. Running Loss:    0.0040:  32%|█▉    | 330/1032 [51:34<1:54:45,  9.81s/it]\u001b[A\n",
            "Epochs 1/1. Running Loss:    0.0040:  32%|█▉    | 331/1032 [51:41<1:57:41, 10.07s/it]\u001b[A\n",
            "Epochs 1/1. Running Loss:    0.2813:  32%|█▉    | 331/1032 [51:44<1:57:41, 10.07s/it]\u001b[A\n",
            "Epochs 1/1. Running Loss:    0.2813:  32%|█▉    | 332/1032 [51:49<1:53:09,  9.70s/it]\u001b[A\n",
            "Epochs 1/1. Running Loss:    0.0036:  32%|█▉    | 332/1032 [51:52<1:53:09,  9.70s/it]\u001b[A\n",
            "Epochs 1/1. Running Loss:    0.0036:  32%|█▉    | 333/1032 [51:59<1:53:35,  9.75s/it]\u001b[A\n",
            "Epochs 1/1. Running Loss:    0.0201:  32%|█▉    | 333/1032 [52:03<1:53:35,  9.75s/it]\u001b[A\n",
            "Epochs 1/1. Running Loss:    0.0201:  32%|█▉    | 334/1032 [52:10<1:56:16,  9.99s/it]\u001b[A\n",
            "Epochs 1/1. Running Loss:    0.0014:  32%|█▉    | 334/1032 [52:14<1:56:16,  9.99s/it]\u001b[A\n",
            "Epochs 1/1. Running Loss:    0.0014:  32%|█▉    | 335/1032 [52:20<1:58:16, 10.18s/it]\u001b[A\n",
            "Epochs 1/1. Running Loss:    0.0013:  32%|█▉    | 335/1032 [52:23<1:58:16, 10.18s/it]\u001b[A\n",
            "Epochs 1/1. Running Loss:    0.0013:  33%|█▉    | 336/1032 [52:29<1:52:25,  9.69s/it]\u001b[A\n",
            "Epochs 1/1. Running Loss:    0.0015:  33%|█▉    | 336/1032 [52:32<1:52:25,  9.69s/it]\u001b[A\n",
            "Epochs 1/1. Running Loss:    0.0015:  33%|█▉    | 337/1032 [52:39<1:51:49,  9.65s/it]\u001b[A\n",
            "Epochs 1/1. Running Loss:    0.0033:  33%|█▉    | 337/1032 [52:42<1:51:49,  9.65s/it]\u001b[A\n",
            "Epochs 1/1. Running Loss:    0.0033:  33%|█▉    | 338/1032 [52:49<1:54:50,  9.93s/it]\u001b[A\n",
            "Epochs 1/1. Running Loss:    0.2152:  33%|█▉    | 338/1032 [52:53<1:54:50,  9.93s/it]\u001b[A\n",
            "Epochs 1/1. Running Loss:    0.2152:  33%|█▉    | 339/1032 [53:00<1:57:24, 10.17s/it]\u001b[A\n",
            "Epochs 1/1. Running Loss:    0.0785:  33%|█▉    | 339/1032 [53:03<1:57:24, 10.17s/it]\u001b[A\n",
            "Epochs 1/1. Running Loss:    0.0785:  33%|█▉    | 340/1032 [53:09<1:52:55,  9.79s/it]\u001b[A\n",
            "Epochs 1/1. Running Loss:    0.0023:  33%|█▉    | 340/1032 [53:11<1:52:55,  9.79s/it]\u001b[A\n",
            "Epochs 1/1. Running Loss:    0.0023:  33%|█▉    | 341/1032 [53:17<1:48:07,  9.39s/it]\u001b[A\n",
            "Epochs 1/1. Running Loss:    0.0023:  33%|█▉    | 341/1032 [53:20<1:48:07,  9.39s/it]\u001b[A\n",
            "Epochs 1/1. Running Loss:    0.0023:  33%|█▉    | 342/1032 [53:27<1:49:42,  9.54s/it]\u001b[A\n",
            "Epochs 1/1. Running Loss:    0.4298:  33%|█▉    | 342/1032 [53:30<1:49:42,  9.54s/it]\u001b[A\n",
            "Epochs 1/1. Running Loss:    0.4298:  33%|█▉    | 343/1032 [53:35<1:45:35,  9.20s/it]\u001b[A\n",
            "Epochs 1/1. Running Loss:    0.0310:  33%|█▉    | 343/1032 [53:39<1:45:35,  9.20s/it]\u001b[A\n",
            "Epochs 1/1. Running Loss:    0.0310:  33%|██    | 344/1032 [53:46<1:51:36,  9.73s/it]\u001b[A\n",
            "Epochs 1/1. Running Loss:    0.0030:  33%|██    | 344/1032 [53:51<1:51:36,  9.73s/it]\u001b[A\n",
            "Epochs 1/1. Running Loss:    0.0030:  33%|██    | 345/1032 [53:59<2:00:34, 10.53s/it]\u001b[A\n",
            "Epochs 1/1. Running Loss:    0.0035:  33%|██    | 345/1032 [54:03<2:00:34, 10.53s/it]\u001b[A\n",
            "Epochs 1/1. Running Loss:    0.0035:  34%|██    | 346/1032 [54:10<2:03:39, 10.82s/it]\u001b[A\n",
            "Epochs 1/1. Running Loss:    0.0089:  34%|██    | 346/1032 [54:14<2:03:39, 10.82s/it]\u001b[A\n",
            "Epochs 1/1. Running Loss:    0.0089:  34%|██    | 347/1032 [54:20<1:59:57, 10.51s/it]\u001b[A\n",
            "Epochs 1/1. Running Loss:    0.0014:  34%|██    | 347/1032 [54:24<1:59:57, 10.51s/it]\u001b[A\n",
            "Epochs 1/1. Running Loss:    0.0014:  34%|██    | 348/1032 [54:30<1:57:45, 10.33s/it]\u001b[A\n",
            "Epochs 1/1. Running Loss:    0.2395:  34%|██    | 348/1032 [54:33<1:57:45, 10.33s/it]\u001b[A\n",
            "Epochs 1/1. Running Loss:    0.2395:  34%|██    | 349/1032 [54:40<1:57:04, 10.28s/it]\u001b[A\n",
            "Epochs 1/1. Running Loss:    0.0500:  34%|██    | 349/1032 [54:44<1:57:04, 10.28s/it]\u001b[A\n",
            "Epochs 1/1. Running Loss:    0.0500:  34%|██    | 350/1032 [54:51<1:58:09, 10.39s/it]\u001b[A\n",
            "Epochs 1/1. Running Loss:    0.1045:  34%|██    | 350/1032 [54:55<1:58:09, 10.39s/it]\u001b[A\n",
            "Epochs 1/1. Running Loss:    0.1045:  34%|██    | 351/1032 [55:01<1:55:43, 10.20s/it]\u001b[A\n",
            "Epochs 1/1. Running Loss:    0.0008:  34%|██    | 351/1032 [55:04<1:55:43, 10.20s/it]\u001b[A\n",
            "Epochs 1/1. Running Loss:    0.0008:  34%|██    | 352/1032 [55:11<1:56:59, 10.32s/it]\u001b[A\n",
            "Epochs 1/1. Running Loss:    0.0011:  34%|██    | 352/1032 [55:15<1:56:59, 10.32s/it]\u001b[A\n",
            "Epochs 1/1. Running Loss:    0.0011:  34%|██    | 353/1032 [55:22<1:57:48, 10.41s/it]\u001b[A\n",
            "Epochs 1/1. Running Loss:    0.0013:  34%|██    | 353/1032 [55:25<1:57:48, 10.41s/it]\u001b[A\n",
            "Epochs 1/1. Running Loss:    0.0013:  34%|██    | 354/1032 [55:31<1:53:18, 10.03s/it]\u001b[A\n",
            "Epochs 1/1. Running Loss:    0.2221:  34%|██    | 354/1032 [55:35<1:53:18, 10.03s/it]\u001b[A\n",
            "Epochs 1/1. Running Loss:    0.2221:  34%|██    | 355/1032 [55:42<1:56:00, 10.28s/it]\u001b[A\n",
            "Epochs 1/1. Running Loss:    0.0053:  34%|██    | 355/1032 [55:46<1:56:00, 10.28s/it]\u001b[A\n",
            "Epochs 1/1. Running Loss:    0.0053:  34%|██    | 356/1032 [55:52<1:54:12, 10.14s/it]\u001b[A\n",
            "Epochs 1/1. Running Loss:    0.0021:  34%|██    | 356/1032 [55:55<1:54:12, 10.14s/it]\u001b[A\n",
            "Epochs 1/1. Running Loss:    0.0021:  35%|██    | 357/1032 [56:01<1:53:05, 10.05s/it]\u001b[A\n",
            "Epochs 1/1. Running Loss:    0.6700:  35%|██    | 357/1032 [56:04<1:53:05, 10.05s/it]\u001b[A\n",
            "Epochs 1/1. Running Loss:    0.6700:  35%|██    | 358/1032 [56:11<1:52:03,  9.98s/it]\u001b[A\n",
            "Epochs 1/1. Running Loss:    0.0048:  35%|██    | 358/1032 [56:15<1:52:03,  9.98s/it]\u001b[A\n",
            "Epochs 1/1. Running Loss:    0.0048:  35%|██    | 359/1032 [56:22<1:54:36, 10.22s/it]\u001b[A\n",
            "Epochs 1/1. Running Loss:    0.0009:  35%|██    | 359/1032 [56:26<1:54:36, 10.22s/it]\u001b[A\n",
            "Epochs 1/1. Running Loss:    0.0009:  35%|██    | 360/1032 [56:32<1:52:36, 10.05s/it]\u001b[A\n",
            "Epochs 1/1. Running Loss:    0.4157:  35%|██    | 360/1032 [56:35<1:52:36, 10.05s/it]\u001b[A\n",
            "Epochs 1/1. Running Loss:    0.4157:  35%|██    | 361/1032 [56:41<1:49:16,  9.77s/it]\u001b[A\n",
            "Epochs 1/1. Running Loss:    0.0026:  35%|██    | 361/1032 [56:45<1:49:16,  9.77s/it]\u001b[A\n",
            "Epochs 1/1. Running Loss:    0.0026:  35%|██    | 362/1032 [56:52<1:52:10, 10.05s/it]\u001b[A\n",
            "Epochs 1/1. Running Loss:    0.0015:  35%|██    | 362/1032 [56:55<1:52:10, 10.05s/it]\u001b[A\n",
            "Epochs 1/1. Running Loss:    0.0015:  35%|██    | 363/1032 [57:02<1:51:45, 10.02s/it]\u001b[A\n",
            "Epochs 1/1. Running Loss:    0.1061:  35%|██    | 363/1032 [57:05<1:51:45, 10.02s/it]\u001b[A\n",
            "Epochs 1/1. Running Loss:    0.1061:  35%|██    | 364/1032 [57:10<1:47:08,  9.62s/it]\u001b[A\n",
            "Epochs 1/1. Running Loss:    0.0028:  35%|██    | 364/1032 [57:14<1:47:08,  9.62s/it]\u001b[A\n",
            "Epochs 1/1. Running Loss:    0.0028:  35%|██    | 365/1032 [57:21<1:50:35,  9.95s/it]\u001b[A\n",
            "Epochs 1/1. Running Loss:    0.0012:  35%|██    | 365/1032 [57:25<1:50:35,  9.95s/it]\u001b[A\n",
            "Epochs 1/1. Running Loss:    0.0012:  35%|██▏   | 366/1032 [57:32<1:52:47, 10.16s/it]\u001b[A\n",
            "Epochs 1/1. Running Loss:    0.4927:  35%|██▏   | 366/1032 [57:35<1:52:47, 10.16s/it]\u001b[A\n",
            "Epochs 1/1. Running Loss:    0.4927:  36%|██▏   | 367/1032 [57:41<1:50:29,  9.97s/it]\u001b[A\n",
            "Epochs 1/1. Running Loss:    0.0034:  36%|██▏   | 367/1032 [57:45<1:50:29,  9.97s/it]\u001b[A\n",
            "Epochs 1/1. Running Loss:    0.0034:  36%|██▏   | 368/1032 [57:51<1:50:52, 10.02s/it]\u001b[A\n",
            "Epochs 1/1. Running Loss:    0.0018:  36%|██▏   | 368/1032 [57:54<1:50:52, 10.02s/it]\u001b[A\n",
            "Epochs 1/1. Running Loss:    0.0018:  36%|██▏   | 369/1032 [58:01<1:49:24,  9.90s/it]\u001b[A\n",
            "Epochs 1/1. Running Loss:    0.0487:  36%|██▏   | 369/1032 [58:05<1:49:24,  9.90s/it]\u001b[A\n",
            "Epochs 1/1. Running Loss:    0.0487:  36%|██▏   | 370/1032 [58:11<1:51:23, 10.10s/it]\u001b[A\n",
            "Epochs 1/1. Running Loss:    0.0708:  36%|██▏   | 370/1032 [58:15<1:51:23, 10.10s/it]\u001b[A\n",
            "Epochs 1/1. Running Loss:    0.0708:  36%|██▏   | 371/1032 [58:22<1:52:18, 10.19s/it]\u001b[A\n",
            "Epochs 1/1. Running Loss:    0.0021:  36%|██▏   | 371/1032 [58:25<1:52:18, 10.19s/it]\u001b[A\n",
            "Epochs 1/1. Running Loss:    0.0021:  36%|██▏   | 372/1032 [58:31<1:47:34,  9.78s/it]\u001b[A\n",
            "Epochs 1/1. Running Loss:    0.6528:  36%|██▏   | 372/1032 [58:34<1:47:34,  9.78s/it]\u001b[A\n",
            "Epochs 1/1. Running Loss:    0.6528:  36%|██▏   | 373/1032 [58:41<1:48:48,  9.91s/it]\u001b[A\n",
            "Epochs 1/1. Running Loss:    0.0094:  36%|██▏   | 373/1032 [58:45<1:48:48,  9.91s/it]\u001b[A\n",
            "Epochs 1/1. Running Loss:    0.0094:  36%|██▏   | 374/1032 [58:52<1:51:12, 10.14s/it]\u001b[A\n",
            "Epochs 1/1. Running Loss:    0.0043:  36%|██▏   | 374/1032 [58:55<1:51:12, 10.14s/it]\u001b[A\n",
            "Epochs 1/1. Running Loss:    0.0043:  36%|██▏   | 375/1032 [59:01<1:48:44,  9.93s/it]\u001b[A\n",
            "Epochs 1/1. Running Loss:    0.0422:  36%|██▏   | 375/1032 [59:05<1:48:44,  9.93s/it]\u001b[A\n",
            "Epochs 1/1. Running Loss:    0.0422:  36%|██▏   | 376/1032 [59:12<1:51:29, 10.20s/it]\u001b[A\n",
            "Epochs 1/1. Running Loss:    0.0283:  36%|██▏   | 376/1032 [59:16<1:51:29, 10.20s/it]\u001b[A\n",
            "Epochs 1/1. Running Loss:    0.0283:  37%|██▏   | 377/1032 [59:25<2:00:02, 11.00s/it]\u001b[A\n",
            "Epochs 1/1. Running Loss:    0.0050:  37%|██▏   | 377/1032 [59:29<2:00:02, 11.00s/it]\u001b[A\n",
            "Epochs 1/1. Running Loss:    0.0050:  37%|██▏   | 378/1032 [59:35<1:57:16, 10.76s/it]\u001b[A\n",
            "Epochs 1/1. Running Loss:    0.4288:  37%|██▏   | 378/1032 [59:37<1:57:16, 10.76s/it]\u001b[A\n",
            "Epochs 1/1. Running Loss:    0.4288:  37%|██▏   | 379/1032 [59:44<1:53:08, 10.40s/it]\u001b[A\n",
            "Epochs 1/1. Running Loss:    0.0476:  37%|██▏   | 379/1032 [59:48<1:53:08, 10.40s/it]\u001b[A\n",
            "Epochs 1/1. Running Loss:    0.0476:  37%|██▏   | 380/1032 [59:55<1:54:38, 10.55s/it]\u001b[A\n",
            "Epochs 1/1. Running Loss:    0.0637:  37%|██▏   | 380/1032 [59:59<1:54:38, 10.55s/it]\u001b[A\n",
            "Epochs 1/1. Running Loss:    0.0637:  37%|█▍  | 381/1032 [1:00:06<1:54:00, 10.51s/it]\u001b[A\n",
            "Epochs 1/1. Running Loss:    0.2214:  37%|█▍  | 381/1032 [1:00:09<1:54:00, 10.51s/it]\u001b[A\n",
            "Epochs 1/1. Running Loss:    0.2214:  37%|█▍  | 382/1032 [1:00:14<1:47:59,  9.97s/it]\u001b[A\n",
            "Epochs 1/1. Running Loss:    0.5895:  37%|█▍  | 382/1032 [1:00:17<1:47:59,  9.97s/it]\u001b[A\n",
            "Epochs 1/1. Running Loss:    0.5895:  37%|█▍  | 383/1032 [1:00:24<1:46:13,  9.82s/it]\u001b[A\n",
            "Epochs 1/1. Running Loss:    0.2701:  37%|█▍  | 383/1032 [1:00:28<1:46:13,  9.82s/it]\u001b[A\n",
            "Epochs 1/1. Running Loss:    0.2701:  37%|█▍  | 384/1032 [1:00:35<1:49:10, 10.11s/it]\u001b[A\n",
            "Epochs 1/1. Running Loss:    0.0028:  37%|█▍  | 384/1032 [1:00:38<1:49:10, 10.11s/it]\u001b[A\n",
            "Epochs 1/1. Running Loss:    0.0028:  37%|█▍  | 385/1032 [1:00:46<1:51:29, 10.34s/it]\u001b[A\n",
            "Epochs 1/1. Running Loss:    0.0078:  37%|█▍  | 385/1032 [1:00:49<1:51:29, 10.34s/it]\u001b[A\n",
            "Epochs 1/1. Running Loss:    0.0078:  37%|█▍  | 386/1032 [1:00:56<1:52:28, 10.45s/it]\u001b[A\n",
            "Epochs 1/1. Running Loss:    0.0044:  37%|█▍  | 386/1032 [1:01:00<1:52:28, 10.45s/it]\u001b[A\n",
            "Epochs 1/1. Running Loss:    0.0044:  38%|█▌  | 387/1032 [1:01:06<1:48:53, 10.13s/it]\u001b[A\n",
            "Epochs 1/1. Running Loss:    0.0040:  38%|█▌  | 387/1032 [1:01:09<1:48:53, 10.13s/it]\u001b[A\n",
            "Epochs 1/1. Running Loss:    0.0040:  38%|█▌  | 388/1032 [1:01:16<1:50:56, 10.34s/it]\u001b[A\n",
            "Epochs 1/1. Running Loss:    0.0031:  38%|█▌  | 388/1032 [1:01:20<1:50:56, 10.34s/it]\u001b[A\n",
            "Epochs 1/1. Running Loss:    0.0031:  38%|█▌  | 389/1032 [1:01:27<1:51:27, 10.40s/it]\u001b[A\n",
            "Epochs 1/1. Running Loss:    0.4852:  38%|█▌  | 389/1032 [1:01:30<1:51:27, 10.40s/it]\u001b[A\n",
            "Epochs 1/1. Running Loss:    0.4852:  38%|█▌  | 390/1032 [1:01:37<1:50:12, 10.30s/it]\u001b[A\n",
            "Epochs 1/1. Running Loss:    0.0127:  38%|█▌  | 390/1032 [1:01:41<1:50:12, 10.30s/it]\u001b[A\n",
            "Epochs 1/1. Running Loss:    0.0127:  38%|█▌  | 391/1032 [1:01:48<1:52:24, 10.52s/it]\u001b[A\n",
            "Epochs 1/1. Running Loss:    0.0030:  38%|█▌  | 391/1032 [1:01:51<1:52:24, 10.52s/it]\u001b[A\n",
            "Epochs 1/1. Running Loss:    0.0030:  38%|█▌  | 392/1032 [1:01:57<1:47:27, 10.07s/it]\u001b[A\n",
            "Epochs 1/1. Running Loss:    0.0016:  38%|█▌  | 392/1032 [1:02:00<1:47:27, 10.07s/it]\u001b[A\n",
            "Epochs 1/1. Running Loss:    0.0016:  38%|█▌  | 393/1032 [1:02:07<1:47:27, 10.09s/it]\u001b[A\n",
            "Epochs 1/1. Running Loss:    0.0202:  38%|█▌  | 393/1032 [1:02:11<1:47:27, 10.09s/it]\u001b[A\n",
            "Epochs 1/1. Running Loss:    0.0202:  38%|█▌  | 394/1032 [1:02:18<1:49:03, 10.26s/it]\u001b[A\n",
            "Epochs 1/1. Running Loss:    0.4567:  38%|█▌  | 394/1032 [1:02:22<1:49:03, 10.26s/it]\u001b[A\n",
            "Epochs 1/1. Running Loss:    0.4567:  38%|█▌  | 395/1032 [1:02:28<1:48:00, 10.17s/it]\u001b[A\n",
            "Epochs 1/1. Running Loss:    0.0802:  38%|█▌  | 395/1032 [1:02:31<1:48:00, 10.17s/it]\u001b[A\n",
            "Epochs 1/1. Running Loss:    0.0802:  38%|█▌  | 396/1032 [1:02:38<1:46:13, 10.02s/it]\u001b[A\n",
            "Epochs 1/1. Running Loss:    0.0035:  38%|█▌  | 396/1032 [1:02:41<1:46:13, 10.02s/it]\u001b[A\n",
            "Epochs 1/1. Running Loss:    0.0035:  38%|█▌  | 397/1032 [1:02:49<1:49:21, 10.33s/it]\u001b[A\n",
            "Epochs 1/1. Running Loss:    0.0014:  38%|█▌  | 397/1032 [1:02:52<1:49:21, 10.33s/it]\u001b[A\n",
            "Epochs 1/1. Running Loss:    0.0014:  39%|█▌  | 398/1032 [1:02:59<1:47:49, 10.20s/it]\u001b[A\n",
            "Epochs 1/1. Running Loss:    0.0018:  39%|█▌  | 398/1032 [1:03:02<1:47:49, 10.20s/it]\u001b[A\n",
            "Epochs 1/1. Running Loss:    0.0018:  39%|█▌  | 399/1032 [1:03:07<1:43:22,  9.80s/it]\u001b[A\n",
            "Epochs 1/1. Running Loss:    0.0015:  39%|█▌  | 399/1032 [1:03:11<1:43:22,  9.80s/it]\u001b[A\n",
            "Epochs 1/1. Running Loss:    0.0015:  39%|█▌  | 400/1032 [1:03:18<1:46:03, 10.07s/it]\u001b[A\n",
            "Epochs 1/1. Running Loss:    0.0015:  39%|█▌  | 400/1032 [1:03:22<1:46:03, 10.07s/it]\u001b[A\n",
            "Epochs 1/1. Running Loss:    0.0015:  39%|█▌  | 401/1032 [1:03:29<1:48:21, 10.30s/it]\u001b[A\n",
            "Epochs 1/1. Running Loss:    0.0069:  39%|█▌  | 401/1032 [1:03:33<1:48:21, 10.30s/it]\u001b[A\n",
            "Epochs 1/1. Running Loss:    0.0069:  39%|█▌  | 402/1032 [1:03:40<1:50:02, 10.48s/it]\u001b[A\n",
            "Epochs 1/1. Running Loss:    0.0018:  39%|█▌  | 402/1032 [1:03:44<1:50:02, 10.48s/it]\u001b[A\n",
            "Epochs 1/1. Running Loss:    0.0018:  39%|█▌  | 403/1032 [1:03:52<1:53:42, 10.85s/it]\u001b[A\n",
            "Epochs 1/1. Running Loss:    0.0232:  39%|█▌  | 403/1032 [1:03:55<1:53:42, 10.85s/it]\u001b[A\n",
            "Epochs 1/1. Running Loss:    0.0232:  39%|█▌  | 404/1032 [1:04:02<1:51:07, 10.62s/it]\u001b[A\n",
            "Epochs 1/1. Running Loss:    0.0024:  39%|█▌  | 404/1032 [1:04:04<1:51:07, 10.62s/it]\u001b[A\n",
            "Epochs 1/1. Running Loss:    0.0024:  39%|█▌  | 405/1032 [1:04:11<1:45:36, 10.11s/it]\u001b[A\n",
            "Epochs 1/1. Running Loss:    0.0050:  39%|█▌  | 405/1032 [1:04:14<1:45:36, 10.11s/it]\u001b[A\n",
            "Epochs 1/1. Running Loss:    0.0050:  39%|█▌  | 406/1032 [1:04:24<1:54:28, 10.97s/it]\u001b[A\n",
            "Epochs 1/1. Running Loss:    0.1743:  39%|█▌  | 406/1032 [1:04:27<1:54:28, 10.97s/it]\u001b[A\n",
            "Epochs 1/1. Running Loss:    0.1743:  39%|█▌  | 407/1032 [1:04:34<1:52:18, 10.78s/it]\u001b[A\n",
            "Epochs 1/1. Running Loss:    0.1147:  39%|█▌  | 407/1032 [1:04:37<1:52:18, 10.78s/it]\u001b[A\n",
            "Epochs 1/1. Running Loss:    0.1147:  40%|█▌  | 408/1032 [1:04:44<1:49:50, 10.56s/it]\u001b[A\n",
            "Epochs 1/1. Running Loss:    0.0036:  40%|█▌  | 408/1032 [1:04:48<1:49:50, 10.56s/it]\u001b[A\n",
            "Epochs 1/1. Running Loss:    0.0036:  40%|█▌  | 409/1032 [1:04:55<1:51:09, 10.71s/it]\u001b[A\n",
            "Epochs 1/1. Running Loss:    0.0059:  40%|█▌  | 409/1032 [1:04:59<1:51:09, 10.71s/it]\u001b[A\n",
            "Epochs 1/1. Running Loss:    0.0059:  40%|█▌  | 410/1032 [1:05:06<1:51:02, 10.71s/it]\u001b[A\n",
            "Epochs 1/1. Running Loss:    0.0011:  40%|█▌  | 410/1032 [1:05:10<1:51:02, 10.71s/it]\u001b[A\n",
            "Epochs 1/1. Running Loss:    0.0011:  40%|█▌  | 411/1032 [1:05:17<1:52:01, 10.82s/it]\u001b[A\n",
            "Epochs 1/1. Running Loss:    0.2787:  40%|█▌  | 411/1032 [1:05:20<1:52:01, 10.82s/it]\u001b[A\n",
            "Epochs 1/1. Running Loss:    0.2787:  40%|█▌  | 412/1032 [1:05:27<1:49:59, 10.65s/it]\u001b[A\n",
            "Epochs 1/1. Running Loss:    0.0150:  40%|█▌  | 412/1032 [1:05:31<1:49:59, 10.65s/it]\u001b[A\n",
            "Epochs 1/1. Running Loss:    0.0150:  40%|█▌  | 413/1032 [1:05:38<1:50:13, 10.68s/it]\u001b[A\n",
            "Epochs 1/1. Running Loss:    0.0041:  40%|█▌  | 413/1032 [1:05:41<1:50:13, 10.68s/it]\u001b[A\n",
            "Epochs 1/1. Running Loss:    0.0041:  40%|█▌  | 414/1032 [1:05:48<1:47:52, 10.47s/it]\u001b[A\n",
            "Epochs 1/1. Running Loss:    0.0090:  40%|█▌  | 414/1032 [1:05:51<1:47:52, 10.47s/it]\u001b[A\n",
            "Epochs 1/1. Running Loss:    0.0090:  40%|█▌  | 415/1032 [1:05:57<1:44:18, 10.14s/it]\u001b[A\n",
            "Epochs 1/1. Running Loss:    0.0029:  40%|█▌  | 415/1032 [1:06:01<1:44:18, 10.14s/it]\u001b[A\n",
            "Epochs 1/1. Running Loss:    0.0029:  40%|█▌  | 416/1032 [1:06:08<1:46:05, 10.33s/it]\u001b[A\n",
            "Epochs 1/1. Running Loss:    0.0009:  40%|█▌  | 416/1032 [1:06:12<1:46:05, 10.33s/it]\u001b[A\n",
            "Epochs 1/1. Running Loss:    0.0009:  40%|█▌  | 417/1032 [1:06:19<1:47:33, 10.49s/it]\u001b[A\n",
            "Epochs 1/1. Running Loss:    0.0025:  40%|█▌  | 417/1032 [1:06:23<1:47:33, 10.49s/it]\u001b[A\n",
            "Epochs 1/1. Running Loss:    0.0025:  41%|█▌  | 418/1032 [1:06:29<1:46:48, 10.44s/it]\u001b[A\n",
            "Epochs 1/1. Running Loss:    0.0010:  41%|█▌  | 418/1032 [1:06:33<1:46:48, 10.44s/it]\u001b[A\n",
            "Epochs 1/1. Running Loss:    0.0010:  41%|█▌  | 419/1032 [1:06:40<1:46:46, 10.45s/it]\u001b[A\n",
            "Epochs 1/1. Running Loss:    0.5151:  41%|█▌  | 419/1032 [1:06:43<1:46:46, 10.45s/it]\u001b[A\n",
            "Epochs 1/1. Running Loss:    0.5151:  41%|█▋  | 420/1032 [1:06:50<1:46:52, 10.48s/it]\u001b[A\n",
            "Epochs 1/1. Running Loss:    0.0107:  41%|█▋  | 420/1032 [1:06:54<1:46:52, 10.48s/it]\u001b[A\n",
            "Epochs 1/1. Running Loss:    0.0107:  41%|█▋  | 421/1032 [1:07:01<1:48:16, 10.63s/it]\u001b[A\n",
            "Epochs 1/1. Running Loss:    0.2337:  41%|█▋  | 421/1032 [1:07:05<1:48:16, 10.63s/it]\u001b[A\n",
            "Epochs 1/1. Running Loss:    0.2337:  41%|█▋  | 422/1032 [1:07:11<1:46:13, 10.45s/it]\u001b[A\n",
            "Epochs 1/1. Running Loss:    0.0012:  41%|█▋  | 422/1032 [1:07:14<1:46:13, 10.45s/it]\u001b[A\n",
            "Epochs 1/1. Running Loss:    0.0012:  41%|█▋  | 423/1032 [1:07:21<1:43:27, 10.19s/it]\u001b[A\n",
            "Epochs 1/1. Running Loss:    0.3751:  41%|█▋  | 423/1032 [1:07:24<1:43:27, 10.19s/it]\u001b[A\n",
            "Epochs 1/1. Running Loss:    0.3751:  41%|█▋  | 424/1032 [1:07:32<1:45:20, 10.39s/it]\u001b[A\n",
            "Epochs 1/1. Running Loss:    0.0015:  41%|█▋  | 424/1032 [1:07:35<1:45:20, 10.39s/it]\u001b[A\n",
            "Epochs 1/1. Running Loss:    0.0015:  41%|█▋  | 425/1032 [1:07:42<1:46:46, 10.55s/it]\u001b[A\n",
            "Epochs 1/1. Running Loss:    0.3587:  41%|█▋  | 425/1032 [1:07:46<1:46:46, 10.55s/it]\u001b[A\n",
            "Epochs 1/1. Running Loss:    0.3587:  41%|█▋  | 426/1032 [1:07:53<1:46:12, 10.52s/it]\u001b[A\n",
            "Epochs 1/1. Running Loss:    0.0028:  41%|█▋  | 426/1032 [1:07:57<1:46:12, 10.52s/it]\u001b[A\n",
            "Epochs 1/1. Running Loss:    0.0028:  41%|█▋  | 427/1032 [1:08:04<1:47:43, 10.68s/it]\u001b[A\n",
            "Epochs 1/1. Running Loss:    0.0033:  41%|█▋  | 427/1032 [1:08:07<1:47:43, 10.68s/it]\u001b[A\n",
            "Epochs 1/1. Running Loss:    0.0033:  41%|█▋  | 428/1032 [1:08:13<1:41:51, 10.12s/it]\u001b[A\n",
            "Epochs 1/1. Running Loss:    0.0017:  41%|█▋  | 428/1032 [1:08:17<1:41:51, 10.12s/it]\u001b[A\n",
            "Epochs 1/1. Running Loss:    0.0017:  42%|█▋  | 429/1032 [1:08:24<1:43:41, 10.32s/it]\u001b[A\n",
            "Epochs 1/1. Running Loss:    0.0014:  42%|█▋  | 429/1032 [1:08:27<1:43:41, 10.32s/it]\u001b[A\n",
            "Epochs 1/1. Running Loss:    0.0014:  42%|█▋  | 430/1032 [1:08:34<1:45:12, 10.49s/it]\u001b[A\n",
            "Epochs 1/1. Running Loss:    0.0020:  42%|█▋  | 430/1032 [1:08:38<1:45:12, 10.49s/it]\u001b[A\n",
            "Epochs 1/1. Running Loss:    0.0020:  42%|█▋  | 431/1032 [1:08:46<1:48:10, 10.80s/it]\u001b[A\n",
            "Epochs 1/1. Running Loss:    0.5215:  42%|█▋  | 431/1032 [1:08:50<1:48:10, 10.80s/it]\u001b[A\n",
            "Epochs 1/1. Running Loss:    0.5215:  42%|█▋  | 432/1032 [1:08:58<1:52:16, 11.23s/it]\u001b[A\n",
            "Epochs 1/1. Running Loss:    0.0028:  42%|█▋  | 432/1032 [1:09:02<1:52:16, 11.23s/it]\u001b[A\n",
            "Epochs 1/1. Running Loss:    0.0028:  42%|█▋  | 433/1032 [1:09:10<1:53:17, 11.35s/it]\u001b[A\n",
            "Epochs 1/1. Running Loss:    0.0097:  42%|█▋  | 433/1032 [1:09:14<1:53:17, 11.35s/it]\u001b[A\n",
            "Epochs 1/1. Running Loss:    0.0097:  42%|█▋  | 434/1032 [1:09:21<1:52:45, 11.31s/it]\u001b[A\n",
            "Epochs 1/1. Running Loss:    0.0021:  42%|█▋  | 434/1032 [1:09:25<1:52:45, 11.31s/it]\u001b[A\n",
            "Epochs 1/1. Running Loss:    0.0021:  42%|█▋  | 435/1032 [1:09:31<1:46:59, 10.75s/it]\u001b[A\n",
            "Epochs 1/1. Running Loss:    0.0034:  42%|█▋  | 435/1032 [1:09:34<1:46:59, 10.75s/it]\u001b[A\n",
            "Epochs 1/1. Running Loss:    0.0034:  42%|█▋  | 436/1032 [1:09:41<1:47:28, 10.82s/it]\u001b[A\n",
            "Epochs 1/1. Running Loss:    0.1034:  42%|█▋  | 436/1032 [1:09:45<1:47:28, 10.82s/it]\u001b[A\n",
            "Epochs 1/1. Running Loss:    0.1034:  42%|█▋  | 437/1032 [1:09:50<1:41:26, 10.23s/it]\u001b[A\n",
            "Epochs 1/1. Running Loss:    0.0011:  42%|█▋  | 437/1032 [1:09:54<1:41:26, 10.23s/it]\u001b[A\n",
            "Epochs 1/1. Running Loss:    0.0011:  42%|█▋  | 438/1032 [1:10:01<1:43:17, 10.43s/it]\u001b[A\n",
            "Epochs 1/1. Running Loss:    0.0585:  42%|█▋  | 438/1032 [1:10:04<1:43:17, 10.43s/it]\u001b[A\n",
            "Epochs 1/1. Running Loss:    0.0585:  43%|█▋  | 439/1032 [1:10:10<1:36:56,  9.81s/it]\u001b[A\n",
            "Epochs 1/1. Running Loss:    0.0008:  43%|█▋  | 439/1032 [1:10:13<1:36:56,  9.81s/it]\u001b[A\n",
            "Epochs 1/1. Running Loss:    0.0008:  43%|█▋  | 440/1032 [1:10:20<1:39:38, 10.10s/it]\u001b[A\n",
            "Epochs 1/1. Running Loss:    0.0193:  43%|█▋  | 440/1032 [1:10:24<1:39:38, 10.10s/it]\u001b[A\n",
            "Epochs 1/1. Running Loss:    0.0193:  43%|█▋  | 441/1032 [1:10:31<1:39:52, 10.14s/it]\u001b[A\n",
            "Epochs 1/1. Running Loss:    0.0010:  43%|█▋  | 441/1032 [1:10:33<1:39:52, 10.14s/it]\u001b[A\n",
            "Epochs 1/1. Running Loss:    0.0010:  43%|█▋  | 442/1032 [1:10:40<1:37:24,  9.91s/it]\u001b[A\n",
            "Epochs 1/1. Running Loss:    0.0010:  43%|█▋  | 442/1032 [1:10:43<1:37:24,  9.91s/it]\u001b[A\n",
            "Epochs 1/1. Running Loss:    0.0010:  43%|█▋  | 443/1032 [1:10:50<1:36:26,  9.82s/it]\u001b[A\n",
            "Epochs 1/1. Running Loss:    0.0014:  43%|█▋  | 443/1032 [1:10:54<1:36:26,  9.82s/it]\u001b[A\n",
            "Epochs 1/1. Running Loss:    0.0014:  43%|█▋  | 444/1032 [1:10:59<1:33:50,  9.57s/it]\u001b[A\n",
            "Epochs 1/1. Running Loss:    0.1200:  43%|█▋  | 444/1032 [1:11:02<1:33:50,  9.57s/it]\u001b[A\n",
            "Epochs 1/1. Running Loss:    0.1200:  43%|█▋  | 445/1032 [1:11:09<1:36:22,  9.85s/it]\u001b[A\n",
            "Epochs 1/1. Running Loss:    0.0006:  43%|█▋  | 445/1032 [1:11:13<1:36:22,  9.85s/it]\u001b[A\n",
            "Epochs 1/1. Running Loss:    0.0006:  43%|█▋  | 446/1032 [1:11:18<1:32:41,  9.49s/it]\u001b[A\n",
            "Epochs 1/1. Running Loss:    0.0178:  43%|█▋  | 446/1032 [1:11:22<1:32:41,  9.49s/it]\u001b[A\n",
            "Epochs 1/1. Running Loss:    0.0178:  43%|█▋  | 447/1032 [1:11:29<1:36:41,  9.92s/it]\u001b[A\n",
            "Epochs 1/1. Running Loss:    0.0009:  43%|█▋  | 447/1032 [1:11:31<1:36:41,  9.92s/it]\u001b[A\n",
            "Epochs 1/1. Running Loss:    0.0009:  43%|█▋  | 448/1032 [1:11:37<1:30:42,  9.32s/it]\u001b[A\n",
            "Epochs 1/1. Running Loss:    0.5048:  43%|█▋  | 448/1032 [1:11:40<1:30:42,  9.32s/it]\u001b[A\n",
            "Epochs 1/1. Running Loss:    0.5048:  44%|█▋  | 449/1032 [1:11:46<1:31:33,  9.42s/it]\u001b[A\n",
            "Epochs 1/1. Running Loss:    0.0048:  44%|█▋  | 449/1032 [1:11:49<1:31:33,  9.42s/it]\u001b[A\n",
            "Epochs 1/1. Running Loss:    0.0048:  44%|█▋  | 450/1032 [1:11:54<1:26:50,  8.95s/it]\u001b[A\n",
            "Epochs 1/1. Running Loss:    0.0032:  44%|█▋  | 450/1032 [1:11:57<1:26:50,  8.95s/it]\u001b[A\n",
            "Epochs 1/1. Running Loss:    0.0032:  44%|█▋  | 451/1032 [1:12:02<1:24:22,  8.71s/it]\u001b[A\n",
            "Epochs 1/1. Running Loss:    0.0011:  44%|█▋  | 451/1032 [1:12:06<1:24:22,  8.71s/it]\u001b[A\n",
            "Epochs 1/1. Running Loss:    0.0011:  44%|█▊  | 452/1032 [1:12:13<1:30:46,  9.39s/it]\u001b[A\n",
            "Epochs 1/1. Running Loss:    0.0249:  44%|█▊  | 452/1032 [1:12:17<1:30:46,  9.39s/it]\u001b[A\n",
            "Epochs 1/1. Running Loss:    0.0249:  44%|█▊  | 453/1032 [1:12:22<1:28:17,  9.15s/it]\u001b[A\n",
            "Epochs 1/1. Running Loss:    0.0014:  44%|█▊  | 453/1032 [1:12:25<1:28:17,  9.15s/it]\u001b[A\n",
            "Epochs 1/1. Running Loss:    0.0014:  44%|█▊  | 454/1032 [1:12:31<1:28:14,  9.16s/it]\u001b[A\n",
            "Epochs 1/1. Running Loss:    0.0031:  44%|█▊  | 454/1032 [1:12:35<1:28:14,  9.16s/it]\u001b[A\n",
            "Epochs 1/1. Running Loss:    0.0031:  44%|█▊  | 455/1032 [1:12:41<1:30:05,  9.37s/it]\u001b[A\n",
            "Epochs 1/1. Running Loss:    0.0010:  44%|█▊  | 455/1032 [1:12:44<1:30:05,  9.37s/it]\u001b[A\n",
            "Epochs 1/1. Running Loss:    0.0010:  44%|█▊  | 456/1032 [1:12:51<1:31:53,  9.57s/it]\u001b[A\n",
            "Epochs 1/1. Running Loss:    0.0024:  44%|█▊  | 456/1032 [1:12:54<1:31:53,  9.57s/it]\u001b[A\n",
            "Epochs 1/1. Running Loss:    0.0024:  44%|█▊  | 457/1032 [1:12:59<1:28:29,  9.23s/it]\u001b[A\n",
            "Epochs 1/1. Running Loss:    0.2855:  44%|█▊  | 457/1032 [1:13:03<1:28:29,  9.23s/it]\u001b[A\n",
            "Epochs 1/1. Running Loss:    0.2855:  44%|█▊  | 458/1032 [1:13:09<1:29:08,  9.32s/it]\u001b[A\n",
            "Epochs 1/1. Running Loss:    0.0014:  44%|█▊  | 458/1032 [1:13:13<1:29:08,  9.32s/it]\u001b[A\n",
            "Epochs 1/1. Running Loss:    0.0014:  44%|█▊  | 459/1032 [1:13:19<1:32:42,  9.71s/it]\u001b[A\n",
            "Epochs 1/1. Running Loss:    0.0015:  44%|█▊  | 459/1032 [1:13:22<1:32:42,  9.71s/it]\u001b[A\n",
            "Epochs 1/1. Running Loss:    0.0015:  45%|█▊  | 460/1032 [1:13:29<1:32:27,  9.70s/it]\u001b[A\n",
            "Epochs 1/1. Running Loss:    0.0012:  45%|█▊  | 460/1032 [1:13:32<1:32:27,  9.70s/it]\u001b[A\n",
            "Epochs 1/1. Running Loss:    0.0012:  45%|█▊  | 461/1032 [1:13:39<1:31:46,  9.64s/it]\u001b[A\n",
            "Epochs 1/1. Running Loss:    0.0017:  45%|█▊  | 461/1032 [1:13:42<1:31:46,  9.64s/it]\u001b[A\n",
            "Epochs 1/1. Running Loss:    0.0017:  45%|█▊  | 462/1032 [1:13:49<1:33:25,  9.83s/it]\u001b[A\n",
            "Epochs 1/1. Running Loss:    0.0278:  45%|█▊  | 462/1032 [1:13:53<1:33:25,  9.83s/it]\u001b[A\n",
            "Epochs 1/1. Running Loss:    0.0278:  45%|█▊  | 463/1032 [1:13:58<1:29:45,  9.46s/it]\u001b[A\n",
            "Epochs 1/1. Running Loss:    0.0035:  45%|█▊  | 463/1032 [1:14:00<1:29:45,  9.46s/it]\u001b[A\n",
            "Epochs 1/1. Running Loss:    0.0035:  45%|█▊  | 464/1032 [1:14:06<1:27:10,  9.21s/it]\u001b[A\n",
            "Epochs 1/1. Running Loss:    0.0276:  45%|█▊  | 464/1032 [1:14:10<1:27:10,  9.21s/it]\u001b[A\n",
            "Epochs 1/1. Running Loss:    0.0276:  45%|█▊  | 465/1032 [1:14:17<1:31:10,  9.65s/it]\u001b[A\n",
            "Epochs 1/1. Running Loss:    0.0024:  45%|█▊  | 465/1032 [1:14:21<1:31:10,  9.65s/it]\u001b[A\n",
            "Epochs 1/1. Running Loss:    0.0024:  45%|█▊  | 466/1032 [1:14:27<1:31:23,  9.69s/it]\u001b[A\n",
            "Epochs 1/1. Running Loss:    0.0014:  45%|█▊  | 466/1032 [1:14:30<1:31:23,  9.69s/it]\u001b[A\n",
            "Epochs 1/1. Running Loss:    0.0014:  45%|█▊  | 467/1032 [1:14:35<1:27:06,  9.25s/it]\u001b[A\n",
            "Epochs 1/1. Running Loss:    0.0017:  45%|█▊  | 467/1032 [1:14:38<1:27:06,  9.25s/it]\u001b[A\n",
            "Epochs 1/1. Running Loss:    0.0017:  45%|█▊  | 468/1032 [1:14:45<1:30:46,  9.66s/it]\u001b[A\n",
            "Epochs 1/1. Running Loss:    0.0204:  45%|█▊  | 468/1032 [1:14:49<1:30:46,  9.66s/it]\u001b[A\n",
            "Epochs 1/1. Running Loss:    0.0204:  45%|█▊  | 469/1032 [1:14:57<1:34:40, 10.09s/it]\u001b[A\n",
            "Epochs 1/1. Running Loss:    0.0008:  45%|█▊  | 469/1032 [1:15:00<1:34:40, 10.09s/it]\u001b[A\n",
            "Epochs 1/1. Running Loss:    0.0008:  46%|█▊  | 470/1032 [1:15:06<1:32:01,  9.82s/it]\u001b[A\n",
            "Epochs 1/1. Running Loss:    0.0006:  46%|█▊  | 470/1032 [1:15:10<1:32:01,  9.82s/it]\u001b[A\n",
            "Epochs 1/1. Running Loss:    0.0006:  46%|█▊  | 471/1032 [1:15:17<1:34:44, 10.13s/it]\u001b[A\n",
            "Epochs 1/1. Running Loss:    0.0006:  46%|█▊  | 471/1032 [1:15:20<1:34:44, 10.13s/it]\u001b[A\n",
            "Epochs 1/1. Running Loss:    0.0006:  46%|█▊  | 472/1032 [1:15:25<1:30:59,  9.75s/it]\u001b[A\n",
            "Epochs 1/1. Running Loss:    0.0093:  46%|█▊  | 472/1032 [1:15:28<1:30:59,  9.75s/it]\u001b[A\n",
            "Epochs 1/1. Running Loss:    0.0093:  46%|█▊  | 473/1032 [1:15:34<1:27:49,  9.43s/it]\u001b[A\n",
            "Epochs 1/1. Running Loss:    0.6656:  46%|█▊  | 473/1032 [1:15:38<1:27:49,  9.43s/it]\u001b[A\n",
            "Epochs 1/1. Running Loss:    0.6656:  46%|█▊  | 474/1032 [1:15:45<1:32:08,  9.91s/it]\u001b[A\n",
            "Epochs 1/1. Running Loss:    0.0157:  46%|█▊  | 474/1032 [1:15:49<1:32:08,  9.91s/it]\u001b[A\n",
            "Epochs 1/1. Running Loss:    0.0157:  46%|█▊  | 475/1032 [1:15:56<1:34:09, 10.14s/it]\u001b[A\n",
            "Epochs 1/1. Running Loss:    0.0006:  46%|█▊  | 475/1032 [1:16:00<1:34:09, 10.14s/it]\u001b[A\n",
            "Epochs 1/1. Running Loss:    0.0006:  46%|█▊  | 476/1032 [1:16:05<1:32:12,  9.95s/it]\u001b[A\n",
            "Epochs 1/1. Running Loss:    0.0005:  46%|█▊  | 476/1032 [1:16:08<1:32:12,  9.95s/it]\u001b[A\n",
            "Epochs 1/1. Running Loss:    0.0005:  46%|█▊  | 477/1032 [1:16:14<1:29:09,  9.64s/it]\u001b[A\n",
            "Epochs 1/1. Running Loss:    0.0007:  46%|█▊  | 477/1032 [1:16:18<1:29:09,  9.64s/it]\u001b[A\n",
            "Epochs 1/1. Running Loss:    0.0007:  46%|█▊  | 478/1032 [1:16:25<1:33:01, 10.07s/it]\u001b[A\n",
            "Epochs 1/1. Running Loss:    0.0014:  46%|█▊  | 478/1032 [1:16:29<1:33:01, 10.07s/it]\u001b[A\n",
            "Epochs 1/1. Running Loss:    0.0014:  46%|█▊  | 479/1032 [1:16:37<1:37:22, 10.56s/it]\u001b[A\n",
            "Epochs 1/1. Running Loss:    0.0009:  46%|█▊  | 479/1032 [1:16:40<1:37:22, 10.56s/it]\u001b[A\n",
            "Epochs 1/1. Running Loss:    0.0009:  47%|█▊  | 480/1032 [1:16:48<1:38:59, 10.76s/it]\u001b[A\n",
            "Epochs 1/1. Running Loss:    0.0006:  47%|█▊  | 480/1032 [1:16:52<1:38:59, 10.76s/it]\u001b[A\n",
            "Epochs 1/1. Running Loss:    0.0006:  47%|█▊  | 481/1032 [1:16:58<1:35:44, 10.43s/it]\u001b[A\n",
            "Epochs 1/1. Running Loss:    0.3206:  47%|█▊  | 481/1032 [1:17:02<1:35:44, 10.43s/it]\u001b[A\n",
            "Epochs 1/1. Running Loss:    0.3206:  47%|█▊  | 482/1032 [1:17:09<1:38:21, 10.73s/it]\u001b[A\n",
            "Epochs 1/1. Running Loss:    0.0941:  47%|█▊  | 482/1032 [1:17:13<1:38:21, 10.73s/it]\u001b[A\n",
            "Epochs 1/1. Running Loss:    0.0941:  47%|█▊  | 483/1032 [1:17:20<1:36:34, 10.55s/it]\u001b[A\n",
            "Epochs 1/1. Running Loss:    0.0020:  47%|█▊  | 483/1032 [1:17:23<1:36:34, 10.55s/it]\u001b[A\n",
            "Epochs 1/1. Running Loss:    0.0020:  47%|█▉  | 484/1032 [1:17:29<1:33:32, 10.24s/it]\u001b[A\n",
            "Epochs 1/1. Running Loss:    0.0005:  47%|█▉  | 484/1032 [1:17:33<1:33:32, 10.24s/it]\u001b[A\n",
            "Epochs 1/1. Running Loss:    0.0005:  47%|█▉  | 485/1032 [1:17:42<1:40:31, 11.03s/it]\u001b[A\n",
            "Epochs 1/1. Running Loss:    0.0004:  47%|█▉  | 485/1032 [1:17:45<1:40:31, 11.03s/it]\u001b[A\n",
            "Epochs 1/1. Running Loss:    0.0004:  47%|█▉  | 486/1032 [1:17:51<1:34:57, 10.43s/it]\u001b[A\n",
            "Epochs 1/1. Running Loss:    0.0012:  47%|█▉  | 486/1032 [1:17:54<1:34:57, 10.43s/it]\u001b[A\n",
            "Epochs 1/1. Running Loss:    0.0012:  47%|█▉  | 487/1032 [1:18:01<1:33:15, 10.27s/it]\u001b[A\n",
            "Epochs 1/1. Running Loss:    0.0012:  47%|█▉  | 487/1032 [1:18:05<1:33:15, 10.27s/it]\u001b[A\n",
            "Epochs 1/1. Running Loss:    0.0012:  47%|█▉  | 488/1032 [1:18:12<1:35:26, 10.53s/it]\u001b[A\n",
            "Epochs 1/1. Running Loss:    0.0037:  47%|█▉  | 488/1032 [1:18:16<1:35:26, 10.53s/it]\u001b[A\n",
            "Epochs 1/1. Running Loss:    0.0037:  47%|█▉  | 489/1032 [1:18:22<1:34:05, 10.40s/it]\u001b[A\n",
            "Epochs 1/1. Running Loss:    0.0005:  47%|█▉  | 489/1032 [1:18:25<1:34:05, 10.40s/it]\u001b[A\n",
            "Epochs 1/1. Running Loss:    0.0005:  47%|█▉  | 490/1032 [1:18:32<1:33:15, 10.32s/it]\u001b[A\n",
            "Epochs 1/1. Running Loss:    0.0005:  47%|█▉  | 490/1032 [1:18:36<1:33:15, 10.32s/it]\u001b[A\n",
            "Epochs 1/1. Running Loss:    0.0005:  48%|█▉  | 491/1032 [1:18:43<1:34:34, 10.49s/it]\u001b[A\n",
            "Epochs 1/1. Running Loss:    0.0047:  48%|█▉  | 491/1032 [1:18:46<1:34:34, 10.49s/it]\u001b[A\n",
            "Epochs 1/1. Running Loss:    0.0047:  48%|█▉  | 492/1032 [1:18:52<1:30:26, 10.05s/it]\u001b[A\n",
            "Epochs 1/1. Running Loss:    0.0006:  48%|█▉  | 492/1032 [1:18:55<1:30:26, 10.05s/it]\u001b[A\n",
            "Epochs 1/1. Running Loss:    0.0006:  48%|█▉  | 493/1032 [1:19:01<1:26:16,  9.60s/it]\u001b[A\n",
            "Epochs 1/1. Running Loss:    0.0006:  48%|█▉  | 493/1032 [1:19:05<1:26:16,  9.60s/it]\u001b[A\n",
            "Epochs 1/1. Running Loss:    0.0006:  48%|█▉  | 494/1032 [1:19:12<1:30:11, 10.06s/it]\u001b[A\n",
            "Epochs 1/1. Running Loss:    0.0223:  48%|█▉  | 494/1032 [1:19:16<1:30:11, 10.06s/it]\u001b[A\n",
            "Epochs 1/1. Running Loss:    0.0223:  48%|█▉  | 495/1032 [1:19:23<1:32:55, 10.38s/it]\u001b[A\n",
            "Epochs 1/1. Running Loss:    0.0021:  48%|█▉  | 495/1032 [1:19:27<1:32:55, 10.38s/it]\u001b[A\n",
            "Epochs 1/1. Running Loss:    0.0021:  48%|█▉  | 496/1032 [1:19:34<1:33:47, 10.50s/it]\u001b[A\n",
            "Epochs 1/1. Running Loss:    0.0005:  48%|█▉  | 496/1032 [1:19:36<1:33:47, 10.50s/it]\u001b[A\n",
            "Epochs 1/1. Running Loss:    0.0005:  48%|█▉  | 497/1032 [1:19:42<1:28:33,  9.93s/it]\u001b[A\n",
            "Epochs 1/1. Running Loss:    0.4491:  48%|█▉  | 497/1032 [1:19:45<1:28:33,  9.93s/it]\u001b[A\n",
            "Epochs 1/1. Running Loss:    0.4491:  48%|█▉  | 498/1032 [1:19:51<1:25:25,  9.60s/it]\u001b[A\n",
            "Epochs 1/1. Running Loss:    0.0004:  48%|█▉  | 498/1032 [1:19:55<1:25:25,  9.60s/it]\u001b[A\n",
            "Epochs 1/1. Running Loss:    0.0004:  48%|█▉  | 499/1032 [1:20:02<1:28:13,  9.93s/it]\u001b[A\n",
            "Epochs 1/1. Running Loss:    0.0010:  48%|█▉  | 499/1032 [1:20:06<1:28:13,  9.93s/it]\u001b[A\n",
            "Epochs 1/1. Running Loss:    0.0010:  48%|█▉  | 500/1032 [1:20:13<1:31:12, 10.29s/it]\u001b[A\n",
            "Epochs 1/1. Running Loss:    0.0005:  48%|█▉  | 500/1032 [1:20:17<1:31:12, 10.29s/it]\u001b[A\n",
            "Epochs 1/1. Running Loss:    0.0005:  49%|█▉  | 501/1032 [1:20:24<1:33:16, 10.54s/it]\u001b[A\n",
            "Epochs 1/1. Running Loss:    0.0004:  49%|█▉  | 501/1032 [1:20:28<1:33:16, 10.54s/it]\u001b[A\n",
            "Epochs 1/1. Running Loss:    0.0004:  49%|█▉  | 502/1032 [1:20:35<1:33:29, 10.58s/it]\u001b[A\n",
            "Epochs 1/1. Running Loss:    0.0063:  49%|█▉  | 502/1032 [1:20:37<1:33:29, 10.58s/it]\u001b[A\n",
            "Epochs 1/1. Running Loss:    0.0063:  49%|█▉  | 503/1032 [1:20:44<1:30:58, 10.32s/it]\u001b[A\n",
            "Epochs 1/1. Running Loss:    0.0005:  49%|█▉  | 503/1032 [1:20:48<1:30:58, 10.32s/it]\u001b[A\n",
            "Epochs 1/1. Running Loss:    0.0005:  49%|█▉  | 504/1032 [1:20:56<1:33:08, 10.58s/it]\u001b[A\n",
            "Epochs 1/1. Running Loss:    0.1247:  49%|█▉  | 504/1032 [1:20:58<1:33:08, 10.58s/it]\u001b[A\n",
            "Epochs 1/1. Running Loss:    0.1247:  49%|█▉  | 505/1032 [1:21:05<1:30:30, 10.31s/it]\u001b[A\n",
            "Epochs 1/1. Running Loss:    0.0005:  49%|█▉  | 505/1032 [1:21:09<1:30:30, 10.31s/it]\u001b[A\n",
            "Epochs 1/1. Running Loss:    0.0005:  49%|█▉  | 506/1032 [1:21:16<1:31:35, 10.45s/it]\u001b[A\n",
            "Epochs 1/1. Running Loss:    0.2029:  49%|█▉  | 506/1032 [1:21:19<1:31:35, 10.45s/it]\u001b[A\n",
            "Epochs 1/1. Running Loss:    0.2029:  49%|█▉  | 507/1032 [1:21:25<1:27:45, 10.03s/it]\u001b[A\n",
            "Epochs 1/1. Running Loss:    0.0005:  49%|█▉  | 507/1032 [1:21:28<1:27:45, 10.03s/it]\u001b[A\n",
            "Epochs 1/1. Running Loss:    0.0005:  49%|█▉  | 508/1032 [1:21:34<1:23:19,  9.54s/it]\u001b[A\n",
            "Epochs 1/1. Running Loss:    0.0274:  49%|█▉  | 508/1032 [1:21:37<1:23:19,  9.54s/it]\u001b[A\n",
            "Epochs 1/1. Running Loss:    0.0274:  49%|█▉  | 509/1032 [1:21:45<1:27:18, 10.02s/it]\u001b[A\n",
            "Epochs 1/1. Running Loss:    0.0016:  49%|█▉  | 509/1032 [1:21:48<1:27:18, 10.02s/it]\u001b[A\n",
            "Epochs 1/1. Running Loss:    0.0016:  49%|█▉  | 510/1032 [1:21:53<1:23:39,  9.62s/it]\u001b[A\n",
            "Epochs 1/1. Running Loss:    0.0006:  49%|█▉  | 510/1032 [1:21:56<1:23:39,  9.62s/it]\u001b[A\n",
            "Epochs 1/1. Running Loss:    0.0006:  50%|█▉  | 511/1032 [1:22:04<1:25:03,  9.80s/it]\u001b[A\n",
            "Epochs 1/1. Running Loss:    0.0006:  50%|█▉  | 511/1032 [1:22:08<1:25:03,  9.80s/it]\u001b[A\n",
            "Epochs 1/1. Running Loss:    0.0006:  50%|█▉  | 512/1032 [1:22:15<1:29:04, 10.28s/it]\u001b[A\n",
            "Epochs 1/1. Running Loss:    0.0008:  50%|█▉  | 512/1032 [1:22:19<1:29:04, 10.28s/it]\u001b[A\n",
            "Epochs 1/1. Running Loss:    0.0008:  50%|█▉  | 513/1032 [1:22:26<1:31:11, 10.54s/it]\u001b[A\n",
            "Epochs 1/1. Running Loss:    0.0136:  50%|█▉  | 513/1032 [1:22:30<1:31:11, 10.54s/it]\u001b[A\n",
            "Epochs 1/1. Running Loss:    0.0136:  50%|█▉  | 514/1032 [1:22:37<1:32:57, 10.77s/it]\u001b[A\n",
            "Epochs 1/1. Running Loss:    0.0014:  50%|█▉  | 514/1032 [1:22:41<1:32:57, 10.77s/it]\u001b[A\n",
            "Epochs 1/1. Running Loss:    0.0014:  50%|█▉  | 515/1032 [1:22:47<1:30:55, 10.55s/it]\u001b[A\n",
            "Epochs 1/1. Running Loss:    0.5503:  50%|█▉  | 515/1032 [1:22:51<1:30:55, 10.55s/it]\u001b[A\n",
            "Epochs 1/1. Running Loss:    0.5503:  50%|██  | 516/1032 [1:23:00<1:34:53, 11.03s/it]\u001b[A\n",
            "Epochs 1/1. Running Loss:    0.0910:  50%|██  | 516/1032 [1:23:04<1:34:53, 11.03s/it]\u001b[A\n",
            "Epochs 1/1. Running Loss:    0.0910:  50%|██  | 517/1032 [1:23:11<1:36:45, 11.27s/it]\u001b[A\n",
            "Epochs 1/1. Running Loss:    0.0013:  50%|██  | 517/1032 [1:23:15<1:36:45, 11.27s/it]\u001b[A\n",
            "Epochs 1/1. Running Loss:    0.0013:  50%|██  | 518/1032 [1:23:22<1:35:47, 11.18s/it]\u001b[A\n",
            "Epochs 1/1. Running Loss:    0.0010:  50%|██  | 518/1032 [1:23:26<1:35:47, 11.18s/it]\u001b[A\n",
            "Epochs 1/1. Running Loss:    0.0010:  50%|██  | 519/1032 [1:23:33<1:34:03, 11.00s/it]\u001b[A\n",
            "Epochs 1/1. Running Loss:    0.5926:  50%|██  | 519/1032 [1:23:36<1:34:03, 11.00s/it]\u001b[A\n",
            "Epochs 1/1. Running Loss:    0.5926:  50%|██  | 520/1032 [1:23:42<1:28:38, 10.39s/it]\u001b[A\n",
            "Epochs 1/1. Running Loss:    0.0005:  50%|██  | 520/1032 [1:23:45<1:28:38, 10.39s/it]\u001b[A\n",
            "Epochs 1/1. Running Loss:    0.0005:  50%|██  | 521/1032 [1:23:52<1:27:19, 10.25s/it]\u001b[A\n",
            "Epochs 1/1. Running Loss:    0.6685:  50%|██  | 521/1032 [1:23:56<1:27:19, 10.25s/it]\u001b[A\n",
            "Epochs 1/1. Running Loss:    0.6685:  51%|██  | 522/1032 [1:24:03<1:30:23, 10.63s/it]\u001b[A\n",
            "Epochs 1/1. Running Loss:    0.0007:  51%|██  | 522/1032 [1:24:07<1:30:23, 10.63s/it]\u001b[A\n",
            "Epochs 1/1. Running Loss:    0.0007:  51%|██  | 523/1032 [1:24:15<1:31:56, 10.84s/it]\u001b[A\n",
            "Epochs 1/1. Running Loss:    0.0011:  51%|██  | 523/1032 [1:24:19<1:31:56, 10.84s/it]\u001b[A\n",
            "Epochs 1/1. Running Loss:    0.0011:  51%|██  | 524/1032 [1:24:26<1:32:53, 10.97s/it]\u001b[A\n",
            "Epochs 1/1. Running Loss:    0.0019:  51%|██  | 524/1032 [1:24:30<1:32:53, 10.97s/it]\u001b[A\n",
            "Epochs 1/1. Running Loss:    0.0019:  51%|██  | 525/1032 [1:24:37<1:33:25, 11.06s/it]\u001b[A\n",
            "Epochs 1/1. Running Loss:    0.0005:  51%|██  | 525/1032 [1:24:41<1:33:25, 11.06s/it]\u001b[A\n",
            "Epochs 1/1. Running Loss:    0.0005:  51%|██  | 526/1032 [1:24:49<1:33:48, 11.12s/it]\u001b[A\n",
            "Epochs 1/1. Running Loss:    0.0751:  51%|██  | 526/1032 [1:24:53<1:33:48, 11.12s/it]\u001b[A\n",
            "Epochs 1/1. Running Loss:    0.0751:  51%|██  | 527/1032 [1:24:59<1:32:52, 11.03s/it]\u001b[A\n",
            "Epochs 1/1. Running Loss:    0.0009:  51%|██  | 527/1032 [1:25:03<1:32:52, 11.03s/it]\u001b[A\n",
            "Epochs 1/1. Running Loss:    0.0009:  51%|██  | 528/1032 [1:25:08<1:27:40, 10.44s/it]\u001b[A\n",
            "Epochs 1/1. Running Loss:    0.0015:  51%|██  | 528/1032 [1:25:12<1:27:40, 10.44s/it]\u001b[A\n",
            "Epochs 1/1. Running Loss:    0.0015:  51%|██  | 529/1032 [1:25:19<1:28:25, 10.55s/it]\u001b[A\n",
            "Epochs 1/1. Running Loss:    0.2814:  51%|██  | 529/1032 [1:25:23<1:28:25, 10.55s/it]\u001b[A\n",
            "Epochs 1/1. Running Loss:    0.2814:  51%|██  | 530/1032 [1:25:30<1:29:54, 10.75s/it]\u001b[A\n",
            "Epochs 1/1. Running Loss:    0.0605:  51%|██  | 530/1032 [1:25:35<1:29:54, 10.75s/it]\u001b[A\n",
            "Epochs 1/1. Running Loss:    0.0605:  51%|██  | 531/1032 [1:25:42<1:31:19, 10.94s/it]\u001b[A\n",
            "Epochs 1/1. Running Loss:    0.0013:  51%|██  | 531/1032 [1:25:46<1:31:19, 10.94s/it]\u001b[A\n",
            "Epochs 1/1. Running Loss:    0.0013:  52%|██  | 532/1032 [1:25:53<1:32:16, 11.07s/it]\u001b[A\n",
            "Epochs 1/1. Running Loss:    0.0036:  52%|██  | 532/1032 [1:25:57<1:32:16, 11.07s/it]\u001b[A\n",
            "Epochs 1/1. Running Loss:    0.0036:  52%|██  | 533/1032 [1:26:05<1:32:48, 11.16s/it]\u001b[A\n",
            "Epochs 1/1. Running Loss:    0.2890:  52%|██  | 533/1032 [1:26:08<1:32:48, 11.16s/it]\u001b[A\n",
            "Epochs 1/1. Running Loss:    0.2890:  52%|██  | 534/1032 [1:26:16<1:32:21, 11.13s/it]\u001b[A\n",
            "Epochs 1/1. Running Loss:    0.0010:  52%|██  | 534/1032 [1:26:20<1:32:21, 11.13s/it]\u001b[A\n",
            "Epochs 1/1. Running Loss:    0.0010:  52%|██  | 535/1032 [1:26:27<1:32:37, 11.18s/it]\u001b[A\n",
            "Epochs 1/1. Running Loss:    0.0163:  52%|██  | 535/1032 [1:26:31<1:32:37, 11.18s/it]\u001b[A\n",
            "Epochs 1/1. Running Loss:    0.0163:  52%|██  | 536/1032 [1:26:38<1:32:48, 11.23s/it]\u001b[A\n",
            "Epochs 1/1. Running Loss:    0.0022:  52%|██  | 536/1032 [1:26:42<1:32:48, 11.23s/it]\u001b[A\n",
            "Epochs 1/1. Running Loss:    0.0022:  52%|██  | 537/1032 [1:26:48<1:29:02, 10.79s/it]\u001b[A\n",
            "Epochs 1/1. Running Loss:    0.0020:  52%|██  | 537/1032 [1:26:52<1:29:02, 10.79s/it]\u001b[A\n",
            "Epochs 1/1. Running Loss:    0.0020:  52%|██  | 538/1032 [1:27:00<1:31:55, 11.16s/it]\u001b[A\n",
            "Epochs 1/1. Running Loss:    0.5076:  52%|██  | 538/1032 [1:27:04<1:31:55, 11.16s/it]\u001b[A\n",
            "Epochs 1/1. Running Loss:    0.5076:  52%|██  | 539/1032 [1:27:12<1:32:44, 11.29s/it]\u001b[A\n",
            "Epochs 1/1. Running Loss:    0.0036:  52%|██  | 539/1032 [1:27:16<1:32:44, 11.29s/it]\u001b[A\n",
            "Epochs 1/1. Running Loss:    0.0036:  52%|██  | 540/1032 [1:27:23<1:33:01, 11.34s/it]\u001b[A\n",
            "Epochs 1/1. Running Loss:    0.0013:  52%|██  | 540/1032 [1:27:27<1:33:01, 11.34s/it]\u001b[A\n",
            "Epochs 1/1. Running Loss:    0.0013:  52%|██  | 541/1032 [1:27:35<1:32:58, 11.36s/it]\u001b[A\n",
            "Epochs 1/1. Running Loss:    0.0011:  52%|██  | 541/1032 [1:27:39<1:32:58, 11.36s/it]\u001b[A\n",
            "Epochs 1/1. Running Loss:    0.0011:  53%|██  | 542/1032 [1:27:46<1:33:37, 11.46s/it]\u001b[A\n",
            "Epochs 1/1. Running Loss:    0.0007:  53%|██  | 542/1032 [1:27:49<1:33:37, 11.46s/it]\u001b[A\n",
            "Epochs 1/1. Running Loss:    0.0007:  53%|██  | 543/1032 [1:27:58<1:33:13, 11.44s/it]\u001b[A\n",
            "Epochs 1/1. Running Loss:    0.0010:  53%|██  | 543/1032 [1:28:02<1:33:13, 11.44s/it]\u001b[A\n",
            "Epochs 1/1. Running Loss:    0.0010:  53%|██  | 544/1032 [1:28:10<1:34:11, 11.58s/it]\u001b[A\n",
            "Epochs 1/1. Running Loss:    0.0016:  53%|██  | 544/1032 [1:28:14<1:34:11, 11.58s/it]\u001b[A\n",
            "Epochs 1/1. Running Loss:    0.0016:  53%|██  | 545/1032 [1:28:21<1:34:29, 11.64s/it]\u001b[A\n",
            "Epochs 1/1. Running Loss:    0.0009:  53%|██  | 545/1032 [1:28:26<1:34:29, 11.64s/it]\u001b[A\n",
            "Epochs 1/1. Running Loss:    0.0009:  53%|██  | 546/1032 [1:28:33<1:34:02, 11.61s/it]\u001b[A\n",
            "Epochs 1/1. Running Loss:    0.0017:  53%|██  | 546/1032 [1:28:37<1:34:02, 11.61s/it]\u001b[A\n",
            "Epochs 1/1. Running Loss:    0.0017:  53%|██  | 547/1032 [1:28:44<1:33:27, 11.56s/it]\u001b[A\n",
            "Epochs 1/1. Running Loss:    0.0011:  53%|██  | 547/1032 [1:28:48<1:33:27, 11.56s/it]\u001b[A\n",
            "Epochs 1/1. Running Loss:    0.0011:  53%|██  | 548/1032 [1:28:56<1:33:45, 11.62s/it]\u001b[A\n",
            "Epochs 1/1. Running Loss:    0.0011:  53%|██  | 548/1032 [1:29:00<1:33:45, 11.62s/it]\u001b[A\n",
            "Epochs 1/1. Running Loss:    0.0011:  53%|██▏ | 549/1032 [1:29:08<1:33:53, 11.66s/it]\u001b[A\n",
            "Epochs 1/1. Running Loss:    0.0007:  53%|██▏ | 549/1032 [1:29:11<1:33:53, 11.66s/it]\u001b[A\n",
            "Epochs 1/1. Running Loss:    0.0007:  53%|██▏ | 550/1032 [1:29:18<1:29:09, 11.10s/it]\u001b[A\n",
            "Epochs 1/1. Running Loss:    0.0015:  53%|██▏ | 550/1032 [1:29:21<1:29:09, 11.10s/it]\u001b[A\n",
            "Epochs 1/1. Running Loss:    0.0015:  53%|██▏ | 551/1032 [1:29:29<1:29:10, 11.12s/it]\u001b[A\n",
            "Epochs 1/1. Running Loss:    0.2682:  53%|██▏ | 551/1032 [1:29:33<1:29:10, 11.12s/it]\u001b[A\n",
            "Epochs 1/1. Running Loss:    0.2682:  53%|██▏ | 552/1032 [1:29:40<1:29:29, 11.19s/it]\u001b[A\n",
            "Epochs 1/1. Running Loss:    0.0009:  53%|██▏ | 552/1032 [1:29:44<1:29:29, 11.19s/it]\u001b[A\n",
            "Epochs 1/1. Running Loss:    0.0009:  54%|██▏ | 553/1032 [1:29:52<1:30:06, 11.29s/it]\u001b[A\n",
            "Epochs 1/1. Running Loss:    0.0722:  54%|██▏ | 553/1032 [1:29:56<1:30:06, 11.29s/it]\u001b[A\n",
            "Epochs 1/1. Running Loss:    0.0722:  54%|██▏ | 554/1032 [1:30:03<1:30:17, 11.33s/it]\u001b[A\n",
            "Epochs 1/1. Running Loss:    0.0015:  54%|██▏ | 554/1032 [1:30:06<1:30:17, 11.33s/it]\u001b[A\n",
            "Epochs 1/1. Running Loss:    0.0015:  54%|██▏ | 555/1032 [1:30:12<1:25:05, 10.70s/it]\u001b[A\n",
            "Epochs 1/1. Running Loss:    0.0018:  54%|██▏ | 555/1032 [1:30:16<1:25:05, 10.70s/it]\u001b[A\n",
            "Epochs 1/1. Running Loss:    0.0018:  54%|██▏ | 556/1032 [1:30:23<1:25:59, 10.84s/it]\u001b[A\n",
            "Epochs 1/1. Running Loss:    0.0010:  54%|██▏ | 556/1032 [1:30:28<1:25:59, 10.84s/it]\u001b[A\n",
            "Epochs 1/1. Running Loss:    0.0010:  54%|██▏ | 557/1032 [1:30:35<1:27:23, 11.04s/it]\u001b[A\n",
            "Epochs 1/1. Running Loss:    0.0006:  54%|██▏ | 557/1032 [1:30:39<1:27:23, 11.04s/it]\u001b[A\n",
            "Epochs 1/1. Running Loss:    0.0006:  54%|██▏ | 558/1032 [1:30:47<1:28:32, 11.21s/it]\u001b[A\n",
            "Epochs 1/1. Running Loss:    0.4136:  54%|██▏ | 558/1032 [1:30:51<1:28:32, 11.21s/it]\u001b[A\n",
            "Epochs 1/1. Running Loss:    0.4136:  54%|██▏ | 559/1032 [1:30:58<1:29:33, 11.36s/it]\u001b[A\n",
            "Epochs 1/1. Running Loss:    0.0008:  54%|██▏ | 559/1032 [1:31:03<1:29:33, 11.36s/it]\u001b[A\n",
            "Epochs 1/1. Running Loss:    0.0008:  54%|██▏ | 560/1032 [1:31:10<1:29:37, 11.39s/it]\u001b[A\n",
            "Epochs 1/1. Running Loss:    0.1887:  54%|██▏ | 560/1032 [1:31:14<1:29:37, 11.39s/it]\u001b[A\n",
            "Epochs 1/1. Running Loss:    0.1887:  54%|██▏ | 561/1032 [1:31:21<1:29:25, 11.39s/it]\u001b[A\n",
            "Epochs 1/1. Running Loss:    0.5549:  54%|██▏ | 561/1032 [1:31:25<1:29:25, 11.39s/it]\u001b[A\n",
            "Epochs 1/1. Running Loss:    0.5549:  54%|██▏ | 562/1032 [1:31:33<1:29:13, 11.39s/it]\u001b[A\n",
            "Epochs 1/1. Running Loss:    0.0007:  54%|██▏ | 562/1032 [1:31:36<1:29:13, 11.39s/it]\u001b[A\n",
            "Epochs 1/1. Running Loss:    0.0007:  55%|██▏ | 563/1032 [1:31:43<1:27:58, 11.25s/it]\u001b[A\n",
            "Epochs 1/1. Running Loss:    0.0430:  55%|██▏ | 563/1032 [1:31:48<1:27:58, 11.25s/it]\u001b[A\n",
            "Epochs 1/1. Running Loss:    0.0430:  55%|██▏ | 564/1032 [1:31:55<1:28:11, 11.31s/it]\u001b[A\n",
            "Epochs 1/1. Running Loss:    0.0008:  55%|██▏ | 564/1032 [1:31:59<1:28:11, 11.31s/it]\u001b[A\n",
            "Epochs 1/1. Running Loss:    0.0008:  55%|██▏ | 565/1032 [1:32:06<1:28:13, 11.34s/it]\u001b[A\n",
            "Epochs 1/1. Running Loss:    0.0006:  55%|██▏ | 565/1032 [1:32:10<1:28:13, 11.34s/it]\u001b[A\n",
            "Epochs 1/1. Running Loss:    0.0006:  55%|██▏ | 566/1032 [1:32:18<1:28:39, 11.41s/it]\u001b[A\n",
            "Epochs 1/1. Running Loss:    0.0007:  55%|██▏ | 566/1032 [1:32:22<1:28:39, 11.41s/it]\u001b[A\n",
            "Epochs 1/1. Running Loss:    0.0007:  55%|██▏ | 567/1032 [1:32:29<1:26:30, 11.16s/it]\u001b[A\n",
            "Epochs 1/1. Running Loss:    0.4578:  55%|██▏ | 567/1032 [1:32:33<1:26:30, 11.16s/it]\u001b[A\n",
            "Epochs 1/1. Running Loss:    0.4578:  55%|██▏ | 568/1032 [1:32:40<1:26:57, 11.24s/it]\u001b[A\n",
            "Epochs 1/1. Running Loss:    0.1505:  55%|██▏ | 568/1032 [1:32:44<1:26:57, 11.24s/it]\u001b[A\n",
            "Epochs 1/1. Running Loss:    0.1505:  55%|██▏ | 569/1032 [1:32:52<1:27:37, 11.36s/it]\u001b[A\n",
            "Epochs 1/1. Running Loss:    0.0042:  55%|██▏ | 569/1032 [1:32:56<1:27:37, 11.36s/it]\u001b[A\n",
            "Epochs 1/1. Running Loss:    0.0042:  55%|██▏ | 570/1032 [1:33:03<1:27:57, 11.42s/it]\u001b[A\n",
            "Epochs 1/1. Running Loss:    0.4871:  55%|██▏ | 570/1032 [1:33:07<1:27:57, 11.42s/it]\u001b[A\n",
            "Epochs 1/1. Running Loss:    0.4871:  55%|██▏ | 571/1032 [1:33:15<1:27:58, 11.45s/it]\u001b[A\n",
            "Epochs 1/1. Running Loss:    0.0007:  55%|██▏ | 571/1032 [1:33:19<1:27:58, 11.45s/it]\u001b[A\n",
            "Epochs 1/1. Running Loss:    0.0007:  55%|██▏ | 572/1032 [1:33:25<1:26:04, 11.23s/it]\u001b[A\n",
            "Epochs 1/1. Running Loss:    0.0027:  55%|██▏ | 572/1032 [1:33:28<1:26:04, 11.23s/it]\u001b[A\n",
            "Epochs 1/1. Running Loss:    0.0027:  56%|██▏ | 573/1032 [1:33:35<1:22:01, 10.72s/it]\u001b[A\n",
            "Epochs 1/1. Running Loss:    0.0226:  56%|██▏ | 573/1032 [1:33:39<1:22:01, 10.72s/it]\u001b[A\n",
            "Epochs 1/1. Running Loss:    0.0226:  56%|██▏ | 574/1032 [1:33:47<1:24:17, 11.04s/it]\u001b[A\n",
            "Epochs 1/1. Running Loss:    0.0021:  56%|██▏ | 574/1032 [1:33:50<1:24:17, 11.04s/it]\u001b[A\n",
            "Epochs 1/1. Running Loss:    0.0021:  56%|██▏ | 575/1032 [1:33:57<1:23:11, 10.92s/it]\u001b[A\n",
            "Epochs 1/1. Running Loss:    0.0008:  56%|██▏ | 575/1032 [1:34:02<1:23:11, 10.92s/it]\u001b[A\n",
            "Epochs 1/1. Running Loss:    0.0008:  56%|██▏ | 576/1032 [1:34:09<1:24:32, 11.12s/it]\u001b[A\n",
            "Epochs 1/1. Running Loss:    0.0011:  56%|██▏ | 576/1032 [1:34:13<1:24:32, 11.12s/it]\u001b[A\n",
            "Epochs 1/1. Running Loss:    0.0011:  56%|██▏ | 577/1032 [1:34:23<1:30:04, 11.88s/it]\u001b[A\n",
            "Epochs 1/1. Running Loss:    0.0378:  56%|██▏ | 577/1032 [1:34:27<1:30:04, 11.88s/it]\u001b[A\n",
            "Epochs 1/1. Running Loss:    0.0378:  56%|██▏ | 578/1032 [1:34:34<1:29:34, 11.84s/it]\u001b[A\n",
            "Epochs 1/1. Running Loss:    0.0015:  56%|██▏ | 578/1032 [1:34:38<1:29:34, 11.84s/it]\u001b[A\n",
            "Epochs 1/1. Running Loss:    0.0015:  56%|██▏ | 579/1032 [1:34:46<1:28:36, 11.74s/it]\u001b[A\n",
            "Epochs 1/1. Running Loss:    0.0008:  56%|██▏ | 579/1032 [1:34:50<1:28:36, 11.74s/it]\u001b[A\n",
            "Epochs 1/1. Running Loss:    0.0008:  56%|██▏ | 580/1032 [1:34:58<1:28:51, 11.80s/it]\u001b[A\n",
            "Epochs 1/1. Running Loss:    0.0009:  56%|██▏ | 580/1032 [1:35:02<1:28:51, 11.80s/it]\u001b[A\n",
            "Epochs 1/1. Running Loss:    0.0009:  56%|██▎ | 581/1032 [1:35:09<1:28:32, 11.78s/it]\u001b[A\n",
            "Epochs 1/1. Running Loss:    0.0040:  56%|██▎ | 581/1032 [1:35:14<1:28:32, 11.78s/it]\u001b[A\n",
            "Epochs 1/1. Running Loss:    0.0040:  56%|██▎ | 582/1032 [1:35:21<1:28:28, 11.80s/it]\u001b[A\n",
            "Epochs 1/1. Running Loss:    0.0887:  56%|██▎ | 582/1032 [1:35:25<1:28:28, 11.80s/it]\u001b[A\n",
            "Epochs 1/1. Running Loss:    0.0887:  56%|██▎ | 583/1032 [1:35:33<1:27:43, 11.72s/it]\u001b[A\n",
            "Epochs 1/1. Running Loss:    0.0011:  56%|██▎ | 583/1032 [1:35:37<1:27:43, 11.72s/it]\u001b[A\n",
            "Epochs 1/1. Running Loss:    0.0011:  57%|██▎ | 584/1032 [1:35:44<1:25:35, 11.46s/it]\u001b[A\n",
            "Epochs 1/1. Running Loss:    0.0812:  57%|██▎ | 584/1032 [1:35:48<1:25:35, 11.46s/it]\u001b[A\n",
            "Epochs 1/1. Running Loss:    0.0812:  57%|██▎ | 585/1032 [1:35:55<1:25:56, 11.54s/it]\u001b[A\n",
            "Epochs 1/1. Running Loss:    0.0012:  57%|██▎ | 585/1032 [1:36:00<1:25:56, 11.54s/it]\u001b[A\n",
            "Epochs 1/1. Running Loss:    0.0012:  57%|██▎ | 586/1032 [1:36:07<1:25:31, 11.51s/it]\u001b[A\n",
            "Epochs 1/1. Running Loss:    0.0043:  57%|██▎ | 586/1032 [1:36:11<1:25:31, 11.51s/it]\u001b[A\n",
            "Epochs 1/1. Running Loss:    0.0043:  57%|██▎ | 587/1032 [1:36:18<1:25:14, 11.49s/it]\u001b[A\n",
            "Epochs 1/1. Running Loss:    0.0013:  57%|██▎ | 587/1032 [1:36:22<1:25:14, 11.49s/it]\u001b[A\n",
            "Epochs 1/1. Running Loss:    0.0013:  57%|██▎ | 588/1032 [1:36:30<1:25:09, 11.51s/it]\u001b[A\n",
            "Epochs 1/1. Running Loss:    0.0006:  57%|██▎ | 588/1032 [1:36:34<1:25:09, 11.51s/it]\u001b[A\n",
            "Epochs 1/1. Running Loss:    0.0006:  57%|██▎ | 589/1032 [1:36:41<1:24:47, 11.48s/it]\u001b[A\n",
            "Epochs 1/1. Running Loss:    0.0014:  57%|██▎ | 589/1032 [1:36:46<1:24:47, 11.48s/it]\u001b[A\n",
            "Epochs 1/1. Running Loss:    0.0014:  57%|██▎ | 590/1032 [1:36:53<1:24:52, 11.52s/it]\u001b[A\n",
            "Epochs 1/1. Running Loss:    0.0007:  57%|██▎ | 590/1032 [1:36:57<1:24:52, 11.52s/it]\u001b[A\n",
            "Epochs 1/1. Running Loss:    0.0007:  57%|██▎ | 591/1032 [1:37:04<1:24:48, 11.54s/it]\u001b[A\n",
            "Epochs 1/1. Running Loss:    0.0106:  57%|██▎ | 591/1032 [1:37:09<1:24:48, 11.54s/it]\u001b[A\n",
            "Epochs 1/1. Running Loss:    0.0106:  57%|██▎ | 592/1032 [1:37:16<1:24:31, 11.53s/it]\u001b[A\n",
            "Epochs 1/1. Running Loss:    0.0024:  57%|██▎ | 592/1032 [1:37:20<1:24:31, 11.53s/it]\u001b[A\n",
            "Epochs 1/1. Running Loss:    0.0024:  57%|██▎ | 593/1032 [1:37:27<1:24:14, 11.51s/it]\u001b[A\n",
            "Epochs 1/1. Running Loss:    0.0010:  57%|██▎ | 593/1032 [1:37:32<1:24:14, 11.51s/it]\u001b[A\n",
            "Epochs 1/1. Running Loss:    0.0010:  58%|██▎ | 594/1032 [1:37:39<1:24:15, 11.54s/it]\u001b[A\n",
            "Epochs 1/1. Running Loss:    0.0006:  58%|██▎ | 594/1032 [1:37:43<1:24:15, 11.54s/it]\u001b[A\n",
            "Epochs 1/1. Running Loss:    0.0006:  58%|██▎ | 595/1032 [1:37:50<1:23:47, 11.50s/it]\u001b[A\n",
            "Epochs 1/1. Running Loss:    0.0016:  58%|██▎ | 595/1032 [1:37:55<1:23:47, 11.50s/it]\u001b[A\n",
            "Epochs 1/1. Running Loss:    0.0016:  58%|██▎ | 596/1032 [1:38:02<1:23:18, 11.47s/it]\u001b[A\n",
            "Epochs 1/1. Running Loss:    0.4758:  58%|██▎ | 596/1032 [1:38:06<1:23:18, 11.47s/it]\u001b[A\n",
            "Epochs 1/1. Running Loss:    0.4758:  58%|██▎ | 597/1032 [1:38:14<1:23:40, 11.54s/it]\u001b[A\n",
            "Epochs 1/1. Running Loss:    0.0008:  58%|██▎ | 597/1032 [1:38:18<1:23:40, 11.54s/it]\u001b[A\n",
            "Epochs 1/1. Running Loss:    0.0008:  58%|██▎ | 598/1032 [1:38:25<1:23:37, 11.56s/it]\u001b[A\n",
            "Epochs 1/1. Running Loss:    0.0005:  58%|██▎ | 598/1032 [1:38:29<1:23:37, 11.56s/it]\u001b[A\n",
            "Epochs 1/1. Running Loss:    0.0005:  58%|██▎ | 599/1032 [1:38:36<1:22:38, 11.45s/it]\u001b[A\n",
            "Epochs 1/1. Running Loss:    0.7017:  58%|██▎ | 599/1032 [1:38:40<1:22:38, 11.45s/it]\u001b[A\n",
            "Epochs 1/1. Running Loss:    0.7017:  58%|██▎ | 600/1032 [1:38:48<1:22:41, 11.49s/it]\u001b[A\n",
            "Epochs 1/1. Running Loss:    0.0004:  58%|██▎ | 600/1032 [1:38:52<1:22:41, 11.49s/it]\u001b[A\n",
            "Epochs 1/1. Running Loss:    0.0004:  58%|██▎ | 601/1032 [1:38:59<1:22:30, 11.49s/it]\u001b[A\n",
            "Epochs 1/1. Running Loss:    0.0010:  58%|██▎ | 601/1032 [1:39:03<1:22:30, 11.49s/it]\u001b[A\n",
            "Epochs 1/1. Running Loss:    0.0010:  58%|██▎ | 602/1032 [1:39:11<1:22:12, 11.47s/it]\u001b[A\n",
            "Epochs 1/1. Running Loss:    0.0006:  58%|██▎ | 602/1032 [1:39:16<1:22:12, 11.47s/it]\u001b[A\n",
            "Epochs 1/1. Running Loss:    0.0006:  58%|██▎ | 603/1032 [1:39:24<1:25:33, 11.97s/it]\u001b[A\n",
            "Epochs 1/1. Running Loss:    0.0004:  58%|██▎ | 603/1032 [1:39:27<1:25:33, 11.97s/it]\u001b[A\n",
            "Epochs 1/1. Running Loss:    0.0004:  59%|██▎ | 604/1032 [1:39:35<1:24:18, 11.82s/it]\u001b[A\n",
            "Epochs 1/1. Running Loss:    0.0007:  59%|██▎ | 604/1032 [1:39:40<1:24:18, 11.82s/it]\u001b[A\n",
            "Epochs 1/1. Running Loss:    0.0007:  59%|██▎ | 605/1032 [1:39:48<1:25:31, 12.02s/it]\u001b[A\n",
            "Epochs 1/1. Running Loss:    0.0007:  59%|██▎ | 605/1032 [1:39:52<1:25:31, 12.02s/it]\u001b[A\n",
            "Epochs 1/1. Running Loss:    0.0007:  59%|██▎ | 606/1032 [1:40:01<1:26:34, 12.19s/it]\u001b[A\n",
            "Epochs 1/1. Running Loss:    0.0009:  59%|██▎ | 606/1032 [1:40:05<1:26:34, 12.19s/it]\u001b[A\n",
            "Epochs 1/1. Running Loss:    0.0009:  59%|██▎ | 607/1032 [1:40:12<1:25:07, 12.02s/it]\u001b[A\n",
            "Epochs 1/1. Running Loss:    0.0007:  59%|██▎ | 607/1032 [1:40:17<1:25:07, 12.02s/it]\u001b[A\n",
            "Epochs 1/1. Running Loss:    0.0007:  59%|██▎ | 608/1032 [1:40:25<1:25:37, 12.12s/it]\u001b[A\n",
            "Epochs 1/1. Running Loss:    0.0057:  59%|██▎ | 608/1032 [1:40:29<1:25:37, 12.12s/it]\u001b[A\n",
            "Epochs 1/1. Running Loss:    0.0057:  59%|██▎ | 609/1032 [1:40:37<1:25:09, 12.08s/it]\u001b[A\n",
            "Epochs 1/1. Running Loss:    0.0029:  59%|██▎ | 609/1032 [1:40:41<1:25:09, 12.08s/it]\u001b[A\n",
            "Epochs 1/1. Running Loss:    0.0029:  59%|██▎ | 610/1032 [1:40:48<1:24:09, 11.97s/it]\u001b[A\n",
            "Epochs 1/1. Running Loss:    0.0004:  59%|██▎ | 610/1032 [1:40:53<1:24:09, 11.97s/it]\u001b[A\n",
            "Epochs 1/1. Running Loss:    0.0004:  59%|██▎ | 611/1032 [1:41:00<1:23:29, 11.90s/it]\u001b[A\n",
            "Epochs 1/1. Running Loss:    0.0012:  59%|██▎ | 611/1032 [1:41:04<1:23:29, 11.90s/it]\u001b[A\n",
            "Epochs 1/1. Running Loss:    0.0012:  59%|██▎ | 612/1032 [1:41:12<1:23:01, 11.86s/it]\u001b[A\n",
            "Epochs 1/1. Running Loss:    0.0907:  59%|██▎ | 612/1032 [1:41:16<1:23:01, 11.86s/it]\u001b[A\n",
            "Epochs 1/1. Running Loss:    0.0907:  59%|██▍ | 613/1032 [1:41:23<1:22:07, 11.76s/it]\u001b[A\n",
            "Epochs 1/1. Running Loss:    0.0572:  59%|██▍ | 613/1032 [1:41:28<1:22:07, 11.76s/it]\u001b[A\n",
            "Epochs 1/1. Running Loss:    0.0572:  59%|██▍ | 614/1032 [1:41:35<1:22:23, 11.83s/it]\u001b[A\n",
            "Epochs 1/1. Running Loss:    0.0019:  59%|██▍ | 614/1032 [1:41:39<1:22:23, 11.83s/it]\u001b[A\n",
            "Epochs 1/1. Running Loss:    0.0019:  60%|██▍ | 615/1032 [1:41:47<1:21:26, 11.72s/it]\u001b[A\n",
            "Epochs 1/1. Running Loss:    0.0041:  60%|██▍ | 615/1032 [1:41:51<1:21:26, 11.72s/it]\u001b[A\n",
            "Epochs 1/1. Running Loss:    0.0041:  60%|██▍ | 616/1032 [1:41:58<1:20:47, 11.65s/it]\u001b[A\n",
            "Epochs 1/1. Running Loss:    0.0316:  60%|██▍ | 616/1032 [1:42:03<1:20:47, 11.65s/it]\u001b[A\n",
            "Epochs 1/1. Running Loss:    0.0316:  60%|██▍ | 617/1032 [1:42:10<1:21:12, 11.74s/it]\u001b[A\n",
            "Epochs 1/1. Running Loss:    0.4032:  60%|██▍ | 617/1032 [1:42:14<1:21:12, 11.74s/it]\u001b[A\n",
            "Epochs 1/1. Running Loss:    0.4032:  60%|██▍ | 618/1032 [1:42:22<1:20:16, 11.63s/it]\u001b[A\n",
            "Epochs 1/1. Running Loss:    0.6282:  60%|██▍ | 618/1032 [1:42:26<1:20:16, 11.63s/it]\u001b[A\n",
            "Epochs 1/1. Running Loss:    0.6282:  60%|██▍ | 619/1032 [1:42:33<1:20:43, 11.73s/it]\u001b[A\n",
            "Epochs 1/1. Running Loss:    0.2223:  60%|██▍ | 619/1032 [1:42:38<1:20:43, 11.73s/it]\u001b[A\n",
            "Epochs 1/1. Running Loss:    0.2223:  60%|██▍ | 620/1032 [1:42:45<1:20:05, 11.66s/it]\u001b[A\n",
            "Epochs 1/1. Running Loss:    0.0010:  60%|██▍ | 620/1032 [1:42:49<1:20:05, 11.66s/it]\u001b[A\n",
            "Epochs 1/1. Running Loss:    0.0010:  60%|██▍ | 621/1032 [1:42:57<1:21:31, 11.90s/it]\u001b[A\n",
            "Epochs 1/1. Running Loss:    0.0014:  60%|██▍ | 621/1032 [1:43:02<1:21:31, 11.90s/it]\u001b[A\n",
            "Epochs 1/1. Running Loss:    0.0014:  60%|██▍ | 622/1032 [1:43:10<1:22:25, 12.06s/it]\u001b[A\n",
            "Epochs 1/1. Running Loss:    0.5336:  60%|██▍ | 622/1032 [1:43:14<1:22:25, 12.06s/it]\u001b[A\n",
            "Epochs 1/1. Running Loss:    0.5336:  60%|██▍ | 623/1032 [1:43:22<1:22:07, 12.05s/it]\u001b[A\n",
            "Epochs 1/1. Running Loss:    0.0005:  60%|██▍ | 623/1032 [1:43:26<1:22:07, 12.05s/it]\u001b[A\n",
            "Epochs 1/1. Running Loss:    0.0005:  60%|██▍ | 624/1032 [1:43:34<1:21:06, 11.93s/it]\u001b[A\n",
            "Epochs 1/1. Running Loss:    0.0007:  60%|██▍ | 624/1032 [1:43:38<1:21:06, 11.93s/it]\u001b[A\n",
            "Epochs 1/1. Running Loss:    0.0007:  61%|██▍ | 625/1032 [1:43:45<1:20:30, 11.87s/it]\u001b[A\n",
            "Epochs 1/1. Running Loss:    0.0026:  61%|██▍ | 625/1032 [1:43:49<1:20:30, 11.87s/it]\u001b[A\n",
            "Epochs 1/1. Running Loss:    0.0026:  61%|██▍ | 626/1032 [1:43:57<1:20:53, 11.96s/it]\u001b[A\n",
            "Epochs 1/1. Running Loss:    0.0018:  61%|██▍ | 626/1032 [1:44:02<1:20:53, 11.96s/it]\u001b[A\n",
            "Epochs 1/1. Running Loss:    0.0018:  61%|██▍ | 627/1032 [1:44:09<1:20:55, 11.99s/it]\u001b[A\n",
            "Epochs 1/1. Running Loss:    0.5082:  61%|██▍ | 627/1032 [1:44:14<1:20:55, 11.99s/it]\u001b[A\n",
            "Epochs 1/1. Running Loss:    0.5082:  61%|██▍ | 628/1032 [1:44:22<1:21:15, 12.07s/it]\u001b[A\n",
            "Epochs 1/1. Running Loss:    0.0011:  61%|██▍ | 628/1032 [1:44:26<1:21:15, 12.07s/it]\u001b[A\n",
            "Epochs 1/1. Running Loss:    0.0011:  61%|██▍ | 629/1032 [1:44:33<1:18:28, 11.68s/it]\u001b[A\n",
            "Epochs 1/1. Running Loss:    0.0055:  61%|██▍ | 629/1032 [1:44:37<1:18:28, 11.68s/it]\u001b[A\n",
            "Epochs 1/1. Running Loss:    0.0055:  61%|██▍ | 630/1032 [1:44:45<1:19:14, 11.83s/it]\u001b[A\n",
            "Epochs 1/1. Running Loss:    0.0840:  61%|██▍ | 630/1032 [1:44:49<1:19:14, 11.83s/it]\u001b[A\n",
            "Epochs 1/1. Running Loss:    0.0840:  61%|██▍ | 631/1032 [1:44:57<1:19:11, 11.85s/it]\u001b[A\n",
            "Epochs 1/1. Running Loss:    0.1024:  61%|██▍ | 631/1032 [1:45:01<1:19:11, 11.85s/it]\u001b[A\n",
            "Epochs 1/1. Running Loss:    0.1024:  61%|██▍ | 632/1032 [1:45:08<1:18:39, 11.80s/it]\u001b[A\n",
            "Epochs 1/1. Running Loss:    0.0046:  61%|██▍ | 632/1032 [1:45:13<1:18:39, 11.80s/it]\u001b[A\n",
            "Epochs 1/1. Running Loss:    0.0046:  61%|██▍ | 633/1032 [1:45:20<1:18:58, 11.88s/it]\u001b[A\n",
            "Epochs 1/1. Running Loss:    0.0014:  61%|██▍ | 633/1032 [1:45:24<1:18:58, 11.88s/it]\u001b[A\n",
            "Epochs 1/1. Running Loss:    0.0014:  61%|██▍ | 634/1032 [1:45:32<1:18:17, 11.80s/it]\u001b[A\n",
            "Epochs 1/1. Running Loss:    0.0012:  61%|██▍ | 634/1032 [1:45:36<1:18:17, 11.80s/it]\u001b[A\n",
            "Epochs 1/1. Running Loss:    0.0012:  62%|██▍ | 635/1032 [1:45:44<1:17:52, 11.77s/it]\u001b[A\n",
            "Epochs 1/1. Running Loss:    0.0006:  62%|██▍ | 635/1032 [1:45:48<1:17:52, 11.77s/it]\u001b[A\n",
            "Epochs 1/1. Running Loss:    0.0006:  62%|██▍ | 636/1032 [1:45:56<1:18:14, 11.85s/it]\u001b[A\n",
            "Epochs 1/1. Running Loss:    0.0021:  62%|██▍ | 636/1032 [1:46:00<1:18:14, 11.85s/it]\u001b[A\n",
            "Epochs 1/1. Running Loss:    0.0021:  62%|██▍ | 637/1032 [1:46:08<1:18:38, 11.94s/it]\u001b[A\n",
            "Epochs 1/1. Running Loss:    0.4481:  62%|██▍ | 637/1032 [1:46:12<1:18:38, 11.94s/it]\u001b[A\n",
            "Epochs 1/1. Running Loss:    0.4481:  62%|██▍ | 638/1032 [1:46:20<1:18:22, 11.93s/it]\u001b[A\n",
            "Epochs 1/1. Running Loss:    0.0010:  62%|██▍ | 638/1032 [1:46:25<1:18:22, 11.93s/it]\u001b[A\n",
            "Epochs 1/1. Running Loss:    0.0010:  62%|██▍ | 639/1032 [1:46:33<1:20:40, 12.32s/it]\u001b[A\n",
            "Epochs 1/1. Running Loss:    0.0013:  62%|██▍ | 639/1032 [1:46:37<1:20:40, 12.32s/it]\u001b[A\n",
            "Epochs 1/1. Running Loss:    0.0013:  62%|██▍ | 640/1032 [1:46:45<1:19:44, 12.20s/it]\u001b[A\n",
            "Epochs 1/1. Running Loss:    0.0018:  62%|██▍ | 640/1032 [1:46:49<1:19:44, 12.20s/it]\u001b[A\n",
            "Epochs 1/1. Running Loss:    0.0018:  62%|██▍ | 641/1032 [1:46:57<1:20:11, 12.31s/it]\u001b[A\n",
            "Epochs 1/1. Running Loss:    0.0006:  62%|██▍ | 641/1032 [1:47:02<1:20:11, 12.31s/it]\u001b[A\n",
            "Epochs 1/1. Running Loss:    0.0006:  62%|██▍ | 642/1032 [1:47:09<1:17:37, 11.94s/it]\u001b[A\n",
            "Epochs 1/1. Running Loss:    0.0009:  62%|██▍ | 642/1032 [1:47:11<1:17:37, 11.94s/it]\u001b[A\n",
            "Epochs 1/1. Running Loss:    0.0009:  62%|██▍ | 643/1032 [1:47:18<1:12:32, 11.19s/it]\u001b[A\n",
            "Epochs 1/1. Running Loss:    0.2502:  62%|██▍ | 643/1032 [1:47:22<1:12:32, 11.19s/it]\u001b[A\n",
            "Epochs 1/1. Running Loss:    0.2502:  62%|██▍ | 644/1032 [1:47:31<1:15:06, 11.62s/it]\u001b[A\n",
            "Epochs 1/1. Running Loss:    0.0019:  62%|██▍ | 644/1032 [1:47:35<1:15:06, 11.62s/it]\u001b[A\n",
            "Epochs 1/1. Running Loss:    0.0019:  62%|██▌ | 645/1032 [1:47:42<1:14:44, 11.59s/it]\u001b[A\n",
            "Epochs 1/1. Running Loss:    0.0024:  62%|██▌ | 645/1032 [1:47:45<1:14:44, 11.59s/it]\u001b[A\n",
            "Epochs 1/1. Running Loss:    0.0024:  63%|██▌ | 646/1032 [1:47:52<1:11:06, 11.05s/it]\u001b[A\n",
            "Epochs 1/1. Running Loss:    0.0008:  63%|██▌ | 646/1032 [1:47:56<1:11:06, 11.05s/it]\u001b[A\n",
            "Epochs 1/1. Running Loss:    0.0008:  63%|██▌ | 647/1032 [1:48:04<1:12:04, 11.23s/it]\u001b[A\n",
            "Epochs 1/1. Running Loss:    0.0016:  63%|██▌ | 647/1032 [1:48:07<1:12:04, 11.23s/it]\u001b[A\n",
            "Epochs 1/1. Running Loss:    0.0016:  63%|██▌ | 648/1032 [1:48:15<1:12:00, 11.25s/it]\u001b[A\n",
            "Epochs 1/1. Running Loss:    0.0035:  63%|██▌ | 648/1032 [1:48:19<1:12:00, 11.25s/it]\u001b[A\n",
            "Epochs 1/1. Running Loss:    0.0035:  63%|██▌ | 649/1032 [1:48:25<1:10:13, 11.00s/it]\u001b[A\n",
            "Epochs 1/1. Running Loss:    0.0071:  63%|██▌ | 649/1032 [1:48:29<1:10:13, 11.00s/it]\u001b[A\n",
            "Epochs 1/1. Running Loss:    0.0071:  63%|██▌ | 650/1032 [1:48:35<1:07:05, 10.54s/it]\u001b[A\n",
            "Epochs 1/1. Running Loss:    0.0030:  63%|██▌ | 650/1032 [1:48:38<1:07:05, 10.54s/it]\u001b[A\n",
            "Epochs 1/1. Running Loss:    0.0030:  63%|██▌ | 651/1032 [1:48:45<1:06:12, 10.43s/it]\u001b[A\n",
            "Epochs 1/1. Running Loss:    0.0009:  63%|██▌ | 651/1032 [1:48:49<1:06:12, 10.43s/it]\u001b[A\n",
            "Epochs 1/1. Running Loss:    0.0009:  63%|██▌ | 652/1032 [1:48:57<1:08:23, 10.80s/it]\u001b[A\n",
            "Epochs 1/1. Running Loss:    0.0016:  63%|██▌ | 652/1032 [1:49:01<1:08:23, 10.80s/it]\u001b[A\n",
            "Epochs 1/1. Running Loss:    0.0016:  63%|██▌ | 653/1032 [1:49:08<1:09:54, 11.07s/it]\u001b[A\n",
            "Epochs 1/1. Running Loss:    0.0008:  63%|██▌ | 653/1032 [1:49:12<1:09:54, 11.07s/it]\u001b[A\n",
            "Epochs 1/1. Running Loss:    0.0008:  63%|██▌ | 654/1032 [1:49:19<1:09:37, 11.05s/it]\u001b[A\n",
            "Epochs 1/1. Running Loss:    0.0035:  63%|██▌ | 654/1032 [1:49:23<1:09:37, 11.05s/it]\u001b[A\n",
            "Epochs 1/1. Running Loss:    0.0035:  63%|██▌ | 655/1032 [1:49:31<1:10:59, 11.30s/it]\u001b[A\n",
            "Epochs 1/1. Running Loss:    0.0016:  63%|██▌ | 655/1032 [1:49:36<1:10:59, 11.30s/it]\u001b[A\n",
            "Epochs 1/1. Running Loss:    0.0016:  64%|██▌ | 656/1032 [1:49:42<1:10:20, 11.22s/it]\u001b[A\n",
            "Epochs 1/1. Running Loss:    0.0013:  64%|██▌ | 656/1032 [1:49:46<1:10:20, 11.22s/it]\u001b[A\n",
            "Epochs 1/1. Running Loss:    0.0013:  64%|██▌ | 657/1032 [1:49:52<1:07:06, 10.74s/it]\u001b[A\n",
            "Epochs 1/1. Running Loss:    0.4779:  64%|██▌ | 657/1032 [1:49:56<1:07:06, 10.74s/it]\u001b[A\n",
            "Epochs 1/1. Running Loss:    0.4779:  64%|██▌ | 658/1032 [1:50:04<1:08:42, 11.02s/it]\u001b[A\n",
            "Epochs 1/1. Running Loss:    0.0012:  64%|██▌ | 658/1032 [1:50:08<1:08:42, 11.02s/it]\u001b[A\n",
            "Epochs 1/1. Running Loss:    0.0012:  64%|██▌ | 659/1032 [1:50:16<1:10:23, 11.32s/it]\u001b[A\n",
            "Epochs 1/1. Running Loss:    0.0008:  64%|██▌ | 659/1032 [1:50:20<1:10:23, 11.32s/it]\u001b[A\n",
            "Epochs 1/1. Running Loss:    0.0008:  64%|██▌ | 660/1032 [1:50:27<1:09:49, 11.26s/it]\u001b[A\n",
            "Epochs 1/1. Running Loss:    0.0008:  64%|██▌ | 660/1032 [1:50:31<1:09:49, 11.26s/it]\u001b[A\n",
            "Epochs 1/1. Running Loss:    0.0008:  64%|██▌ | 661/1032 [1:50:39<1:11:04, 11.50s/it]\u001b[A\n",
            "Epochs 1/1. Running Loss:    0.0281:  64%|██▌ | 661/1032 [1:50:43<1:11:04, 11.50s/it]\u001b[A\n",
            "Epochs 1/1. Running Loss:    0.0281:  64%|██▌ | 662/1032 [1:50:51<1:11:44, 11.63s/it]\u001b[A\n",
            "Epochs 1/1. Running Loss:    0.0010:  64%|██▌ | 662/1032 [1:50:55<1:11:44, 11.63s/it]\u001b[A\n",
            "Epochs 1/1. Running Loss:    0.0010:  64%|██▌ | 663/1032 [1:51:01<1:09:47, 11.35s/it]\u001b[A\n",
            "Epochs 1/1. Running Loss:    0.0121:  64%|██▌ | 663/1032 [1:51:05<1:09:47, 11.35s/it]\u001b[A\n",
            "Epochs 1/1. Running Loss:    0.0121:  64%|██▌ | 664/1032 [1:51:13<1:10:25, 11.48s/it]\u001b[A\n",
            "Epochs 1/1. Running Loss:    0.0007:  64%|██▌ | 664/1032 [1:51:18<1:10:25, 11.48s/it]\u001b[A\n",
            "Epochs 1/1. Running Loss:    0.0007:  64%|██▌ | 665/1032 [1:51:25<1:11:32, 11.70s/it]\u001b[A\n",
            "Epochs 1/1. Running Loss:    0.0011:  64%|██▌ | 665/1032 [1:51:29<1:11:32, 11.70s/it]\u001b[A\n",
            "Epochs 1/1. Running Loss:    0.0011:  65%|██▌ | 666/1032 [1:51:37<1:11:46, 11.77s/it]\u001b[A\n",
            "Epochs 1/1. Running Loss:    0.0008:  65%|██▌ | 666/1032 [1:51:42<1:11:46, 11.77s/it]\u001b[A\n",
            "Epochs 1/1. Running Loss:    0.0008:  65%|██▌ | 667/1032 [1:51:49<1:11:42, 11.79s/it]\u001b[A\n",
            "Epochs 1/1. Running Loss:    0.0027:  65%|██▌ | 667/1032 [1:51:53<1:11:42, 11.79s/it]\u001b[A\n",
            "Epochs 1/1. Running Loss:    0.0027:  65%|██▌ | 668/1032 [1:51:59<1:08:40, 11.32s/it]\u001b[A\n",
            "Epochs 1/1. Running Loss:    0.2808:  65%|██▌ | 668/1032 [1:52:04<1:08:40, 11.32s/it]\u001b[A\n",
            "Epochs 1/1. Running Loss:    0.2808:  65%|██▌ | 669/1032 [1:52:10<1:06:59, 11.07s/it]\u001b[A\n",
            "Epochs 1/1. Running Loss:    0.0501:  65%|██▌ | 669/1032 [1:52:14<1:06:59, 11.07s/it]\u001b[A\n",
            "Epochs 1/1. Running Loss:    0.0501:  65%|██▌ | 670/1032 [1:52:22<1:08:31, 11.36s/it]\u001b[A\n",
            "Epochs 1/1. Running Loss:    0.4470:  65%|██▌ | 670/1032 [1:52:25<1:08:31, 11.36s/it]\u001b[A\n",
            "Epochs 1/1. Running Loss:    0.4470:  65%|██▌ | 671/1032 [1:52:31<1:04:45, 10.76s/it]\u001b[A\n",
            "Epochs 1/1. Running Loss:    0.0159:  65%|██▌ | 671/1032 [1:52:35<1:04:45, 10.76s/it]\u001b[A\n",
            "Epochs 1/1. Running Loss:    0.0159:  65%|██▌ | 672/1032 [1:52:43<1:06:55, 11.15s/it]\u001b[A\n",
            "Epochs 1/1. Running Loss:    0.0008:  65%|██▌ | 672/1032 [1:52:47<1:06:55, 11.15s/it]\u001b[A\n",
            "Epochs 1/1. Running Loss:    0.0008:  65%|██▌ | 673/1032 [1:52:55<1:07:43, 11.32s/it]\u001b[A\n",
            "Epochs 1/1. Running Loss:    0.0009:  65%|██▌ | 673/1032 [1:52:59<1:07:43, 11.32s/it]\u001b[A\n",
            "Epochs 1/1. Running Loss:    0.0009:  65%|██▌ | 674/1032 [1:53:07<1:08:12, 11.43s/it]\u001b[A\n",
            "Epochs 1/1. Running Loss:    0.0005:  65%|██▌ | 674/1032 [1:53:11<1:08:12, 11.43s/it]\u001b[A\n",
            "Epochs 1/1. Running Loss:    0.0005:  65%|██▌ | 675/1032 [1:53:18<1:08:31, 11.52s/it]\u001b[A\n",
            "Epochs 1/1. Running Loss:    0.0063:  65%|██▌ | 675/1032 [1:53:23<1:08:31, 11.52s/it]\u001b[A\n",
            "Epochs 1/1. Running Loss:    0.0063:  66%|██▌ | 676/1032 [1:53:30<1:09:16, 11.68s/it]\u001b[A\n",
            "Epochs 1/1. Running Loss:    0.0015:  66%|██▌ | 676/1032 [1:53:34<1:09:16, 11.68s/it]\u001b[A\n",
            "Epochs 1/1. Running Loss:    0.0015:  66%|██▌ | 677/1032 [1:53:42<1:09:06, 11.68s/it]\u001b[A\n",
            "Epochs 1/1. Running Loss:    0.0015:  66%|██▌ | 677/1032 [1:53:47<1:09:06, 11.68s/it]\u001b[A\n",
            "Epochs 1/1. Running Loss:    0.0015:  66%|██▋ | 678/1032 [1:53:54<1:09:30, 11.78s/it]\u001b[A\n",
            "Epochs 1/1. Running Loss:    0.0008:  66%|██▋ | 678/1032 [1:53:58<1:09:30, 11.78s/it]\u001b[A\n",
            "Epochs 1/1. Running Loss:    0.0008:  66%|██▋ | 679/1032 [1:54:06<1:09:11, 11.76s/it]\u001b[A\n",
            "Epochs 1/1. Running Loss:    0.0029:  66%|██▋ | 679/1032 [1:54:09<1:09:11, 11.76s/it]\u001b[A\n",
            "Epochs 1/1. Running Loss:    0.0029:  66%|██▋ | 680/1032 [1:54:16<1:05:55, 11.24s/it]\u001b[A\n",
            "Epochs 1/1. Running Loss:    0.2894:  66%|██▋ | 680/1032 [1:54:20<1:05:55, 11.24s/it]\u001b[A\n",
            "Epochs 1/1. Running Loss:    0.2894:  66%|██▋ | 681/1032 [1:54:28<1:07:37, 11.56s/it]\u001b[A\n",
            "Epochs 1/1. Running Loss:    0.0009:  66%|██▋ | 681/1032 [1:54:32<1:07:37, 11.56s/it]\u001b[A\n",
            "Epochs 1/1. Running Loss:    0.0009:  66%|██▋ | 682/1032 [1:54:40<1:08:36, 11.76s/it]\u001b[A\n",
            "Epochs 1/1. Running Loss:    0.0019:  66%|██▋ | 682/1032 [1:54:44<1:08:36, 11.76s/it]\u001b[A\n",
            "Epochs 1/1. Running Loss:    0.0019:  66%|██▋ | 683/1032 [1:54:52<1:08:51, 11.84s/it]\u001b[A\n",
            "Epochs 1/1. Running Loss:    0.0009:  66%|██▋ | 683/1032 [1:54:57<1:08:51, 11.84s/it]\u001b[A\n",
            "Epochs 1/1. Running Loss:    0.0009:  66%|██▋ | 684/1032 [1:55:05<1:09:32, 11.99s/it]\u001b[A\n",
            "Epochs 1/1. Running Loss:    0.0014:  66%|██▋ | 684/1032 [1:55:09<1:09:32, 11.99s/it]\u001b[A\n",
            "Epochs 1/1. Running Loss:    0.0014:  66%|██▋ | 685/1032 [1:55:17<1:09:24, 12.00s/it]\u001b[A\n",
            "Epochs 1/1. Running Loss:    0.0012:  66%|██▋ | 685/1032 [1:55:22<1:09:24, 12.00s/it]\u001b[A\n",
            "Epochs 1/1. Running Loss:    0.0012:  66%|██▋ | 686/1032 [1:55:29<1:09:44, 12.09s/it]\u001b[A\n",
            "Epochs 1/1. Running Loss:    0.0042:  66%|██▋ | 686/1032 [1:55:33<1:09:44, 12.09s/it]\u001b[A\n",
            "Epochs 1/1. Running Loss:    0.0042:  67%|██▋ | 687/1032 [1:55:39<1:05:25, 11.38s/it]\u001b[A\n",
            "Epochs 1/1. Running Loss:    0.0007:  67%|██▋ | 687/1032 [1:55:42<1:05:25, 11.38s/it]\u001b[A\n",
            "Epochs 1/1. Running Loss:    0.0007:  67%|██▋ | 688/1032 [1:55:50<1:04:12, 11.20s/it]\u001b[A\n",
            "Epochs 1/1. Running Loss:    0.0446:  67%|██▋ | 688/1032 [1:55:54<1:04:12, 11.20s/it]\u001b[A\n",
            "Epochs 1/1. Running Loss:    0.0446:  67%|██▋ | 689/1032 [1:56:01<1:04:11, 11.23s/it]\u001b[A\n",
            "Epochs 1/1. Running Loss:    0.0020:  67%|██▋ | 689/1032 [1:56:05<1:04:11, 11.23s/it]\u001b[A\n",
            "Epochs 1/1. Running Loss:    0.0020:  67%|██▋ | 690/1032 [1:56:13<1:05:32, 11.50s/it]\u001b[A\n",
            "Epochs 1/1. Running Loss:    0.0023:  67%|██▋ | 690/1032 [1:56:18<1:05:32, 11.50s/it]\u001b[A\n",
            "Epochs 1/1. Running Loss:    0.0023:  67%|██▋ | 691/1032 [1:56:25<1:06:46, 11.75s/it]\u001b[A\n",
            "Epochs 1/1. Running Loss:    0.0040:  67%|██▋ | 691/1032 [1:56:29<1:06:46, 11.75s/it]\u001b[A\n",
            "Epochs 1/1. Running Loss:    0.0040:  67%|██▋ | 692/1032 [1:56:37<1:06:57, 11.82s/it]\u001b[A\n",
            "Epochs 1/1. Running Loss:    0.3685:  67%|██▋ | 692/1032 [1:56:41<1:06:57, 11.82s/it]\u001b[A\n",
            "Epochs 1/1. Running Loss:    0.3685:  67%|██▋ | 693/1032 [1:56:49<1:06:48, 11.83s/it]\u001b[A\n",
            "Epochs 1/1. Running Loss:    0.0011:  67%|██▋ | 693/1032 [1:56:54<1:06:48, 11.83s/it]\u001b[A\n",
            "Epochs 1/1. Running Loss:    0.0011:  67%|██▋ | 694/1032 [1:57:01<1:06:55, 11.88s/it]\u001b[A\n",
            "Epochs 1/1. Running Loss:    0.0006:  67%|██▋ | 694/1032 [1:57:06<1:06:55, 11.88s/it]\u001b[A\n",
            "Epochs 1/1. Running Loss:    0.0006:  67%|██▋ | 695/1032 [1:57:13<1:07:04, 11.94s/it]\u001b[A\n",
            "Epochs 1/1. Running Loss:    0.4685:  67%|██▋ | 695/1032 [1:57:17<1:07:04, 11.94s/it]\u001b[A\n",
            "Epochs 1/1. Running Loss:    0.4685:  67%|██▋ | 696/1032 [1:57:25<1:05:52, 11.76s/it]\u001b[A\n",
            "Epochs 1/1. Running Loss:    0.0017:  67%|██▋ | 696/1032 [1:57:29<1:05:52, 11.76s/it]\u001b[A\n",
            "Epochs 1/1. Running Loss:    0.0017:  68%|██▋ | 697/1032 [1:57:37<1:07:18, 12.06s/it]\u001b[A\n",
            "Epochs 1/1. Running Loss:    0.0010:  68%|██▋ | 697/1032 [1:57:41<1:07:18, 12.06s/it]\u001b[A\n",
            "Epochs 1/1. Running Loss:    0.0010:  68%|██▋ | 698/1032 [1:57:50<1:07:22, 12.10s/it]\u001b[A\n",
            "Epochs 1/1. Running Loss:    0.0010:  68%|██▋ | 698/1032 [1:57:54<1:07:22, 12.10s/it]\u001b[A\n",
            "Epochs 1/1. Running Loss:    0.0010:  68%|██▋ | 699/1032 [1:58:02<1:07:24, 12.15s/it]\u001b[A\n",
            "Epochs 1/1. Running Loss:    0.3543:  68%|██▋ | 699/1032 [1:58:06<1:07:24, 12.15s/it]\u001b[A\n",
            "Epochs 1/1. Running Loss:    0.3543:  68%|██▋ | 700/1032 [1:58:13<1:06:10, 11.96s/it]\u001b[A\n",
            "Epochs 1/1. Running Loss:    0.0011:  68%|██▋ | 700/1032 [1:58:16<1:06:10, 11.96s/it]\u001b[A\n",
            "Epochs 1/1. Running Loss:    0.0011:  68%|██▋ | 701/1032 [1:58:26<1:06:42, 12.09s/it]\u001b[A\n",
            "Epochs 1/1. Running Loss:    0.0014:  68%|██▋ | 701/1032 [1:58:29<1:06:42, 12.09s/it]\u001b[A\n",
            "Epochs 1/1. Running Loss:    0.0014:  68%|██▋ | 702/1032 [1:58:37<1:05:07, 11.84s/it]\u001b[A\n",
            "Epochs 1/1. Running Loss:    0.0450:  68%|██▋ | 702/1032 [1:58:41<1:05:07, 11.84s/it]\u001b[A\n",
            "Epochs 1/1. Running Loss:    0.0450:  68%|██▋ | 703/1032 [1:58:49<1:04:50, 11.82s/it]\u001b[A\n",
            "Epochs 1/1. Running Loss:    0.0027:  68%|██▋ | 703/1032 [1:58:52<1:04:50, 11.82s/it]\u001b[A\n",
            "Epochs 1/1. Running Loss:    0.0027:  68%|██▋ | 704/1032 [1:59:00<1:02:50, 11.50s/it]\u001b[A\n",
            "Epochs 1/1. Running Loss:    0.0009:  68%|██▋ | 704/1032 [1:59:04<1:02:50, 11.50s/it]\u001b[A\n",
            "Epochs 1/1. Running Loss:    0.0009:  68%|██▋ | 705/1032 [1:59:12<1:04:52, 11.90s/it]\u001b[A\n",
            "Epochs 1/1. Running Loss:    0.0008:  68%|██▋ | 705/1032 [1:59:16<1:04:52, 11.90s/it]\u001b[A\n",
            "Epochs 1/1. Running Loss:    0.0008:  68%|██▋ | 706/1032 [1:59:22<1:01:32, 11.33s/it]\u001b[A\n",
            "Epochs 1/1. Running Loss:    0.2762:  68%|██▋ | 706/1032 [1:59:25<1:01:32, 11.33s/it]\u001b[A\n",
            "Epochs 1/1. Running Loss:    0.2762:  69%|██▋ | 707/1032 [1:59:34<1:01:33, 11.36s/it]\u001b[A\n",
            "Epochs 1/1. Running Loss:    0.0011:  69%|██▋ | 707/1032 [1:59:38<1:01:33, 11.36s/it]\u001b[A\n",
            "Epochs 1/1. Running Loss:    0.0011:  69%|██▋ | 708/1032 [1:59:46<1:03:29, 11.76s/it]\u001b[A\n",
            "Epochs 1/1. Running Loss:    0.0007:  69%|██▋ | 708/1032 [1:59:50<1:03:29, 11.76s/it]\u001b[A\n",
            "Epochs 1/1. Running Loss:    0.0007:  69%|██▋ | 709/1032 [1:59:57<1:01:28, 11.42s/it]\u001b[A\n",
            "Epochs 1/1. Running Loss:    0.0669:  69%|██▋ | 709/1032 [2:00:01<1:01:28, 11.42s/it]\u001b[A\n",
            "Epochs 1/1. Running Loss:    0.0669:  69%|██▊ | 710/1032 [2:00:08<1:00:30, 11.28s/it]\u001b[A\n",
            "Epochs 1/1. Running Loss:    0.0034:  69%|██▊ | 710/1032 [2:00:12<1:00:30, 11.28s/it]\u001b[A\n",
            "Epochs 1/1. Running Loss:    0.0034:  69%|██▊ | 711/1032 [2:00:20<1:01:58, 11.59s/it]\u001b[A\n",
            "Epochs 1/1. Running Loss:    0.0005:  69%|██▊ | 711/1032 [2:00:24<1:01:58, 11.59s/it]\u001b[A\n",
            "Epochs 1/1. Running Loss:    0.0005:  69%|██▊ | 712/1032 [2:00:31<1:00:12, 11.29s/it]\u001b[A\n",
            "Epochs 1/1. Running Loss:    0.0012:  69%|██▊ | 712/1032 [2:00:35<1:00:12, 11.29s/it]\u001b[A\n",
            "Epochs 1/1. Running Loss:    0.0012:  69%|██▊ | 713/1032 [2:00:44<1:02:14, 11.71s/it]\u001b[A\n",
            "Epochs 1/1. Running Loss:    0.0011:  69%|██▊ | 713/1032 [2:00:48<1:02:14, 11.71s/it]\u001b[A\n",
            "Epochs 1/1. Running Loss:    0.0011:  69%|██▊ | 714/1032 [2:00:56<1:02:51, 11.86s/it]\u001b[A\n",
            "Epochs 1/1. Running Loss:    0.0076:  69%|██▊ | 714/1032 [2:01:00<1:02:51, 11.86s/it]\u001b[A\n",
            "Epochs 1/1. Running Loss:    0.0076:  69%|██▊ | 715/1032 [2:01:08<1:02:21, 11.80s/it]\u001b[A\n",
            "Epochs 1/1. Running Loss:    0.0015:  69%|██▊ | 715/1032 [2:01:11<1:02:21, 11.80s/it]\u001b[A\n",
            "Epochs 1/1. Running Loss:    0.0015:  69%|██▊ | 716/1032 [2:01:19<1:01:42, 11.72s/it]\u001b[A\n",
            "Epochs 1/1. Running Loss:    0.0048:  69%|██▊ | 716/1032 [2:01:24<1:01:42, 11.72s/it]\u001b[A\n",
            "Epochs 1/1. Running Loss:    0.0048:  69%|██▊ | 717/1032 [2:01:30<1:00:24, 11.51s/it]\u001b[A\n",
            "Epochs 1/1. Running Loss:    0.0011:  69%|██▊ | 717/1032 [2:01:33<1:00:24, 11.51s/it]\u001b[A\n",
            "Epochs 1/1. Running Loss:    0.0011:  70%|████▏ | 718/1032 [2:01:41<59:17, 11.33s/it]\u001b[A\n",
            "Epochs 1/1. Running Loss:    0.0009:  70%|████▏ | 718/1032 [2:01:45<59:17, 11.33s/it]\u001b[A\n",
            "Epochs 1/1. Running Loss:    0.0009:  70%|██▊ | 719/1032 [2:01:54<1:02:29, 11.98s/it]\u001b[A\n",
            "Epochs 1/1. Running Loss:    0.0033:  70%|██▊ | 719/1032 [2:01:57<1:02:29, 11.98s/it]\u001b[A\n",
            "Epochs 1/1. Running Loss:    0.0033:  70%|██▊ | 720/1032 [2:02:05<1:00:00, 11.54s/it]\u001b[A\n",
            "Epochs 1/1. Running Loss:    0.0008:  70%|██▊ | 720/1032 [2:02:10<1:00:00, 11.54s/it]\u001b[A\n",
            "Epochs 1/1. Running Loss:    0.0008:  70%|██▊ | 721/1032 [2:02:18<1:02:05, 11.98s/it]\u001b[A\n",
            "Epochs 1/1. Running Loss:    0.0011:  70%|██▊ | 721/1032 [2:02:21<1:02:05, 11.98s/it]\u001b[A\n",
            "Epochs 1/1. Running Loss:    0.0011:  70%|████▏ | 722/1032 [2:02:29<59:55, 11.60s/it]\u001b[A\n",
            "Epochs 1/1. Running Loss:    0.3629:  70%|████▏ | 722/1032 [2:02:33<59:55, 11.60s/it]\u001b[A\n",
            "Epochs 1/1. Running Loss:    0.3629:  70%|████▏ | 723/1032 [2:02:40<58:51, 11.43s/it]\u001b[A\n",
            "Epochs 1/1. Running Loss:    0.0640:  70%|████▏ | 723/1032 [2:02:43<58:51, 11.43s/it]\u001b[A\n",
            "Epochs 1/1. Running Loss:    0.0640:  70%|████▏ | 724/1032 [2:02:50<57:23, 11.18s/it]\u001b[A\n",
            "Epochs 1/1. Running Loss:    0.0007:  70%|████▏ | 724/1032 [2:02:55<57:23, 11.18s/it]\u001b[A\n",
            "Epochs 1/1. Running Loss:    0.0007:  70%|██▊ | 725/1032 [2:03:03<1:00:07, 11.75s/it]\u001b[A\n",
            "Epochs 1/1. Running Loss:    0.0013:  70%|██▊ | 725/1032 [2:03:07<1:00:07, 11.75s/it]\u001b[A\n",
            "Epochs 1/1. Running Loss:    0.0013:  70%|██▊ | 726/1032 [2:03:16<1:00:25, 11.85s/it]\u001b[A\n",
            "Epochs 1/1. Running Loss:    0.0011:  70%|██▊ | 726/1032 [2:03:19<1:00:25, 11.85s/it]\u001b[A\n",
            "Epochs 1/1. Running Loss:    0.0011:  70%|██▊ | 727/1032 [2:03:28<1:01:18, 12.06s/it]\u001b[A\n",
            "Epochs 1/1. Running Loss:    0.0009:  70%|██▊ | 727/1032 [2:03:32<1:01:18, 12.06s/it]\u001b[A\n",
            "Epochs 1/1. Running Loss:    0.0009:  71%|████▏ | 728/1032 [2:03:38<58:27, 11.54s/it]\u001b[A\n",
            "Epochs 1/1. Running Loss:    0.0007:  71%|████▏ | 728/1032 [2:03:43<58:27, 11.54s/it]\u001b[A\n",
            "Epochs 1/1. Running Loss:    0.0007:  71%|████▏ | 729/1032 [2:03:50<58:37, 11.61s/it]\u001b[A\n",
            "Epochs 1/1. Running Loss:    0.0005:  71%|████▏ | 729/1032 [2:03:54<58:37, 11.61s/it]\u001b[A\n",
            "Epochs 1/1. Running Loss:    0.0005:  71%|████▏ | 730/1032 [2:04:01<57:41, 11.46s/it]\u001b[A\n",
            "Epochs 1/1. Running Loss:    0.0004:  71%|████▏ | 730/1032 [2:04:06<57:41, 11.46s/it]\u001b[A\n",
            "Epochs 1/1. Running Loss:    0.0004:  71%|████▎ | 731/1032 [2:04:14<58:55, 11.75s/it]\u001b[A\n",
            "Epochs 1/1. Running Loss:    0.0027:  71%|████▎ | 731/1032 [2:04:17<58:55, 11.75s/it]\u001b[A\n",
            "Epochs 1/1. Running Loss:    0.0027:  71%|████▎ | 732/1032 [2:04:25<57:26, 11.49s/it]\u001b[A\n",
            "Epochs 1/1. Running Loss:    0.0017:  71%|████▎ | 732/1032 [2:04:28<57:26, 11.49s/it]\u001b[A\n",
            "Epochs 1/1. Running Loss:    0.0017:  71%|████▎ | 733/1032 [2:04:36<57:14, 11.49s/it]\u001b[A\n",
            "Epochs 1/1. Running Loss:    0.0008:  71%|████▎ | 733/1032 [2:04:40<57:14, 11.49s/it]\u001b[A\n",
            "Epochs 1/1. Running Loss:    0.0008:  71%|████▎ | 734/1032 [2:04:46<54:49, 11.04s/it]\u001b[A\n",
            "Epochs 1/1. Running Loss:    0.0005:  71%|████▎ | 734/1032 [2:04:51<54:49, 11.04s/it]\u001b[A\n",
            "Epochs 1/1. Running Loss:    0.0005:  71%|████▎ | 735/1032 [2:04:59<57:06, 11.54s/it]\u001b[A\n",
            "Epochs 1/1. Running Loss:    0.0008:  71%|████▎ | 735/1032 [2:05:03<57:06, 11.54s/it]\u001b[A\n",
            "Epochs 1/1. Running Loss:    0.0008:  71%|████▎ | 736/1032 [2:05:10<55:52, 11.33s/it]\u001b[A\n",
            "Epochs 1/1. Running Loss:    0.0006:  71%|████▎ | 736/1032 [2:05:13<55:52, 11.33s/it]\u001b[A\n",
            "Epochs 1/1. Running Loss:    0.0006:  71%|████▎ | 737/1032 [2:05:21<55:15, 11.24s/it]\u001b[A\n",
            "Epochs 1/1. Running Loss:    0.0021:  71%|████▎ | 737/1032 [2:05:25<55:15, 11.24s/it]\u001b[A\n",
            "Epochs 1/1. Running Loss:    0.0021:  72%|████▎ | 738/1032 [2:05:33<56:25, 11.51s/it]\u001b[A\n",
            "Epochs 1/1. Running Loss:    0.2855:  72%|████▎ | 738/1032 [2:05:35<56:25, 11.51s/it]\u001b[A\n",
            "Epochs 1/1. Running Loss:    0.2855:  72%|████▎ | 739/1032 [2:05:42<53:27, 10.95s/it]\u001b[A\n",
            "Epochs 1/1. Running Loss:    0.0007:  72%|████▎ | 739/1032 [2:05:46<53:27, 10.95s/it]\u001b[A\n",
            "Epochs 1/1. Running Loss:    0.0007:  72%|████▎ | 740/1032 [2:05:54<54:31, 11.20s/it]\u001b[A\n",
            "Epochs 1/1. Running Loss:    0.0012:  72%|████▎ | 740/1032 [2:05:58<54:31, 11.20s/it]\u001b[A\n",
            "Epochs 1/1. Running Loss:    0.0012:  72%|████▎ | 741/1032 [2:06:06<55:14, 11.39s/it]\u001b[A\n",
            "Epochs 1/1. Running Loss:    0.0010:  72%|████▎ | 741/1032 [2:06:09<55:14, 11.39s/it]\u001b[A\n",
            "Epochs 1/1. Running Loss:    0.0010:  72%|████▎ | 742/1032 [2:06:17<55:01, 11.38s/it]\u001b[A\n",
            "Epochs 1/1. Running Loss:    0.0011:  72%|████▎ | 742/1032 [2:06:22<55:01, 11.38s/it]\u001b[A\n",
            "Epochs 1/1. Running Loss:    0.0011:  72%|████▎ | 743/1032 [2:06:29<55:29, 11.52s/it]\u001b[A\n",
            "Epochs 1/1. Running Loss:    0.0196:  72%|████▎ | 743/1032 [2:06:32<55:29, 11.52s/it]\u001b[A\n",
            "Epochs 1/1. Running Loss:    0.0196:  72%|████▎ | 744/1032 [2:06:39<53:20, 11.11s/it]\u001b[A\n",
            "Epochs 1/1. Running Loss:    0.0013:  72%|████▎ | 744/1032 [2:06:43<53:20, 11.11s/it]\u001b[A\n",
            "Epochs 1/1. Running Loss:    0.0013:  72%|████▎ | 745/1032 [2:06:51<54:23, 11.37s/it]\u001b[A\n",
            "Epochs 1/1. Running Loss:    0.1017:  72%|████▎ | 745/1032 [2:06:55<54:23, 11.37s/it]\u001b[A\n",
            "Epochs 1/1. Running Loss:    0.1017:  72%|████▎ | 746/1032 [2:07:02<53:43, 11.27s/it]\u001b[A\n",
            "Epochs 1/1. Running Loss:    0.0023:  72%|████▎ | 746/1032 [2:07:06<53:43, 11.27s/it]\u001b[A\n",
            "Epochs 1/1. Running Loss:    0.0023:  72%|████▎ | 747/1032 [2:07:14<54:21, 11.44s/it]\u001b[A\n",
            "Epochs 1/1. Running Loss:    0.0089:  72%|████▎ | 747/1032 [2:07:17<54:21, 11.44s/it]\u001b[A\n",
            "Epochs 1/1. Running Loss:    0.0089:  72%|████▎ | 748/1032 [2:07:25<52:32, 11.10s/it]\u001b[A\n",
            "Epochs 1/1. Running Loss:    0.0011:  72%|████▎ | 748/1032 [2:07:29<52:32, 11.10s/it]\u001b[A\n",
            "Epochs 1/1. Running Loss:    0.0011:  73%|████▎ | 749/1032 [2:07:38<55:12, 11.71s/it]\u001b[A\n",
            "Epochs 1/1. Running Loss:    0.0009:  73%|████▎ | 749/1032 [2:07:42<55:12, 11.71s/it]\u001b[A\n",
            "Epochs 1/1. Running Loss:    0.0009:  73%|████▎ | 750/1032 [2:07:49<54:36, 11.62s/it]\u001b[A\n",
            "Epochs 1/1. Running Loss:    0.0005:  73%|████▎ | 750/1032 [2:07:53<54:36, 11.62s/it]\u001b[A\n",
            "Epochs 1/1. Running Loss:    0.0005:  73%|████▎ | 751/1032 [2:08:03<57:00, 12.17s/it]\u001b[A\n",
            "Epochs 1/1. Running Loss:    0.0014:  73%|████▎ | 751/1032 [2:08:06<57:00, 12.17s/it]\u001b[A\n",
            "Epochs 1/1. Running Loss:    0.0014:  73%|████▎ | 752/1032 [2:08:13<53:44, 11.51s/it]\u001b[A\n",
            "Epochs 1/1. Running Loss:    0.0007:  73%|████▎ | 752/1032 [2:08:16<53:44, 11.51s/it]\u001b[A\n",
            "Epochs 1/1. Running Loss:    0.0007:  73%|████▍ | 753/1032 [2:08:22<51:21, 11.04s/it]\u001b[A\n",
            "Epochs 1/1. Running Loss:    0.0072:  73%|████▍ | 753/1032 [2:08:27<51:21, 11.04s/it]\u001b[A\n",
            "Epochs 1/1. Running Loss:    0.0072:  73%|████▍ | 754/1032 [2:08:35<53:01, 11.44s/it]\u001b[A\n",
            "Epochs 1/1. Running Loss:    0.0424:  73%|████▍ | 754/1032 [2:08:39<53:01, 11.44s/it]\u001b[A\n",
            "Epochs 1/1. Running Loss:    0.0424:  73%|████▍ | 755/1032 [2:08:47<53:18, 11.55s/it]\u001b[A\n",
            "Epochs 1/1. Running Loss:    0.0013:  73%|████▍ | 755/1032 [2:08:51<53:18, 11.55s/it]\u001b[A\n",
            "Epochs 1/1. Running Loss:    0.0013:  73%|████▍ | 756/1032 [2:08:58<53:01, 11.53s/it]\u001b[A\n",
            "Epochs 1/1. Running Loss:    0.3971:  73%|████▍ | 756/1032 [2:09:02<53:01, 11.53s/it]\u001b[A\n",
            "Epochs 1/1. Running Loss:    0.3971:  73%|████▍ | 757/1032 [2:09:09<51:59, 11.34s/it]\u001b[A\n",
            "Epochs 1/1. Running Loss:    0.0014:  73%|████▍ | 757/1032 [2:09:13<51:59, 11.34s/it]\u001b[A\n",
            "Epochs 1/1. Running Loss:    0.0014:  73%|████▍ | 758/1032 [2:09:19<50:29, 11.06s/it]\u001b[A\n",
            "Epochs 1/1. Running Loss:    0.0019:  73%|████▍ | 758/1032 [2:09:23<50:29, 11.06s/it]\u001b[A\n",
            "Epochs 1/1. Running Loss:    0.0019:  74%|████▍ | 759/1032 [2:09:31<50:57, 11.20s/it]\u001b[A\n",
            "Epochs 1/1. Running Loss:    0.0008:  74%|████▍ | 759/1032 [2:09:35<50:57, 11.20s/it]\u001b[A\n",
            "Epochs 1/1. Running Loss:    0.0008:  74%|████▍ | 760/1032 [2:09:43<51:55, 11.46s/it]\u001b[A\n",
            "Epochs 1/1. Running Loss:    0.0261:  74%|████▍ | 760/1032 [2:09:47<51:55, 11.46s/it]\u001b[A\n",
            "Epochs 1/1. Running Loss:    0.0261:  74%|████▍ | 761/1032 [2:09:54<51:43, 11.45s/it]\u001b[A\n",
            "Epochs 1/1. Running Loss:    0.0014:  74%|████▍ | 761/1032 [2:09:57<51:43, 11.45s/it]\u001b[A\n",
            "Epochs 1/1. Running Loss:    0.0014:  74%|████▍ | 762/1032 [2:10:05<50:41, 11.26s/it]\u001b[A\n",
            "Epochs 1/1. Running Loss:    0.0035:  74%|████▍ | 762/1032 [2:10:09<50:41, 11.26s/it]\u001b[A\n",
            "Epochs 1/1. Running Loss:    0.0035:  74%|████▍ | 763/1032 [2:10:17<51:40, 11.53s/it]\u001b[A\n",
            "Epochs 1/1. Running Loss:    0.0052:  74%|████▍ | 763/1032 [2:10:21<51:40, 11.53s/it]\u001b[A\n",
            "Epochs 1/1. Running Loss:    0.0052:  74%|████▍ | 764/1032 [2:10:29<51:01, 11.42s/it]\u001b[A\n",
            "Epochs 1/1. Running Loss:    0.0008:  74%|████▍ | 764/1032 [2:10:32<51:01, 11.42s/it]\u001b[A\n",
            "Epochs 1/1. Running Loss:    0.0008:  74%|████▍ | 765/1032 [2:10:39<49:04, 11.03s/it]\u001b[A\n",
            "Epochs 1/1. Running Loss:    0.0041:  74%|████▍ | 765/1032 [2:10:43<49:04, 11.03s/it]\u001b[A\n",
            "Epochs 1/1. Running Loss:    0.0041:  74%|████▍ | 766/1032 [2:10:51<51:04, 11.52s/it]\u001b[A\n",
            "Epochs 1/1. Running Loss:    0.0009:  74%|████▍ | 766/1032 [2:10:55<51:04, 11.52s/it]\u001b[A\n",
            "Epochs 1/1. Running Loss:    0.0009:  74%|████▍ | 767/1032 [2:11:04<52:37, 11.92s/it]\u001b[A\n",
            "Epochs 1/1. Running Loss:    0.0014:  74%|████▍ | 767/1032 [2:11:08<52:37, 11.92s/it]\u001b[A\n",
            "Epochs 1/1. Running Loss:    0.0014:  74%|████▍ | 768/1032 [2:11:16<52:15, 11.88s/it]\u001b[A\n",
            "Epochs 1/1. Running Loss:    0.0106:  74%|████▍ | 768/1032 [2:11:20<52:15, 11.88s/it]\u001b[A\n",
            "Epochs 1/1. Running Loss:    0.0106:  75%|████▍ | 769/1032 [2:11:26<49:27, 11.28s/it]\u001b[A\n",
            "Epochs 1/1. Running Loss:    0.0006:  75%|████▍ | 769/1032 [2:11:29<49:27, 11.28s/it]\u001b[A\n",
            "Epochs 1/1. Running Loss:    0.0006:  75%|████▍ | 770/1032 [2:11:37<48:59, 11.22s/it]\u001b[A\n",
            "Epochs 1/1. Running Loss:    0.0010:  75%|████▍ | 770/1032 [2:11:41<48:59, 11.22s/it]\u001b[A\n",
            "Epochs 1/1. Running Loss:    0.0010:  75%|████▍ | 771/1032 [2:11:49<50:15, 11.55s/it]\u001b[A\n",
            "Epochs 1/1. Running Loss:    0.0057:  75%|████▍ | 771/1032 [2:11:54<50:15, 11.55s/it]\u001b[A\n",
            "Epochs 1/1. Running Loss:    0.0057:  75%|████▍ | 772/1032 [2:12:01<49:49, 11.50s/it]\u001b[A\n",
            "Epochs 1/1. Running Loss:    0.0005:  75%|████▍ | 772/1032 [2:12:05<49:49, 11.50s/it]\u001b[A\n",
            "Epochs 1/1. Running Loss:    0.0005:  75%|████▍ | 773/1032 [2:12:11<47:55, 11.10s/it]\u001b[A\n",
            "Epochs 1/1. Running Loss:    0.0027:  75%|████▍ | 773/1032 [2:12:14<47:55, 11.10s/it]\u001b[A\n",
            "Epochs 1/1. Running Loss:    0.0027:  75%|████▌ | 774/1032 [2:12:23<49:43, 11.56s/it]\u001b[A\n",
            "Epochs 1/1. Running Loss:    0.0009:  75%|████▌ | 774/1032 [2:12:28<49:43, 11.56s/it]\u001b[A\n",
            "Epochs 1/1. Running Loss:    0.0009:  75%|████▌ | 775/1032 [2:12:35<49:52, 11.64s/it]\u001b[A\n",
            "Epochs 1/1. Running Loss:    0.0029:  75%|████▌ | 775/1032 [2:12:39<49:52, 11.64s/it]\u001b[A\n",
            "Epochs 1/1. Running Loss:    0.0029:  75%|████▌ | 776/1032 [2:12:46<49:00, 11.49s/it]\u001b[A\n",
            "Epochs 1/1. Running Loss:    0.0043:  75%|████▌ | 776/1032 [2:12:51<49:00, 11.49s/it]\u001b[A\n",
            "Epochs 1/1. Running Loss:    0.0043:  75%|████▌ | 777/1032 [2:13:00<51:19, 12.08s/it]\u001b[A\n",
            "Epochs 1/1. Running Loss:    0.0006:  75%|████▌ | 777/1032 [2:13:03<51:19, 12.08s/it]\u001b[A\n",
            "Epochs 1/1. Running Loss:    0.0006:  75%|████▌ | 778/1032 [2:13:10<49:03, 11.59s/it]\u001b[A\n",
            "Epochs 1/1. Running Loss:    0.0008:  75%|████▌ | 778/1032 [2:13:14<49:03, 11.59s/it]\u001b[A\n",
            "Epochs 1/1. Running Loss:    0.0008:  75%|████▌ | 779/1032 [2:13:21<47:51, 11.35s/it]\u001b[A\n",
            "Epochs 1/1. Running Loss:    0.0009:  75%|████▌ | 779/1032 [2:13:25<47:51, 11.35s/it]\u001b[A\n",
            "Epochs 1/1. Running Loss:    0.0009:  76%|████▌ | 780/1032 [2:13:33<48:21, 11.51s/it]\u001b[A\n",
            "Epochs 1/1. Running Loss:    0.0005:  76%|████▌ | 780/1032 [2:13:37<48:21, 11.51s/it]\u001b[A\n",
            "Epochs 1/1. Running Loss:    0.0005:  76%|████▌ | 781/1032 [2:13:44<47:59, 11.47s/it]\u001b[A\n",
            "Epochs 1/1. Running Loss:    0.0007:  76%|████▌ | 781/1032 [2:13:49<47:59, 11.47s/it]\u001b[A\n",
            "Epochs 1/1. Running Loss:    0.0007:  76%|████▌ | 782/1032 [2:13:56<47:39, 11.44s/it]\u001b[A\n",
            "Epochs 1/1. Running Loss:    0.0008:  76%|████▌ | 782/1032 [2:14:01<47:39, 11.44s/it]\u001b[A\n",
            "Epochs 1/1. Running Loss:    0.0008:  76%|████▌ | 783/1032 [2:14:09<50:11, 12.09s/it]\u001b[A\n",
            "Epochs 1/1. Running Loss:    0.0007:  76%|████▌ | 783/1032 [2:14:12<50:11, 12.09s/it]\u001b[A\n",
            "Epochs 1/1. Running Loss:    0.0007:  76%|████▌ | 784/1032 [2:14:19<46:32, 11.26s/it]\u001b[A\n",
            "Epochs 1/1. Running Loss:    0.0007:  76%|████▌ | 784/1032 [2:14:22<46:32, 11.26s/it]\u001b[A\n",
            "Epochs 1/1. Running Loss:    0.0007:  76%|████▌ | 785/1032 [2:14:31<47:15, 11.48s/it]\u001b[A\n",
            "Epochs 1/1. Running Loss:    0.0009:  76%|████▌ | 785/1032 [2:14:36<47:15, 11.48s/it]\u001b[A\n",
            "Epochs 1/1. Running Loss:    0.0009:  76%|████▌ | 786/1032 [2:14:44<48:45, 11.89s/it]\u001b[A\n",
            "Epochs 1/1. Running Loss:    0.1938:  76%|████▌ | 786/1032 [2:14:48<48:45, 11.89s/it]\u001b[A\n",
            "Epochs 1/1. Running Loss:    0.1938:  76%|████▌ | 787/1032 [2:14:56<49:15, 12.06s/it]\u001b[A\n",
            "Epochs 1/1. Running Loss:    0.0088:  76%|████▌ | 787/1032 [2:15:00<49:15, 12.06s/it]\u001b[A\n",
            "Epochs 1/1. Running Loss:    0.0088:  76%|████▌ | 788/1032 [2:15:08<48:35, 11.95s/it]\u001b[A\n",
            "Epochs 1/1. Running Loss:    0.0004:  76%|████▌ | 788/1032 [2:15:13<48:35, 11.95s/it]\u001b[A\n",
            "Epochs 1/1. Running Loss:    0.0004:  76%|████▌ | 789/1032 [2:15:20<48:18, 11.93s/it]\u001b[A\n",
            "Epochs 1/1. Running Loss:    0.0007:  76%|████▌ | 789/1032 [2:15:23<48:18, 11.93s/it]\u001b[A\n",
            "Epochs 1/1. Running Loss:    0.0007:  77%|████▌ | 790/1032 [2:15:29<45:39, 11.32s/it]\u001b[A\n",
            "Epochs 1/1. Running Loss:    0.0014:  77%|████▌ | 790/1032 [2:15:34<45:39, 11.32s/it]\u001b[A\n",
            "Epochs 1/1. Running Loss:    0.0014:  77%|████▌ | 791/1032 [2:15:43<48:24, 12.05s/it]\u001b[A\n",
            "Epochs 1/1. Running Loss:    0.1253:  77%|████▌ | 791/1032 [2:15:47<48:24, 12.05s/it]\u001b[A\n",
            "Epochs 1/1. Running Loss:    0.1253:  77%|████▌ | 792/1032 [2:15:55<48:19, 12.08s/it]\u001b[A\n",
            "Epochs 1/1. Running Loss:    0.0154:  77%|████▌ | 792/1032 [2:16:00<48:19, 12.08s/it]\u001b[A\n",
            "Epochs 1/1. Running Loss:    0.0154:  77%|████▌ | 793/1032 [2:16:09<49:28, 12.42s/it]\u001b[A\n",
            "Epochs 1/1. Running Loss:    0.0003:  77%|████▌ | 793/1032 [2:16:13<49:28, 12.42s/it]\u001b[A\n",
            "Epochs 1/1. Running Loss:    0.0003:  77%|████▌ | 794/1032 [2:16:20<48:18, 12.18s/it]\u001b[A\n",
            "Epochs 1/1. Running Loss:    0.0009:  77%|████▌ | 794/1032 [2:16:23<48:18, 12.18s/it]\u001b[A\n",
            "Epochs 1/1. Running Loss:    0.0009:  77%|████▌ | 795/1032 [2:16:31<46:59, 11.90s/it]\u001b[A\n",
            "Epochs 1/1. Running Loss:    0.0044:  77%|████▌ | 795/1032 [2:16:36<46:59, 11.90s/it]\u001b[A\n",
            "Epochs 1/1. Running Loss:    0.0044:  77%|████▋ | 796/1032 [2:16:44<47:45, 12.14s/it]\u001b[A\n",
            "Epochs 1/1. Running Loss:    0.0005:  77%|████▋ | 796/1032 [2:16:47<47:45, 12.14s/it]\u001b[A\n",
            "Epochs 1/1. Running Loss:    0.0005:  77%|████▋ | 797/1032 [2:16:55<45:43, 11.67s/it]\u001b[A\n",
            "Epochs 1/1. Running Loss:    0.0029:  77%|████▋ | 797/1032 [2:16:59<45:43, 11.67s/it]\u001b[A\n",
            "Epochs 1/1. Running Loss:    0.0029:  77%|████▋ | 798/1032 [2:17:07<45:48, 11.74s/it]\u001b[A\n",
            "Epochs 1/1. Running Loss:    0.5725:  77%|████▋ | 798/1032 [2:17:11<45:48, 11.74s/it]\u001b[A\n",
            "Epochs 1/1. Running Loss:    0.5725:  77%|████▋ | 799/1032 [2:17:18<45:24, 11.70s/it]\u001b[A\n",
            "Epochs 1/1. Running Loss:    0.0003:  77%|████▋ | 799/1032 [2:17:22<45:24, 11.70s/it]\u001b[A\n",
            "Epochs 1/1. Running Loss:    0.0003:  78%|████▋ | 800/1032 [2:17:31<46:42, 12.08s/it]\u001b[A\n",
            "Epochs 1/1. Running Loss:    0.5022:  78%|████▋ | 800/1032 [2:17:34<46:42, 12.08s/it]\u001b[A\n",
            "Epochs 1/1. Running Loss:    0.5022:  78%|████▋ | 801/1032 [2:17:41<44:21, 11.52s/it]\u001b[A\n",
            "Epochs 1/1. Running Loss:    0.4139:  78%|████▋ | 801/1032 [2:17:44<44:21, 11.52s/it]\u001b[A\n",
            "Epochs 1/1. Running Loss:    0.4139:  78%|████▋ | 802/1032 [2:17:52<43:21, 11.31s/it]\u001b[A\n",
            "Epochs 1/1. Running Loss:    0.0028:  78%|████▋ | 802/1032 [2:17:56<43:21, 11.31s/it]\u001b[A\n",
            "Epochs 1/1. Running Loss:    0.0028:  78%|████▋ | 803/1032 [2:18:04<44:01, 11.54s/it]\u001b[A\n",
            "Epochs 1/1. Running Loss:    0.0007:  78%|████▋ | 803/1032 [2:18:08<44:01, 11.54s/it]\u001b[A\n",
            "Epochs 1/1. Running Loss:    0.0007:  78%|████▋ | 804/1032 [2:18:15<42:27, 11.17s/it]\u001b[A\n",
            "Epochs 1/1. Running Loss:    0.0022:  78%|████▋ | 804/1032 [2:18:19<42:27, 11.17s/it]\u001b[A\n",
            "Epochs 1/1. Running Loss:    0.0022:  78%|████▋ | 805/1032 [2:18:26<42:29, 11.23s/it]\u001b[A\n",
            "Epochs 1/1. Running Loss:    0.0006:  78%|████▋ | 805/1032 [2:18:30<42:29, 11.23s/it]\u001b[A\n",
            "Epochs 1/1. Running Loss:    0.0006:  78%|████▋ | 806/1032 [2:18:39<44:42, 11.87s/it]\u001b[A\n",
            "Epochs 1/1. Running Loss:    0.0594:  78%|████▋ | 806/1032 [2:18:44<44:42, 11.87s/it]\u001b[A\n",
            "Epochs 1/1. Running Loss:    0.0594:  78%|████▋ | 807/1032 [2:18:52<45:46, 12.21s/it]\u001b[A\n",
            "Epochs 1/1. Running Loss:    0.0011:  78%|████▋ | 807/1032 [2:18:56<45:46, 12.21s/it]\u001b[A\n",
            "Epochs 1/1. Running Loss:    0.0011:  78%|████▋ | 808/1032 [2:19:03<43:59, 11.78s/it]\u001b[A\n",
            "Epochs 1/1. Running Loss:    0.3154:  78%|████▋ | 808/1032 [2:19:07<43:59, 11.78s/it]\u001b[A\n",
            "Epochs 1/1. Running Loss:    0.3154:  78%|████▋ | 809/1032 [2:19:16<45:02, 12.12s/it]\u001b[A\n",
            "Epochs 1/1. Running Loss:    0.0006:  78%|████▋ | 809/1032 [2:19:20<45:02, 12.12s/it]\u001b[A\n",
            "Epochs 1/1. Running Loss:    0.0006:  78%|████▋ | 810/1032 [2:19:27<43:15, 11.69s/it]\u001b[A\n",
            "Epochs 1/1. Running Loss:    0.5951:  78%|████▋ | 810/1032 [2:19:30<43:15, 11.69s/it]\u001b[A\n",
            "Epochs 1/1. Running Loss:    0.5951:  79%|████▋ | 811/1032 [2:19:38<42:19, 11.49s/it]\u001b[A\n",
            "Epochs 1/1. Running Loss:    0.0011:  79%|████▋ | 811/1032 [2:19:42<42:19, 11.49s/it]\u001b[A\n",
            "Epochs 1/1. Running Loss:    0.0011:  79%|████▋ | 812/1032 [2:19:50<42:47, 11.67s/it]\u001b[A\n",
            "Epochs 1/1. Running Loss:    0.0011:  79%|████▋ | 812/1032 [2:19:54<42:47, 11.67s/it]\u001b[A\n",
            "Epochs 1/1. Running Loss:    0.0011:  79%|████▋ | 813/1032 [2:20:02<42:51, 11.74s/it]\u001b[A\n",
            "Epochs 1/1. Running Loss:    0.0004:  79%|████▋ | 813/1032 [2:20:05<42:51, 11.74s/it]\u001b[A\n",
            "Epochs 1/1. Running Loss:    0.0004:  79%|████▋ | 814/1032 [2:20:16<44:58, 12.38s/it]\u001b[A\n",
            "Epochs 1/1. Running Loss:    0.0005:  79%|████▋ | 814/1032 [2:20:20<44:58, 12.38s/it]\u001b[A\n",
            "Epochs 1/1. Running Loss:    0.0005:  79%|████▋ | 815/1032 [2:20:27<44:10, 12.21s/it]\u001b[A\n",
            "Epochs 1/1. Running Loss:    0.0005:  79%|████▋ | 815/1032 [2:20:33<44:10, 12.21s/it]\u001b[A\n",
            "Epochs 1/1. Running Loss:    0.0005:  79%|████▋ | 816/1032 [2:20:40<44:07, 12.26s/it]\u001b[A\n",
            "Epochs 1/1. Running Loss:    0.0008:  79%|████▋ | 816/1032 [2:20:44<44:07, 12.26s/it]\u001b[A\n",
            "Epochs 1/1. Running Loss:    0.0008:  79%|████▊ | 817/1032 [2:20:52<43:53, 12.25s/it]\u001b[A\n",
            "Epochs 1/1. Running Loss:    0.0021:  79%|████▊ | 817/1032 [2:20:57<43:53, 12.25s/it]\u001b[A\n",
            "Epochs 1/1. Running Loss:    0.0021:  79%|████▊ | 818/1032 [2:21:05<44:02, 12.35s/it]\u001b[A\n",
            "Epochs 1/1. Running Loss:    0.0011:  79%|████▊ | 818/1032 [2:21:09<44:02, 12.35s/it]\u001b[A\n",
            "Epochs 1/1. Running Loss:    0.0011:  79%|████▊ | 819/1032 [2:21:18<44:40, 12.58s/it]\u001b[A\n",
            "Epochs 1/1. Running Loss:    0.0070:  79%|████▊ | 819/1032 [2:21:22<44:40, 12.58s/it]\u001b[A\n",
            "Epochs 1/1. Running Loss:    0.0070:  79%|████▊ | 820/1032 [2:21:30<43:59, 12.45s/it]\u001b[A\n",
            "Epochs 1/1. Running Loss:    0.0010:  79%|████▊ | 820/1032 [2:21:33<43:59, 12.45s/it]\u001b[A\n",
            "Epochs 1/1. Running Loss:    0.0010:  80%|████▊ | 821/1032 [2:21:43<44:09, 12.56s/it]\u001b[A\n",
            "Epochs 1/1. Running Loss:    0.0010:  80%|████▊ | 821/1032 [2:21:48<44:09, 12.56s/it]\u001b[A\n",
            "Epochs 1/1. Running Loss:    0.0010:  80%|████▊ | 822/1032 [2:21:56<44:43, 12.78s/it]\u001b[A\n",
            "Epochs 1/1. Running Loss:    0.0010:  80%|████▊ | 822/1032 [2:22:00<44:43, 12.78s/it]\u001b[A\n",
            "Epochs 1/1. Running Loss:    0.0010:  80%|████▊ | 823/1032 [2:22:07<42:31, 12.21s/it]\u001b[A\n",
            "Epochs 1/1. Running Loss:    0.0005:  80%|████▊ | 823/1032 [2:22:10<42:31, 12.21s/it]\u001b[A\n",
            "Epochs 1/1. Running Loss:    0.0005:  80%|████▊ | 824/1032 [2:22:18<41:13, 11.89s/it]\u001b[A\n",
            "Epochs 1/1. Running Loss:    0.0010:  80%|████▊ | 824/1032 [2:22:22<41:13, 11.89s/it]\u001b[A\n",
            "Epochs 1/1. Running Loss:    0.0010:  80%|████▊ | 825/1032 [2:22:31<42:28, 12.31s/it]\u001b[A\n",
            "Epochs 1/1. Running Loss:    0.0011:  80%|████▊ | 825/1032 [2:22:35<42:28, 12.31s/it]\u001b[A\n",
            "Epochs 1/1. Running Loss:    0.0011:  80%|████▊ | 826/1032 [2:22:45<43:50, 12.77s/it]\u001b[A\n",
            "Epochs 1/1. Running Loss:    0.0004:  80%|████▊ | 826/1032 [2:22:50<43:50, 12.77s/it]\u001b[A\n",
            "Epochs 1/1. Running Loss:    0.0004:  80%|████▊ | 827/1032 [2:22:57<43:10, 12.63s/it]\u001b[A\n",
            "Epochs 1/1. Running Loss:    0.4126:  80%|████▊ | 827/1032 [2:23:01<43:10, 12.63s/it]\u001b[A\n",
            "Epochs 1/1. Running Loss:    0.4126:  80%|████▊ | 828/1032 [2:23:07<40:01, 11.77s/it]\u001b[A\n",
            "Epochs 1/1. Running Loss:    0.0008:  80%|████▊ | 828/1032 [2:23:11<40:01, 11.77s/it]\u001b[A\n",
            "Epochs 1/1. Running Loss:    0.0008:  80%|████▊ | 829/1032 [2:23:17<37:32, 11.10s/it]\u001b[A\n",
            "Epochs 1/1. Running Loss:    0.0693:  80%|████▊ | 829/1032 [2:23:21<37:32, 11.10s/it]\u001b[A\n",
            "Epochs 1/1. Running Loss:    0.0693:  80%|████▊ | 830/1032 [2:23:29<38:01, 11.29s/it]\u001b[A\n",
            "Epochs 1/1. Running Loss:    0.0009:  80%|████▊ | 830/1032 [2:23:33<38:01, 11.29s/it]\u001b[A\n",
            "Epochs 1/1. Running Loss:    0.0009:  81%|████▊ | 831/1032 [2:23:40<38:21, 11.45s/it]\u001b[A\n",
            "Epochs 1/1. Running Loss:    0.0008:  81%|████▊ | 831/1032 [2:23:45<38:21, 11.45s/it]\u001b[A\n",
            "Epochs 1/1. Running Loss:    0.0008:  81%|████▊ | 832/1032 [2:23:52<38:18, 11.49s/it]\u001b[A\n",
            "Epochs 1/1. Running Loss:    0.0005:  81%|████▊ | 832/1032 [2:23:55<38:18, 11.49s/it]\u001b[A\n",
            "Epochs 1/1. Running Loss:    0.0005:  81%|████▊ | 833/1032 [2:24:02<36:48, 11.10s/it]\u001b[A\n",
            "Epochs 1/1. Running Loss:    0.0005:  81%|████▊ | 833/1032 [2:24:06<36:48, 11.10s/it]\u001b[A\n",
            "Epochs 1/1. Running Loss:    0.0005:  81%|████▊ | 834/1032 [2:24:13<36:38, 11.10s/it]\u001b[A\n",
            "Epochs 1/1. Running Loss:    0.0011:  81%|████▊ | 834/1032 [2:24:16<36:38, 11.10s/it]\u001b[A\n",
            "Epochs 1/1. Running Loss:    0.0011:  81%|████▊ | 835/1032 [2:24:23<34:53, 10.63s/it]\u001b[A\n",
            "Epochs 1/1. Running Loss:    0.0028:  81%|████▊ | 835/1032 [2:24:27<34:53, 10.63s/it]\u001b[A\n",
            "Epochs 1/1. Running Loss:    0.0028:  81%|████▊ | 836/1032 [2:24:34<35:08, 10.76s/it]\u001b[A\n",
            "Epochs 1/1. Running Loss:    0.0008:  81%|████▊ | 836/1032 [2:24:37<35:08, 10.76s/it]\u001b[A\n",
            "Epochs 1/1. Running Loss:    0.0008:  81%|████▊ | 837/1032 [2:24:44<33:58, 10.45s/it]\u001b[A\n",
            "Epochs 1/1. Running Loss:    0.1432:  81%|████▊ | 837/1032 [2:24:48<33:58, 10.45s/it]\u001b[A\n",
            "Epochs 1/1. Running Loss:    0.1432:  81%|████▊ | 838/1032 [2:24:55<34:53, 10.79s/it]\u001b[A\n",
            "Epochs 1/1. Running Loss:    0.1590:  81%|████▊ | 838/1032 [2:24:58<34:53, 10.79s/it]\u001b[A\n",
            "Epochs 1/1. Running Loss:    0.1590:  81%|████▉ | 839/1032 [2:25:07<35:23, 11.00s/it]\u001b[A\n",
            "Epochs 1/1. Running Loss:    0.3932:  81%|████▉ | 839/1032 [2:25:11<35:23, 11.00s/it]\u001b[A\n",
            "Epochs 1/1. Running Loss:    0.3932:  81%|████▉ | 840/1032 [2:25:17<34:39, 10.83s/it]\u001b[A\n",
            "Epochs 1/1. Running Loss:    0.0008:  81%|████▉ | 840/1032 [2:25:21<34:39, 10.83s/it]\u001b[A\n",
            "Epochs 1/1. Running Loss:    0.0008:  81%|████▉ | 841/1032 [2:25:27<34:02, 10.69s/it]\u001b[A\n",
            "Epochs 1/1. Running Loss:    0.9095:  81%|████▉ | 841/1032 [2:25:31<34:02, 10.69s/it]\u001b[A\n",
            "Epochs 1/1. Running Loss:    0.9095:  82%|████▉ | 842/1032 [2:25:39<34:33, 10.92s/it]\u001b[A\n",
            "Epochs 1/1. Running Loss:    0.0007:  82%|████▉ | 842/1032 [2:25:42<34:33, 10.92s/it]\u001b[A\n",
            "Epochs 1/1. Running Loss:    0.0007:  82%|████▉ | 843/1032 [2:25:48<32:48, 10.41s/it]\u001b[A\n",
            "Epochs 1/1. Running Loss:    0.0006:  82%|████▉ | 843/1032 [2:25:51<32:48, 10.41s/it]\u001b[A\n",
            "Epochs 1/1. Running Loss:    0.0006:  82%|████▉ | 844/1032 [2:25:57<31:03,  9.91s/it]\u001b[A\n",
            "Epochs 1/1. Running Loss:    0.0012:  82%|████▉ | 844/1032 [2:26:01<31:03,  9.91s/it]\u001b[A\n",
            "Epochs 1/1. Running Loss:    0.0012:  82%|████▉ | 845/1032 [2:26:09<32:53, 10.56s/it]\u001b[A\n",
            "Epochs 1/1. Running Loss:    0.0009:  82%|████▉ | 845/1032 [2:26:13<32:53, 10.56s/it]\u001b[A\n",
            "Epochs 1/1. Running Loss:    0.0009:  82%|████▉ | 846/1032 [2:26:21<34:08, 11.01s/it]\u001b[A\n",
            "Epochs 1/1. Running Loss:    0.0022:  82%|████▉ | 846/1032 [2:26:25<34:08, 11.01s/it]\u001b[A\n",
            "Epochs 1/1. Running Loss:    0.0022:  82%|████▉ | 847/1032 [2:26:31<33:09, 10.75s/it]\u001b[A\n",
            "Epochs 1/1. Running Loss:    0.0133:  82%|████▉ | 847/1032 [2:26:35<33:09, 10.75s/it]\u001b[A\n",
            "Epochs 1/1. Running Loss:    0.0133:  82%|████▉ | 848/1032 [2:26:41<32:06, 10.47s/it]\u001b[A\n",
            "Epochs 1/1. Running Loss:    0.0010:  82%|████▉ | 848/1032 [2:26:44<32:06, 10.47s/it]\u001b[A\n",
            "Epochs 1/1. Running Loss:    0.0010:  82%|████▉ | 849/1032 [2:26:51<31:29, 10.33s/it]\u001b[A\n",
            "Epochs 1/1. Running Loss:    0.0010:  82%|████▉ | 849/1032 [2:26:55<31:29, 10.33s/it]\u001b[A\n",
            "Epochs 1/1. Running Loss:    0.0010:  82%|████▉ | 850/1032 [2:27:03<32:37, 10.75s/it]\u001b[A\n",
            "Epochs 1/1. Running Loss:    0.0009:  82%|████▉ | 850/1032 [2:27:07<32:37, 10.75s/it]\u001b[A\n",
            "Epochs 1/1. Running Loss:    0.0009:  82%|████▉ | 851/1032 [2:27:14<33:20, 11.05s/it]\u001b[A\n",
            "Epochs 1/1. Running Loss:    0.0008:  82%|████▉ | 851/1032 [2:27:19<33:20, 11.05s/it]\u001b[A\n",
            "Epochs 1/1. Running Loss:    0.0008:  83%|████▉ | 852/1032 [2:27:25<32:27, 10.82s/it]\u001b[A\n",
            "Epochs 1/1. Running Loss:    0.0006:  83%|████▉ | 852/1032 [2:27:29<32:27, 10.82s/it]\u001b[A\n",
            "Epochs 1/1. Running Loss:    0.0006:  83%|████▉ | 853/1032 [2:27:37<33:16, 11.15s/it]\u001b[A\n",
            "Epochs 1/1. Running Loss:    0.0009:  83%|████▉ | 853/1032 [2:27:40<33:16, 11.15s/it]\u001b[A\n",
            "Epochs 1/1. Running Loss:    0.0009:  83%|████▉ | 854/1032 [2:27:47<32:12, 10.86s/it]\u001b[A\n",
            "Epochs 1/1. Running Loss:    0.1006:  83%|████▉ | 854/1032 [2:27:50<32:12, 10.86s/it]\u001b[A\n",
            "Epochs 1/1. Running Loss:    0.1006:  83%|████▉ | 855/1032 [2:27:57<31:02, 10.52s/it]\u001b[A\n",
            "Epochs 1/1. Running Loss:    0.0014:  83%|████▉ | 855/1032 [2:28:01<31:02, 10.52s/it]\u001b[A\n",
            "Epochs 1/1. Running Loss:    0.0014:  83%|████▉ | 856/1032 [2:28:09<32:12, 10.98s/it]\u001b[A\n",
            "Epochs 1/1. Running Loss:    0.0016:  83%|████▉ | 856/1032 [2:28:13<32:12, 10.98s/it]\u001b[A\n",
            "Epochs 1/1. Running Loss:    0.0016:  83%|████▉ | 857/1032 [2:28:20<32:10, 11.03s/it]\u001b[A\n",
            "Epochs 1/1. Running Loss:    0.0286:  83%|████▉ | 857/1032 [2:28:24<32:10, 11.03s/it]\u001b[A\n",
            "Epochs 1/1. Running Loss:    0.0286:  83%|████▉ | 858/1032 [2:28:31<32:07, 11.08s/it]\u001b[A\n",
            "Epochs 1/1. Running Loss:    0.0004:  83%|████▉ | 858/1032 [2:28:34<32:07, 11.08s/it]\u001b[A\n",
            "Epochs 1/1. Running Loss:    0.0004:  83%|████▉ | 859/1032 [2:28:42<31:53, 11.06s/it]\u001b[A\n",
            "Epochs 1/1. Running Loss:    0.0004:  83%|████▉ | 859/1032 [2:28:46<31:53, 11.06s/it]\u001b[A\n",
            "Epochs 1/1. Running Loss:    0.0004:  83%|█████ | 860/1032 [2:28:52<30:58, 10.80s/it]\u001b[A\n",
            "Epochs 1/1. Running Loss:    0.0009:  83%|█████ | 860/1032 [2:28:56<30:58, 10.80s/it]\u001b[A\n",
            "Epochs 1/1. Running Loss:    0.0009:  83%|█████ | 861/1032 [2:29:03<30:52, 10.83s/it]\u001b[A\n",
            "Epochs 1/1. Running Loss:    0.0489:  83%|█████ | 861/1032 [2:29:07<30:52, 10.83s/it]\u001b[A\n",
            "Epochs 1/1. Running Loss:    0.0489:  84%|█████ | 862/1032 [2:29:15<31:35, 11.15s/it]\u001b[A\n",
            "Epochs 1/1. Running Loss:    0.0011:  84%|█████ | 862/1032 [2:29:19<31:35, 11.15s/it]\u001b[A\n",
            "Epochs 1/1. Running Loss:    0.0011:  84%|█████ | 863/1032 [2:29:26<31:14, 11.09s/it]\u001b[A\n",
            "Epochs 1/1. Running Loss:    0.0047:  84%|█████ | 863/1032 [2:29:30<31:14, 11.09s/it]\u001b[A\n",
            "Epochs 1/1. Running Loss:    0.0047:  84%|█████ | 864/1032 [2:29:36<30:22, 10.85s/it]\u001b[A\n",
            "Epochs 1/1. Running Loss:    0.0006:  84%|█████ | 864/1032 [2:29:40<30:22, 10.85s/it]\u001b[A\n",
            "Epochs 1/1. Running Loss:    0.0006:  84%|█████ | 865/1032 [2:29:48<30:52, 11.09s/it]\u001b[A\n",
            "Epochs 1/1. Running Loss:    0.0011:  84%|█████ | 865/1032 [2:29:51<30:52, 11.09s/it]\u001b[A\n",
            "Epochs 1/1. Running Loss:    0.0011:  84%|█████ | 866/1032 [2:29:58<30:01, 10.85s/it]\u001b[A\n",
            "Epochs 1/1. Running Loss:    0.0028:  84%|█████ | 866/1032 [2:30:02<30:01, 10.85s/it]\u001b[A\n",
            "Epochs 1/1. Running Loss:    0.0028:  84%|█████ | 867/1032 [2:30:08<29:19, 10.66s/it]\u001b[A\n",
            "Epochs 1/1. Running Loss:    0.0010:  84%|█████ | 867/1032 [2:30:12<29:19, 10.66s/it]\u001b[A\n",
            "Epochs 1/1. Running Loss:    0.0010:  84%|█████ | 868/1032 [2:30:19<29:12, 10.69s/it]\u001b[A\n",
            "Epochs 1/1. Running Loss:    0.0021:  84%|█████ | 868/1032 [2:30:23<29:12, 10.69s/it]\u001b[A\n",
            "Epochs 1/1. Running Loss:    0.0021:  84%|█████ | 869/1032 [2:30:31<30:01, 11.05s/it]\u001b[A\n",
            "Epochs 1/1. Running Loss:    0.0010:  84%|█████ | 869/1032 [2:30:35<30:01, 11.05s/it]\u001b[A\n",
            "Epochs 1/1. Running Loss:    0.0010:  84%|█████ | 870/1032 [2:30:41<29:14, 10.83s/it]\u001b[A\n",
            "Epochs 1/1. Running Loss:    0.1485:  84%|█████ | 870/1032 [2:30:45<29:14, 10.83s/it]\u001b[A\n",
            "Epochs 1/1. Running Loss:    0.1485:  84%|█████ | 871/1032 [2:30:52<29:15, 10.91s/it]\u001b[A\n",
            "Epochs 1/1. Running Loss:    0.1951:  84%|█████ | 871/1032 [2:30:57<29:15, 10.91s/it]\u001b[A\n",
            "Epochs 1/1. Running Loss:    0.1951:  84%|█████ | 872/1032 [2:31:03<28:47, 10.80s/it]\u001b[A\n",
            "Epochs 1/1. Running Loss:    0.0017:  84%|█████ | 872/1032 [2:31:07<28:47, 10.80s/it]\u001b[A\n",
            "Epochs 1/1. Running Loss:    0.0017:  85%|█████ | 873/1032 [2:31:15<29:35, 11.16s/it]\u001b[A\n",
            "Epochs 1/1. Running Loss:    0.0006:  85%|█████ | 873/1032 [2:31:18<29:35, 11.16s/it]\u001b[A\n",
            "Epochs 1/1. Running Loss:    0.0006:  85%|█████ | 874/1032 [2:31:25<28:31, 10.83s/it]\u001b[A\n",
            "Epochs 1/1. Running Loss:    0.0235:  85%|█████ | 874/1032 [2:31:29<28:31, 10.83s/it]\u001b[A\n",
            "Epochs 1/1. Running Loss:    0.0235:  85%|█████ | 875/1032 [2:31:36<28:08, 10.76s/it]\u001b[A\n",
            "Epochs 1/1. Running Loss:    0.0010:  85%|█████ | 875/1032 [2:31:40<28:08, 10.76s/it]\u001b[A\n",
            "Epochs 1/1. Running Loss:    0.0010:  85%|█████ | 876/1032 [2:31:48<29:10, 11.22s/it]\u001b[A\n",
            "Epochs 1/1. Running Loss:    0.0009:  85%|█████ | 876/1032 [2:31:51<29:10, 11.22s/it]\u001b[A\n",
            "Epochs 1/1. Running Loss:    0.0009:  85%|█████ | 877/1032 [2:31:59<28:38, 11.09s/it]\u001b[A\n",
            "Epochs 1/1. Running Loss:    0.0005:  85%|█████ | 877/1032 [2:32:03<28:38, 11.09s/it]\u001b[A\n",
            "Epochs 1/1. Running Loss:    0.0005:  85%|█████ | 878/1032 [2:32:09<27:56, 10.88s/it]\u001b[A\n",
            "Epochs 1/1. Running Loss:    0.0011:  85%|█████ | 878/1032 [2:32:13<27:56, 10.88s/it]\u001b[A\n",
            "Epochs 1/1. Running Loss:    0.0011:  85%|█████ | 879/1032 [2:32:21<28:38, 11.23s/it]\u001b[A\n",
            "Epochs 1/1. Running Loss:    0.0005:  85%|█████ | 879/1032 [2:32:24<28:38, 11.23s/it]\u001b[A\n",
            "Epochs 1/1. Running Loss:    0.0005:  85%|█████ | 880/1032 [2:32:31<27:35, 10.89s/it]\u001b[A\n",
            "Epochs 1/1. Running Loss:    0.0025:  85%|█████ | 880/1032 [2:32:35<27:35, 10.89s/it]\u001b[A\n",
            "Epochs 1/1. Running Loss:    0.0025:  85%|█████ | 881/1032 [2:32:43<28:19, 11.26s/it]\u001b[A\n",
            "Epochs 1/1. Running Loss:    0.0005:  85%|█████ | 881/1032 [2:32:46<28:19, 11.26s/it]\u001b[A\n",
            "Epochs 1/1. Running Loss:    0.0005:  85%|█████▏| 882/1032 [2:32:53<26:41, 10.67s/it]\u001b[A\n",
            "Epochs 1/1. Running Loss:    0.0298:  85%|█████▏| 882/1032 [2:32:56<26:41, 10.67s/it]\u001b[A\n",
            "Epochs 1/1. Running Loss:    0.0298:  86%|█████▏| 883/1032 [2:33:04<27:14, 10.97s/it]\u001b[A\n",
            "Epochs 1/1. Running Loss:    0.0054:  86%|█████▏| 883/1032 [2:33:08<27:14, 10.97s/it]\u001b[A\n",
            "Epochs 1/1. Running Loss:    0.0054:  86%|█████▏| 884/1032 [2:33:15<26:37, 10.79s/it]\u001b[A\n",
            "Epochs 1/1. Running Loss:    0.0005:  86%|█████▏| 884/1032 [2:33:18<26:37, 10.79s/it]\u001b[A\n",
            "Epochs 1/1. Running Loss:    0.0005:  86%|█████▏| 885/1032 [2:33:25<25:47, 10.53s/it]\u001b[A\n",
            "Epochs 1/1. Running Loss:    0.0013:  86%|█████▏| 885/1032 [2:33:28<25:47, 10.53s/it]\u001b[A\n",
            "Epochs 1/1. Running Loss:    0.0013:  86%|█████▏| 886/1032 [2:33:34<24:28, 10.06s/it]\u001b[A\n",
            "Epochs 1/1. Running Loss:    0.5410:  86%|█████▏| 886/1032 [2:33:37<24:28, 10.06s/it]\u001b[A\n",
            "Epochs 1/1. Running Loss:    0.5410:  86%|█████▏| 887/1032 [2:33:45<25:02, 10.36s/it]\u001b[A\n",
            "Epochs 1/1. Running Loss:    0.0012:  86%|█████▏| 887/1032 [2:33:49<25:02, 10.36s/it]\u001b[A\n",
            "Epochs 1/1. Running Loss:    0.0012:  86%|█████▏| 888/1032 [2:33:57<25:58, 10.82s/it]\u001b[A\n",
            "Epochs 1/1. Running Loss:    0.0047:  86%|█████▏| 888/1032 [2:34:01<25:58, 10.82s/it]\u001b[A\n",
            "Epochs 1/1. Running Loss:    0.0047:  86%|█████▏| 889/1032 [2:34:09<26:48, 11.25s/it]\u001b[A\n",
            "Epochs 1/1. Running Loss:    0.0020:  86%|█████▏| 889/1032 [2:34:12<26:48, 11.25s/it]\u001b[A\n",
            "Epochs 1/1. Running Loss:    0.0020:  86%|█████▏| 890/1032 [2:34:19<25:34, 10.81s/it]\u001b[A\n",
            "Epochs 1/1. Running Loss:    0.0011:  86%|█████▏| 890/1032 [2:34:24<25:34, 10.81s/it]\u001b[A\n",
            "Epochs 1/1. Running Loss:    0.0011:  86%|█████▏| 891/1032 [2:34:32<27:24, 11.66s/it]\u001b[A\n",
            "Epochs 1/1. Running Loss:    0.0009:  86%|█████▏| 891/1032 [2:34:36<27:24, 11.66s/it]\u001b[A\n",
            "Epochs 1/1. Running Loss:    0.0009:  86%|█████▏| 892/1032 [2:34:42<25:50, 11.08s/it]\u001b[A\n",
            "Epochs 1/1. Running Loss:    0.0007:  86%|█████▏| 892/1032 [2:34:46<25:50, 11.08s/it]\u001b[A\n",
            "Epochs 1/1. Running Loss:    0.0007:  87%|█████▏| 893/1032 [2:34:54<26:06, 11.27s/it]\u001b[A\n",
            "Epochs 1/1. Running Loss:    0.0023:  87%|█████▏| 893/1032 [2:34:58<26:06, 11.27s/it]\u001b[A\n",
            "Epochs 1/1. Running Loss:    0.0023:  87%|█████▏| 894/1032 [2:35:05<25:48, 11.22s/it]\u001b[A\n",
            "Epochs 1/1. Running Loss:    0.0007:  87%|█████▏| 894/1032 [2:35:09<25:48, 11.22s/it]\u001b[A\n",
            "Epochs 1/1. Running Loss:    0.0007:  87%|█████▏| 895/1032 [2:35:17<26:24, 11.57s/it]\u001b[A\n",
            "Epochs 1/1. Running Loss:    0.0012:  87%|█████▏| 895/1032 [2:35:21<26:24, 11.57s/it]\u001b[A\n",
            "Epochs 1/1. Running Loss:    0.0012:  87%|█████▏| 896/1032 [2:35:29<26:16, 11.59s/it]\u001b[A\n",
            "Epochs 1/1. Running Loss:    0.0009:  87%|█████▏| 896/1032 [2:35:32<26:16, 11.59s/it]\u001b[A\n",
            "Epochs 1/1. Running Loss:    0.0009:  87%|█████▏| 897/1032 [2:35:39<25:18, 11.25s/it]\u001b[A\n",
            "Epochs 1/1. Running Loss:    0.0013:  87%|█████▏| 897/1032 [2:35:43<25:18, 11.25s/it]\u001b[A\n",
            "Epochs 1/1. Running Loss:    0.0013:  87%|█████▏| 898/1032 [2:35:51<25:28, 11.41s/it]\u001b[A\n",
            "Epochs 1/1. Running Loss:    0.0019:  87%|█████▏| 898/1032 [2:35:55<25:28, 11.41s/it]\u001b[A\n",
            "Epochs 1/1. Running Loss:    0.0019:  87%|█████▏| 899/1032 [2:36:02<25:08, 11.34s/it]\u001b[A\n",
            "Epochs 1/1. Running Loss:    0.0026:  87%|█████▏| 899/1032 [2:36:06<25:08, 11.34s/it]\u001b[A\n",
            "Epochs 1/1. Running Loss:    0.0026:  87%|█████▏| 900/1032 [2:36:13<24:49, 11.29s/it]\u001b[A\n",
            "Epochs 1/1. Running Loss:    0.0006:  87%|█████▏| 900/1032 [2:36:18<24:49, 11.29s/it]\u001b[A\n",
            "Epochs 1/1. Running Loss:    0.0006:  87%|█████▏| 901/1032 [2:36:25<24:57, 11.43s/it]\u001b[A\n",
            "Epochs 1/1. Running Loss:    0.0011:  87%|█████▏| 901/1032 [2:36:29<24:57, 11.43s/it]\u001b[A\n",
            "Epochs 1/1. Running Loss:    0.0011:  87%|█████▏| 902/1032 [2:36:36<24:12, 11.17s/it]\u001b[A\n",
            "Epochs 1/1. Running Loss:    0.0004:  87%|█████▏| 902/1032 [2:36:40<24:12, 11.17s/it]\u001b[A\n",
            "Epochs 1/1. Running Loss:    0.0004:  88%|█████▎| 903/1032 [2:36:48<24:42, 11.49s/it]\u001b[A\n",
            "Epochs 1/1. Running Loss:    0.0009:  88%|█████▎| 903/1032 [2:36:51<24:42, 11.49s/it]\u001b[A\n",
            "Epochs 1/1. Running Loss:    0.0009:  88%|█████▎| 904/1032 [2:36:59<24:04, 11.29s/it]\u001b[A\n",
            "Epochs 1/1. Running Loss:    0.0065:  88%|█████▎| 904/1032 [2:37:03<24:04, 11.29s/it]\u001b[A\n",
            "Epochs 1/1. Running Loss:    0.0065:  88%|█████▎| 905/1032 [2:37:10<23:35, 11.15s/it]\u001b[A\n",
            "Epochs 1/1. Running Loss:    0.0160:  88%|█████▎| 905/1032 [2:37:13<23:35, 11.15s/it]\u001b[A\n",
            "Epochs 1/1. Running Loss:    0.0160:  88%|█████▎| 906/1032 [2:37:19<22:17, 10.62s/it]\u001b[A\n",
            "Epochs 1/1. Running Loss:    0.0010:  88%|█████▎| 906/1032 [2:37:23<22:17, 10.62s/it]\u001b[A\n",
            "Epochs 1/1. Running Loss:    0.0010:  88%|█████▎| 907/1032 [2:37:30<22:42, 10.90s/it]\u001b[A\n",
            "Epochs 1/1. Running Loss:    0.0005:  88%|█████▎| 907/1032 [2:37:35<22:42, 10.90s/it]\u001b[A\n",
            "Epochs 1/1. Running Loss:    0.0005:  88%|█████▎| 908/1032 [2:37:43<23:20, 11.30s/it]\u001b[A\n",
            "Epochs 1/1. Running Loss:    0.0006:  88%|█████▎| 908/1032 [2:37:47<23:20, 11.30s/it]\u001b[A\n",
            "Epochs 1/1. Running Loss:    0.0006:  88%|█████▎| 909/1032 [2:37:56<24:18, 11.86s/it]\u001b[A\n",
            "Epochs 1/1. Running Loss:    0.0007:  88%|█████▎| 909/1032 [2:38:00<24:18, 11.86s/it]\u001b[A\n",
            "Epochs 1/1. Running Loss:    0.0007:  88%|█████▎| 910/1032 [2:38:08<24:19, 11.96s/it]\u001b[A\n",
            "Epochs 1/1. Running Loss:    0.0003:  88%|█████▎| 910/1032 [2:38:12<24:19, 11.96s/it]\u001b[A\n",
            "Epochs 1/1. Running Loss:    0.0003:  88%|█████▎| 911/1032 [2:38:19<23:44, 11.78s/it]\u001b[A\n",
            "Epochs 1/1. Running Loss:    0.0011:  88%|█████▎| 911/1032 [2:38:24<23:44, 11.78s/it]\u001b[A\n",
            "Epochs 1/1. Running Loss:    0.0011:  88%|█████▎| 912/1032 [2:38:32<23:47, 11.90s/it]\u001b[A\n",
            "Epochs 1/1. Running Loss:    0.0012:  88%|█████▎| 912/1032 [2:38:35<23:47, 11.90s/it]\u001b[A\n",
            "Epochs 1/1. Running Loss:    0.0012:  88%|█████▎| 913/1032 [2:38:43<23:02, 11.62s/it]\u001b[A\n",
            "Epochs 1/1. Running Loss:    0.0011:  88%|█████▎| 913/1032 [2:38:47<23:02, 11.62s/it]\u001b[A\n",
            "Epochs 1/1. Running Loss:    0.0011:  89%|█████▎| 914/1032 [2:38:55<23:24, 11.90s/it]\u001b[A\n",
            "Epochs 1/1. Running Loss:    0.0005:  89%|█████▎| 914/1032 [2:38:58<23:24, 11.90s/it]\u001b[A\n",
            "Epochs 1/1. Running Loss:    0.0005:  89%|█████▎| 915/1032 [2:39:05<21:59, 11.28s/it]\u001b[A\n",
            "Epochs 1/1. Running Loss:    0.0015:  89%|█████▎| 915/1032 [2:39:09<21:59, 11.28s/it]\u001b[A\n",
            "Epochs 1/1. Running Loss:    0.0015:  89%|█████▎| 916/1032 [2:39:17<22:11, 11.48s/it]\u001b[A\n",
            "Epochs 1/1. Running Loss:    0.0006:  89%|█████▎| 916/1032 [2:39:22<22:11, 11.48s/it]\u001b[A\n",
            "Epochs 1/1. Running Loss:    0.0006:  89%|█████▎| 917/1032 [2:39:30<23:05, 12.05s/it]\u001b[A\n",
            "Epochs 1/1. Running Loss:    0.0006:  89%|█████▎| 917/1032 [2:39:34<23:05, 12.05s/it]\u001b[A\n",
            "Epochs 1/1. Running Loss:    0.0006:  89%|█████▎| 918/1032 [2:39:42<22:38, 11.92s/it]\u001b[A\n",
            "Epochs 1/1. Running Loss:    0.0006:  89%|█████▎| 918/1032 [2:39:46<22:38, 11.92s/it]\u001b[A\n",
            "Epochs 1/1. Running Loss:    0.0006:  89%|█████▎| 919/1032 [2:39:53<22:04, 11.72s/it]\u001b[A\n",
            "Epochs 1/1. Running Loss:    0.0007:  89%|█████▎| 919/1032 [2:39:57<22:04, 11.72s/it]\u001b[A\n",
            "Epochs 1/1. Running Loss:    0.0007:  89%|█████▎| 920/1032 [2:40:05<21:57, 11.77s/it]\u001b[A\n",
            "Epochs 1/1. Running Loss:    0.5872:  89%|█████▎| 920/1032 [2:40:09<21:57, 11.77s/it]\u001b[A\n",
            "Epochs 1/1. Running Loss:    0.5872:  89%|█████▎| 921/1032 [2:40:16<21:20, 11.54s/it]\u001b[A\n",
            "Epochs 1/1. Running Loss:    0.0007:  89%|█████▎| 921/1032 [2:40:20<21:20, 11.54s/it]\u001b[A\n",
            "Epochs 1/1. Running Loss:    0.0007:  89%|█████▎| 922/1032 [2:40:27<20:52, 11.39s/it]\u001b[A\n",
            "Epochs 1/1. Running Loss:    0.4051:  89%|█████▎| 922/1032 [2:40:31<20:52, 11.39s/it]\u001b[A\n",
            "Epochs 1/1. Running Loss:    0.4051:  89%|█████▎| 923/1032 [2:40:40<21:26, 11.80s/it]\u001b[A\n",
            "Epochs 1/1. Running Loss:    0.0006:  89%|█████▎| 923/1032 [2:40:44<21:26, 11.80s/it]\u001b[A\n",
            "Epochs 1/1. Running Loss:    0.0006:  90%|█████▎| 924/1032 [2:40:51<20:51, 11.58s/it]\u001b[A\n",
            "Epochs 1/1. Running Loss:    0.0005:  90%|█████▎| 924/1032 [2:40:54<20:51, 11.58s/it]\u001b[A\n",
            "Epochs 1/1. Running Loss:    0.0005:  90%|█████▍| 925/1032 [2:41:00<19:32, 10.96s/it]\u001b[A\n",
            "Epochs 1/1. Running Loss:    0.0012:  90%|█████▍| 925/1032 [2:41:04<19:32, 10.96s/it]\u001b[A\n",
            "Epochs 1/1. Running Loss:    0.0012:  90%|█████▍| 926/1032 [2:41:12<19:50, 11.23s/it]\u001b[A\n",
            "Epochs 1/1. Running Loss:    0.0014:  90%|█████▍| 926/1032 [2:41:16<19:50, 11.23s/it]\u001b[A\n",
            "Epochs 1/1. Running Loss:    0.0014:  90%|█████▍| 927/1032 [2:41:25<20:36, 11.77s/it]\u001b[A\n",
            "Epochs 1/1. Running Loss:    0.5931:  90%|█████▍| 927/1032 [2:41:29<20:36, 11.77s/it]\u001b[A\n",
            "Epochs 1/1. Running Loss:    0.5931:  90%|█████▍| 928/1032 [2:41:37<20:33, 11.86s/it]\u001b[A\n",
            "Epochs 1/1. Running Loss:    0.0010:  90%|█████▍| 928/1032 [2:41:41<20:33, 11.86s/it]\u001b[A\n",
            "Epochs 1/1. Running Loss:    0.0010:  90%|█████▍| 929/1032 [2:41:50<20:32, 11.97s/it]\u001b[A\n",
            "Epochs 1/1. Running Loss:    0.0027:  90%|█████▍| 929/1032 [2:41:54<20:32, 11.97s/it]\u001b[A\n",
            "Epochs 1/1. Running Loss:    0.0027:  90%|█████▍| 930/1032 [2:42:02<20:22, 11.98s/it]\u001b[A\n",
            "Epochs 1/1. Running Loss:    0.0005:  90%|█████▍| 930/1032 [2:42:06<20:22, 11.98s/it]\u001b[A\n",
            "Epochs 1/1. Running Loss:    0.0005:  90%|█████▍| 931/1032 [2:42:14<20:30, 12.18s/it]\u001b[A\n",
            "Epochs 1/1. Running Loss:    0.0010:  90%|█████▍| 931/1032 [2:42:17<20:30, 12.18s/it]\u001b[A\n",
            "Epochs 1/1. Running Loss:    0.0010:  90%|█████▍| 932/1032 [2:42:25<19:39, 11.80s/it]\u001b[A\n",
            "Epochs 1/1. Running Loss:    0.0006:  90%|█████▍| 932/1032 [2:42:29<19:39, 11.80s/it]\u001b[A\n",
            "Epochs 1/1. Running Loss:    0.0006:  90%|█████▍| 933/1032 [2:42:38<19:45, 11.97s/it]\u001b[A\n",
            "Epochs 1/1. Running Loss:    0.0004:  90%|█████▍| 933/1032 [2:42:42<19:45, 11.97s/it]\u001b[A\n",
            "Epochs 1/1. Running Loss:    0.0004:  91%|█████▍| 934/1032 [2:42:49<19:11, 11.75s/it]\u001b[A\n",
            "Epochs 1/1. Running Loss:    0.0007:  91%|█████▍| 934/1032 [2:42:52<19:11, 11.75s/it]\u001b[A\n",
            "Epochs 1/1. Running Loss:    0.0007:  91%|█████▍| 935/1032 [2:43:01<18:59, 11.75s/it]\u001b[A\n",
            "Epochs 1/1. Running Loss:    0.0008:  91%|█████▍| 935/1032 [2:43:05<18:59, 11.75s/it]\u001b[A\n",
            "Epochs 1/1. Running Loss:    0.0008:  91%|█████▍| 936/1032 [2:43:13<19:01, 11.89s/it]\u001b[A\n",
            "Epochs 1/1. Running Loss:    0.0007:  91%|█████▍| 936/1032 [2:43:17<19:01, 11.89s/it]\u001b[A\n",
            "Epochs 1/1. Running Loss:    0.0007:  91%|█████▍| 937/1032 [2:43:23<18:16, 11.54s/it]\u001b[A\n",
            "Epochs 1/1. Running Loss:    0.0019:  91%|█████▍| 937/1032 [2:43:26<18:16, 11.54s/it]\u001b[A\n",
            "Epochs 1/1. Running Loss:    0.0019:  91%|█████▍| 938/1032 [2:43:33<17:06, 10.92s/it]\u001b[A\n",
            "Epochs 1/1. Running Loss:    0.0017:  91%|█████▍| 938/1032 [2:43:37<17:06, 10.92s/it]\u001b[A\n",
            "Epochs 1/1. Running Loss:    0.0017:  91%|█████▍| 939/1032 [2:43:45<17:16, 11.14s/it]\u001b[A\n",
            "Epochs 1/1. Running Loss:    0.0723:  91%|█████▍| 939/1032 [2:43:49<17:16, 11.14s/it]\u001b[A\n",
            "Epochs 1/1. Running Loss:    0.0723:  91%|█████▍| 940/1032 [2:43:57<17:33, 11.45s/it]\u001b[A\n",
            "Epochs 1/1. Running Loss:    0.0007:  91%|█████▍| 940/1032 [2:44:01<17:33, 11.45s/it]\u001b[A\n",
            "Epochs 1/1. Running Loss:    0.0007:  91%|█████▍| 941/1032 [2:44:09<17:37, 11.62s/it]\u001b[A\n",
            "Epochs 1/1. Running Loss:    0.0007:  91%|█████▍| 941/1032 [2:44:13<17:37, 11.62s/it]\u001b[A\n",
            "Epochs 1/1. Running Loss:    0.0007:  91%|█████▍| 942/1032 [2:44:19<16:51, 11.24s/it]\u001b[A\n",
            "Epochs 1/1. Running Loss:    0.0008:  91%|█████▍| 942/1032 [2:44:23<16:51, 11.24s/it]\u001b[A\n",
            "Epochs 1/1. Running Loss:    0.0008:  91%|█████▍| 943/1032 [2:44:31<17:04, 11.51s/it]\u001b[A\n",
            "Epochs 1/1. Running Loss:    0.0292:  91%|█████▍| 943/1032 [2:44:36<17:04, 11.51s/it]\u001b[A\n",
            "Epochs 1/1. Running Loss:    0.0292:  91%|█████▍| 944/1032 [2:44:42<16:37, 11.34s/it]\u001b[A\n",
            "Epochs 1/1. Running Loss:    0.0014:  91%|█████▍| 944/1032 [2:44:45<16:37, 11.34s/it]\u001b[A\n",
            "Epochs 1/1. Running Loss:    0.0014:  92%|█████▍| 945/1032 [2:44:51<15:31, 10.71s/it]\u001b[A\n",
            "Epochs 1/1. Running Loss:    0.0008:  92%|█████▍| 945/1032 [2:44:54<15:31, 10.71s/it]\u001b[A\n",
            "Epochs 1/1. Running Loss:    0.0008:  92%|█████▌| 946/1032 [2:45:03<15:37, 10.90s/it]\u001b[A\n",
            "Epochs 1/1. Running Loss:    0.0004:  92%|█████▌| 946/1032 [2:45:07<15:37, 10.90s/it]\u001b[A\n",
            "Epochs 1/1. Running Loss:    0.0004:  92%|█████▌| 947/1032 [2:45:15<16:01, 11.32s/it]\u001b[A\n",
            "Epochs 1/1. Running Loss:    0.0067:  92%|█████▌| 947/1032 [2:45:19<16:01, 11.32s/it]\u001b[A\n",
            "Epochs 1/1. Running Loss:    0.0067:  92%|█████▌| 948/1032 [2:45:27<16:16, 11.63s/it]\u001b[A\n",
            "Epochs 1/1. Running Loss:    0.0010:  92%|█████▌| 948/1032 [2:45:32<16:16, 11.63s/it]\u001b[A\n",
            "Epochs 1/1. Running Loss:    0.0010:  92%|█████▌| 949/1032 [2:45:40<16:21, 11.82s/it]\u001b[A\n",
            "Epochs 1/1. Running Loss:    0.0018:  92%|█████▌| 949/1032 [2:45:44<16:21, 11.82s/it]\u001b[A\n",
            "Epochs 1/1. Running Loss:    0.0018:  92%|█████▌| 950/1032 [2:45:51<15:55, 11.66s/it]\u001b[A\n",
            "Epochs 1/1. Running Loss:    0.2323:  92%|█████▌| 950/1032 [2:45:55<15:55, 11.66s/it]\u001b[A\n",
            "Epochs 1/1. Running Loss:    0.2323:  92%|█████▌| 951/1032 [2:46:04<16:19, 12.09s/it]\u001b[A\n",
            "Epochs 1/1. Running Loss:    0.0003:  92%|█████▌| 951/1032 [2:46:08<16:19, 12.09s/it]\u001b[A\n",
            "Epochs 1/1. Running Loss:    0.0003:  92%|█████▌| 952/1032 [2:46:14<15:25, 11.57s/it]\u001b[A\n",
            "Epochs 1/1. Running Loss:    0.0007:  92%|█████▌| 952/1032 [2:46:18<15:25, 11.57s/it]\u001b[A\n",
            "Epochs 1/1. Running Loss:    0.0007:  92%|█████▌| 953/1032 [2:46:24<14:23, 10.93s/it]\u001b[A\n",
            "Epochs 1/1. Running Loss:    0.0016:  92%|█████▌| 953/1032 [2:46:28<14:23, 10.93s/it]\u001b[A\n",
            "Epochs 1/1. Running Loss:    0.0016:  92%|█████▌| 954/1032 [2:46:36<14:48, 11.39s/it]\u001b[A\n",
            "Epochs 1/1. Running Loss:    0.0003:  92%|█████▌| 954/1032 [2:46:40<14:48, 11.39s/it]\u001b[A\n",
            "Epochs 1/1. Running Loss:    0.0003:  93%|█████▌| 955/1032 [2:46:48<14:54, 11.62s/it]\u001b[A\n",
            "Epochs 1/1. Running Loss:    0.0034:  93%|█████▌| 955/1032 [2:46:53<14:54, 11.62s/it]\u001b[A\n",
            "Epochs 1/1. Running Loss:    0.0034:  93%|█████▌| 956/1032 [2:47:01<14:59, 11.83s/it]\u001b[A\n",
            "Epochs 1/1. Running Loss:    0.0005:  93%|█████▌| 956/1032 [2:47:04<14:59, 11.83s/it]\u001b[A\n",
            "Epochs 1/1. Running Loss:    0.0005:  93%|█████▌| 957/1032 [2:47:11<14:04, 11.26s/it]\u001b[A\n",
            "Epochs 1/1. Running Loss:    0.0007:  93%|█████▌| 957/1032 [2:47:15<14:04, 11.26s/it]\u001b[A\n",
            "Epochs 1/1. Running Loss:    0.0007:  93%|█████▌| 958/1032 [2:47:21<13:27, 10.91s/it]\u001b[A\n",
            "Epochs 1/1. Running Loss:    0.0009:  93%|█████▌| 958/1032 [2:47:25<13:27, 10.91s/it]\u001b[A\n",
            "Epochs 1/1. Running Loss:    0.0009:  93%|█████▌| 959/1032 [2:47:33<13:45, 11.31s/it]\u001b[A\n",
            "Epochs 1/1. Running Loss:    0.0006:  93%|█████▌| 959/1032 [2:47:37<13:45, 11.31s/it]\u001b[A\n",
            "Epochs 1/1. Running Loss:    0.0006:  93%|█████▌| 960/1032 [2:47:45<13:50, 11.54s/it]\u001b[A\n",
            "Epochs 1/1. Running Loss:    0.0004:  93%|█████▌| 960/1032 [2:47:49<13:50, 11.54s/it]\u001b[A\n",
            "Epochs 1/1. Running Loss:    0.0004:  93%|█████▌| 961/1032 [2:47:57<13:54, 11.75s/it]\u001b[A\n",
            "Epochs 1/1. Running Loss:    0.0008:  93%|█████▌| 961/1032 [2:48:02<13:54, 11.75s/it]\u001b[A\n",
            "Epochs 1/1. Running Loss:    0.0008:  93%|█████▌| 962/1032 [2:48:12<14:35, 12.50s/it]\u001b[A\n",
            "Epochs 1/1. Running Loss:    0.3847:  93%|█████▌| 962/1032 [2:48:15<14:35, 12.50s/it]\u001b[A\n",
            "Epochs 1/1. Running Loss:    0.3847:  93%|█████▌| 963/1032 [2:48:23<14:03, 12.23s/it]\u001b[A\n",
            "Epochs 1/1. Running Loss:    0.0005:  93%|█████▌| 963/1032 [2:48:28<14:03, 12.23s/it]\u001b[A\n",
            "Epochs 1/1. Running Loss:    0.0005:  93%|█████▌| 964/1032 [2:48:37<14:20, 12.66s/it]\u001b[A\n",
            "Epochs 1/1. Running Loss:    0.0006:  93%|█████▌| 964/1032 [2:48:40<14:20, 12.66s/it]\u001b[A\n",
            "Epochs 1/1. Running Loss:    0.0006:  94%|█████▌| 965/1032 [2:48:47<13:25, 12.02s/it]\u001b[A\n",
            "Epochs 1/1. Running Loss:    0.0015:  94%|█████▌| 965/1032 [2:48:52<13:25, 12.02s/it]\u001b[A\n",
            "Epochs 1/1. Running Loss:    0.0015:  94%|█████▌| 966/1032 [2:48:59<13:03, 11.87s/it]\u001b[A\n",
            "Epochs 1/1. Running Loss:    0.0009:  94%|█████▌| 966/1032 [2:49:04<13:03, 11.87s/it]\u001b[A\n",
            "Epochs 1/1. Running Loss:    0.0009:  94%|█████▌| 967/1032 [2:49:12<13:15, 12.23s/it]\u001b[A\n",
            "Epochs 1/1. Running Loss:    0.0008:  94%|█████▌| 967/1032 [2:49:16<13:15, 12.23s/it]\u001b[A\n",
            "Epochs 1/1. Running Loss:    0.0008:  94%|█████▋| 968/1032 [2:49:24<13:01, 12.21s/it]\u001b[A\n",
            "Epochs 1/1. Running Loss:    0.0004:  94%|█████▋| 968/1032 [2:49:28<13:01, 12.21s/it]\u001b[A\n",
            "Epochs 1/1. Running Loss:    0.0004:  94%|█████▋| 969/1032 [2:49:34<12:07, 11.54s/it]\u001b[A\n",
            "Epochs 1/1. Running Loss:    0.0577:  94%|█████▋| 969/1032 [2:49:38<12:07, 11.54s/it]\u001b[A\n",
            "Epochs 1/1. Running Loss:    0.0577:  94%|█████▋| 970/1032 [2:49:47<12:15, 11.87s/it]\u001b[A\n",
            "Epochs 1/1. Running Loss:    0.0007:  94%|█████▋| 970/1032 [2:49:51<12:15, 11.87s/it]\u001b[A\n",
            "Epochs 1/1. Running Loss:    0.0007:  94%|█████▋| 971/1032 [2:49:59<12:08, 11.95s/it]\u001b[A\n",
            "Epochs 1/1. Running Loss:    0.0005:  94%|█████▋| 971/1032 [2:50:03<12:08, 11.95s/it]\u001b[A\n",
            "Epochs 1/1. Running Loss:    0.0005:  94%|█████▋| 972/1032 [2:50:11<11:54, 11.91s/it]\u001b[A\n",
            "Epochs 1/1. Running Loss:    0.0004:  94%|█████▋| 972/1032 [2:50:15<11:54, 11.91s/it]\u001b[A\n",
            "Epochs 1/1. Running Loss:    0.0004:  94%|█████▋| 973/1032 [2:50:21<11:17, 11.48s/it]\u001b[A\n",
            "Epochs 1/1. Running Loss:    0.0005:  94%|█████▋| 973/1032 [2:50:25<11:17, 11.48s/it]\u001b[A\n",
            "Epochs 1/1. Running Loss:    0.0005:  94%|█████▋| 974/1032 [2:50:30<10:26, 10.80s/it]\u001b[A\n",
            "Epochs 1/1. Running Loss:    0.0004:  94%|█████▋| 974/1032 [2:50:34<10:26, 10.80s/it]\u001b[A\n",
            "Epochs 1/1. Running Loss:    0.0004:  94%|█████▋| 975/1032 [2:50:42<10:32, 11.10s/it]\u001b[A\n",
            "Epochs 1/1. Running Loss:    0.0005:  94%|█████▋| 975/1032 [2:50:46<10:32, 11.10s/it]\u001b[A\n",
            "Epochs 1/1. Running Loss:    0.0005:  95%|█████▋| 976/1032 [2:50:54<10:40, 11.43s/it]\u001b[A\n",
            "Epochs 1/1. Running Loss:    0.0003:  95%|█████▋| 976/1032 [2:50:59<10:40, 11.43s/it]\u001b[A\n",
            "Epochs 1/1. Running Loss:    0.0003:  95%|█████▋| 977/1032 [2:51:07<10:55, 11.91s/it]\u001b[A\n",
            "Epochs 1/1. Running Loss:    0.0004:  95%|█████▋| 977/1032 [2:51:12<10:55, 11.91s/it]\u001b[A\n",
            "Epochs 1/1. Running Loss:    0.0004:  95%|█████▋| 978/1032 [2:51:19<10:37, 11.80s/it]\u001b[A\n",
            "Epochs 1/1. Running Loss:    0.0005:  95%|█████▋| 978/1032 [2:51:23<10:37, 11.80s/it]\u001b[A\n",
            "Epochs 1/1. Running Loss:    0.0005:  95%|█████▋| 979/1032 [2:51:31<10:25, 11.80s/it]\u001b[A\n",
            "Epochs 1/1. Running Loss:    0.0007:  95%|█████▋| 979/1032 [2:51:36<10:25, 11.80s/it]\u001b[A\n",
            "Epochs 1/1. Running Loss:    0.0007:  95%|█████▋| 980/1032 [2:51:43<10:20, 11.93s/it]\u001b[A\n",
            "Epochs 1/1. Running Loss:    0.0021:  95%|█████▋| 980/1032 [2:51:46<10:20, 11.93s/it]\u001b[A\n",
            "Epochs 1/1. Running Loss:    0.0021:  95%|█████▋| 981/1032 [2:51:55<10:03, 11.83s/it]\u001b[A\n",
            "Epochs 1/1. Running Loss:    0.0014:  95%|█████▋| 981/1032 [2:51:59<10:03, 11.83s/it]\u001b[A\n",
            "Epochs 1/1. Running Loss:    0.0014:  95%|█████▋| 982/1032 [2:52:06<09:43, 11.67s/it]\u001b[A\n",
            "Epochs 1/1. Running Loss:    0.0002:  95%|█████▋| 982/1032 [2:52:09<09:43, 11.67s/it]\u001b[A\n",
            "Epochs 1/1. Running Loss:    0.0002:  95%|█████▋| 983/1032 [2:52:16<09:11, 11.26s/it]\u001b[A\n",
            "Epochs 1/1. Running Loss:    0.0003:  95%|█████▋| 983/1032 [2:52:21<09:11, 11.26s/it]\u001b[A\n",
            "Epochs 1/1. Running Loss:    0.0003:  95%|█████▋| 984/1032 [2:52:29<09:17, 11.62s/it]\u001b[A\n",
            "Epochs 1/1. Running Loss:    0.0065:  95%|█████▋| 984/1032 [2:52:33<09:17, 11.62s/it]\u001b[A\n",
            "Epochs 1/1. Running Loss:    0.0065:  95%|█████▋| 985/1032 [2:52:41<09:16, 11.83s/it]\u001b[A\n",
            "Epochs 1/1. Running Loss:    0.0004:  95%|█████▋| 985/1032 [2:52:45<09:16, 11.83s/it]\u001b[A\n",
            "Epochs 1/1. Running Loss:    0.0004:  96%|█████▋| 986/1032 [2:52:53<09:04, 11.84s/it]\u001b[A\n",
            "Epochs 1/1. Running Loss:    0.0006:  96%|█████▋| 986/1032 [2:52:57<09:04, 11.84s/it]\u001b[A\n",
            "Epochs 1/1. Running Loss:    0.0006:  96%|█████▋| 987/1032 [2:53:03<08:32, 11.39s/it]\u001b[A\n",
            "Epochs 1/1. Running Loss:    0.0005:  96%|█████▋| 987/1032 [2:53:07<08:32, 11.39s/it]\u001b[A\n",
            "Epochs 1/1. Running Loss:    0.0005:  96%|█████▋| 988/1032 [2:53:15<08:32, 11.64s/it]\u001b[A\n",
            "Epochs 1/1. Running Loss:    0.3929:  96%|█████▋| 988/1032 [2:53:20<08:32, 11.64s/it]\u001b[A\n",
            "Epochs 1/1. Running Loss:    0.3929:  96%|█████▊| 989/1032 [2:53:28<08:27, 11.80s/it]\u001b[A\n",
            "Epochs 1/1. Running Loss:    0.0003:  96%|█████▊| 989/1032 [2:53:31<08:27, 11.80s/it]\u001b[A\n",
            "Epochs 1/1. Running Loss:    0.0003:  96%|█████▊| 990/1032 [2:53:39<08:08, 11.63s/it]\u001b[A\n",
            "Epochs 1/1. Running Loss:    0.0008:  96%|█████▊| 990/1032 [2:53:43<08:08, 11.63s/it]\u001b[A\n",
            "Epochs 1/1. Running Loss:    0.0008:  96%|█████▊| 991/1032 [2:53:50<07:54, 11.57s/it]\u001b[A\n",
            "Epochs 1/1. Running Loss:    0.0006:  96%|█████▊| 991/1032 [2:53:54<07:54, 11.57s/it]\u001b[A\n",
            "Epochs 1/1. Running Loss:    0.0006:  96%|█████▊| 992/1032 [2:54:01<07:30, 11.27s/it]\u001b[A\n",
            "Epochs 1/1. Running Loss:    0.0005:  96%|█████▊| 992/1032 [2:54:05<07:30, 11.27s/it]\u001b[A\n",
            "Epochs 1/1. Running Loss:    0.0005:  96%|█████▊| 993/1032 [2:54:13<07:33, 11.63s/it]\u001b[A\n",
            "Epochs 1/1. Running Loss:    0.0007:  96%|█████▊| 993/1032 [2:54:17<07:33, 11.63s/it]\u001b[A\n",
            "Epochs 1/1. Running Loss:    0.0007:  96%|█████▊| 994/1032 [2:54:25<07:28, 11.79s/it]\u001b[A\n",
            "Epochs 1/1. Running Loss:    0.4883:  96%|█████▊| 994/1032 [2:54:31<07:28, 11.79s/it]\u001b[A\n",
            "Epochs 1/1. Running Loss:    0.4883:  96%|█████▊| 995/1032 [2:54:40<07:48, 12.66s/it]\u001b[A\n",
            "Epochs 1/1. Running Loss:    0.0006:  96%|█████▊| 995/1032 [2:54:45<07:48, 12.66s/it]\u001b[A\n",
            "Epochs 1/1. Running Loss:    0.0006:  97%|█████▊| 996/1032 [2:54:53<07:38, 12.74s/it]\u001b[A\n",
            "Epochs 1/1. Running Loss:    0.0022:  97%|█████▊| 996/1032 [2:54:57<07:38, 12.74s/it]\u001b[A\n",
            "Epochs 1/1. Running Loss:    0.0022:  97%|█████▊| 997/1032 [2:55:06<07:32, 12.93s/it]\u001b[A\n",
            "Epochs 1/1. Running Loss:    0.0006:  97%|█████▊| 997/1032 [2:55:10<07:32, 12.93s/it]\u001b[A\n",
            "Epochs 1/1. Running Loss:    0.0006:  97%|█████▊| 998/1032 [2:55:16<06:45, 11.92s/it]\u001b[A\n",
            "Epochs 1/1. Running Loss:    0.0007:  97%|█████▊| 998/1032 [2:55:19<06:45, 11.92s/it]\u001b[A\n",
            "Epochs 1/1. Running Loss:    0.0007:  97%|█████▊| 999/1032 [2:55:26<06:10, 11.23s/it]\u001b[A\n",
            "Epochs 1/1. Running Loss:    0.0002:  97%|█████▊| 999/1032 [2:55:30<06:10, 11.23s/it]\u001b[A\n",
            "Epochs 1/1. Running Loss:    0.0002:  97%|████▊| 1000/1032 [2:55:39<06:23, 11.97s/it]\u001b[A\n",
            "Epochs 1/1. Running Loss:    0.0006:  97%|████▊| 1000/1032 [2:55:44<06:23, 11.97s/it]\u001b[A\n",
            "Epochs 1/1. Running Loss:    0.0006:  97%|████▊| 1001/1032 [2:55:52<06:20, 12.28s/it]\u001b[A\n",
            "Epochs 1/1. Running Loss:    0.0010:  97%|████▊| 1001/1032 [2:55:57<06:20, 12.28s/it]\u001b[A\n",
            "Epochs 1/1. Running Loss:    0.0010:  97%|████▊| 1002/1032 [2:56:05<06:12, 12.40s/it]\u001b[A\n",
            "Epochs 1/1. Running Loss:    0.0008:  97%|████▊| 1002/1032 [2:56:09<06:12, 12.40s/it]\u001b[A\n",
            "Epochs 1/1. Running Loss:    0.0008:  97%|████▊| 1003/1032 [2:56:17<05:52, 12.14s/it]\u001b[A\n",
            "Epochs 1/1. Running Loss:    0.0004:  97%|████▊| 1003/1032 [2:56:21<05:52, 12.14s/it]\u001b[A\n",
            "Epochs 1/1. Running Loss:    0.0004:  97%|████▊| 1004/1032 [2:56:27<05:25, 11.62s/it]\u001b[A\n",
            "Epochs 1/1. Running Loss:    0.0009:  97%|████▊| 1004/1032 [2:56:30<05:25, 11.62s/it]\u001b[A\n",
            "Epochs 1/1. Running Loss:    0.0009:  97%|████▊| 1005/1032 [2:56:38<05:11, 11.55s/it]\u001b[A\n",
            "Epochs 1/1. Running Loss:    0.0019:  97%|████▊| 1005/1032 [2:56:43<05:11, 11.55s/it]\u001b[A\n",
            "Epochs 1/1. Running Loss:    0.0019:  97%|████▊| 1006/1032 [2:56:51<05:05, 11.76s/it]\u001b[A\n",
            "Epochs 1/1. Running Loss:    0.0007:  97%|████▊| 1006/1032 [2:56:55<05:05, 11.76s/it]\u001b[A\n",
            "Epochs 1/1. Running Loss:    0.0007:  98%|████▉| 1007/1032 [2:57:03<04:57, 11.91s/it]\u001b[A\n",
            "Epochs 1/1. Running Loss:    0.0003:  98%|████▉| 1007/1032 [2:57:08<04:57, 11.91s/it]\u001b[A\n",
            "Epochs 1/1. Running Loss:    0.0003:  98%|████▉| 1008/1032 [2:57:16<04:57, 12.40s/it]\u001b[A\n",
            "Epochs 1/1. Running Loss:    0.0005:  98%|████▉| 1008/1032 [2:57:21<04:57, 12.40s/it]\u001b[A\n",
            "Epochs 1/1. Running Loss:    0.0005:  98%|████▉| 1009/1032 [2:57:27<04:35, 12.00s/it]\u001b[A\n",
            "Epochs 1/1. Running Loss:    0.1445:  98%|████▉| 1009/1032 [2:57:32<04:35, 12.00s/it]\u001b[A\n",
            "Epochs 1/1. Running Loss:    0.1445:  98%|████▉| 1010/1032 [2:57:40<04:25, 12.07s/it]\u001b[A\n",
            "Epochs 1/1. Running Loss:    0.0006:  98%|████▉| 1010/1032 [2:57:44<04:25, 12.07s/it]\u001b[A\n",
            "Epochs 1/1. Running Loss:    0.0006:  98%|████▉| 1011/1032 [2:57:52<04:16, 12.21s/it]\u001b[A\n",
            "Epochs 1/1. Running Loss:    0.0002:  98%|████▉| 1011/1032 [2:57:55<04:16, 12.21s/it]\u001b[A\n",
            "Epochs 1/1. Running Loss:    0.0002:  98%|████▉| 1012/1032 [2:58:02<03:47, 11.40s/it]\u001b[A\n",
            "Epochs 1/1. Running Loss:    0.0002:  98%|████▉| 1012/1032 [2:58:05<03:47, 11.40s/it]\u001b[A\n",
            "Epochs 1/1. Running Loss:    0.0002:  98%|████▉| 1013/1032 [2:58:13<03:38, 11.48s/it]\u001b[A\n",
            "Epochs 1/1. Running Loss:    0.0007:  98%|████▉| 1013/1032 [2:58:18<03:38, 11.48s/it]\u001b[A\n",
            "Epochs 1/1. Running Loss:    0.0007:  98%|████▉| 1014/1032 [2:58:26<03:30, 11.70s/it]\u001b[A\n",
            "Epochs 1/1. Running Loss:    0.5571:  98%|████▉| 1014/1032 [2:58:30<03:30, 11.70s/it]\u001b[A\n",
            "Epochs 1/1. Running Loss:    0.5571:  98%|████▉| 1015/1032 [2:58:38<03:22, 11.89s/it]\u001b[A\n",
            "Epochs 1/1. Running Loss:    0.0008:  98%|████▉| 1015/1032 [2:58:41<03:22, 11.89s/it]\u001b[A\n",
            "Epochs 1/1. Running Loss:    0.0008:  98%|████▉| 1016/1032 [2:58:48<03:02, 11.38s/it]\u001b[A\n",
            "Epochs 1/1. Running Loss:    0.0004:  98%|████▉| 1016/1032 [2:58:52<03:02, 11.38s/it]\u001b[A\n",
            "Epochs 1/1. Running Loss:    0.0004:  99%|████▉| 1017/1032 [2:59:00<02:53, 11.59s/it]\u001b[A\n",
            "Epochs 1/1. Running Loss:    0.0027:  99%|████▉| 1017/1032 [2:59:05<02:53, 11.59s/it]\u001b[A\n",
            "Epochs 1/1. Running Loss:    0.0027:  99%|████▉| 1018/1032 [2:59:15<02:57, 12.66s/it]\u001b[A\n",
            "Epochs 1/1. Running Loss:    0.0004:  99%|████▉| 1018/1032 [2:59:19<02:57, 12.66s/it]\u001b[A\n",
            "Epochs 1/1. Running Loss:    0.0004:  99%|████▉| 1019/1032 [2:59:26<02:35, 11.93s/it]\u001b[A\n",
            "Epochs 1/1. Running Loss:    0.0011:  99%|████▉| 1019/1032 [2:59:30<02:35, 11.93s/it]\u001b[A\n",
            "Epochs 1/1. Running Loss:    0.0011:  99%|████▉| 1020/1032 [2:59:38<02:23, 11.95s/it]\u001b[A\n",
            "Epochs 1/1. Running Loss:    0.0006:  99%|████▉| 1020/1032 [2:59:43<02:23, 11.95s/it]\u001b[A\n",
            "Epochs 1/1. Running Loss:    0.0006:  99%|████▉| 1021/1032 [2:59:51<02:17, 12.52s/it]\u001b[A\n",
            "Epochs 1/1. Running Loss:    0.0004:  99%|████▉| 1021/1032 [2:59:56<02:17, 12.52s/it]\u001b[A\n",
            "Epochs 1/1. Running Loss:    0.0004:  99%|████▉| 1022/1032 [3:00:03<02:01, 12.19s/it]\u001b[A\n",
            "Epochs 1/1. Running Loss:    0.0007:  99%|████▉| 1022/1032 [3:00:07<02:01, 12.19s/it]\u001b[A\n",
            "Epochs 1/1. Running Loss:    0.0007:  99%|████▉| 1023/1032 [3:00:15<01:49, 12.22s/it]\u001b[A\n",
            "Epochs 1/1. Running Loss:    0.0010:  99%|████▉| 1023/1032 [3:00:19<01:49, 12.22s/it]\u001b[A\n",
            "Epochs 1/1. Running Loss:    0.0010:  99%|████▉| 1024/1032 [3:00:27<01:35, 11.97s/it]\u001b[A\n",
            "Epochs 1/1. Running Loss:    0.0004:  99%|████▉| 1024/1032 [3:00:31<01:35, 11.97s/it]\u001b[A\n",
            "Epochs 1/1. Running Loss:    0.0004:  99%|████▉| 1025/1032 [3:00:39<01:24, 12.02s/it]\u001b[A\n",
            "Epochs 1/1. Running Loss:    0.0008:  99%|████▉| 1025/1032 [3:00:43<01:24, 12.02s/it]\u001b[A\n",
            "Epochs 1/1. Running Loss:    0.0008:  99%|████▉| 1026/1032 [3:00:49<01:09, 11.60s/it]\u001b[A\n",
            "Epochs 1/1. Running Loss:    0.3432:  99%|████▉| 1026/1032 [3:00:53<01:09, 11.60s/it]\u001b[A\n",
            "Epochs 1/1. Running Loss:    0.3432: 100%|████▉| 1027/1032 [3:01:01<00:58, 11.68s/it]\u001b[A\n",
            "Epochs 1/1. Running Loss:    0.0119: 100%|████▉| 1027/1032 [3:01:06<00:58, 11.68s/it]\u001b[A\n",
            "Epochs 1/1. Running Loss:    0.0119: 100%|████▉| 1028/1032 [3:01:16<00:50, 12.58s/it]\u001b[A\n",
            "Epochs 1/1. Running Loss:    0.0006: 100%|████▉| 1028/1032 [3:01:21<00:50, 12.58s/it]\u001b[A\n",
            "Epochs 1/1. Running Loss:    0.0006: 100%|████▉| 1029/1032 [3:01:28<00:37, 12.47s/it]\u001b[A\n",
            "Epochs 1/1. Running Loss:    0.0005: 100%|████▉| 1029/1032 [3:01:31<00:37, 12.47s/it]\u001b[A\n",
            "Epochs 1/1. Running Loss:    0.0005: 100%|████▉| 1030/1032 [3:01:39<00:23, 11.92s/it]\u001b[A\n",
            "Epochs 1/1. Running Loss:    0.0186: 100%|████▉| 1030/1032 [3:01:43<00:23, 11.92s/it]\u001b[A\n",
            "Epochs 1/1. Running Loss:    0.0186: 100%|████▉| 1031/1032 [3:01:52<00:12, 12.32s/it]\u001b[A\n",
            "Epochs 1/1. Running Loss:    0.0023: 100%|████▉| 1031/1032 [3:01:55<00:12, 12.32s/it]\u001b[A\n",
            "Epochs 1/1. Running Loss:    0.0023: 100%|█████| 1032/1032 [3:02:01<00:00, 10.58s/it]\u001b[A\n",
            "\n",
            "convert squad examples to features:   0%|                   | 0/4102 [00:00<?, ?it/s]\u001b[A\n",
            "convert squad examples to features:   0%|        | 1/4102 [00:10<11:33:22, 10.14s/it]\u001b[A\n",
            "convert squad examples to features:  24%|█▋     | 1001/4102 [00:10<00:23, 134.01it/s]\u001b[A\n",
            "convert squad examples to features:  73%|█████  | 3001/4102 [00:13<00:03, 321.98it/s]\u001b[A\n",
            "convert squad examples to features: 100%|███████| 4102/4102 [00:14<00:00, 279.25it/s]\u001b[A\n",
            "\n",
            "add example index and unique id: 100%|███████| 4102/4102 [00:00<00:00, 794249.61it/s]\u001b[A\n",
            "\n",
            "Running Evaluation:   0%|                                     | 0/55 [00:00<?, ?it/s]\u001b[A\n",
            "Running Evaluation:   2%|▌                            | 1/55 [00:20<18:45, 20.84s/it]\u001b[A\n",
            "Running Evaluation:   4%|█                            | 2/55 [00:40<17:35, 19.92s/it]\u001b[A\n",
            "Running Evaluation:   5%|█▌                           | 3/55 [00:57<16:24, 18.94s/it]\u001b[A\n",
            "Running Evaluation:   7%|██                           | 4/55 [01:17<16:22, 19.27s/it]\u001b[A\n",
            "Running Evaluation:   9%|██▋                          | 5/55 [01:36<15:55, 19.11s/it]\u001b[A\n",
            "Running Evaluation:  11%|███▏                         | 6/55 [01:54<15:24, 18.86s/it]\u001b[A\n",
            "Running Evaluation:  13%|███▋                         | 7/55 [02:13<14:58, 18.72s/it]\u001b[A\n",
            "Running Evaluation:  15%|████▏                        | 8/55 [02:32<14:43, 18.79s/it]\u001b[A\n",
            "Running Evaluation:  16%|████▋                        | 9/55 [02:53<14:58, 19.54s/it]\u001b[A\n",
            "Running Evaluation:  18%|█████                       | 10/55 [03:11<14:25, 19.23s/it]\u001b[A\n",
            "Running Evaluation:  20%|█████▌                      | 11/55 [03:31<14:07, 19.25s/it]\u001b[A\n",
            "Running Evaluation:  22%|██████                      | 12/55 [03:51<14:02, 19.59s/it]\u001b[A\n",
            "Running Evaluation:  24%|██████▌                     | 13/55 [04:09<13:26, 19.20s/it]\u001b[A\n",
            "Running Evaluation:  25%|███████▏                    | 14/55 [04:29<13:15, 19.40s/it]\u001b[A\n",
            "Running Evaluation:  27%|███████▋                    | 15/55 [04:48<12:48, 19.21s/it]\u001b[A\n",
            "Running Evaluation:  29%|████████▏                   | 16/55 [05:07<12:31, 19.28s/it]\u001b[A\n",
            "Running Evaluation:  31%|████████▋                   | 17/55 [05:23<11:28, 18.11s/it]\u001b[A\n",
            "Running Evaluation:  33%|█████████▏                  | 18/55 [05:43<11:30, 18.65s/it]\u001b[A\n",
            "Running Evaluation:  35%|█████████▋                  | 19/55 [06:02<11:19, 18.86s/it]\u001b[A\n",
            "Running Evaluation:  36%|██████████▏                 | 20/55 [06:20<10:49, 18.55s/it]\u001b[A\n",
            "Running Evaluation:  38%|██████████▋                 | 21/55 [06:39<10:36, 18.73s/it]\u001b[A\n",
            "Running Evaluation:  40%|███████████▏                | 22/55 [06:58<10:18, 18.75s/it]\u001b[A\n",
            "Running Evaluation:  42%|███████████▋                | 23/55 [07:17<10:03, 18.84s/it]\u001b[A\n",
            "Running Evaluation:  44%|████████████▏               | 24/55 [07:36<09:45, 18.87s/it]\u001b[A\n",
            "Running Evaluation:  45%|████████████▋               | 25/55 [07:55<09:27, 18.91s/it]\u001b[A\n",
            "Running Evaluation:  47%|█████████████▏              | 26/55 [08:15<09:19, 19.29s/it]\u001b[A\n",
            "Running Evaluation:  49%|█████████████▋              | 27/55 [08:33<08:47, 18.84s/it]\u001b[A\n",
            "Running Evaluation:  51%|██████████████▎             | 28/55 [08:50<08:18, 18.47s/it]\u001b[A\n",
            "Running Evaluation:  53%|██████████████▊             | 29/55 [09:09<08:02, 18.55s/it]\u001b[A\n",
            "Running Evaluation:  55%|███████████████▎            | 30/55 [09:29<07:54, 18.99s/it]\u001b[A\n",
            "Running Evaluation:  56%|███████████████▊            | 31/55 [09:48<07:33, 18.91s/it]\u001b[A\n",
            "Running Evaluation:  58%|████████████████▎           | 32/55 [10:07<07:16, 18.98s/it]\u001b[A\n",
            "Running Evaluation:  60%|████████████████▊           | 33/55 [10:24<06:45, 18.43s/it]\u001b[A\n",
            "Running Evaluation:  62%|█████████████████▎          | 34/55 [10:44<06:35, 18.82s/it]\u001b[A\n",
            "Running Evaluation:  64%|█████████████████▊          | 35/55 [11:02<06:12, 18.62s/it]\u001b[A\n",
            "Running Evaluation:  65%|██████████████████▎         | 36/55 [11:21<05:57, 18.79s/it]\u001b[A\n",
            "Running Evaluation:  67%|██████████████████▊         | 37/55 [11:40<05:39, 18.84s/it]\u001b[A\n",
            "Running Evaluation:  69%|███████████████████▎        | 38/55 [11:58<05:12, 18.40s/it]\u001b[A\n",
            "Running Evaluation:  71%|███████████████████▊        | 39/55 [12:18<05:01, 18.85s/it]\u001b[A\n",
            "Running Evaluation:  73%|████████████████████▎       | 40/55 [12:37<04:43, 18.89s/it]\u001b[A\n",
            "Running Evaluation:  75%|████████████████████▊       | 41/55 [12:55<04:22, 18.78s/it]\u001b[A\n",
            "Running Evaluation:  76%|█████████████████████▍      | 42/55 [13:12<03:58, 18.35s/it]\u001b[A\n",
            "Running Evaluation:  78%|█████████████████████▉      | 43/55 [13:31<03:41, 18.45s/it]\u001b[A\n",
            "Running Evaluation:  80%|██████████████████████▍     | 44/55 [13:51<03:28, 18.97s/it]\u001b[A\n",
            "Running Evaluation:  82%|██████████████████████▉     | 45/55 [14:10<03:07, 18.79s/it]\u001b[A\n",
            "Running Evaluation:  84%|███████████████████████▍    | 46/55 [14:29<02:50, 18.98s/it]\u001b[A\n",
            "Running Evaluation:  85%|███████████████████████▉    | 47/55 [14:49<02:33, 19.21s/it]\u001b[A\n",
            "Running Evaluation:  87%|████████████████████████▍   | 48/55 [15:08<02:14, 19.20s/it]\u001b[A\n",
            "Running Evaluation:  89%|████████████████████████▉   | 49/55 [15:26<01:52, 18.81s/it]\u001b[A\n",
            "Running Evaluation:  91%|█████████████████████████▍  | 50/55 [15:45<01:34, 18.86s/it]\u001b[A\n",
            "Running Evaluation:  93%|█████████████████████████▉  | 51/55 [16:02<01:13, 18.38s/it]\u001b[A\n",
            "Running Evaluation:  95%|██████████████████████████▍ | 52/55 [16:22<00:56, 18.87s/it]\u001b[A\n",
            "Running Evaluation:  96%|██████████████████████████▉ | 53/55 [16:41<00:37, 18.91s/it]\u001b[A\n",
            "Running Evaluation:  98%|███████████████████████████▍| 54/55 [16:59<00:18, 18.70s/it]\u001b[A\n",
            "Running Evaluation: 100%|████████████████████████████| 55/55 [17:01<00:00, 18.58s/it]\u001b[A\n",
            "Epoch 1 of 1: 100%|███████████████████████████████| 1/1 [3:19:49<00:00, 11989.87s/it]\n",
            "convert squad examples to features: 100%|███████| 4102/4102 [00:12<00:00, 315.73it/s]\n",
            "add example index and unique id: 100%|███████| 4102/4102 [00:00<00:00, 671101.73it/s]\n",
            "Running Evaluation: 100%|████████████████████████████| 55/55 [15:35<00:00, 17.01s/it]\n"
          ]
        },
        {
          "name": "stdout",
          "output_type": "stream",
          "text": [
            "BERT Results: {'correct': 760, 'similar': 3137, 'incorrect': 205, 'eval_loss': -7.8503889777443625}\n"
          ]
        }
      ],
      "source": [
        "# Model arguements\n",
        "model_args = QuestionAnsweringArgs()\n",
        "model_args.train_batch_size = 16\n",
        "model_args.evaluate_during_training = True\n",
        "model_args.n_best_size = 5\n",
        "model_args.num_train_epochs = 1\n",
        "model_args.overwrite_output_dir = True\n",
        "model_args.save_model_every_epoch = False\n",
        "model_args.use_multiprocessing = False\n",
        "model_args.wandb_project = \"MedQuad-QA\"\n",
        "#cuda false\n",
        "model_args.config = {\n",
        "    \"hidden_dropout_prob\": 0.3,\n",
        "    \"attention_probs_dropout_prob\": 0.3\n",
        "}\n",
        "logging.basicConfig(level=logging.ERROR)\n",
        "bert_model = QuestionAnsweringModel('bert', 'bert-base-cased', args=model_args, use_cuda=torch.cuda.is_available())\n",
        "print(\"Training BERT model...\")\n",
        "bert_model.train_model(train_data, eval_data=test_data)\n",
        "bert_result, _ = bert_model.eval_model(test_data)\n",
        "print(\"BERT Results:\", bert_result)"
      ]
    },
    {
      "cell_type": "code",
      "execution_count": null,
      "id": "454b83b3-c68f-416e-aed8-b635572efe9e",
      "metadata": {
        "id": "454b83b3-c68f-416e-aed8-b635572efe9e"
      },
      "outputs": [],
      "source": [
        "import numpy as np\n",
        "from rouge_score import rouge_scorer\n",
        "from nltk.translate.bleu_score import SmoothingFunction\n",
        "\n",
        "def calculate_rouge_l_score(true_answer, predicted_answer):\n",
        "    # Initialize RougeScorer with Rouge-L metric\n",
        "    scorer = rouge_scorer.RougeScorer(['rougeL'], use_stemmer=True)\n",
        "\n",
        "    # Compute Rouge-L score between true and predicted answers\n",
        "    scores = scorer.score(true_answer, predicted_answer)\n",
        "\n",
        "    # Return F-measure of Rouge-L score\n",
        "    return scores['rougeL'].fmeasure\n",
        "\n",
        "def calculate_bleu_score(true_answer, predicted_answer):\n",
        "    # Define smoothing function for BLEU score\n",
        "    smoothing = SmoothingFunction().method1\n",
        "\n",
        "    # Tokenize true and predicted answers\n",
        "    true_tokens = true_answer.lower().split()\n",
        "    predicted_tokens = predicted_answer.lower().split()\n",
        "\n",
        "    # Define n-grams for BLEU score\n",
        "    n_grams = [1, 2, 3, 4]\n",
        "    precisions = []\n",
        "\n",
        "    # Calculate precision for each n-gram\n",
        "    for n in n_grams:\n",
        "        true_ngrams = set([\" \".join(true_tokens[i:i+n]) for i in range(len(true_tokens)-n+1)])\n",
        "        predicted_ngrams = set([\" \".join(predicted_tokens[i:i+n]) for i in range(len(predicted_tokens)-n+1)])\n",
        "\n",
        "        common_ngrams = true_ngrams.intersection(predicted_ngrams)\n",
        "        precisions.append(len(common_ngrams) / len(predicted_ngrams))\n",
        "\n",
        "    # Compute BLEU score\n",
        "    bleu_score = 0\n",
        "    for p in precisions:\n",
        "        bleu_score += 1/len(n_grams) * np.log(p)\n",
        "    bleu_score = np.exp(bleu_score)\n",
        "\n",
        "    # Calculate brevity penalty\n",
        "    brevity_penalty = 1\n",
        "    if len(predicted_tokens) < len(true_tokens):\n",
        "        brevity_penalty = np.exp(1 - len(true_tokens) / len(predicted_tokens))\n",
        "\n",
        "    # Apply brevity penalty to BLEU score\n",
        "    bleu_score *= brevity_penalty\n",
        "\n",
        "    return bleu_score\n",
        "\n",
        "def evaluate_bleu_rouge(model, test_samples):\n",
        "    bleu_scores = []\n",
        "    rouge_scores = []\n",
        "\n",
        "    # Iterate over test samples\n",
        "    for item in test_samples:\n",
        "        predictions, _ = model.predict([item])\n",
        "        if predictions and predictions[0]['answer']:\n",
        "            predicted_answer = predictions[0]['answer'][0].strip()\n",
        "            true_answer = item['qas'][0]['answers'][0]['text'].strip()\n",
        "\n",
        "            # Check if both predicted and true answers are non-empty\n",
        "            if predicted_answer and true_answer:\n",
        "                # Compute BLEU and Rouge-L scores\n",
        "                bleu_score = calculate_bleu_score(true_answer, predicted_answer)\n",
        "                rouge_score = calculate_rouge_l_score(true_answer, predicted_answer)\n",
        "                bleu_scores.append(bleu_score)\n",
        "                rouge_scores.append(rouge_score)\n",
        "            else:\n",
        "                # Handle case where either predicted or true answer is empty\n",
        "                print(f\"Skipping due to empty predicted or true answer: Predicted='{predicted_answer}', True='{true_answer}'\")\n",
        "                bleu_scores.append(0)\n",
        "                rouge_scores.append(0)\n",
        "        else:\n",
        "            # Handle case where no valid prediction is available\n",
        "            print(\"No valid prediction available.\")\n",
        "            bleu_scores.append(0)\n",
        "            rouge_scores.append(0)\n",
        "\n",
        "    # Calculate average BLEU and Rouge-L scores\n",
        "    avg_bleu = sum(bleu_scores) / len(bleu_scores) if bleu_scores else 0\n",
        "    avg_rouge = sum(rouge_scores) / len(rouge_scores) if rouge_scores else 0\n",
        "\n",
        "    return avg_bleu, avg_rouge\n"
      ]
    },
    {
      "cell_type": "code",
      "execution_count": null,
      "id": "6229fc57-931c-4ff8-8c2e-2035711c295a",
      "metadata": {
        "id": "6229fc57-931c-4ff8-8c2e-2035711c295a",
        "outputId": "bdb4da81-4b92-42f4-a0dc-a747608f1398"
      },
      "outputs": [
        {
          "name": "stderr",
          "output_type": "stream",
          "text": [
            "convert squad examples to features: 100%|██████████████| 1/1 [00:00<00:00, 46.07it/s]\n",
            "add example index and unique id: 100%|███████████████| 1/1 [00:00<00:00, 3429.52it/s]\n",
            "Running Prediction: 100%|██████████████████████████████| 1/1 [00:00<00:00,  1.74it/s]"
          ]
        },
        {
          "name": "stdout",
          "output_type": "stream",
          "text": [
            "Skipping due to empty predicted or true answer: Predicted='', True=''\n"
          ]
        },
        {
          "name": "stderr",
          "output_type": "stream",
          "text": [
            "\n",
            "convert squad examples to features: 100%|█████████████| 1/1 [00:00<00:00, 121.48it/s]\n",
            "add example index and unique id: 100%|███████████████| 1/1 [00:00<00:00, 2943.37it/s]\n",
            "Running Prediction: 100%|██████████████████████████████| 1/1 [00:00<00:00,  4.07it/s]"
          ]
        },
        {
          "name": "stdout",
          "output_type": "stream",
          "text": [
            "Skipping due to empty predicted or true answer: Predicted='', True=''\n"
          ]
        },
        {
          "name": "stderr",
          "output_type": "stream",
          "text": [
            "\n",
            "convert squad examples to features: 100%|██████████████| 1/1 [00:00<00:00, 25.10it/s]\n",
            "add example index and unique id: 100%|███████████████| 1/1 [00:00<00:00, 2616.53it/s]\n",
            "Running Prediction: 100%|██████████████████████████████| 1/1 [00:00<00:00,  1.04it/s]"
          ]
        },
        {
          "name": "stdout",
          "output_type": "stream",
          "text": [
            "Skipping due to empty predicted or true answer: Predicted='', True=''\n"
          ]
        },
        {
          "name": "stderr",
          "output_type": "stream",
          "text": [
            "\n",
            "convert squad examples to features: 100%|█████████████| 1/1 [00:00<00:00, 277.14it/s]\n",
            "add example index and unique id: 100%|███████████████| 1/1 [00:00<00:00, 3334.10it/s]\n",
            "Running Prediction: 100%|██████████████████████████████| 1/1 [00:00<00:00,  4.81it/s]"
          ]
        },
        {
          "name": "stdout",
          "output_type": "stream",
          "text": [
            "Skipping due to empty predicted or true answer: Predicted='Glutaric acidemia type I occurs in approximately 1 of every 30,000 to 40,000 individuals. It is much more common in the Amish community and in the Ojibwa population of Canada, where up to 1 in 300 newborns may be affected.', True=''\n"
          ]
        },
        {
          "name": "stderr",
          "output_type": "stream",
          "text": [
            "\n",
            "convert squad examples to features: 100%|██████████████| 1/1 [00:00<00:00, 93.37it/s]\n",
            "add example index and unique id: 100%|███████████████| 1/1 [00:00<00:00, 1760.83it/s]\n",
            "Running Prediction: 100%|██████████████████████████████| 1/1 [00:00<00:00,  3.02it/s]"
          ]
        },
        {
          "name": "stdout",
          "output_type": "stream",
          "text": [
            "Skipping due to empty predicted or true answer: Predicted='', True=''\n"
          ]
        },
        {
          "name": "stderr",
          "output_type": "stream",
          "text": [
            "\n",
            "convert squad examples to features: 100%|█████████████| 1/1 [00:00<00:00, 195.69it/s]\n",
            "add example index and unique id: 100%|███████████████| 1/1 [00:00<00:00, 5801.25it/s]\n",
            "Running Prediction: 100%|██████████████████████████████| 1/1 [00:00<00:00,  6.08it/s]"
          ]
        },
        {
          "name": "stdout",
          "output_type": "stream",
          "text": [
            "Skipping due to empty predicted or true answer: Predicted='', True=''\n"
          ]
        },
        {
          "name": "stderr",
          "output_type": "stream",
          "text": [
            "\n",
            "convert squad examples to features: 100%|█████████████| 1/1 [00:00<00:00, 166.65it/s]\n",
            "add example index and unique id: 100%|███████████████| 1/1 [00:00<00:00, 3823.43it/s]\n",
            "Running Prediction: 100%|██████████████████████████████| 1/1 [00:00<00:00,  6.81it/s]"
          ]
        },
        {
          "name": "stdout",
          "output_type": "stream",
          "text": [
            "Skipping due to empty predicted or true answer: Predicted='', True=''\n"
          ]
        },
        {
          "name": "stderr",
          "output_type": "stream",
          "text": [
            "\n",
            "convert squad examples to features: 100%|█████████████| 1/1 [00:00<00:00, 375.60it/s]\n",
            "add example index and unique id: 100%|███████████████| 1/1 [00:00<00:00, 2632.96it/s]\n",
            "Running Prediction: 100%|██████████████████████████████| 1/1 [00:00<00:00,  4.88it/s]"
          ]
        },
        {
          "name": "stdout",
          "output_type": "stream",
          "text": [
            "Skipping due to empty predicted or true answer: Predicted='This condition is inherited in an autosomal recessive pattern, which means both copies of the gene in each cell have mutations. The parents of an individual with an autosomal recessive condition each carry one copy of the mutated gene, but they typically do not show signs and symptoms of the condition.', True=''\n"
          ]
        },
        {
          "name": "stderr",
          "output_type": "stream",
          "text": [
            "\n",
            "convert squad examples to features: 100%|██████████████| 1/1 [00:00<00:00, 97.55it/s]\n",
            "add example index and unique id: 100%|███████████████| 1/1 [00:00<00:00, 1992.54it/s]\n",
            "Running Prediction: 100%|██████████████████████████████| 1/1 [00:00<00:00,  4.35it/s]"
          ]
        },
        {
          "name": "stdout",
          "output_type": "stream",
          "text": [
            "Skipping due to empty predicted or true answer: Predicted='', True=''\n"
          ]
        },
        {
          "name": "stderr",
          "output_type": "stream",
          "text": [
            "\n",
            "convert squad examples to features: 100%|█████████████| 1/1 [00:00<00:00, 145.90it/s]\n",
            "add example index and unique id: 100%|███████████████| 1/1 [00:00<00:00, 3077.26it/s]\n",
            "Running Prediction: 100%|██████████████████████████████| 1/1 [00:00<00:00,  6.00it/s]"
          ]
        },
        {
          "name": "stdout",
          "output_type": "stream",
          "text": [
            "Skipping due to empty predicted or true answer: Predicted='', True=''\n"
          ]
        },
        {
          "name": "stderr",
          "output_type": "stream",
          "text": [
            "\n",
            "convert squad examples to features: 100%|█████████████| 1/1 [00:00<00:00, 149.01it/s]\n",
            "add example index and unique id: 100%|███████████████| 1/1 [00:00<00:00, 2783.21it/s]\n",
            "Running Prediction: 100%|██████████████████████████████| 1/1 [00:00<00:00,  3.71it/s]"
          ]
        },
        {
          "name": "stdout",
          "output_type": "stream",
          "text": [
            "Skipping due to empty predicted or true answer: Predicted='', True=''\n"
          ]
        },
        {
          "name": "stderr",
          "output_type": "stream",
          "text": [
            "\n",
            "convert squad examples to features: 100%|█████████████| 1/1 [00:00<00:00, 157.35it/s]\n",
            "add example index and unique id: 100%|███████████████| 1/1 [00:00<00:00, 3032.76it/s]\n",
            "Running Prediction: 100%|██████████████████████████████| 1/1 [00:00<00:00,  4.30it/s]"
          ]
        },
        {
          "name": "stdout",
          "output_type": "stream",
          "text": [
            "Skipping due to empty predicted or true answer: Predicted='Care', True=''\n"
          ]
        },
        {
          "name": "stderr",
          "output_type": "stream",
          "text": [
            "\n",
            "convert squad examples to features: 100%|█████████████| 1/1 [00:00<00:00, 241.01it/s]\n",
            "add example index and unique id: 100%|███████████████| 1/1 [00:00<00:00, 3669.56it/s]\n",
            "Running Prediction: 100%|██████████████████████████████| 1/1 [00:00<00:00,  4.77it/s]"
          ]
        },
        {
          "name": "stdout",
          "output_type": "stream",
          "text": [
            "Skipping due to empty predicted or true answer: Predicted='This condition is inherited in an autosomal recessive pattern, which means both copies of the gene in each cell have mutations. The parents of an individual with an autosomal recessive condition each carry one copy of the mutated gene, but they typically do not show signs and symptoms of the condition.', True=''\n"
          ]
        },
        {
          "name": "stderr",
          "output_type": "stream",
          "text": [
            "\n",
            "convert squad examples to features: 100%|█████████████| 1/1 [00:00<00:00, 231.44it/s]\n",
            "add example index and unique id: 100%|███████████████| 1/1 [00:00<00:00, 3506.94it/s]\n",
            "Running Prediction: 100%|██████████████████████████████| 1/1 [00:00<00:00,  4.89it/s]"
          ]
        },
        {
          "name": "stdout",
          "output_type": "stream",
          "text": [
            "Skipping due to empty predicted or true answer: Predicted='.', True=''\n"
          ]
        },
        {
          "name": "stderr",
          "output_type": "stream",
          "text": [
            "\n",
            "convert squad examples to features: 100%|█████████████| 1/1 [00:00<00:00, 100.16it/s]\n",
            "add example index and unique id: 100%|███████████████| 1/1 [00:00<00:00, 3090.87it/s]\n",
            "Running Prediction: 100%|██████████████████████████████| 1/1 [00:00<00:00,  4.23it/s]"
          ]
        },
        {
          "name": "stdout",
          "output_type": "stream",
          "text": [
            "Skipping due to empty predicted or true answer: Predicted='', True=''\n"
          ]
        },
        {
          "name": "stderr",
          "output_type": "stream",
          "text": [
            "\n",
            "convert squad examples to features: 100%|█████████████| 1/1 [00:00<00:00, 145.54it/s]\n",
            "add example index and unique id: 100%|███████████████| 1/1 [00:00<00:00, 1531.89it/s]\n",
            "Running Prediction: 100%|██████████████████████████████| 1/1 [00:00<00:00,  4.57it/s]"
          ]
        },
        {
          "name": "stdout",
          "output_type": "stream",
          "text": [
            "Skipping due to empty predicted or true answer: Predicted='', True=''\n"
          ]
        },
        {
          "name": "stderr",
          "output_type": "stream",
          "text": [
            "\n",
            "convert squad examples to features: 100%|█████████████| 1/1 [00:00<00:00, 124.69it/s]\n",
            "add example index and unique id: 100%|███████████████| 1/1 [00:00<00:00, 1513.64it/s]\n",
            "Running Prediction: 100%|██████████████████████████████| 1/1 [00:00<00:00,  4.78it/s]"
          ]
        },
        {
          "name": "stdout",
          "output_type": "stream",
          "text": [
            "Skipping due to empty predicted or true answer: Predicted='', True=''\n"
          ]
        },
        {
          "name": "stderr",
          "output_type": "stream",
          "text": [
            "\n",
            "convert squad examples to features: 100%|█████████████| 1/1 [00:00<00:00, 142.78it/s]\n",
            "add example index and unique id: 100%|███████████████| 1/1 [00:00<00:00, 1726.76it/s]\n",
            "Running Prediction: 100%|██████████████████████████████| 1/1 [00:00<00:00,  4.85it/s]"
          ]
        },
        {
          "name": "stdout",
          "output_type": "stream",
          "text": [
            "Skipping due to empty predicted or true answer: Predicted='', True=''\n"
          ]
        },
        {
          "name": "stderr",
          "output_type": "stream",
          "text": [
            "\n",
            "convert squad examples to features: 100%|█████████████| 1/1 [00:00<00:00, 111.54it/s]\n",
            "add example index and unique id: 100%|███████████████| 1/1 [00:00<00:00, 1465.00it/s]\n",
            "Running Prediction: 100%|██████████████████████████████| 1/1 [00:00<00:00,  3.69it/s]"
          ]
        },
        {
          "name": "stdout",
          "output_type": "stream",
          "text": [
            "Skipping due to empty predicted or true answer: Predicted='', True=''\n"
          ]
        },
        {
          "name": "stderr",
          "output_type": "stream",
          "text": [
            "\n",
            "convert squad examples to features: 100%|██████████████| 1/1 [00:00<00:00, 63.35it/s]\n",
            "add example index and unique id: 100%|███████████████| 1/1 [00:00<00:00, 3548.48it/s]\n",
            "Running Prediction: 100%|██████████████████████████████| 1/1 [00:00<00:00,  1.98it/s]"
          ]
        },
        {
          "name": "stdout",
          "output_type": "stream",
          "text": [
            "Skipping due to empty predicted or true answer: Predicted='', True=''\n"
          ]
        },
        {
          "name": "stderr",
          "output_type": "stream",
          "text": [
            "\n",
            "convert squad examples to features: 100%|██████████████| 1/1 [00:00<00:00, 89.28it/s]\n",
            "add example index and unique id: 100%|███████████████| 1/1 [00:00<00:00, 2449.94it/s]\n",
            "Running Prediction: 100%|██████████████████████████████| 1/1 [00:00<00:00,  4.30it/s]"
          ]
        },
        {
          "name": "stdout",
          "output_type": "stream",
          "text": [
            "Skipping due to empty predicted or true answer: Predicted='', True=''\n"
          ]
        },
        {
          "name": "stderr",
          "output_type": "stream",
          "text": [
            "\n",
            "convert squad examples to features: 100%|█████████████| 1/1 [00:00<00:00, 142.08it/s]\n",
            "add example index and unique id: 100%|███████████████| 1/1 [00:00<00:00, 3274.24it/s]\n",
            "Running Prediction: 100%|██████████████████████████████| 1/1 [00:00<00:00,  3.23it/s]"
          ]
        },
        {
          "name": "stdout",
          "output_type": "stream",
          "text": [
            "Skipping due to empty predicted or true answer: Predicted='', True=''\n"
          ]
        },
        {
          "name": "stderr",
          "output_type": "stream",
          "text": [
            "\n",
            "convert squad examples to features: 100%|██████████████| 1/1 [00:00<00:00, 83.79it/s]\n",
            "add example index and unique id: 100%|███████████████| 1/1 [00:00<00:00, 3246.37it/s]\n",
            "Running Prediction: 100%|██████████████████████████████| 1/1 [00:00<00:00,  2.49it/s]"
          ]
        },
        {
          "name": "stdout",
          "output_type": "stream",
          "text": [
            "Skipping due to empty predicted or true answer: Predicted='', True=''\n"
          ]
        },
        {
          "name": "stderr",
          "output_type": "stream",
          "text": [
            "\n",
            "convert squad examples to features: 100%|█████████████| 1/1 [00:00<00:00, 124.00it/s]\n",
            "add example index and unique id: 100%|███████████████| 1/1 [00:00<00:00, 3768.47it/s]\n",
            "Running Prediction: 100%|██████████████████████████████| 1/1 [00:00<00:00,  4.79it/s]"
          ]
        },
        {
          "name": "stdout",
          "output_type": "stream",
          "text": [
            "Skipping due to empty predicted or true answer: Predicted='', True=''\n"
          ]
        },
        {
          "name": "stderr",
          "output_type": "stream",
          "text": [
            "\n",
            "convert squad examples to features: 100%|█████████████| 1/1 [00:00<00:00, 106.87it/s]\n",
            "add example index and unique id: 100%|███████████████| 1/1 [00:00<00:00, 3819.95it/s]\n",
            "Running Prediction: 100%|██████████████████████████████| 1/1 [00:00<00:00,  4.26it/s]"
          ]
        },
        {
          "name": "stdout",
          "output_type": "stream",
          "text": [
            "Skipping due to empty predicted or true answer: Predicted='', True=''\n"
          ]
        },
        {
          "name": "stderr",
          "output_type": "stream",
          "text": [
            "\n",
            "convert squad examples to features: 100%|█████████████| 1/1 [00:00<00:00, 247.67it/s]\n",
            "add example index and unique id: 100%|███████████████| 1/1 [00:00<00:00, 3013.15it/s]\n",
            "Running Prediction: 100%|██████████████████████████████| 1/1 [00:00<00:00,  6.71it/s]"
          ]
        },
        {
          "name": "stdout",
          "output_type": "stream",
          "text": [
            "Skipping due to empty predicted or true answer: Predicted='SAPHO syndrome involves any combination of: Synovitis (inflammation of the joints), Acne, Pustulosis (thick yellow blisters containing pus) often on the palms and soles, Hyperostosis (increase in bone substance) and Osteitis (inflammation of the bones). The cause of SAPHO syndrome is unknown and treatment is focused on managing symptoms.', True=''\n"
          ]
        },
        {
          "name": "stderr",
          "output_type": "stream",
          "text": [
            "\n",
            "convert squad examples to features: 100%|█████████████| 1/1 [00:00<00:00, 200.03it/s]\n",
            "add example index and unique id: 100%|███████████████| 1/1 [00:00<00:00, 4707.41it/s]\n",
            "Running Prediction: 100%|██████████████████████████████| 1/1 [00:00<00:00,  6.90it/s]"
          ]
        },
        {
          "name": "stdout",
          "output_type": "stream",
          "text": [
            "Skipping due to empty predicted or true answer: Predicted='Mutations in the FH gene cause fumarase deficiency. The FH gene provides instructions for making an enzyme called fumarase, which participates in a series of reactions allowing cells to use oxygen and generate energy. Mutations in the FH gene disrupt the enzyme's ability to do its job. Disruption of the process that generates energy for cells is particularly harmful to cells in the developing brain, thus resulting in the signs and symptoms of fumarase deficiency.', True=''\n"
          ]
        },
        {
          "name": "stderr",
          "output_type": "stream",
          "text": [
            "\n",
            "convert squad examples to features: 100%|█████████████| 1/1 [00:00<00:00, 146.55it/s]\n",
            "add example index and unique id: 100%|███████████████| 1/1 [00:00<00:00, 4415.06it/s]\n",
            "Running Prediction: 100%|██████████████████████████████| 1/1 [00:00<00:00,  5.84it/s]"
          ]
        },
        {
          "name": "stdout",
          "output_type": "stream",
          "text": [
            "Skipping due to empty predicted or true answer: Predicted='', True=''\n"
          ]
        },
        {
          "name": "stderr",
          "output_type": "stream",
          "text": [
            "\n",
            "convert squad examples to features: 100%|█████████████| 1/1 [00:00<00:00, 230.08it/s]\n",
            "add example index and unique id: 100%|███████████████| 1/1 [00:00<00:00, 3120.76it/s]\n",
            "Running Prediction: 100%|██████████████████████████████| 1/1 [00:00<00:00,  4.01it/s]"
          ]
        },
        {
          "name": "stdout",
          "output_type": "stream",
          "text": [
            "Skipping due to empty predicted or true answer: Predicted='Enzyme replacement therapy is very beneficial for type 1 and most type 3 individuals with this condition. Successful bone marrow transplantation can reverse the non-neurological effects of the disease, but the procedure carries a high risk and is rarely performed in individuals with Gaucher disease.', True=''\n"
          ]
        },
        {
          "name": "stderr",
          "output_type": "stream",
          "text": [
            "\n",
            "convert squad examples to features: 100%|██████████████| 1/1 [00:00<00:00, 21.94it/s]\n",
            "add example index and unique id: 100%|███████████████| 1/1 [00:00<00:00, 3077.26it/s]\n",
            "Running Prediction: 100%|██████████████████████████████| 1/1 [00:00<00:00,  1.02it/s]"
          ]
        },
        {
          "name": "stdout",
          "output_type": "stream",
          "text": [
            "Skipping due to empty predicted or true answer: Predicted='', True=''\n"
          ]
        },
        {
          "name": "stderr",
          "output_type": "stream",
          "text": [
            "\n",
            "convert squad examples to features: 100%|█████████████| 1/1 [00:00<00:00, 592.50it/s]\n",
            "add example index and unique id: 100%|███████████████| 1/1 [00:00<00:00, 2003.01it/s]\n",
            "Running Prediction: 100%|██████████████████████████████| 1/1 [00:00<00:00,  7.10it/s]"
          ]
        },
        {
          "name": "stdout",
          "output_type": "stream",
          "text": [
            "Skipping due to empty predicted or true answer: Predicted='The prognosis for individuals with LNS is poor. Death is usually due to renal failure in the first or second decade of life.', True=''\n"
          ]
        },
        {
          "name": "stderr",
          "output_type": "stream",
          "text": [
            "\n",
            "convert squad examples to features: 100%|██████████████| 1/1 [00:00<00:00, 60.56it/s]\n",
            "add example index and unique id: 100%|███████████████| 1/1 [00:00<00:00, 1566.21it/s]\n",
            "Running Prediction: 100%|██████████████████████████████| 1/1 [00:00<00:00,  2.50it/s]"
          ]
        },
        {
          "name": "stdout",
          "output_type": "stream",
          "text": [
            "Skipping due to empty predicted or true answer: Predicted='', True=''\n"
          ]
        },
        {
          "name": "stderr",
          "output_type": "stream",
          "text": [
            "\n",
            "convert squad examples to features: 100%|██████████████| 1/1 [00:00<00:00, 85.62it/s]\n",
            "add example index and unique id: 100%|███████████████| 1/1 [00:00<00:00, 3253.92it/s]\n",
            "Running Prediction: 100%|██████████████████████████████| 1/1 [00:00<00:00,  3.27it/s]"
          ]
        },
        {
          "name": "stdout",
          "output_type": "stream",
          "text": [
            "Skipping due to empty predicted or true answer: Predicted='', True=''\n"
          ]
        },
        {
          "name": "stderr",
          "output_type": "stream",
          "text": [
            "\n",
            "convert squad examples to features: 100%|██████████████| 1/1 [00:00<00:00, 79.31it/s]\n",
            "add example index and unique id: 100%|███████████████| 1/1 [00:00<00:00, 1593.58it/s]\n",
            "Running Prediction: 100%|██████████████████████████████| 1/1 [00:00<00:00,  2.54it/s]"
          ]
        },
        {
          "name": "stdout",
          "output_type": "stream",
          "text": [
            "Skipping due to empty predicted or true answer: Predicted='', True=''\n"
          ]
        },
        {
          "name": "stderr",
          "output_type": "stream",
          "text": [
            "\n",
            "convert squad examples to features: 100%|█████████████| 1/1 [00:00<00:00, 258.40it/s]\n",
            "add example index and unique id: 100%|███████████████| 1/1 [00:00<00:00, 2445.66it/s]\n",
            "Running Prediction: 100%|██████████████████████████████| 1/1 [00:00<00:00,  7.01it/s]"
          ]
        },
        {
          "name": "stdout",
          "output_type": "stream",
          "text": [
            "Skipping due to empty predicted or true answer: Predicted='What causes essential tremor? The causes of essential tremor are unknown. Researchers are studying several areas (loci) on particular chromosomes that may be linked to essential tremor, but no specific genetic associations have been confirmed. Several genes, as well as environmental factors, are likely involved in an individual's risk of developing this complex condition.', True=''\n"
          ]
        },
        {
          "name": "stderr",
          "output_type": "stream",
          "text": [
            "\n",
            "convert squad examples to features: 100%|█████████████| 1/1 [00:00<00:00, 173.20it/s]\n",
            "add example index and unique id: 100%|███████████████| 1/1 [00:00<00:00, 2103.46it/s]\n",
            "Running Prediction: 100%|██████████████████████████████| 1/1 [00:00<00:00,  6.54it/s]"
          ]
        },
        {
          "name": "stdout",
          "output_type": "stream",
          "text": [
            "Skipping due to empty predicted or true answer: Predicted='', True=''\n"
          ]
        },
        {
          "name": "stderr",
          "output_type": "stream",
          "text": [
            "\n",
            "convert squad examples to features: 100%|█████████████| 1/1 [00:00<00:00, 176.14it/s]\n",
            "add example index and unique id: 100%|███████████████| 1/1 [00:00<00:00, 2008.77it/s]\n",
            "Running Prediction: 100%|██████████████████████████████| 1/1 [00:00<00:00,  6.66it/s]"
          ]
        },
        {
          "name": "stdout",
          "output_type": "stream",
          "text": [
            "Skipping due to empty predicted or true answer: Predicted='', True=''\n"
          ]
        },
        {
          "name": "stderr",
          "output_type": "stream",
          "text": [
            "\n",
            "convert squad examples to features: 100%|█████████████| 1/1 [00:00<00:00, 161.70it/s]\n",
            "add example index and unique id: 100%|███████████████| 1/1 [00:00<00:00, 2727.12it/s]\n",
            "Running Prediction: 100%|██████████████████████████████| 1/1 [00:00<00:00,  6.81it/s]"
          ]
        },
        {
          "name": "stdout",
          "output_type": "stream",
          "text": [
            "Skipping due to empty predicted or true answer: Predicted='', True=''\n"
          ]
        },
        {
          "name": "stderr",
          "output_type": "stream",
          "text": [
            "\n",
            "convert squad examples to features: 100%|█████████████| 1/1 [00:00<00:00, 493.56it/s]\n",
            "add example index and unique id: 100%|███████████████| 1/1 [00:00<00:00, 3953.16it/s]\n",
            "Running Prediction: 100%|██████████████████████████████| 1/1 [00:00<00:00,  3.41it/s]"
          ]
        },
        {
          "name": "stdout",
          "output_type": "stream",
          "text": [
            "Skipping due to empty predicted or true answer: Predicted='Lujan syndrome appears to be an uncommon condition, but its prevalence is unknown.', True=''\n"
          ]
        },
        {
          "name": "stderr",
          "output_type": "stream",
          "text": [
            "\n",
            "convert squad examples to features: 100%|█████████████| 1/1 [00:00<00:00, 174.26it/s]\n",
            "add example index and unique id: 100%|███████████████| 1/1 [00:00<00:00, 1883.39it/s]\n",
            "Running Prediction: 100%|██████████████████████████████| 1/1 [00:00<00:00,  3.45it/s]"
          ]
        },
        {
          "name": "stdout",
          "output_type": "stream",
          "text": [
            "Skipping due to empty predicted or true answer: Predicted='', True=''\n"
          ]
        },
        {
          "name": "stderr",
          "output_type": "stream",
          "text": [
            "\n",
            "convert squad examples to features: 100%|██████████████| 1/1 [00:00<00:00, 86.80it/s]\n",
            "add example index and unique id: 100%|███████████████| 1/1 [00:00<00:00, 3581.81it/s]\n",
            "Running Prediction: 100%|██████████████████████████████| 1/1 [00:00<00:00,  2.58it/s]"
          ]
        },
        {
          "name": "stdout",
          "output_type": "stream",
          "text": [
            "Skipping due to empty predicted or true answer: Predicted='', True=''\n"
          ]
        },
        {
          "name": "stderr",
          "output_type": "stream",
          "text": [
            "\n",
            "convert squad examples to features: 100%|█████████████| 1/1 [00:00<00:00, 299.66it/s]\n",
            "add example index and unique id: 100%|███████████████| 1/1 [00:00<00:00, 3536.51it/s]\n",
            "Running Prediction: 100%|██████████████████████████████| 1/1 [00:00<00:00,  4.90it/s]"
          ]
        },
        {
          "name": "stdout",
          "output_type": "stream",
          "text": [
            "Skipping due to empty predicted or true answer: Predicted='The worldwide prevalence of autosomal recessive hypotrichosis is unknown. In Japan, the condition is estimated to affect 1 in 10,000 individuals.', True=''\n"
          ]
        },
        {
          "name": "stderr",
          "output_type": "stream",
          "text": [
            "\n",
            "convert squad examples to features: 100%|█████████████| 1/1 [00:00<00:00, 284.05it/s]\n",
            "add example index and unique id: 100%|███████████████| 1/1 [00:00<00:00, 3518.71it/s]\n",
            "Running Prediction: 100%|██████████████████████████████| 1/1 [00:00<00:00,  4.44it/s]"
          ]
        },
        {
          "name": "stdout",
          "output_type": "stream",
          "text": [
            "Skipping due to empty predicted or true answer: Predicted='This condition is inherited in an autosomal recessive pattern, which means both copies of the gene in each cell have mutations. The parents of an individual with an autosomal recessive condition each carry one copy of the mutated gene, but they typically do not show signs and symptoms of the condition.', True=''\n"
          ]
        },
        {
          "name": "stderr",
          "output_type": "stream",
          "text": [
            "\n",
            "convert squad examples to features: 100%|█████████████| 1/1 [00:00<00:00, 109.78it/s]\n",
            "add example index and unique id: 100%|███████████████| 1/1 [00:00<00:00, 3647.22it/s]\n",
            "Running Prediction: 100%|██████████████████████████████| 1/1 [00:00<00:00,  4.69it/s]"
          ]
        },
        {
          "name": "stdout",
          "output_type": "stream",
          "text": [
            "Skipping due to empty predicted or true answer: Predicted='', True=''\n"
          ]
        },
        {
          "name": "stderr",
          "output_type": "stream",
          "text": [
            "\n",
            "convert squad examples to features: 100%|█████████████| 1/1 [00:00<00:00, 163.71it/s]\n",
            "add example index and unique id: 100%|███████████████| 1/1 [00:00<00:00, 5047.30it/s]\n",
            "Running Prediction: 100%|██████████████████████████████| 1/1 [00:00<00:00,  6.31it/s]"
          ]
        },
        {
          "name": "stdout",
          "output_type": "stream",
          "text": [
            "Skipping due to empty predicted or true answer: Predicted='', True=''\n"
          ]
        },
        {
          "name": "stderr",
          "output_type": "stream",
          "text": [
            "\n",
            "convert squad examples to features: 100%|█████████████| 1/1 [00:00<00:00, 163.32it/s]\n",
            "add example index and unique id: 100%|███████████████| 1/1 [00:00<00:00, 2894.62it/s]\n",
            "Running Prediction: 100%|██████████████████████████████| 1/1 [00:00<00:00,  6.71it/s]"
          ]
        },
        {
          "name": "stdout",
          "output_type": "stream",
          "text": [
            "Skipping due to empty predicted or true answer: Predicted='', True=''\n"
          ]
        },
        {
          "name": "stderr",
          "output_type": "stream",
          "text": [
            "\n",
            "convert squad examples to features: 100%|██████████████| 1/1 [00:00<00:00, 42.58it/s]\n",
            "add example index and unique id: 100%|███████████████| 1/1 [00:00<00:00, 2165.36it/s]\n",
            "Running Prediction: 100%|██████████████████████████████| 1/1 [00:00<00:00,  1.73it/s]"
          ]
        },
        {
          "name": "stdout",
          "output_type": "stream",
          "text": [
            "Skipping due to empty predicted or true answer: Predicted='', True=''\n"
          ]
        },
        {
          "name": "stderr",
          "output_type": "stream",
          "text": [
            "\n",
            "convert squad examples to features: 100%|█████████████| 1/1 [00:00<00:00, 278.38it/s]\n",
            "add example index and unique id: 100%|███████████████| 1/1 [00:00<00:00, 2568.47it/s]\n",
            "Running Prediction: 100%|██████████████████████████████| 1/1 [00:00<00:00,  4.42it/s]"
          ]
        },
        {
          "name": "stdout",
          "output_type": "stream",
          "text": [
            "Skipping due to empty predicted or true answer: Predicted='This condition is inherited in an autosomal recessive pattern, which means both copies of the gene in each cell have mutations. The parents of an individual with an autosomal recessive condition each carry one copy of the mutated gene, but they typically do not show signs and symptoms of the condition.', True=''\n"
          ]
        },
        {
          "name": "stderr",
          "output_type": "stream",
          "text": [
            "\n",
            "convert squad examples to features: 100%|█████████████| 1/1 [00:00<00:00, 377.66it/s]\n",
            "add example index and unique id: 100%|███████████████| 1/1 [00:00<00:00, 2145.42it/s]\n",
            "Running Prediction: 100%|██████████████████████████████| 1/1 [00:00<00:00,  4.86it/s]"
          ]
        },
        {
          "name": "stdout",
          "output_type": "stream",
          "text": [
            "Skipping due to empty predicted or true answer: Predicted='The prognosis for MLD is poor. Most children within the infantile form die by age 5. Symptoms of the juvenile form progress with death occurring 10 to 20 years following onset. Those persons affected by the adult form typically die withing 6 to 14 years following onset of symptoms.', True=''\n"
          ]
        },
        {
          "name": "stderr",
          "output_type": "stream",
          "text": [
            "\n",
            "convert squad examples to features: 100%|██████████████| 1/1 [00:00<00:00, 86.16it/s]\n",
            "add example index and unique id: 100%|███████████████| 1/1 [00:00<00:00, 2685.21it/s]\n",
            "Running Prediction: 100%|██████████████████████████████| 1/1 [00:00<00:00,  3.15it/s]"
          ]
        },
        {
          "name": "stdout",
          "output_type": "stream",
          "text": [
            "Skipping due to empty predicted or true answer: Predicted='', True=''\n"
          ]
        },
        {
          "name": "stderr",
          "output_type": "stream",
          "text": [
            "\n",
            "convert squad examples to features: 100%|██████████████| 1/1 [00:00<00:00, 44.22it/s]\n",
            "add example index and unique id: 100%|███████████████| 1/1 [00:00<00:00, 2251.37it/s]\n",
            "Running Prediction: 100%|██████████████████████████████| 1/1 [00:00<00:00,  1.74it/s]"
          ]
        },
        {
          "name": "stdout",
          "output_type": "stream",
          "text": [
            "Skipping due to empty predicted or true answer: Predicted='', True=''\n"
          ]
        },
        {
          "name": "stderr",
          "output_type": "stream",
          "text": [
            "\n",
            "convert squad examples to features: 100%|█████████████| 1/1 [00:00<00:00, 105.00it/s]\n",
            "add example index and unique id: 100%|███████████████| 1/1 [00:00<00:00, 1455.85it/s]\n",
            "Running Prediction: 100%|██████████████████████████████| 1/1 [00:00<00:00,  4.66it/s]"
          ]
        },
        {
          "name": "stdout",
          "output_type": "stream",
          "text": [
            "Skipping due to empty predicted or true answer: Predicted='', True=''\n"
          ]
        },
        {
          "name": "stderr",
          "output_type": "stream",
          "text": [
            "\n",
            "convert squad examples to features: 100%|█████████████| 1/1 [00:00<00:00, 239.10it/s]\n",
            "add example index and unique id: 100%|███████████████| 1/1 [00:00<00:00, 2898.62it/s]\n",
            "Running Prediction: 100%|██████████████████████████████| 1/1 [00:00<00:00,  4.68it/s]"
          ]
        },
        {
          "name": "stdout",
          "output_type": "stream",
          "text": [
            "Skipping due to empty predicted or true answer: Predicted='This condition is inherited in an autosomal recessive pattern, which means both copies of the gene in each cell have mutations. The parents of an individual with an autosomal recessive condition each carry one copy of the mutated gene, but they typically do not show signs and symptoms of the condition.', True=''\n"
          ]
        },
        {
          "name": "stderr",
          "output_type": "stream",
          "text": [
            "\n",
            "convert squad examples to features: 100%|█████████████| 1/1 [00:00<00:00, 137.94it/s]\n",
            "add example index and unique id: 100%|███████████████| 1/1 [00:00<00:00, 2707.75it/s]\n",
            "Running Prediction: 100%|██████████████████████████████| 1/1 [00:00<00:00,  4.72it/s]"
          ]
        },
        {
          "name": "stdout",
          "output_type": "stream",
          "text": [
            "Skipping due to empty predicted or true answer: Predicted='', True=''\n"
          ]
        },
        {
          "name": "stderr",
          "output_type": "stream",
          "text": [
            "\n",
            "convert squad examples to features: 100%|█████████████| 1/1 [00:00<00:00, 158.04it/s]\n",
            "add example index and unique id: 100%|███████████████| 1/1 [00:00<00:00, 3581.81it/s]\n",
            "Running Prediction: 100%|██████████████████████████████| 1/1 [00:00<00:00,  4.61it/s]"
          ]
        },
        {
          "name": "stdout",
          "output_type": "stream",
          "text": [
            "Skipping due to empty predicted or true answer: Predicted='', True=''\n"
          ]
        },
        {
          "name": "stderr",
          "output_type": "stream",
          "text": [
            "\n",
            "convert squad examples to features: 100%|██████████████| 1/1 [00:00<00:00, 75.56it/s]\n",
            "add example index and unique id: 100%|███████████████| 1/1 [00:00<00:00, 2822.55it/s]\n",
            "Running Prediction: 100%|██████████████████████████████| 1/1 [00:00<00:00,  2.63it/s]"
          ]
        },
        {
          "name": "stdout",
          "output_type": "stream",
          "text": [
            "Skipping due to empty predicted or true answer: Predicted='', True=''\n"
          ]
        },
        {
          "name": "stderr",
          "output_type": "stream",
          "text": [
            "\n",
            "convert squad examples to features: 100%|█████████████| 1/1 [00:00<00:00, 130.79it/s]\n",
            "add example index and unique id: 100%|███████████████| 1/1 [00:00<00:00, 3536.51it/s]\n",
            "Running Prediction: 100%|██████████████████████████████| 1/1 [00:00<00:00,  4.81it/s]"
          ]
        },
        {
          "name": "stdout",
          "output_type": "stream",
          "text": [
            "Skipping due to empty predicted or true answer: Predicted='', True=''\n"
          ]
        },
        {
          "name": "stderr",
          "output_type": "stream",
          "text": [
            "\n",
            "convert squad examples to features: 100%|█████████████| 1/1 [00:00<00:00, 198.89it/s]\n",
            "add example index and unique id: 100%|███████████████| 1/1 [00:00<00:00, 3146.51it/s]\n",
            "Running Prediction: 100%|██████████████████████████████| 1/1 [00:00<00:00,  4.40it/s]"
          ]
        },
        {
          "name": "stdout",
          "output_type": "stream",
          "text": [
            "Skipping due to empty predicted or true answer: Predicted='This condition is inherited in an autosomal dominant pattern, which means one copy of the altered gene in each cell is typically sufficient to cause the disorder. Almost everyone with a mutation in the PNKD gene will develop familial paroxysmal nonkinesigenic dyskinesia. In all reported cases, an affected person has inherited the mutation from one parent.', True=''\n"
          ]
        },
        {
          "name": "stderr",
          "output_type": "stream",
          "text": [
            "\n",
            "convert squad examples to features: 100%|█████████████| 1/1 [00:00<00:00, 186.22it/s]\n",
            "add example index and unique id: 100%|███████████████| 1/1 [00:00<00:00, 2859.10it/s]\n",
            "Running Prediction: 100%|██████████████████████████████| 1/1 [00:00<00:00,  3.81it/s]"
          ]
        },
        {
          "name": "stdout",
          "output_type": "stream",
          "text": [
            "Skipping due to empty predicted or true answer: Predicted='', True=''\n"
          ]
        },
        {
          "name": "stderr",
          "output_type": "stream",
          "text": [
            "\n",
            "convert squad examples to features: 100%|██████████████| 1/1 [00:00<00:00, 65.97it/s]\n",
            "add example index and unique id: 100%|███████████████| 1/1 [00:00<00:00, 2757.60it/s]\n",
            "Running Prediction: 100%|██████████████████████████████| 1/1 [00:00<00:00,  2.54it/s]"
          ]
        },
        {
          "name": "stdout",
          "output_type": "stream",
          "text": [
            "Skipping due to empty predicted or true answer: Predicted='', True=''\n"
          ]
        },
        {
          "name": "stderr",
          "output_type": "stream",
          "text": [
            "\n",
            "convert squad examples to features: 100%|█████████████| 1/1 [00:00<00:00, 171.55it/s]\n",
            "add example index and unique id: 100%|███████████████| 1/1 [00:00<00:00, 2855.21it/s]\n",
            "Running Prediction: 100%|██████████████████████████████| 1/1 [00:00<00:00,  4.90it/s]"
          ]
        },
        {
          "name": "stdout",
          "output_type": "stream",
          "text": [
            "Skipping due to empty predicted or true answer: Predicted='', True=''\n"
          ]
        },
        {
          "name": "stderr",
          "output_type": "stream",
          "text": [
            "\n",
            "convert squad examples to features: 100%|██████████████| 1/1 [00:00<00:00, 68.59it/s]\n",
            "add example index and unique id: 100%|███████████████| 1/1 [00:00<00:00, 1032.57it/s]\n",
            "Running Prediction: 100%|██████████████████████████████| 1/1 [00:00<00:00,  1.80it/s]"
          ]
        },
        {
          "name": "stdout",
          "output_type": "stream",
          "text": [
            "Skipping due to empty predicted or true answer: Predicted='', True=''\n"
          ]
        },
        {
          "name": "stderr",
          "output_type": "stream",
          "text": [
            "\n",
            "convert squad examples to features: 100%|█████████████| 1/1 [00:00<00:00, 173.54it/s]\n",
            "add example index and unique id: 100%|███████████████| 1/1 [00:00<00:00, 4266.84it/s]\n",
            "Running Prediction: 100%|██████████████████████████████| 1/1 [00:00<00:00,  7.62it/s]"
          ]
        },
        {
          "name": "stdout",
          "output_type": "stream",
          "text": [
            "Skipping due to empty predicted or true answer: Predicted='', True=''\n"
          ]
        },
        {
          "name": "stderr",
          "output_type": "stream",
          "text": [
            "\n",
            "convert squad examples to features: 100%|█████████████| 1/1 [00:00<00:00, 377.22it/s]\n",
            "add example index and unique id: 100%|███████████████| 1/1 [00:00<00:00, 2048.00it/s]\n",
            "Running Prediction: 100%|██████████████████████████████| 1/1 [00:00<00:00,  6.71it/s]"
          ]
        },
        {
          "name": "stdout",
          "output_type": "stream",
          "text": [
            "Skipping due to empty predicted or true answer: Predicted='This condition is inherited in an autosomal recessive pattern, which means both copies of the gene in each cell have mutations. The parents of an individual with an autosomal recessive condition each carry one copy of the mutated gene, but they typically do not show signs and symptoms of the condition.', True=''\n"
          ]
        },
        {
          "name": "stderr",
          "output_type": "stream",
          "text": [
            "\n",
            "convert squad examples to features: 100%|█████████████| 1/1 [00:00<00:00, 140.40it/s]\n",
            "add example index and unique id: 100%|███████████████| 1/1 [00:00<00:00, 3054.85it/s]\n",
            "Running Prediction: 100%|██████████████████████████████| 1/1 [00:00<00:00,  4.04it/s]"
          ]
        },
        {
          "name": "stdout",
          "output_type": "stream",
          "text": [
            "Skipping due to empty predicted or true answer: Predicted='', True=''\n"
          ]
        },
        {
          "name": "stderr",
          "output_type": "stream",
          "text": [
            "\n",
            "convert squad examples to features: 100%|█████████████| 1/1 [00:00<00:00, 158.71it/s]\n",
            "add example index and unique id: 100%|███████████████| 1/1 [00:00<00:00, 1711.26it/s]\n",
            "Running Prediction: 100%|██████████████████████████████| 1/1 [00:00<00:00,  6.75it/s]"
          ]
        },
        {
          "name": "stdout",
          "output_type": "stream",
          "text": [
            "Skipping due to empty predicted or true answer: Predicted='', True=''\n"
          ]
        },
        {
          "name": "stderr",
          "output_type": "stream",
          "text": [
            "\n",
            "convert squad examples to features: 100%|█████████████| 1/1 [00:00<00:00, 154.09it/s]\n",
            "add example index and unique id: 100%|███████████████| 1/1 [00:00<00:00, 1760.09it/s]\n",
            "Running Prediction: 100%|██████████████████████████████| 1/1 [00:00<00:00,  4.87it/s]"
          ]
        },
        {
          "name": "stdout",
          "output_type": "stream",
          "text": [
            "Skipping due to empty predicted or true answer: Predicted='', True=''\n"
          ]
        },
        {
          "name": "stderr",
          "output_type": "stream",
          "text": [
            "\n",
            "convert squad examples to features: 100%|█████████████| 1/1 [00:00<00:00, 121.14it/s]\n",
            "add example index and unique id: 100%|███████████████| 1/1 [00:00<00:00, 1971.01it/s]\n",
            "Running Prediction: 100%|██████████████████████████████| 1/1 [00:00<00:00,  4.85it/s]"
          ]
        },
        {
          "name": "stdout",
          "output_type": "stream",
          "text": [
            "Skipping due to empty predicted or true answer: Predicted='', True=''\n"
          ]
        },
        {
          "name": "stderr",
          "output_type": "stream",
          "text": [
            "\n",
            "convert squad examples to features: 100%|██████████████| 1/1 [00:00<00:00, 69.73it/s]\n",
            "add example index and unique id: 100%|███████████████| 1/1 [00:00<00:00, 3109.19it/s]\n",
            "Running Prediction: 100%|██████████████████████████████| 1/1 [00:00<00:00,  2.43it/s]"
          ]
        },
        {
          "name": "stdout",
          "output_type": "stream",
          "text": [
            "Skipping due to empty predicted or true answer: Predicted='', True=''\n"
          ]
        },
        {
          "name": "stderr",
          "output_type": "stream",
          "text": [
            "\n",
            "convert squad examples to features: 100%|██████████████| 1/1 [00:00<00:00, 70.38it/s]\n",
            "add example index and unique id: 100%|███████████████| 1/1 [00:00<00:00, 2935.13it/s]\n",
            "Running Prediction: 100%|██████████████████████████████| 1/1 [00:00<00:00,  2.64it/s]"
          ]
        },
        {
          "name": "stdout",
          "output_type": "stream",
          "text": [
            "Skipping due to empty predicted or true answer: Predicted='', True=''\n"
          ]
        },
        {
          "name": "stderr",
          "output_type": "stream",
          "text": [
            "\n",
            "convert squad examples to features: 100%|█████████████| 1/1 [00:00<00:00, 370.26it/s]\n",
            "add example index and unique id: 100%|███████████████| 1/1 [00:00<00:00, 3120.76it/s]\n",
            "Running Prediction: 100%|██████████████████████████████| 1/1 [00:00<00:00,  4.91it/s]"
          ]
        },
        {
          "name": "stdout",
          "output_type": "stream",
          "text": [
            "Skipping due to empty predicted or true answer: Predicted='Aplasia cutis congenita affects approximately 1 in 10,000 newborns. The incidence of the nonsyndromic form is unknown.', True=''\n"
          ]
        },
        {
          "name": "stderr",
          "output_type": "stream",
          "text": [
            "\n",
            "convert squad examples to features: 100%|█████████████| 1/1 [00:00<00:00, 374.59it/s]\n",
            "add example index and unique id: 100%|███████████████| 1/1 [00:00<00:00, 5115.00it/s]\n",
            "Running Prediction: 100%|██████████████████████████████| 1/1 [00:00<00:00,  7.16it/s]"
          ]
        },
        {
          "name": "stdout",
          "output_type": "stream",
          "text": [
            "Skipping due to empty predicted or true answer: Predicted='This condition is inherited in an autosomal recessive pattern, which means both copies of the gene in each cell have mutations. The parents of an individual with an autosomal recessive condition each carry one copy of the mutated gene, but they typically do not show signs and symptoms of the condition.', True=''\n"
          ]
        },
        {
          "name": "stderr",
          "output_type": "stream",
          "text": [
            "\n",
            "convert squad examples to features: 100%|██████████████| 1/1 [00:00<00:00, 74.27it/s]\n",
            "add example index and unique id: 100%|███████████████| 1/1 [00:00<00:00, 5053.38it/s]\n",
            "Running Prediction: 100%|██████████████████████████████| 1/1 [00:00<00:00,  2.98it/s]"
          ]
        },
        {
          "name": "stdout",
          "output_type": "stream",
          "text": [
            "Skipping due to empty predicted or true answer: Predicted='', True=''\n"
          ]
        },
        {
          "name": "stderr",
          "output_type": "stream",
          "text": [
            "\n",
            "convert squad examples to features: 100%|█████████████| 1/1 [00:00<00:00, 188.98it/s]\n",
            "add example index and unique id: 100%|███████████████| 1/1 [00:00<00:00, 1669.71it/s]\n",
            "Running Prediction: 100%|██████████████████████████████| 1/1 [00:00<00:00,  4.92it/s]"
          ]
        },
        {
          "name": "stdout",
          "output_type": "stream",
          "text": [
            "Skipping due to empty predicted or true answer: Predicted='These resources address the diagnosis or management of inclusion body myopathy 2: - Gene Review: Gene Review: GNE-Related Myopathy - Genetic Testing Registry: Inclusion body myopathy 2 - Genetic Testing Registry: Nonaka myopathy These resources from MedlinePlus offer information about the diagnosis and management of various health conditions: - Diagnostic Tests - Drug Therapy - Surgery and Rehabilitation - Genetic Counseling - Palliative Care', True=''\n"
          ]
        },
        {
          "name": "stderr",
          "output_type": "stream",
          "text": [
            "\n",
            "convert squad examples to features: 100%|█████████████| 1/1 [00:00<00:00, 147.05it/s]\n",
            "add example index and unique id: 100%|███████████████| 1/1 [00:00<00:00, 2779.53it/s]\n",
            "Running Prediction: 100%|██████████████████████████████| 1/1 [00:00<00:00,  4.04it/s]"
          ]
        },
        {
          "name": "stdout",
          "output_type": "stream",
          "text": [
            "Skipping due to empty predicted or true answer: Predicted='', True=''\n"
          ]
        },
        {
          "name": "stderr",
          "output_type": "stream",
          "text": [
            "\n",
            "convert squad examples to features: 100%|█████████████| 1/1 [00:00<00:00, 466.34it/s]\n",
            "add example index and unique id: 100%|███████████████| 1/1 [00:00<00:00, 3934.62it/s]\n",
            "Running Prediction: 100%|██████████████████████████████| 1/1 [00:00<00:00,  6.92it/s]"
          ]
        },
        {
          "name": "stdout",
          "output_type": "stream",
          "text": [
            "Skipping due to empty predicted or true answer: Predicted='Hirschsprung disease occurs in approximately 1 in 5,000 newborns.', True=''\n"
          ]
        },
        {
          "name": "stderr",
          "output_type": "stream",
          "text": [
            "\n",
            "convert squad examples to features: 100%|█████████████| 1/1 [00:00<00:00, 143.38it/s]\n",
            "add example index and unique id: 100%|███████████████| 1/1 [00:00<00:00, 3844.46it/s]\n",
            "Running Prediction: 100%|██████████████████████████████| 1/1 [00:00<00:00,  5.44it/s]"
          ]
        },
        {
          "name": "stdout",
          "output_type": "stream",
          "text": [
            "Skipping due to empty predicted or true answer: Predicted='', True=''\n"
          ]
        },
        {
          "name": "stderr",
          "output_type": "stream",
          "text": [
            "\n",
            "convert squad examples to features: 100%|█████████████| 1/1 [00:00<00:00, 109.18it/s]\n",
            "add example index and unique id: 100%|███████████████| 1/1 [00:00<00:00, 1985.94it/s]\n",
            "Running Prediction: 100%|██████████████████████████████| 1/1 [00:00<00:00,  6.71it/s]"
          ]
        },
        {
          "name": "stdout",
          "output_type": "stream",
          "text": [
            "Skipping due to empty predicted or true answer: Predicted='', True=''\n"
          ]
        },
        {
          "name": "stderr",
          "output_type": "stream",
          "text": [
            "\n",
            "convert squad examples to features: 100%|█████████████| 1/1 [00:00<00:00, 173.89it/s]\n",
            "add example index and unique id: 100%|███████████████| 1/1 [00:00<00:00, 5518.82it/s]\n",
            "Running Prediction: 100%|██████████████████████████████| 1/1 [00:00<00:00,  4.87it/s]"
          ]
        },
        {
          "name": "stdout",
          "output_type": "stream",
          "text": [
            "Skipping due to empty predicted or true answer: Predicted='', True=''\n"
          ]
        },
        {
          "name": "stderr",
          "output_type": "stream",
          "text": [
            "\n",
            "convert squad examples to features: 100%|█████████████| 1/1 [00:00<00:00, 124.14it/s]\n",
            "add example index and unique id: 100%|███████████████| 1/1 [00:00<00:00, 3557.51it/s]\n",
            "Running Prediction: 100%|██████████████████████████████| 1/1 [00:00<00:00,  4.95it/s]"
          ]
        },
        {
          "name": "stdout",
          "output_type": "stream",
          "text": [
            "Skipping due to empty predicted or true answer: Predicted='empty', True=''\n"
          ]
        },
        {
          "name": "stderr",
          "output_type": "stream",
          "text": [
            "\n",
            "convert squad examples to features: 100%|██████████████| 1/1 [00:00<00:00, 95.99it/s]\n",
            "add example index and unique id: 100%|███████████████| 1/1 [00:00<00:00, 5229.81it/s]\n",
            "Running Prediction: 100%|██████████████████████████████| 1/1 [00:00<00:00,  6.46it/s]"
          ]
        },
        {
          "name": "stdout",
          "output_type": "stream",
          "text": [
            "Skipping due to empty predicted or true answer: Predicted='', True=''\n"
          ]
        },
        {
          "name": "stderr",
          "output_type": "stream",
          "text": [
            "\n",
            "convert squad examples to features: 100%|█████████████| 1/1 [00:00<00:00, 151.11it/s]\n",
            "add example index and unique id: 100%|███████████████| 1/1 [00:00<00:00, 2314.74it/s]\n",
            "Running Prediction: 100%|██████████████████████████████| 1/1 [00:00<00:00,  4.94it/s]"
          ]
        },
        {
          "name": "stdout",
          "output_type": "stream",
          "text": [
            "Skipping due to empty predicted or true answer: Predicted='', True=''\n"
          ]
        },
        {
          "name": "stderr",
          "output_type": "stream",
          "text": [
            "\n",
            "convert squad examples to features: 100%|██████████████| 1/1 [00:00<00:00, 72.26it/s]\n",
            "add example index and unique id: 100%|███████████████| 1/1 [00:00<00:00, 1914.33it/s]\n",
            "Running Prediction: 100%|██████████████████████████████| 1/1 [00:00<00:00,  2.62it/s]"
          ]
        },
        {
          "name": "stdout",
          "output_type": "stream",
          "text": [
            "Skipping due to empty predicted or true answer: Predicted='', True=''\n"
          ]
        },
        {
          "name": "stderr",
          "output_type": "stream",
          "text": [
            "\n",
            "convert squad examples to features: 100%|█████████████| 1/1 [00:00<00:00, 291.70it/s]\n",
            "add example index and unique id: 100%|███████████████| 1/1 [00:00<00:00, 4156.89it/s]\n",
            "Running Prediction: 100%|██████████████████████████████| 1/1 [00:00<00:00,  4.63it/s]"
          ]
        },
        {
          "name": "stdout",
          "output_type": "stream",
          "text": [
            "Skipping due to empty predicted or true answer: Predicted='How is Tay-Sachs disease inherited? This condition is inherited in an autosomal recessive pattern, which means two copies of the gene in each cell are altered. Most often, the parents of an individual with an autosomal recessive disorder are carriers of one copy of the altered gene but do not show signs and symptoms of the disorder.', True=''\n"
          ]
        },
        {
          "name": "stderr",
          "output_type": "stream",
          "text": [
            "\n",
            "convert squad examples to features: 100%|█████████████| 1/1 [00:00<00:00, 227.10it/s]\n",
            "add example index and unique id: 100%|███████████████| 1/1 [00:00<00:00, 2267.19it/s]\n",
            "Running Prediction: 100%|██████████████████████████████| 1/1 [00:00<00:00,  4.65it/s]"
          ]
        },
        {
          "name": "stdout",
          "output_type": "stream",
          "text": [
            "Skipping due to empty predicted or true answer: Predicted='There are no standard treatments for hereditary neuropathies. Treatment is mainly symptomatic and supportive. Medical treatment includes physical therapy and if needed, pain medication. Orthopedic surgery may be needed to correct severe foot or other skeletal deformities. Bracing may also be used to improve mobility.', True=''\n"
          ]
        },
        {
          "name": "stderr",
          "output_type": "stream",
          "text": [
            "\n",
            "convert squad examples to features: 100%|█████████████| 1/1 [00:00<00:00, 104.43it/s]\n",
            "add example index and unique id: 100%|███████████████| 1/1 [00:00<00:00, 1451.32it/s]\n",
            "Running Prediction: 100%|██████████████████████████████| 1/1 [00:00<00:00,  4.54it/s]"
          ]
        },
        {
          "name": "stdout",
          "output_type": "stream",
          "text": [
            "Skipping due to empty predicted or true answer: Predicted='', True=''\n"
          ]
        },
        {
          "name": "stderr",
          "output_type": "stream",
          "text": [
            "\n",
            "convert squad examples to features: 100%|█████████████| 1/1 [00:00<00:00, 116.23it/s]\n",
            "add example index and unique id: 100%|███████████████| 1/1 [00:00<00:00, 2496.61it/s]\n",
            "Running Prediction: 100%|██████████████████████████████| 1/1 [00:00<00:00,  4.29it/s]"
          ]
        },
        {
          "name": "stdout",
          "output_type": "stream",
          "text": [
            "Skipping due to empty predicted or true answer: Predicted='empty', True=''\n"
          ]
        },
        {
          "name": "stderr",
          "output_type": "stream",
          "text": [
            "\n",
            "convert squad examples to features: 100%|█████████████| 1/1 [00:00<00:00, 387.39it/s]\n",
            "add example index and unique id: 100%|███████████████| 1/1 [00:00<00:00, 4006.02it/s]\n",
            "Running Prediction: 100%|██████████████████████████████| 1/1 [00:00<00:00,  4.93it/s]"
          ]
        },
        {
          "name": "stdout",
          "output_type": "stream",
          "text": [
            "Skipping due to empty predicted or true answer: Predicted='Stve-Wiedemann syndrome is a rare condition that has been found worldwide. Its prevalence is unknown.', True=''\n"
          ]
        },
        {
          "name": "stderr",
          "output_type": "stream",
          "text": [
            "\n",
            "convert squad examples to features: 100%|█████████████| 1/1 [00:00<00:00, 126.15it/s]\n",
            "add example index and unique id: 100%|███████████████| 1/1 [00:00<00:00, 3440.77it/s]\n",
            "Running Prediction: 100%|██████████████████████████████| 1/1 [00:00<00:00,  4.01it/s]"
          ]
        },
        {
          "name": "stdout",
          "output_type": "stream",
          "text": [
            "Skipping due to empty predicted or true answer: Predicted='', True=''\n"
          ]
        },
        {
          "name": "stderr",
          "output_type": "stream",
          "text": [
            "\n",
            "convert squad examples to features: 100%|█████████████| 1/1 [00:00<00:00, 119.57it/s]\n",
            "add example index and unique id: 100%|███████████████| 1/1 [00:00<00:00, 1496.90it/s]\n",
            "Running Prediction: 100%|██████████████████████████████| 1/1 [00:00<00:00,  4.52it/s]"
          ]
        },
        {
          "name": "stdout",
          "output_type": "stream",
          "text": [
            "Skipping due to empty predicted or true answer: Predicted='', True=''\n"
          ]
        },
        {
          "name": "stderr",
          "output_type": "stream",
          "text": [
            "\n",
            "convert squad examples to features: 100%|█████████████| 1/1 [00:00<00:00, 122.94it/s]\n",
            "add example index and unique id: 100%|███████████████| 1/1 [00:00<00:00, 2786.91it/s]\n",
            "Running Prediction: 100%|██████████████████████████████| 1/1 [00:00<00:00,  4.50it/s]"
          ]
        },
        {
          "name": "stdout",
          "output_type": "stream",
          "text": [
            "Skipping due to empty predicted or true answer: Predicted='', True=''\n"
          ]
        },
        {
          "name": "stderr",
          "output_type": "stream",
          "text": [
            "\n",
            "convert squad examples to features: 100%|██████████████| 1/1 [00:00<00:00, 78.26it/s]\n",
            "add example index and unique id: 100%|███████████████| 1/1 [00:00<00:00, 2061.08it/s]\n",
            "Running Prediction: 100%|██████████████████████████████| 1/1 [00:00<00:00,  2.62it/s]"
          ]
        },
        {
          "name": "stdout",
          "output_type": "stream",
          "text": [
            "Skipping due to empty predicted or true answer: Predicted='', True=''\n"
          ]
        },
        {
          "name": "stderr",
          "output_type": "stream",
          "text": [
            "\n",
            "convert squad examples to features: 100%|██████████████| 1/1 [00:00<00:00, 75.14it/s]\n",
            "add example index and unique id: 100%|███████████████| 1/1 [00:00<00:00, 3449.26it/s]\n",
            "Running Prediction: 100%|██████████████████████████████| 1/1 [00:00<00:00,  2.59it/s]"
          ]
        },
        {
          "name": "stdout",
          "output_type": "stream",
          "text": [
            "Skipping due to empty predicted or true answer: Predicted='', True=''\n"
          ]
        },
        {
          "name": "stderr",
          "output_type": "stream",
          "text": [
            "\n",
            "convert squad examples to features: 100%|█████████████| 1/1 [00:00<00:00, 169.49it/s]\n",
            "add example index and unique id: 100%|███████████████| 1/1 [00:00<00:00, 2568.47it/s]\n",
            "Running Prediction: 100%|██████████████████████████████| 1/1 [00:00<00:00,  3.71it/s]"
          ]
        },
        {
          "name": "stdout",
          "output_type": "stream",
          "text": [
            "Skipping due to empty predicted or true answer: Predicted='', True=''\n"
          ]
        },
        {
          "name": "stderr",
          "output_type": "stream",
          "text": [
            "\n",
            "convert squad examples to features: 100%|██████████████| 1/1 [00:00<00:00, 83.98it/s]\n",
            "add example index and unique id: 100%|███████████████| 1/1 [00:00<00:00, 3964.37it/s]\n",
            "Running Prediction: 100%|██████████████████████████████| 1/1 [00:00<00:00,  3.86it/s]"
          ]
        },
        {
          "name": "stdout",
          "output_type": "stream",
          "text": [
            "Skipping due to empty predicted or true answer: Predicted='', True=''\n"
          ]
        },
        {
          "name": "stderr",
          "output_type": "stream",
          "text": [
            "\n",
            "convert squad examples to features: 100%|█████████████| 1/1 [00:00<00:00, 206.96it/s]\n",
            "add example index and unique id: 100%|███████████████| 1/1 [00:00<00:00, 3028.38it/s]\n",
            "Running Prediction: 100%|██████████████████████████████| 1/1 [00:00<00:00,  6.87it/s]"
          ]
        },
        {
          "name": "stdout",
          "output_type": "stream",
          "text": [
            "Skipping due to empty predicted or true answer: Predicted='', True=''\n"
          ]
        },
        {
          "name": "stderr",
          "output_type": "stream",
          "text": [
            "\n",
            "convert squad examples to features: 100%|█████████████| 1/1 [00:00<00:00, 319.76it/s]\n",
            "add example index and unique id: 100%|███████████████| 1/1 [00:00<00:00, 3715.06it/s]\n",
            "Running Prediction: 100%|██████████████████████████████| 1/1 [00:00<00:00,  6.13it/s]"
          ]
        },
        {
          "name": "stdout",
          "output_type": "stream",
          "text": [
            "Skipping due to empty predicted or true answer: Predicted='Dumping syndrome occurs when food, especially sugar, moves too fast from the stomach to the duodenumthe first part of the small intestinein the upper gastrointestinal (GI) tract. This condition is also called rapid gastric emptying. Dumping syndrome has two forms, based on when symptoms occur: - early dumping syndromeoccurs 10 to 30 minutes after a meal - late dumping syndromeoccurs 2 to 3 hours after a meal', True=''\n"
          ]
        },
        {
          "name": "stderr",
          "output_type": "stream",
          "text": [
            "\n",
            "convert squad examples to features: 100%|█████████████| 1/1 [00:00<00:00, 162.87it/s]\n",
            "add example index and unique id: 100%|███████████████| 1/1 [00:00<00:00, 2033.11it/s]\n",
            "Running Prediction: 100%|██████████████████████████████| 1/1 [00:00<00:00,  5.89it/s]"
          ]
        },
        {
          "name": "stdout",
          "output_type": "stream",
          "text": [
            "Skipping due to empty predicted or true answer: Predicted='', True=''\n"
          ]
        },
        {
          "name": "stderr",
          "output_type": "stream",
          "text": [
            "\n",
            "convert squad examples to features: 100%|██████████████| 1/1 [00:00<00:00, 39.40it/s]\n",
            "add example index and unique id: 100%|███████████████| 1/1 [00:00<00:00, 3765.08it/s]\n",
            "Running Prediction: 100%|██████████████████████████████| 1/1 [00:00<00:00,  2.37it/s]"
          ]
        },
        {
          "name": "stdout",
          "output_type": "stream",
          "text": [
            "Skipping due to empty predicted or true answer: Predicted='', True=''\n"
          ]
        },
        {
          "name": "stderr",
          "output_type": "stream",
          "text": [
            "\n",
            "convert squad examples to features: 100%|██████████████| 1/1 [00:00<00:00, 76.40it/s]\n",
            "add example index and unique id: 100%|███████████████| 1/1 [00:00<00:00, 4048.56it/s]\n",
            "Running Prediction: 100%|██████████████████████████████| 1/1 [00:00<00:00,  2.57it/s]"
          ]
        },
        {
          "name": "stdout",
          "output_type": "stream",
          "text": [
            "Skipping due to empty predicted or true answer: Predicted='', True=''\n"
          ]
        },
        {
          "name": "stderr",
          "output_type": "stream",
          "text": [
            "\n"
          ]
        }
      ],
      "source": [
        "avg_bleu_bert, avg_rouge_bert = evaluate_bleu_rouge(bert_model, test_data[:100])"
      ]
    }
  ],
  "metadata": {
    "kernelspec": {
      "display_name": "Python 3 (ipykernel)",
      "language": "python",
      "name": "python3"
    },
    "language_info": {
      "codemirror_mode": {
        "name": "ipython",
        "version": 3
      },
      "file_extension": ".py",
      "mimetype": "text/x-python",
      "name": "python",
      "nbconvert_exporter": "python",
      "pygments_lexer": "ipython3",
      "version": "3.11.8"
    },
    "colab": {
      "provenance": []
    }
  },
  "nbformat": 4,
  "nbformat_minor": 5
}